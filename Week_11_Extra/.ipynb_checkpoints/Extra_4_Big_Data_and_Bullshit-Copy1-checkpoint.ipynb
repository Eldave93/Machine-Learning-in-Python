{
 "cells": [
  {
   "cell_type": "markdown",
   "id": "fancy-security",
   "metadata": {},
   "source": [
    "__TODO__\n",
    "- Essentially a guide to approaching the results from blackbox models you don't understand fully yet"
   ]
  },
  {
   "cell_type": "markdown",
   "id": "close-winter",
   "metadata": {},
   "source": [
    "## Data Provinance"
   ]
  }
 ],
 "metadata": {
  "kernelspec": {
   "display_name": "Python 3",
   "language": "python",
   "name": "python3"
  },
  "language_info": {
   "codemirror_mode": {
    "name": "ipython",
    "version": 3
   },
   "file_extension": ".py",
   "mimetype": "text/x-python",
   "name": "python",
   "nbconvert_exporter": "python",
   "pygments_lexer": "ipython3",
   "version": "3.8.5"
  }
 },
 "nbformat": 4,
 "nbformat_minor": 5
}
