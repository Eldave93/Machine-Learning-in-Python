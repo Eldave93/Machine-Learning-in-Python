{
 "cells": [
  {
   "cell_type": "code",
   "execution_count": 1,
   "metadata": {
    "slideshow": {
     "slide_type": "skip"
    }
   },
   "outputs": [
    {
     "data": {
      "text/html": [
       "<button style=\"margin:0 auto; display: block;\" onclick=\"jQuery('.code_cell .input_area').toggle();\n",
       "    jQuery('.prompt').toggle();\">Toggle code</button>"
      ],
      "text/plain": [
       "<IPython.core.display.HTML object>"
      ]
     },
     "execution_count": 1,
     "metadata": {},
     "output_type": "execute_result"
    }
   ],
   "source": [
    "# This line will add a button to toggle visibility of code blocks,\n",
    "# for use with the HTML export version\n",
    "from IPython.core.display import HTML\n",
    "HTML('''<button style=\"margin:0 auto; display: block;\" onclick=\"jQuery('.code_cell .input_area').toggle();\n",
    "    jQuery('.prompt').toggle();\">Toggle code</button>''')"
   ]
  },
  {
   "cell_type": "markdown",
   "metadata": {
    "slideshow": {
     "slide_type": "slide"
    }
   },
   "source": [
    "<img src=\"./Images/UoE_Horizontal_Logo_282_v1_160215.png\" alt=\"drawing\" width=\"600\"/>\n",
    "\n",
    "# Week 9 - Tree-Based Methods\n",
    "__Dr. David Elliott__\n",
    "    \n",
    "7. [Imballanced Data](#imb)\n",
    "\n",
    "8. [Feature Interpretation/Reduction](#feats)\n",
    "    \n",
    "9. [Strengths and Limitations](#adv_lim)"
   ]
  },
  {
   "cell_type": "code",
   "execution_count": 2,
   "metadata": {
    "slideshow": {
     "slide_type": "skip"
    }
   },
   "outputs": [],
   "source": [
    "%matplotlib inline\n",
    "\n",
    "import os # locating directories\n",
    "\n",
    "import numpy as np   # Arrays\n",
    "import pandas as pd  # DataFrames\n",
    "\n",
    "# Plotting\n",
    "import matplotlib.pyplot as plt\n",
    "import seaborn as sns\n",
    "\n",
    "from sklearn.model_selection import GridSearchCV, RandomizedSearchCV, KFold, StratifiedKFold\n",
    "\n",
    "# colours for print()\n",
    "class color:\n",
    "   PURPLE = '\\033[95m'\n",
    "   CYAN = '\\033[96m'\n",
    "   DARKCYAN = '\\033[36m'\n",
    "   BLUE = '\\033[94m'\n",
    "   GREEN = '\\033[92m'\n",
    "   YELLOW = '\\033[93m'\n",
    "   RED = '\\033[91m'\n",
    "   BOLD = '\\033[1m'\n",
    "   UNDERLINE = '\\033[4m'\n",
    "   END = '\\033[0m'\n",
    "    \n",
    "image_dir = os.path.join(os.getcwd(),\"Images\")\n",
    "# Initial fig number\n",
    "fig_num=0\n",
    "\n",
    "plt.rcParams['figure.dpi'] = 120\n",
    "# golden ratio for figures ()\n",
    "gr = 1.618\n",
    "\n",
    "height_pix = 500\n",
    "width_pix = height_pix*gr\n",
    "\n",
    "height_inch = 4\n",
    "width_inch = height_inch*gr"
   ]
  },
  {
   "cell_type": "code",
   "execution_count": 3,
   "metadata": {
    "slideshow": {
     "slide_type": "skip"
    }
   },
   "outputs": [],
   "source": [
    "# Centered figures in the notebook and presentation\n",
    "# ...was a real pain to find this:\n",
    "# https://gist.githubusercontent.com/maxalbert/800b9f06c7b2dd365ea5\n",
    "\n",
    "import matplotlib.pyplot as plt\n",
    "import matplotlib\n",
    "import numpy as np\n",
    "import urllib\n",
    "import base64\n",
    "from io import BytesIO, StringIO\n",
    "\n",
    "def fig2str(fig, format='svg'):\n",
    "    \"\"\"\n",
    "    Return a string containing the raw data of the matplotlib figure in the given format.\n",
    "\n",
    "    \"\"\"\n",
    "    assert isinstance(fig, matplotlib.figure.Figure)\n",
    "    imgdata = BytesIO()\n",
    "    fig.savefig(imgdata, format=format, bbox_inches='tight')\n",
    "    imgdata.seek(0)  # rewind the data\n",
    "    output = imgdata.getvalue()\n",
    "    if format == 'svg':\n",
    "        return output\n",
    "    else:\n",
    "        return urllib.parse.quote(base64.b64encode(output))\n",
    "\n",
    "class MatplotlibFigure(object):\n",
    "    \"\"\"\n",
    "    Thin wrapper around a matplotlib figure which provides a custom\n",
    "    HTML representation that allows tweaking the appearance\n",
    "\n",
    "    \"\"\"\n",
    "    def __init__(self, fig, centered=False):\n",
    "        assert isinstance(fig, matplotlib.figure.Figure)\n",
    "        self.centered = centered\n",
    "\n",
    "    def _repr_html_(self):\n",
    "        img_str_png = fig2str(fig, format='png')\n",
    "        uri = 'data:image/png;base64,' + img_str_png\n",
    "        html_repr = \"<img src='{}'>\".format(uri)\n",
    "        if self.centered:\n",
    "            html_repr = \"<center>\" + html_repr + \"</center>\"\n",
    "        return html_repr"
   ]
  },
  {
   "cell_type": "code",
   "execution_count": 4,
   "metadata": {
    "slideshow": {
     "slide_type": "skip"
    }
   },
   "outputs": [],
   "source": [
    "# TODO: when tidying this up in the future, but these common functions I use\n",
    "# all the time in a separate .py file.\n",
    "def hyper_search(model, params, X, y, save_path, n_iter=60, metric=\"accuracy\", \n",
    "                 cv = KFold(5), random_state=42, refit=True,\n",
    "                 overwrite=False, warning=False, verbose=0):\n",
    "    if os.path.exists(save_path) and overwrite==False:\n",
    "        #load the model\n",
    "        models = joblib.load(save_path)\n",
    "    else:\n",
    "        # check all param inputs are lists\n",
    "        if all(type(x)==list for x in params.values()):\n",
    "            search_type = \"Gridsearch\"\n",
    "            models = GridSearchCV(model, param_grid=params, scoring=metric, cv=cv, \n",
    "                                  refit=refit, return_train_score=True, verbose=verbose)\n",
    "            n_iter = len(list(itertools.product(*list(iter(params.values())))))\n",
    "        else:\n",
    "            search_type = \"Randomsearch\"\n",
    "            if verbose>0:\n",
    "                print(\"Starting \"+search_type)\n",
    "            models = RandomizedSearchCV(model, param_distributions=params,\n",
    "                                        n_iter=n_iter, scoring=metric, cv=cv,\n",
    "                                        refit=refit, random_state=random_state,\n",
    "                                        return_train_score=True, verbose=verbose)\n",
    "        \n",
    "        start = time()\n",
    "        if warning:\n",
    "            models.fit(X, y)\n",
    "        else:\n",
    "            with warnings.catch_warnings():\n",
    "                warnings.simplefilter(\"ignore\")\n",
    "                models.fit(X, y)\n",
    "        \n",
    "        if verbose>0:\n",
    "            print(search_type + \" took %.2f seconds for %d candidates\" % ((time() - start), n_iter))\n",
    "        joblib.dump(models, save_path)\n",
    "    \n",
    "    return models"
   ]
  },
  {
   "cell_type": "markdown",
   "metadata": {
    "slideshow": {
     "slide_type": "subslide"
    }
   },
   "source": [
    "## Dataset Example: Lending Club<sup>18</sup>\n",
    "\n",
    "LendingClub (was) the world's largest peer-to-peer lending platform. \n",
    "\n",
    "Investors were able to search and browse the loan listings on LendingClub website and select loans that they want to invest in based on the information supplied about the borrower, amount of loan, loan grade, and loan purpose. \n",
    "- Investors make money from the interest on these loans. \n",
    "- LendingClub makes money by charging borrowers an origination fee and investors a service fee."
   ]
  },
  {
   "cell_type": "code",
   "execution_count": 5,
   "metadata": {
    "slideshow": {
     "slide_type": "skip"
    }
   },
   "outputs": [
    {
     "data": {
      "text/html": [
       "<div>\n",
       "<style scoped>\n",
       "    .dataframe tbody tr th:only-of-type {\n",
       "        vertical-align: middle;\n",
       "    }\n",
       "\n",
       "    .dataframe tbody tr th {\n",
       "        vertical-align: top;\n",
       "    }\n",
       "\n",
       "    .dataframe thead th {\n",
       "        text-align: right;\n",
       "    }\n",
       "</style>\n",
       "<table border=\"1\" class=\"dataframe\">\n",
       "  <thead>\n",
       "    <tr style=\"text-align: right;\">\n",
       "      <th></th>\n",
       "      <th>loan_amnt</th>\n",
       "      <th>int_rate</th>\n",
       "      <th>annual_inc</th>\n",
       "      <th>dti</th>\n",
       "      <th>total_acc</th>\n",
       "      <th>term</th>\n",
       "      <th>home_ownership</th>\n",
       "      <th>emp_length</th>\n",
       "      <th>open_acc</th>\n",
       "      <th>pub_rec</th>\n",
       "      <th>...</th>\n",
       "      <th>mort_acc</th>\n",
       "      <th>avg_cur_bal</th>\n",
       "      <th>delinq_amnt</th>\n",
       "      <th>fico_range_high</th>\n",
       "      <th>fico_range_low</th>\n",
       "      <th>num_bc_tl</th>\n",
       "      <th>num_tl_90g_dpd_24m</th>\n",
       "      <th>zip_code</th>\n",
       "      <th>installment</th>\n",
       "      <th>loan_status</th>\n",
       "    </tr>\n",
       "  </thead>\n",
       "  <tbody>\n",
       "    <tr>\n",
       "      <th>0</th>\n",
       "      <td>17000.0</td>\n",
       "      <td>8.99%</td>\n",
       "      <td>105000.0</td>\n",
       "      <td>14.82</td>\n",
       "      <td>13.0</td>\n",
       "      <td>36 months</td>\n",
       "      <td>RENT</td>\n",
       "      <td>3 years</td>\n",
       "      <td>7.0</td>\n",
       "      <td>0.0</td>\n",
       "      <td>...</td>\n",
       "      <td>0.0</td>\n",
       "      <td>5321.0</td>\n",
       "      <td>0.0</td>\n",
       "      <td>734.0</td>\n",
       "      <td>730.0</td>\n",
       "      <td>3.0</td>\n",
       "      <td>0.0</td>\n",
       "      <td>941xx</td>\n",
       "      <td>540.52</td>\n",
       "      <td>Fully Paid</td>\n",
       "    </tr>\n",
       "    <tr>\n",
       "      <th>1</th>\n",
       "      <td>7500.0</td>\n",
       "      <td>15.61%</td>\n",
       "      <td>75000.0</td>\n",
       "      <td>24.14</td>\n",
       "      <td>19.0</td>\n",
       "      <td>36 months</td>\n",
       "      <td>RENT</td>\n",
       "      <td>6 years</td>\n",
       "      <td>14.0</td>\n",
       "      <td>0.0</td>\n",
       "      <td>...</td>\n",
       "      <td>3.0</td>\n",
       "      <td>17895.0</td>\n",
       "      <td>0.0</td>\n",
       "      <td>699.0</td>\n",
       "      <td>695.0</td>\n",
       "      <td>9.0</td>\n",
       "      <td>0.0</td>\n",
       "      <td>027xx</td>\n",
       "      <td>262.24</td>\n",
       "      <td>Fully Paid</td>\n",
       "    </tr>\n",
       "    <tr>\n",
       "      <th>2</th>\n",
       "      <td>12000.0</td>\n",
       "      <td>10.49%</td>\n",
       "      <td>44000.0</td>\n",
       "      <td>17.76</td>\n",
       "      <td>24.0</td>\n",
       "      <td>60 months</td>\n",
       "      <td>RENT</td>\n",
       "      <td>2 years</td>\n",
       "      <td>13.0</td>\n",
       "      <td>0.0</td>\n",
       "      <td>...</td>\n",
       "      <td>0.0</td>\n",
       "      <td>1280.0</td>\n",
       "      <td>0.0</td>\n",
       "      <td>794.0</td>\n",
       "      <td>790.0</td>\n",
       "      <td>6.0</td>\n",
       "      <td>0.0</td>\n",
       "      <td>231xx</td>\n",
       "      <td>257.87</td>\n",
       "      <td>Fully Paid</td>\n",
       "    </tr>\n",
       "    <tr>\n",
       "      <th>3</th>\n",
       "      <td>10000.0</td>\n",
       "      <td>11.05%</td>\n",
       "      <td>72000.0</td>\n",
       "      <td>8.45</td>\n",
       "      <td>20.0</td>\n",
       "      <td>36 months</td>\n",
       "      <td>MORTGAGE</td>\n",
       "      <td>5 years</td>\n",
       "      <td>6.0</td>\n",
       "      <td>0.0</td>\n",
       "      <td>...</td>\n",
       "      <td>2.0</td>\n",
       "      <td>9165.0</td>\n",
       "      <td>0.0</td>\n",
       "      <td>669.0</td>\n",
       "      <td>665.0</td>\n",
       "      <td>7.0</td>\n",
       "      <td>0.0</td>\n",
       "      <td>499xx</td>\n",
       "      <td>327.63</td>\n",
       "      <td>Fully Paid</td>\n",
       "    </tr>\n",
       "    <tr>\n",
       "      <th>4</th>\n",
       "      <td>24000.0</td>\n",
       "      <td>5.32%</td>\n",
       "      <td>235000.0</td>\n",
       "      <td>9.23</td>\n",
       "      <td>21.0</td>\n",
       "      <td>36 months</td>\n",
       "      <td>MORTGAGE</td>\n",
       "      <td>&lt; 1 year</td>\n",
       "      <td>12.0</td>\n",
       "      <td>0.0</td>\n",
       "      <td>...</td>\n",
       "      <td>2.0</td>\n",
       "      <td>20279.0</td>\n",
       "      <td>0.0</td>\n",
       "      <td>754.0</td>\n",
       "      <td>750.0</td>\n",
       "      <td>5.0</td>\n",
       "      <td>0.0</td>\n",
       "      <td>332xx</td>\n",
       "      <td>722.76</td>\n",
       "      <td>Fully Paid</td>\n",
       "    </tr>\n",
       "  </tbody>\n",
       "</table>\n",
       "<p>5 rows × 21 columns</p>\n",
       "</div>"
      ],
      "text/plain": [
       "   loan_amnt int_rate  annual_inc    dti  total_acc        term  \\\n",
       "0    17000.0    8.99%    105000.0  14.82       13.0   36 months   \n",
       "1     7500.0   15.61%     75000.0  24.14       19.0   36 months   \n",
       "2    12000.0   10.49%     44000.0  17.76       24.0   60 months   \n",
       "3    10000.0   11.05%     72000.0   8.45       20.0   36 months   \n",
       "4    24000.0    5.32%    235000.0   9.23       21.0   36 months   \n",
       "\n",
       "  home_ownership emp_length  open_acc  pub_rec  ...  mort_acc  avg_cur_bal  \\\n",
       "0           RENT    3 years       7.0      0.0  ...       0.0       5321.0   \n",
       "1           RENT    6 years      14.0      0.0  ...       3.0      17895.0   \n",
       "2           RENT    2 years      13.0      0.0  ...       0.0       1280.0   \n",
       "3       MORTGAGE    5 years       6.0      0.0  ...       2.0       9165.0   \n",
       "4       MORTGAGE   < 1 year      12.0      0.0  ...       2.0      20279.0   \n",
       "\n",
       "   delinq_amnt  fico_range_high  fico_range_low  num_bc_tl  \\\n",
       "0          0.0            734.0           730.0        3.0   \n",
       "1          0.0            699.0           695.0        9.0   \n",
       "2          0.0            794.0           790.0        6.0   \n",
       "3          0.0            669.0           665.0        7.0   \n",
       "4          0.0            754.0           750.0        5.0   \n",
       "\n",
       "   num_tl_90g_dpd_24m  zip_code installment  loan_status  \n",
       "0                 0.0     941xx      540.52   Fully Paid  \n",
       "1                 0.0     027xx      262.24   Fully Paid  \n",
       "2                 0.0     231xx      257.87   Fully Paid  \n",
       "3                 0.0     499xx      327.63   Fully Paid  \n",
       "4                 0.0     332xx      722.76   Fully Paid  \n",
       "\n",
       "[5 rows x 21 columns]"
      ]
     },
     "execution_count": 5,
     "metadata": {},
     "output_type": "execute_result"
    }
   ],
   "source": [
    "df = pd.read_csv('../Data/LCData/LC_reduced.csv')\n",
    "df = df.drop(\"Unnamed: 0\", axis=1)\n",
    "df.head()"
   ]
  },
  {
   "cell_type": "markdown",
   "metadata": {},
   "source": [
    "__Notes__\n",
    "\n",
    "- It was the first peer-to-peer lender to register its offerings as securities with the Securities and Exchange Commission (SEC), and to offer loan trading on a secondary market.\n",
    "- headquartered in San Francisco, California\n",
    "- It now takes an institutional investor-focused approach\n",
    "- Its loan trading platform was closed down in 2020"
   ]
  },
  {
   "cell_type": "markdown",
   "metadata": {
    "slideshow": {
     "slide_type": "subslide"
    }
   },
   "source": [
    "When a person applies for a loan, there are two types of decisions that could be taken by the company<sup>18</sup>:\n",
    "\n",
    "- __Loan accepted__: If the company approves the loan, there are 3 possible scenarios described below:\n",
    "    - _Fully paid_: Applicant has fully paid the loan (the principal and the interest rate)\n",
    "    - _Current_: Applicant is in the process of paying the instalments, i.e. the tenure of the loan is not yet completed.\n",
    "    - _Charged-off_: Applicant has not paid the instalments in due time for a long period of time, i.e. he/she has defaulted on the loan\n",
    "- __Loan rejected__: The company had rejected the loan (because the candidate does not meet their requirements etc.)."
   ]
  },
  {
   "cell_type": "markdown",
   "metadata": {
    "slideshow": {
     "slide_type": "notes"
    }
   },
   "source": [
    "- _\"It now presents the algorithm just as a search tool for investors to find Notes they would like to purchase, using borrower and loan attributes such as the length of a loan term, target weighted average interest rate, borrower credit score, employment tenure, homeownership status, and others.[63]\"_ \n",
    "- _\"To reduce default risk, LendingClub focuses on high-credit-worthy borrowers, declining approximately 90% of the loan applications it received as of 2012[64] and assigning higher interest rates to riskier borrowers within its credit criteria.[23]\"_ \n",
    "- _\"Only borrowers with FICO score of 660 or higher can be approved for loans.[54]\"_\n",
    "- Lending Club blends traditional credit reports with data gathered from around the web."
   ]
  },
  {
   "cell_type": "code",
   "execution_count": 6,
   "metadata": {
    "slideshow": {
     "slide_type": "notes"
    }
   },
   "outputs": [
    {
     "data": {
      "text/plain": [
       "660.0"
      ]
     },
     "execution_count": 6,
     "metadata": {},
     "output_type": "execute_result"
    }
   ],
   "source": [
    "df['fico_range_low'].min()"
   ]
  },
  {
   "cell_type": "markdown",
   "metadata": {
    "slideshow": {
     "slide_type": "subslide"
    }
   },
   "source": [
    "When the company receives a loan application, the company has to make a decision for loan approval based on the applicant’s profile. Two types of risks are associated with the bank’s decision:\n",
    "\n",
    "- If the applicant is likely to repay the loan, then not approving the loan results in a loss of business to the company\n",
    "- If the applicant is not likely to repay the loan, i.e. he/she is likely to default, then approving the loan may lead to a financial loss for the company\n",
    "\n",
    "The data given contains the information about past loan applicants and whether they ‘defaulted’ or not. The aim is to identify patterns which indicate if a person is likely to default, which may be used for taking actions such as denying the loan, reducing the amount of loan, lending (to risky applicants) at a higher interest rate, etc."
   ]
  },
  {
   "cell_type": "code",
   "execution_count": 7,
   "metadata": {
    "slideshow": {
     "slide_type": "skip"
    }
   },
   "outputs": [
    {
     "name": "stdout",
     "output_type": "stream",
     "text": [
      "<class 'pandas.core.frame.DataFrame'>\n",
      "RangeIndex: 16775 entries, 0 to 16774\n",
      "Data columns (total 21 columns):\n",
      " #   Column                Non-Null Count  Dtype  \n",
      "---  ------                --------------  -----  \n",
      " 0   loan_amnt             16775 non-null  float64\n",
      " 1   int_rate              16775 non-null  object \n",
      " 2   annual_inc            16775 non-null  float64\n",
      " 3   dti                   16775 non-null  float64\n",
      " 4   total_acc             16775 non-null  float64\n",
      " 5   term                  16775 non-null  object \n",
      " 6   home_ownership        16775 non-null  object \n",
      " 7   emp_length            16775 non-null  object \n",
      " 8   open_acc              16775 non-null  float64\n",
      " 9   pub_rec               16775 non-null  float64\n",
      " 10  pub_rec_bankruptcies  16775 non-null  float64\n",
      " 11  mort_acc              16775 non-null  float64\n",
      " 12  avg_cur_bal           16775 non-null  float64\n",
      " 13  delinq_amnt           16775 non-null  float64\n",
      " 14  fico_range_high       16775 non-null  float64\n",
      " 15  fico_range_low        16775 non-null  float64\n",
      " 16  num_bc_tl             16775 non-null  float64\n",
      " 17  num_tl_90g_dpd_24m    16775 non-null  float64\n",
      " 18  zip_code              16775 non-null  object \n",
      " 19  installment           16775 non-null  float64\n",
      " 20  loan_status           16775 non-null  object \n",
      "dtypes: float64(15), object(6)\n",
      "memory usage: 2.7+ MB\n"
     ]
    }
   ],
   "source": [
    "df.info()"
   ]
  },
  {
   "cell_type": "code",
   "execution_count": 8,
   "metadata": {
    "slideshow": {
     "slide_type": "subslide"
    }
   },
   "outputs": [
    {
     "data": {
      "text/html": [
       "<div>\n",
       "<style scoped>\n",
       "    .dataframe tbody tr th:only-of-type {\n",
       "        vertical-align: middle;\n",
       "    }\n",
       "\n",
       "    .dataframe tbody tr th {\n",
       "        vertical-align: top;\n",
       "    }\n",
       "\n",
       "    .dataframe thead th {\n",
       "        text-align: right;\n",
       "    }\n",
       "</style>\n",
       "<table border=\"1\" class=\"dataframe\">\n",
       "  <thead>\n",
       "    <tr style=\"text-align: right;\">\n",
       "      <th></th>\n",
       "      <th>Description</th>\n",
       "    </tr>\n",
       "  </thead>\n",
       "  <tbody>\n",
       "    <tr>\n",
       "      <th>annual_inc</th>\n",
       "      <td>The self-reported annual income provided by the borrower during registration.</td>\n",
       "    </tr>\n",
       "    <tr>\n",
       "      <th>avg_cur_bal</th>\n",
       "      <td>Average current balance of all accounts</td>\n",
       "    </tr>\n",
       "    <tr>\n",
       "      <th>delinq_amnt</th>\n",
       "      <td>The past-due amount owed for the accounts on which the borrower is now delinquent.</td>\n",
       "    </tr>\n",
       "    <tr>\n",
       "      <th>dti</th>\n",
       "      <td>A ratio calculated using the borrower’s total monthly debt payments on the total debt obligations, excluding mortgage and the requested LC loan, divided by the borrower’s self-reported monthly income.</td>\n",
       "    </tr>\n",
       "    <tr>\n",
       "      <th>emp_length</th>\n",
       "      <td>Employment length in years. Possible values are between 0 and 10 where 0 means less than one year and 10 means ten or more years.</td>\n",
       "    </tr>\n",
       "    <tr>\n",
       "      <th>fico_range_high</th>\n",
       "      <td>The upper boundary range the borrower’s FICO at loan origination belongs to.</td>\n",
       "    </tr>\n",
       "    <tr>\n",
       "      <th>fico_range_low</th>\n",
       "      <td>The lower boundary range the borrower’s FICO at loan origination belongs to.</td>\n",
       "    </tr>\n",
       "    <tr>\n",
       "      <th>home_ownership</th>\n",
       "      <td>The home ownership status provided by the borrower during registration or obtained from the credit report. Our values are: RENT, OWN, MORTGAGE, OTHER</td>\n",
       "    </tr>\n",
       "    <tr>\n",
       "      <th>installment</th>\n",
       "      <td>The monthly payment owed by the borrower if the loan originates.</td>\n",
       "    </tr>\n",
       "    <tr>\n",
       "      <th>int_rate</th>\n",
       "      <td>Interest Rate on the loan</td>\n",
       "    </tr>\n",
       "    <tr>\n",
       "      <th>loan_amnt</th>\n",
       "      <td>The listed amount of the loan applied for by the borrower. If at some point in time, the credit department reduces the loan amount, then it will be reflected in this value.</td>\n",
       "    </tr>\n",
       "    <tr>\n",
       "      <th>loan_status</th>\n",
       "      <td>Current status of the loan</td>\n",
       "    </tr>\n",
       "    <tr>\n",
       "      <th>mort_acc</th>\n",
       "      <td>Number of mortgage accounts.</td>\n",
       "    </tr>\n",
       "    <tr>\n",
       "      <th>num_bc_tl</th>\n",
       "      <td>Number of bankcard accounts</td>\n",
       "    </tr>\n",
       "    <tr>\n",
       "      <th>num_tl_90g_dpd_24m</th>\n",
       "      <td>Number of accounts 90 or more days past due in last 24 months</td>\n",
       "    </tr>\n",
       "    <tr>\n",
       "      <th>open_acc</th>\n",
       "      <td>The number of open credit lines in the borrower's credit file.</td>\n",
       "    </tr>\n",
       "    <tr>\n",
       "      <th>pub_rec</th>\n",
       "      <td>Number of derogatory public records</td>\n",
       "    </tr>\n",
       "    <tr>\n",
       "      <th>pub_rec_bankruptcies</th>\n",
       "      <td>Number of public record bankruptcies</td>\n",
       "    </tr>\n",
       "    <tr>\n",
       "      <th>term</th>\n",
       "      <td>The number of payments on the loan. Values are in months and can be either 36 or 60.</td>\n",
       "    </tr>\n",
       "    <tr>\n",
       "      <th>total_acc</th>\n",
       "      <td>The total number of credit lines currently in the borrower's credit file</td>\n",
       "    </tr>\n",
       "    <tr>\n",
       "      <th>zip_code</th>\n",
       "      <td>The first 3 numbers of the zip code provided by the borrower in the loan application.</td>\n",
       "    </tr>\n",
       "  </tbody>\n",
       "</table>\n",
       "</div>"
      ],
      "text/plain": [
       "                                                                                                                                                                                                                   Description\n",
       "annual_inc                                                                                                                                       The self-reported annual income provided by the borrower during registration.\n",
       "avg_cur_bal                                                                                                                                                                            Average current balance of all accounts\n",
       "delinq_amnt                                                                                                                                 The past-due amount owed for the accounts on which the borrower is now delinquent.\n",
       "dti                   A ratio calculated using the borrower’s total monthly debt payments on the total debt obligations, excluding mortgage and the requested LC loan, divided by the borrower’s self-reported monthly income.\n",
       "emp_length                                                                                  Employment length in years. Possible values are between 0 and 10 where 0 means less than one year and 10 means ten or more years. \n",
       "fico_range_high                                                                                                                                   The upper boundary range the borrower’s FICO at loan origination belongs to.\n",
       "fico_range_low                                                                                                                                    The lower boundary range the borrower’s FICO at loan origination belongs to.\n",
       "home_ownership                                                           The home ownership status provided by the borrower during registration or obtained from the credit report. Our values are: RENT, OWN, MORTGAGE, OTHER\n",
       "installment                                                                                                                                                   The monthly payment owed by the borrower if the loan originates.\n",
       "int_rate                                                                                                                                                                                             Interest Rate on the loan\n",
       "loan_amnt                                         The listed amount of the loan applied for by the borrower. If at some point in time, the credit department reduces the loan amount, then it will be reflected in this value.\n",
       "loan_status                                                                                                                                                                                         Current status of the loan\n",
       "mort_acc                                                                                                                                                                                          Number of mortgage accounts.\n",
       "num_bc_tl                                                                                                                                                                                          Number of bankcard accounts\n",
       "num_tl_90g_dpd_24m                                                                                                                                               Number of accounts 90 or more days past due in last 24 months\n",
       "open_acc                                                                                                                                                        The number of open credit lines in the borrower's credit file.\n",
       "pub_rec                                                                                                                                                                                    Number of derogatory public records\n",
       "pub_rec_bankruptcies                                                                                                                                                                      Number of public record bankruptcies\n",
       "term                                                                                                                                      The number of payments on the loan. Values are in months and can be either 36 or 60.\n",
       "total_acc                                                                                                                                             The total number of credit lines currently in the borrower's credit file\n",
       "zip_code                                                                                                                                 The first 3 numbers of the zip code provided by the borrower in the loan application."
      ]
     },
     "metadata": {},
     "output_type": "display_data"
    },
    {
     "name": "stdout",
     "output_type": "stream",
     "text": [
      "As the xlwt package is no longer maintained, the xlwt engine will be removed in a future version of pandas. This is the only engine in pandas that supports writing in the xls format. Install openpyxl and write to an xlsx file instead.\n",
      "\n",
      ": boolean\n",
      "    use_inf_as_null had been deprecated and will be removed in a future\n",
      "    version. Use `use_inf_as_na` instead.\n",
      "\n"
     ]
    },
    {
     "name": "stderr",
     "output_type": "stream",
     "text": [
      "C:\\Users\\delliot2\\.conda\\envs\\mlp_pip\\lib\\site-packages\\pandas\\_config\\config.py:620: FutureWarning: As the xlwt package is no longer maintained, the xlwt engine will be removed in a future version of pandas. This is the only engine in pandas that supports writing in the xls format. Install openpyxl and write to an xlsx file instead.\n",
      "  warnings.warn(d.msg, FutureWarning)\n",
      "C:\\Users\\delliot2\\.conda\\envs\\mlp_pip\\lib\\site-packages\\pandas\\_config\\config.py:620: FutureWarning: \n",
      ": boolean\n",
      "    use_inf_as_null had been deprecated and will be removed in a future\n",
      "    version. Use `use_inf_as_na` instead.\n",
      "\n",
      "  warnings.warn(d.msg, FutureWarning)\n"
     ]
    }
   ],
   "source": [
    "def set_pandas_display_options() -> None:\n",
    "    \"\"\"Set pandas display options.\"\"\"\n",
    "    # Ref: https://stackoverflow.com/a/52432757/\n",
    "    display = pd.options.display\n",
    "\n",
    "    display.max_columns = 1000\n",
    "    display.max_rows = 1000\n",
    "    display.max_colwidth = 1000\n",
    "    display.width = None\n",
    "    # display.precision = 2  # set as needed\n",
    "\n",
    "set_pandas_display_options()\n",
    "info = pd.read_excel(\"../Data/LCData/LCDataDictionary.xlsx\")\n",
    "info = info[['LoanStatNew','Description']].iloc[0:-2]\n",
    "display(info.set_index('LoanStatNew').loc[df.columns].sort_index())\n",
    "pd.reset_option('all')"
   ]
  },
  {
   "cell_type": "code",
   "execution_count": 9,
   "metadata": {
    "slideshow": {
     "slide_type": "fragment"
    }
   },
   "outputs": [
    {
     "name": "stdout",
     "output_type": "stream",
     "text": [
      "\u001b[1m\u001b[4mLoan Status (%)\u001b[0m\n"
     ]
    },
    {
     "data": {
      "text/plain": [
       "Fully Paid     80.81\n",
       "Charged Off    19.19\n",
       "Name: loan_status, dtype: float64"
      ]
     },
     "execution_count": 9,
     "metadata": {},
     "output_type": "execute_result"
    }
   ],
   "source": [
    "print(color.BOLD+color.UNDERLINE+\"Loan Status (%)\"+color.END)\n",
    "((df['loan_status'].value_counts()/len(df['loan_status']))*100).round(2)"
   ]
  },
  {
   "cell_type": "markdown",
   "metadata": {
    "slideshow": {
     "slide_type": "skip"
    }
   },
   "source": [
    "### Data Prep\n",
    "\n",
    "For the purposes of this lecture, we are only using a sample of the full dataset (~1%). This is to ensure things dont take an age to run. \n",
    "\n",
    "- You can have a look at how I prepared the data and reduced it down in the \"Loan_Club_Explore_and_Prep.ipynb\" found in the \"Extra\" folder.\n",
    "- You could also try play with the larger sample of data.\n",
    "- There are also 150 columns so loads of features, some of them potentially concerning!"
   ]
  },
  {
   "cell_type": "code",
   "execution_count": 10,
   "metadata": {
    "slideshow": {
     "slide_type": "skip"
    }
   },
   "outputs": [
    {
     "name": "stdout",
     "output_type": "stream",
     "text": [
      "<class 'pandas.core.frame.DataFrame'>\n",
      "RangeIndex: 16775 entries, 0 to 16774\n",
      "Data columns (total 19 columns):\n",
      " #   Column                Non-Null Count  Dtype  \n",
      "---  ------                --------------  -----  \n",
      " 0   loan_amnt             16775 non-null  float64\n",
      " 1   int_rate              16775 non-null  float64\n",
      " 2   annual_inc            16775 non-null  float64\n",
      " 3   dti                   16775 non-null  float64\n",
      " 4   total_acc             16775 non-null  float64\n",
      " 5   term                  16775 non-null  int32  \n",
      " 6   emp_length            16775 non-null  int32  \n",
      " 7   open_acc              16775 non-null  float64\n",
      " 8   pub_rec               16775 non-null  float64\n",
      " 9   pub_rec_bankruptcies  16775 non-null  float64\n",
      " 10  mort_acc              16775 non-null  float64\n",
      " 11  avg_cur_bal           16775 non-null  float64\n",
      " 12  delinq_amnt           16775 non-null  float64\n",
      " 13  fico_range_high       16775 non-null  float64\n",
      " 14  fico_range_low        16775 non-null  float64\n",
      " 15  num_bc_tl             16775 non-null  float64\n",
      " 16  num_tl_90g_dpd_24m    16775 non-null  float64\n",
      " 17  installment           16775 non-null  float64\n",
      " 18  loan_status           16775 non-null  object \n",
      "dtypes: float64(16), int32(2), object(1)\n",
      "memory usage: 2.3+ MB\n"
     ]
    }
   ],
   "source": [
    "# turn intrest rate into a float\n",
    "df['int_rate'] = df['int_rate'].str.replace(r'%', '').astype(float)\n",
    "# get the employment length in years\n",
    "df['emp_length'] = df['emp_length'].str.extract('(\\d+)').astype(int)\n",
    "# get the loan term in months\n",
    "df['term'] = df['term'].str.extract('(\\d+)').astype(int)\n",
    "# we are going to remove categorical variables for now as scikit-learn\n",
    "# doesnt like them (see later).\n",
    "cont_df = df.drop(['home_ownership', 'zip_code'], axis=1)\n",
    "cont_df.info()"
   ]
  },
  {
   "cell_type": "code",
   "execution_count": 11,
   "metadata": {
    "slideshow": {
     "slide_type": "skip"
    }
   },
   "outputs": [],
   "source": [
    "from sklearn.preprocessing import LabelEncoder\n",
    "from sklearn.model_selection import train_test_split\n",
    "\n",
    "LE = LabelEncoder()\n",
    "data_x, data_y = cont_df.drop(['loan_status'], axis=1), cont_df['loan_status']\n",
    "\n",
    "# it will do this alpabetically but we want our positive value to\n",
    "# be \"charged off\".\n",
    "classes = list(cont_df['loan_status'].unique())\n",
    "classes.sort(reverse=True)\n",
    "LE.fit(classes)\n",
    "LE.classes = np.array(classes)\n",
    "LE.classes_ = np.array(classes)\n",
    "\n",
    "data_y = LE.transform(data_y)\n",
    "\n",
    "X_train, X_test, y_train, y_test = train_test_split(data_x.values, data_y, test_size = 0.1, random_state=42)\n",
    "X_train, X_val, y_train, y_val = train_test_split(X_train, y_train, test_size = 0.1, random_state=42)"
   ]
  },
  {
   "cell_type": "markdown",
   "metadata": {
    "slideshow": {
     "slide_type": "slide"
    }
   },
   "source": [
    "# 7. Imballanced Data <a id='imb'></a>\n",
    "\n",
    "## Forest\n",
    "We can deal with class imballance using <code>class_weight = 'balanced'</code>, alike to discussed last week.\n",
    "\n",
    "We can also undersample using a _ballanced random forest_, which builds several estimators on different randomly selected subsets of data. \n",
    "\n",
    "Generally what performs better depends on the amount of data you are training on and the aims of the model."
   ]
  },
  {
   "cell_type": "markdown",
   "metadata": {
    "slideshow": {
     "slide_type": "notes"
    }
   },
   "source": [
    "__Notes__\n",
    "- Balanced Random Forests are generally faster to train.\n",
    "- If data is small then class weight will probably be better (as seen below), but if you have very large datasets, then undersampling will likely work better."
   ]
  },
  {
   "cell_type": "code",
   "execution_count": 12,
   "metadata": {
    "slideshow": {
     "slide_type": "skip"
    }
   },
   "outputs": [],
   "source": [
    "# from https://realpython.com/python-timer/\n",
    "\n",
    "import time\n",
    "\n",
    "class TimerError(Exception):\n",
    "    \"\"\"A custom exception used to report errors in use of Timer class\"\"\"\n",
    "\n",
    "class Timer:\n",
    "    def __init__(self):\n",
    "        self._start_time = None\n",
    "\n",
    "    def start(self):\n",
    "        \"\"\"Start a new timer\"\"\"\n",
    "        if self._start_time is not None:\n",
    "            raise TimerError(f\"Timer is running. Use .stop() to stop it\")\n",
    "\n",
    "        self._start_time = time.perf_counter()\n",
    "\n",
    "    def stop(self):\n",
    "        \"\"\"Stop the timer, and report the elapsed time\"\"\"\n",
    "        if self._start_time is None:\n",
    "            raise TimerError(f\"Timer is not running. Use .start() to start it\")\n",
    "\n",
    "        elapsed_time = time.perf_counter() - self._start_time\n",
    "        self._start_time = None\n",
    "        print(f\"Elapsed time: {elapsed_time:0.2f} seconds\")\n",
    "        return elapsed_time"
   ]
  },
  {
   "cell_type": "code",
   "execution_count": 13,
   "metadata": {
    "slideshow": {
     "slide_type": "fragment"
    }
   },
   "outputs": [
    {
     "name": "stdout",
     "output_type": "stream",
     "text": [
      "\u001b[1m\u001b[4mRandom Forest\u001b[0m\n",
      "Elapsed time: 0.67 seconds\n",
      "OOB Score: 0.803\n",
      "\u001b[1m\u001b[4mRandom Forest (Balanced Class Weight)\u001b[0m\n",
      "Elapsed time: 0.67 seconds\n",
      "OOB Score: 0.803\n",
      "\u001b[1m\u001b[4mBalanced Random Forest\u001b[0m\n",
      "Elapsed time: 0.65 seconds\n",
      "OOB Score: 0.635\n"
     ]
    }
   ],
   "source": [
    "from imblearn.ensemble import BalancedRandomForestClassifier\n",
    "from sklearn.ensemble import RandomForestClassifier\n",
    "from sklearn.model_selection import cross_val_score\n",
    "from sklearn.base import clone\n",
    "\n",
    "t = Timer()\n",
    "\n",
    "RF = RandomForestClassifier(criterion='gini',\n",
    "                            n_estimators=100,\n",
    "                            random_state=42,\n",
    "                            oob_score = True,\n",
    "                            n_jobs=-1)\n",
    "\n",
    "RF_weight = clone(RF)\n",
    "RF_weight.set_params(**{'class_weight': 'balanced'})\n",
    "\n",
    "bal_f = BalancedRandomForestClassifier(criterion='gini',\n",
    "                                       n_estimators=100,\n",
    "                                       max_features = 'sqrt',\n",
    "                                       random_state=42,\n",
    "                                       oob_score = True,\n",
    "                                       n_jobs=-1)\n",
    "\n",
    "rf_dict = {'Random Forest':RF, 'Random Forest (Balanced Class Weight)':RF_weight, 'Balanced Random Forest':bal_f}\n",
    "\n",
    "for classifier_name in rf_dict:\n",
    "    t.start()\n",
    "    rf_dict[classifier_name].fit(X_train, y=y_train)\n",
    "    print(color.BOLD+color.UNDERLINE+classifier_name+color.END)\n",
    "    t.stop()\n",
    "    print('OOB Score: %.3f' % (rf_dict[classifier_name].oob_score_))"
   ]
  },
  {
   "cell_type": "markdown",
   "metadata": {
    "slideshow": {
     "slide_type": "subslide"
    }
   },
   "source": [
    "__Notes__\n",
    "\n",
    "- Remember from last week, accuracy can only tell us so much! "
   ]
  },
  {
   "cell_type": "code",
   "execution_count": 14,
   "metadata": {
    "slideshow": {
     "slide_type": "subslide"
    }
   },
   "outputs": [
    {
     "data": {
      "image/png": "[encoded data removed]",
      "text/plain": [
       "<Figure size 776.64x480 with 1 Axes>"
      ]
     },
     "metadata": {
      "needs_background": "light"
     },
     "output_type": "display_data"
    },
    {
     "data": {
      "image/png": "[encoded data removed]",
      "text/plain": [
       "<Figure size 776.64x480 with 1 Axes>"
      ]
     },
     "metadata": {
      "needs_background": "light"
     },
     "output_type": "display_data"
    },
    {
     "data": {
      "image/png": "[encoded data removed]",
      "text/plain": [
       "<Figure size 776.64x480 with 1 Axes>"
      ]
     },
     "metadata": {
      "needs_background": "light"
     },
     "output_type": "display_data"
    }
   ],
   "source": [
    "from sklearn.metrics import confusion_matrix\n",
    "import warnings # prevent warnings\n",
    "\n",
    "# this creates the matplotlib graph to make the confmat look nicer\n",
    "def pretty_confusion_matrix(confmat, labels, title, labeling=False, highlight_indexes=[]):\n",
    "\n",
    "    labels_list = [[\"TN\", \"FP\"], [\"FN\", \"TP\"]]\n",
    "    \n",
    "    fig, ax = plt.subplots(figsize=(width_inch, height_inch))\n",
    "    ax.matshow(confmat, cmap=plt.cm.Blues, alpha=0.3)\n",
    "    for i in range(confmat.shape[0]):\n",
    "        for j in range(confmat.shape[1]):\n",
    "            if labeling:\n",
    "                label = str(confmat[i, j])+\" (\"+labels_list[i][j]+\")\"\n",
    "            else:\n",
    "                label = confmat[i, j]\n",
    "            \n",
    "            \n",
    "            if [i,j] in highlight_indexes:\n",
    "                ax.text(x=j, y=i, s=label, va='center', ha='center',\n",
    "                        weight = \"bold\", fontsize=18, color='#32618b')\n",
    "            else:\n",
    "                ax.text(x=j, y=i, s=label, va='center', ha='center')\n",
    "       \n",
    "    # change the labels\n",
    "    with warnings.catch_warnings():\n",
    "        warnings.simplefilter(\"ignore\")\n",
    "        ax.set_xticklabels(['']+[labels[0], labels[1]])\n",
    "        ax.set_yticklabels(['']+[labels[0], labels[1]])\n",
    "\n",
    "    plt.xlabel('Predicted Label')\n",
    "    plt.ylabel('True Label')\n",
    "    ax.xaxis.set_label_position('top')\n",
    "    plt.suptitle(title)\n",
    "    plt.tight_layout()\n",
    "    \n",
    "    plt.show()\n",
    "    \n",
    "\n",
    "for classifier_name in rf_dict:\n",
    "    # use the first classifier to predict the validation set    \n",
    "    predictions = rf_dict[classifier_name].predict(X_val)\n",
    "\n",
    "    # get the confusion matrix as a numpy array\n",
    "    confmat = confusion_matrix(y_true=y_val, y_pred=predictions)\n",
    "\n",
    "    fig_num+=1\n",
    "    # use the pretty function to make it nicer\n",
    "    pretty_confusion_matrix(confmat, LE.classes_,\n",
    "                            \"Figure %d: \"%fig_num+classifier_name+\" Validation Confusion Matrix\",\n",
    "                            labeling=True,\n",
    "                           )"
   ]
  },
  {
   "cell_type": "markdown",
   "metadata": {
    "slideshow": {
     "slide_type": "skip"
    }
   },
   "source": [
    "__Notes__\n",
    "\n",
    "- This looks like the problem we had last week, depending on what we try we either have poor performance on the minority class (\"Charged Off\") or have a high false positive rate."
   ]
  },
  {
   "cell_type": "code",
   "execution_count": 15,
   "metadata": {
    "slideshow": {
     "slide_type": "skip"
    }
   },
   "outputs": [
    {
     "data": {
      "text/html": [
       "<div>\n",
       "<style scoped>\n",
       "    .dataframe tbody tr th:only-of-type {\n",
       "        vertical-align: middle;\n",
       "    }\n",
       "\n",
       "    .dataframe tbody tr th {\n",
       "        vertical-align: top;\n",
       "    }\n",
       "\n",
       "    .dataframe thead th {\n",
       "        text-align: right;\n",
       "    }\n",
       "</style>\n",
       "<table border=\"1\" class=\"dataframe\">\n",
       "  <thead>\n",
       "    <tr style=\"text-align: right;\">\n",
       "      <th></th>\n",
       "      <th></th>\n",
       "      <th>Fully Paid</th>\n",
       "      <th>Charged Off</th>\n",
       "      <th>accuracy</th>\n",
       "      <th>macro avg</th>\n",
       "      <th>weighted avg</th>\n",
       "    </tr>\n",
       "    <tr>\n",
       "      <th>classifer</th>\n",
       "      <th>metric</th>\n",
       "      <th></th>\n",
       "      <th></th>\n",
       "      <th></th>\n",
       "      <th></th>\n",
       "      <th></th>\n",
       "    </tr>\n",
       "  </thead>\n",
       "  <tbody>\n",
       "    <tr>\n",
       "      <th rowspan=\"4\" valign=\"top\">Random Forest</th>\n",
       "      <th>precision</th>\n",
       "      <td>0.82</td>\n",
       "      <td>0.55</td>\n",
       "      <td>0.82</td>\n",
       "      <td>0.69</td>\n",
       "      <td>0.77</td>\n",
       "    </tr>\n",
       "    <tr>\n",
       "      <th>recall</th>\n",
       "      <td>0.99</td>\n",
       "      <td>0.06</td>\n",
       "      <td>0.82</td>\n",
       "      <td>0.52</td>\n",
       "      <td>0.82</td>\n",
       "    </tr>\n",
       "    <tr>\n",
       "      <th>f1-score</th>\n",
       "      <td>0.90</td>\n",
       "      <td>0.11</td>\n",
       "      <td>0.82</td>\n",
       "      <td>0.50</td>\n",
       "      <td>0.75</td>\n",
       "    </tr>\n",
       "    <tr>\n",
       "      <th>support</th>\n",
       "      <td>1230.00</td>\n",
       "      <td>280.00</td>\n",
       "      <td>0.82</td>\n",
       "      <td>1510.00</td>\n",
       "      <td>1510.00</td>\n",
       "    </tr>\n",
       "    <tr>\n",
       "      <th rowspan=\"4\" valign=\"top\">Random Forest (Balanced Class Weight)</th>\n",
       "      <th>precision</th>\n",
       "      <td>0.81</td>\n",
       "      <td>0.19</td>\n",
       "      <td>0.81</td>\n",
       "      <td>0.50</td>\n",
       "      <td>0.70</td>\n",
       "    </tr>\n",
       "    <tr>\n",
       "      <th>recall</th>\n",
       "      <td>0.99</td>\n",
       "      <td>0.01</td>\n",
       "      <td>0.81</td>\n",
       "      <td>0.50</td>\n",
       "      <td>0.81</td>\n",
       "    </tr>\n",
       "    <tr>\n",
       "      <th>f1-score</th>\n",
       "      <td>0.89</td>\n",
       "      <td>0.03</td>\n",
       "      <td>0.81</td>\n",
       "      <td>0.46</td>\n",
       "      <td>0.73</td>\n",
       "    </tr>\n",
       "    <tr>\n",
       "      <th>support</th>\n",
       "      <td>1230.00</td>\n",
       "      <td>280.00</td>\n",
       "      <td>0.81</td>\n",
       "      <td>1510.00</td>\n",
       "      <td>1510.00</td>\n",
       "    </tr>\n",
       "    <tr>\n",
       "      <th rowspan=\"4\" valign=\"top\">Balanced Random Forest</th>\n",
       "      <th>precision</th>\n",
       "      <td>0.87</td>\n",
       "      <td>0.26</td>\n",
       "      <td>0.60</td>\n",
       "      <td>0.56</td>\n",
       "      <td>0.76</td>\n",
       "    </tr>\n",
       "    <tr>\n",
       "      <th>recall</th>\n",
       "      <td>0.60</td>\n",
       "      <td>0.60</td>\n",
       "      <td>0.60</td>\n",
       "      <td>0.60</td>\n",
       "      <td>0.60</td>\n",
       "    </tr>\n",
       "    <tr>\n",
       "      <th>f1-score</th>\n",
       "      <td>0.71</td>\n",
       "      <td>0.36</td>\n",
       "      <td>0.60</td>\n",
       "      <td>0.54</td>\n",
       "      <td>0.65</td>\n",
       "    </tr>\n",
       "    <tr>\n",
       "      <th>support</th>\n",
       "      <td>1230.00</td>\n",
       "      <td>280.00</td>\n",
       "      <td>0.60</td>\n",
       "      <td>1510.00</td>\n",
       "      <td>1510.00</td>\n",
       "    </tr>\n",
       "  </tbody>\n",
       "</table>\n",
       "</div>"
      ],
      "text/plain": [
       "                                                 Fully Paid  Charged Off  \\\n",
       "classifer                             metric                               \n",
       "Random Forest                         precision        0.82         0.55   \n",
       "                                      recall           0.99         0.06   \n",
       "                                      f1-score         0.90         0.11   \n",
       "                                      support       1230.00       280.00   \n",
       "Random Forest (Balanced Class Weight) precision        0.81         0.19   \n",
       "                                      recall           0.99         0.01   \n",
       "                                      f1-score         0.89         0.03   \n",
       "                                      support       1230.00       280.00   \n",
       "Balanced Random Forest                precision        0.87         0.26   \n",
       "                                      recall           0.60         0.60   \n",
       "                                      f1-score         0.71         0.36   \n",
       "                                      support       1230.00       280.00   \n",
       "\n",
       "                                                 accuracy  macro avg  \\\n",
       "classifer                             metric                           \n",
       "Random Forest                         precision      0.82       0.69   \n",
       "                                      recall         0.82       0.52   \n",
       "                                      f1-score       0.82       0.50   \n",
       "                                      support        0.82    1510.00   \n",
       "Random Forest (Balanced Class Weight) precision      0.81       0.50   \n",
       "                                      recall         0.81       0.50   \n",
       "                                      f1-score       0.81       0.46   \n",
       "                                      support        0.81    1510.00   \n",
       "Balanced Random Forest                precision      0.60       0.56   \n",
       "                                      recall         0.60       0.60   \n",
       "                                      f1-score       0.60       0.54   \n",
       "                                      support        0.60    1510.00   \n",
       "\n",
       "                                                 weighted avg  \n",
       "classifer                             metric                   \n",
       "Random Forest                         precision          0.77  \n",
       "                                      recall             0.82  \n",
       "                                      f1-score           0.75  \n",
       "                                      support         1510.00  \n",
       "Random Forest (Balanced Class Weight) precision          0.70  \n",
       "                                      recall             0.81  \n",
       "                                      f1-score           0.73  \n",
       "                                      support         1510.00  \n",
       "Balanced Random Forest                precision          0.76  \n",
       "                                      recall             0.60  \n",
       "                                      f1-score           0.65  \n",
       "                                      support         1510.00  "
      ]
     },
     "metadata": {},
     "output_type": "display_data"
    }
   ],
   "source": [
    "from sklearn.metrics import classification_report\n",
    "\n",
    "for i, classifier_name in enumerate(rf_dict):\n",
    "    # use the first classifier to predict the validation set    \n",
    "    predictions = rf_dict[classifier_name].predict(X_val)\n",
    "\n",
    "    report = pd.DataFrame(classification_report(y_val, \n",
    "                                       predictions, \n",
    "                                       labels=None, \n",
    "                                       target_names=LE.classes_, \n",
    "                                       sample_weight=None, \n",
    "                                       digits=2, \n",
    "                                       output_dict=True)).round(2)\n",
    "    report['classifer'] = classifier_name\n",
    "    \n",
    "    if i == 0:\n",
    "        reports = report\n",
    "    else:\n",
    "        reports = pd.concat([reports, report])\n",
    "\n",
    "reports.index.name = 'metric'\n",
    "reports = reports.set_index('classifer', append=True)\n",
    "reports = reports.swaplevel()\n",
    "display(reports)"
   ]
  },
  {
   "cell_type": "markdown",
   "metadata": {
    "slideshow": {
     "slide_type": "skip"
    }
   },
   "source": [
    "The above was just done on pretty much the default params, so you'd want to do some searches to get better hyperparameters."
   ]
  },
  {
   "cell_type": "code",
   "execution_count": 20,
   "metadata": {
    "slideshow": {
     "slide_type": "skip"
    }
   },
   "outputs": [
    {
     "data": {
      "text/html": [
       "<div>\n",
       "<style scoped>\n",
       "    .dataframe tbody tr th:only-of-type {\n",
       "        vertical-align: middle;\n",
       "    }\n",
       "\n",
       "    .dataframe tbody tr th {\n",
       "        vertical-align: top;\n",
       "    }\n",
       "\n",
       "    .dataframe thead th {\n",
       "        text-align: right;\n",
       "    }\n",
       "</style>\n",
       "<table border=\"1\" class=\"dataframe\">\n",
       "  <thead>\n",
       "    <tr style=\"text-align: right;\">\n",
       "      <th></th>\n",
       "      <th>param_n_estimators</th>\n",
       "      <th>param_max_features</th>\n",
       "      <th>param_class_weight</th>\n",
       "      <th>mean_test_score</th>\n",
       "      <th>std_test_score</th>\n",
       "    </tr>\n",
       "  </thead>\n",
       "  <tbody>\n",
       "    <tr>\n",
       "      <th>28</th>\n",
       "      <td>105</td>\n",
       "      <td>11</td>\n",
       "      <td>None</td>\n",
       "      <td>0.103820</td>\n",
       "      <td>0.016114</td>\n",
       "    </tr>\n",
       "    <tr>\n",
       "      <th>25</th>\n",
       "      <td>151</td>\n",
       "      <td>12</td>\n",
       "      <td>None</td>\n",
       "      <td>0.100164</td>\n",
       "      <td>0.012414</td>\n",
       "    </tr>\n",
       "    <tr>\n",
       "      <th>39</th>\n",
       "      <td>97</td>\n",
       "      <td>7</td>\n",
       "      <td>None</td>\n",
       "      <td>0.097164</td>\n",
       "      <td>0.012689</td>\n",
       "    </tr>\n",
       "    <tr>\n",
       "      <th>4</th>\n",
       "      <td>291</td>\n",
       "      <td>12</td>\n",
       "      <td>None</td>\n",
       "      <td>0.096904</td>\n",
       "      <td>0.013131</td>\n",
       "    </tr>\n",
       "    <tr>\n",
       "      <th>0</th>\n",
       "      <td>120</td>\n",
       "      <td>17</td>\n",
       "      <td>None</td>\n",
       "      <td>0.095412</td>\n",
       "      <td>0.007575</td>\n",
       "    </tr>\n",
       "  </tbody>\n",
       "</table>\n",
       "</div>"
      ],
      "text/plain": [
       "   param_n_estimators param_max_features param_class_weight  mean_test_score  \\\n",
       "28                105                 11               None         0.103820   \n",
       "25                151                 12               None         0.100164   \n",
       "39                 97                  7               None         0.097164   \n",
       "4                 291                 12               None         0.096904   \n",
       "0                 120                 17               None         0.095412   \n",
       "\n",
       "    std_test_score  \n",
       "28        0.016114  \n",
       "25        0.012414  \n",
       "39        0.012689  \n",
       "4         0.013131  \n",
       "0         0.007575  "
      ]
     },
     "metadata": {},
     "output_type": "display_data"
    }
   ],
   "source": [
    "from time import time\n",
    "import joblib\n",
    "rf_param_dist = {'n_estimators': range(50, 500),\n",
    "                 'max_features': range(1, X_train.shape[1]),\n",
    "                 'class_weight': [None, 'balanced']}\n",
    "\n",
    "lc_rf_rs = hyper_search(RF, rf_param_dist, X_train, y_train,\n",
    "                        os.path.join(os.getcwd(), \"Models\", \"lc_rf_rs.pkl\"),\n",
    "                        n_iter=60, overwrite=False, metric=\"f1\", verbose=2)\n",
    "display(pd.DataFrame(lc_rf_rs.cv_results_).sort_values(\"rank_test_score\")[[\"param_n_estimators\",\n",
    "                                                                           \"param_max_features\",\n",
    "                                                                           \"param_class_weight\",\n",
    "                                                                           \"mean_test_score\", \n",
    "                                                                           \"std_test_score\"]].head())"
   ]
  },
  {
   "cell_type": "code",
   "execution_count": 21,
   "metadata": {
    "slideshow": {
     "slide_type": "skip"
    }
   },
   "outputs": [
    {
     "data": {
      "text/html": [
       "<div>\n",
       "<style scoped>\n",
       "    .dataframe tbody tr th:only-of-type {\n",
       "        vertical-align: middle;\n",
       "    }\n",
       "\n",
       "    .dataframe tbody tr th {\n",
       "        vertical-align: top;\n",
       "    }\n",
       "\n",
       "    .dataframe thead th {\n",
       "        text-align: right;\n",
       "    }\n",
       "</style>\n",
       "<table border=\"1\" class=\"dataframe\">\n",
       "  <thead>\n",
       "    <tr style=\"text-align: right;\">\n",
       "      <th></th>\n",
       "      <th>param_n_estimators</th>\n",
       "      <th>param_max_features</th>\n",
       "      <th>mean_test_score</th>\n",
       "      <th>std_test_score</th>\n",
       "    </tr>\n",
       "  </thead>\n",
       "  <tbody>\n",
       "    <tr>\n",
       "      <th>30</th>\n",
       "      <td>334</td>\n",
       "      <td>3</td>\n",
       "      <td>0.407487</td>\n",
       "      <td>0.015900</td>\n",
       "    </tr>\n",
       "    <tr>\n",
       "      <th>43</th>\n",
       "      <td>125</td>\n",
       "      <td>3</td>\n",
       "      <td>0.406370</td>\n",
       "      <td>0.017198</td>\n",
       "    </tr>\n",
       "    <tr>\n",
       "      <th>51</th>\n",
       "      <td>417</td>\n",
       "      <td>3</td>\n",
       "      <td>0.405944</td>\n",
       "      <td>0.017373</td>\n",
       "    </tr>\n",
       "    <tr>\n",
       "      <th>19</th>\n",
       "      <td>385</td>\n",
       "      <td>4</td>\n",
       "      <td>0.405593</td>\n",
       "      <td>0.013208</td>\n",
       "    </tr>\n",
       "    <tr>\n",
       "      <th>55</th>\n",
       "      <td>456</td>\n",
       "      <td>8</td>\n",
       "      <td>0.404155</td>\n",
       "      <td>0.017343</td>\n",
       "    </tr>\n",
       "  </tbody>\n",
       "</table>\n",
       "</div>"
      ],
      "text/plain": [
       "   param_n_estimators param_max_features  mean_test_score  std_test_score\n",
       "30                334                  3         0.407487        0.015900\n",
       "43                125                  3         0.406370        0.017198\n",
       "51                417                  3         0.405944        0.017373\n",
       "19                385                  4         0.405593        0.013208\n",
       "55                456                  8         0.404155        0.017343"
      ]
     },
     "metadata": {},
     "output_type": "display_data"
    }
   ],
   "source": [
    "del rf_param_dist['class_weight']\n",
    "\n",
    "lc_bal_rf_rs = hyper_search(bal_f, rf_param_dist, X_train, y_train,\n",
    "                        os.path.join(os.getcwd(), \"Models\", \"lc_bal_rf_rs.pkl\"),\n",
    "                        n_iter=60, overwrite=False, metric=\"f1\", verbose=2)\n",
    "display(pd.DataFrame(lc_bal_rf_rs.cv_results_).sort_values(\"rank_test_score\")[[\"param_n_estimators\",\n",
    "                                                                               \"param_max_features\",\n",
    "                                                                               \"mean_test_score\", \n",
    "                                                                               \"std_test_score\"]].head())"
   ]
  },
  {
   "cell_type": "markdown",
   "metadata": {
    "slideshow": {
     "slide_type": "slide"
    }
   },
   "source": [
    "# 8. Feature Interpretation/Reduction <a id='feats'>\n",
    "    \n",
    "## Feature importances\n",
    "    \n",
    "Feature importances, as we have previously seen, can give us insight into the important features for our model."
   ]
  },
  {
   "cell_type": "code",
   "execution_count": 22,
   "metadata": {
    "slideshow": {
     "slide_type": "fragment"
    }
   },
   "outputs": [
    {
     "data": {
      "text/html": [
       "<center><img src='data:image/png;base64,iVBORw0KGgoAAAANSUhEUgAAAvwAAAHcCAYAAACqHH4kAAAAOXRFWHRTb2Z0d2FyZQBNYXRwbG90bGliIHZlcnNpb24zLjMuNCwgaHR0cHM6Ly9tYXRwbG90bGliLm9yZy8QVMy6AAAACXBIWXMAABJ0AAASdAHeZh94AACCLklEQVR4nOzde7xlc/3H8dfbZVxjXEZFMq7JnEqiizBUSCoV8ivKSIWJSOWWGES6ISTkMiGJQii3MIMIjdA57sNxjRmMYZhxGZ/fH9/vZs2avc85e88%2BZ5%2Bz5/18PPZjn/1d3/Vd37X22ut81nd913cpIjAzMzMzs/a0QKsrYGZmZmZm/ccBv5mZmZlZG3PAb2ZmZmbWxhzwm5mZmZm1MQf8ZmZmZmZtzAG/mZmZmVkbc8BvZmZmZtbGHPCbmZmZmbUxB/xmZmZmZm3MAb%2BZmZmZWRtzwG9mZmZm1saGVMAvaaSkkDS%2B1XUxM7PWkvRdSXdLmpn/N%2BzT6joNdvPr/1FJ3ZK6W12P/iRp0/zdjmt1XWzwGTQBf95Je3qNaXUdB0rhR1vrdXQ/LHNxSc/n8s9tdvnzK0njevkuu1tQl00HapnNUghSultdl/7mf9p9I%2Bn/gF8Ds4DjgMOAf7WyTvOisI%2BXXzMlPSDpN5JWbnU95xf5BKH4Pbwhabqkf0naR9LCra7jUCdpTG%2BxX6vr2IjBenK5UKsrUMVhNdLvAJ4A3gtMH7DatNZEYEKV9Bv7YVk7AEsDAXxJ0nIR8Ww/LGd%2BVeu7fH5gq2HWNj5beY%2BIJ1tak%2BaaTjqBqVgOGA2MBbaTtF5EPNGKis2nfk06Ti8IvBv4EnAs8Engc62rVlu5E7i41ZVod4Mu4I%2BIcb1kuXcg6jFITOjD9miWbwNvAL8E9gN2Bo4ZoGXPDwbyuzSbH6wI0GbBPsDz1Y4Vki4hBZjfAuaabv3muIjornyQdASpAfKzkkZHxMRWVayN3OH/j/1v0HTp6Yue%2Bh5KWkvSXyRNk/SSpJskbV24ZDSmlD8kTaixnPF5%2Bshqy87L%2BpOkKfky36aFfFtK%2BrukZyS9ImmypF9IGt6UjdAPJHUAHwWuAX4GvAp8s5Tno3n9L%2BqhnHvyOi9bSu/zNqlcCpO0lKRj8t%2BvVbo3SFpR0iGS/inpKUmvSnpS0rmS1qlRL0naW6mv7yxJT0g6UdLSPV16k/QVSdcpdXWaldfvYEmL9LQ950Wd22ozSafm9XohX/rvlHSopEVLebuBQ/PH66pdMpU0odYl1B5%2BRz1%2BXznP2vl381j%2Bvp7O39d7Gt1OhbLf7P4iaX1JVyhddp%2BWjwcr53yrSTpP0tS8na6T9IEq5VV%2B%2B6tJ2lfSvfm7f1zSsZKWqlGPD%2BXlTcnf2yOSTpL0zl6WsZeku3KdJigd267LWQ/VnJe3N83zLy3ph5KuzfV6Na/XJZI%2BVqN%2BkctfPu8z/8v17JK0Sw/bdwtJlxbW6zFJf5X0qSp569l33y/pj3l/eSXX/3ZJx6mXrhL5uw5gs8K6zXX5X9In8/7wXF7G/ZKOlrR0lTIn5DKGKR1f7svzjO%2BpLnneL0g6J5f/Un5NUrq/oJn/Y6/O7yNKy6/7mFhjPdbK2%2Bff%2Bfuo7MenSnpXlfzF3966kv6mdKx8WdJESRvWWM6CknbP9Z2e9/0HJZ0mac1S3oUkjVXqRvNCLvs/kvastm2V7Jn36zmO9X3dDr2JiAdJV2wBNigtf6C24dslna50LJ0p6Q5JO/dUb0lrSjorb5PKPnJWeZvnvG92/1T6Pzgp1%2BlJpeP8IjnfJ/Jv5wWlY%2B7Zkpbr67as1zysw1cl3SJphgr/75W6Mh%2BYt99LefrNkr5SpTxJ2lkptpya96/HJF0paYecZ1Ol49AqwCqa8/g9vr%2B2S18Nuhb%2BRkhaG7gJWAb4G3AXsBpwEfD3Ji9udeAW4H7gD8BiwAu5HoeSWl6eAy4DpgDvB34AfEbSxyLihTqWtYakPYGlgKeAGyLigWoZlYKB64CJEbFpnev07fw%2BPiKek3QpsK2kjSPiBoCI%2BJek%2B/J6zNXdR9KHgbWBv0TEc4X0RrbJMOBaYFngKtL2fThP2wQ4IK/rX4AZwJrAdsDnJX08Iu4slfcbYA/gSeBU0gnN54EPAwsDr5U3iKQzgF2Ax/NyniedFB0BfFLS5hHxevXN2ZgGttX%2BpG1%2BE2m/XxT4eC5jU0mfiojZOe9xwBdIXQN%2BD3Q3seo1vy9JnwYuJG3nS4EHgXeRLotvLWmziLi9CXXYgLQ9JgK/A96Xl9EhaRtSN7h7gbNIB%2BMvAVdLWi0iZlQp71jSvnY%2B8FdgS2AfYGNJG0XErEpGSZ8l7SMC/gw8AnyItM9tk/M/zNx%2BDWxM%2Bu7%2BDswGbsvTdmbubmDd%2Bf29wJHA9XneaaSuBp8HtpL0uYi4osryhgP/JO3/fwYWAbYHzpD0RkT8vphZ0mHAIaTf2MXAY6RW9Q2BnYB/FPL2ed%2BV9H7SMTSAS0j7ylLAGqRuKwdT5TdZUNkmY0jf5VzdQCXtBvwWeAm4INdnU9I%2B8rl8nHi%2BStl/Ie1Ll%2Bd1ntJDPSqOJl0dvYXU7XRp4BOk73cD4Gt9KKMvKidZ/y6lN3JMrOZLwO65nJtI%2B8koUuPP5yStX6Mr0fqkq8I3A6eR9sVtgWskrRsR91UyShpG2j82J%2B1P55KOFyOBL5J%2Bpw/kvJVjxpbAfTnvLNKJ3gnAR5h72x4HfBf4H%2BlY/xqwTc47LK9TM5X304HYhsvnslcjba8bgXcCJ5OOv3ORtAHp9/o20m/ubtL/jp1Ix6hPRcRtVWbdC9iK9FuYAGwBfA9YVtJfgfNIx6BTeeu4sHyep6nmYR2%2BT9rfLiV9L0vn8oaT/m99ELgdOIPUCL4lcK6kURFxcKGcI4EDScer80ld795J%2Bo1vD/yJdIw%2BjPS/AubsmndHY2veRBExKF6kg3%2BQ/mmUX2NynpE5z/jSvNfk9D1K6VsVyh1TZXkTatRlfJ4%2BspA2slDWUVXm2SxPuwkYXpo2Jk87to/bYtPCssqvPwPL9DBP1XXqYVmLkv5JPw8sltM%2Bm8s6u5T3wJy%2BZ5VyfpOnfW5etgnpBxOkH/YSVZazAvC2KukfIP2ju7yUvnEu775iHUgH/%2BvztO4adbuwsk0K08blaXv3cftW8k%2Bg%2Br49ch621WqAqizziJx/hxp12bRGXScAUWNapQ7l31HN74t0Aj4NeAZYpzStI39ft/dxO46s8V1tylu/jR1L007P6c8BPypN%2B3G175G3fvvPAKsU0hcgBVMB/LiQviTwLClY37hU1v45/1U1lvEEsGqVda2s07ga22JpYPkq6e8indTeU2VaZRudBixYSF8HeB24u5R/i5z/IWClassq/F3Xvgv8KqdtU6XcZYAF%2BrhPVN1fSScBr5ACybVL007Kyz61WlmkxqK5tm0v9Vi9StoCpBPrAD5S5z7%2BPHMeI34N/Cd/T2cCC5Xmq/eYWFnO%2BFL6SsAiVcrZIu/fv%2B3ht1c%2BLuyW008qpR/FWyd6i5SmLQKMKHwel/OeUNpnF%2BSt3/Y2hfQNc9qDwLKF9EVJgfRcx49evo9uSnFATn8P6UQygA%2B1YBueSvX/B%2BuTTkDmOHaQGiLuofoxcoecfi%2BF311h208H3lv6jrryujwLjC7t81fn%2Bdbt4zYek/PfQfX/j%2Bs2YR1eAj5YZdnj8/T9SumLAleQTuLXLaQ/S2oAXLxKWcuXPnfXs68N1KvlFShsoOjhNSHnGUnpQAWsnNMeoMo/isIOWP4xvVluDzvCyEJaZdlPUf0HfVGePqpGmf8BpvRxW4wiBQsdpIBieeDTpLPQIJ3RL1CaZ3HS2e6769zuX8tlnlJIW4jUQjKTwskFKaCYDdxWKmNY/jE8TeGfUSPbhLcOsh9oYB%2B6hNQCtHAh7bRc3ter5P841YPI/5AOnMOrzLMgKRi8tY91GtfLvr1pP%2Bw/y%2BayzqhRl01rzDeBxgP%2Bub4vYO887Ts1yjw2T1%2Bn2vRS3srvr/xdbZrTb6gyzyZ52sMUAoY8bZU87cxS%2BnhKQX1h2mp5/3%2B4kLZjzn9ulfwL5WUHhd9lYRl711jXyjqNa%2BA3cHx5eTm98o9vqSrzTMzTlyykXZrTvtiHZda17/JWwL9FvevXl/0V%2BBG1G2aWIZ0IzKRwHOetgH%2BbealTaVnr5TIP6WP%2Byj5e63Uz8Ok661DtmFhZzvg6yrkLeKjGfnpjlfyVK6f/LqQtSDqZeRlYsZflLUD6n/I/Sic4efpwUkB2fiHtd7k%2Bu1TJX6lrdx3r3J3nOY507DyCdBI3I6f/os7vohnbcOH8O34BWLrKPOOZO%2BCv/J%2B7qUa9bsjTNymkjctpR1TJf0iedlaVaTvnaTv3cZuM6WWfH9OEdTi2Sv7lSCfQt9Uo7wN53p8X0p4lHc/niv9q7Dt93tcG6jXouvREhOqcZd38fnNEvFFl%2Bo28dSm0Ge6MiFeqpH%2BM9OPcXtL2VaYPA0ZU6w5TFhFdpLPoihnAFZJuIp0Jf5x089ZfC/O8TGM3NFe685xZKOt1SX8gXQr7GimIICIel3QNsLmkdSLi7jzL50hB5rExZzeXRrfJLNLBsSpJW5Mum65POhkq78fLk/5RQLpcB9VHNvoX6UdfLHtx0o/9GWAfqeru%2BAqpW0U9Doueb0qqe1tJWoIUVH8RWIt0qbNY4ZXqrGOjan1flf7kH1D1ISbXyu/vJV2enRflbg6QWrsh3RA2uzStcll9rn612Vw34kXEQ5IeA0ZKGh6pS8h6efK1VfK/Lul6UoD1QeDRUpZbayy7V5I%2BTvruP0Zq4R1WyrJSleU9ENW7FD6W35chHWsgdV8LUktXb%2Brdd/%2BU636xpD%2BTrg79MyIm92FZfdHTdzJN0n9IJ4Nrk0YHKar7O8l9ln8IfIZ0UrhEKUu9v8NHImJkofylSfvPccDfJe0eEaeW6lDPMbHWeoh0AjuGdAxchhSkV9TqDjPXby8iXpP0dC6jYm3S1albovcbrdci/U95ADi4xnF4JnMehyvfe7WbaG8knaw3Yu8qaeMiolpXsoHYhouTGjiqjVY4gRR0F9X8PRTSNyLtY9f3Vi/eOq5OqjKtt%2BNqLb%2BPiDE9TJ%2BXdaj2m96A9L3UGv64ch9Rcf/6A6mL092SziftZzfX%2BB4GpUEX8Ddg6fz%2BdI3ptdIb9VSN9OVI2/PQXuavdAGoW0S8oDRG/o9I/7D%2B2sssPZL0XtKP5N6IKI9fPZ4U8H%2BLHPAX0jcnHVT2z2mVA8wcfYBpfJtMiXyaXKXOe5P%2B8U0jXb15lNRiFKQ%2B6h8gXXasqLl/RMRsSeXvYhlS0DyiD/Vuprq2Ve7fei3pPoROUhA1lbf6lB7KnNuhP9X6vio3b32rl/mXbEIdqh10X681LQfj8NaBvazWceMp0tWBpUmtlZX9q1YwVUkfXqOsukn6Iqlr3yzSb2AyqdXvDVKL4Wiqf/fP1yiysp2KgclwYFpEzOxDleradyPiVkkbk45j25H7Yed7hA6LiD/2YZk9GbDvJPcDvg1YlRRYnEXqQvZ6Ln9v5vF3mAOKCZK2IwXAP5N0duW7aeCYWMsxpL7H/wOuJAVvle9/DGm/r%2Bb5GumvM/c%2BBW8FhT2pHDvWpOf9qnjs6OlY/7qkZ/qw3GpWjYhupYEQ1iX1lT9U0kMRcXYpb39vw97inWr777z8Huo6rhamNfsZBc3%2BTVf2rw0o3XhdUty/vkfq4rgL6Z6ZA4DXJf0d%2BH6km7kHtXYI%2BCstVm%2BvMb1WelB7/Yf3sLyqgShp518gIpatMb1Zpub3citSIyqt%2B2ur9gMuOiRtGBE35c8Xkbb5TpIOIv1wtiJd%2BSi3ljW6TWoF%2BwuRLtM9BawXEf8rTa82Qklx/3iolH/BXP/iP6DKQew/EbEeA6febbUNKdgfHxFzjLKiNDJMIycrb%2BT5F4q5b0ge3sN8Pf0mIHX3qXnFZpB6O%2Bm%2Bj7J35Pfppfd3VMkL6aauYr6iWtutN0eQWgrXj4h7ihMknUIK%2BOfV88BykhbrQ9Bf9%2B88Im4mDWu4COkG50%2BTWs/OlTQ1Iv7RYwG91wfSd9JVZXrN76RWQ0MPvkkK9ue6gpePR9VahxsSEQ9Keo7U8r0WcGeDx8S5SFqBdLNrJ7BhRLxYmj7XqCUNeD6/9%2BWKR%2BW7uSgivtTH8ivzVDvWL0S6yvF4H8uaS6Qb9f8laSvS1fTfSrqmcrVigLZhcR2rqXYcmpdj1GDR7ONsJd%2BxEbFvXyqQrxIfBxyXv%2BuNgP8j3bA7Kt/kW633x6AxpIblrOGO/P4xVR8CbaMa800j9f%2BfQw4C122gHv8ClpE0qoF56/HR/P5Qj7l6kf/Rfo0U5J1Bugmq/LoyZ3%2BzhTb/8z%2BfNFrHp4Cvkk6cyq370Pxtsjwp8Lypyj%2B2JXnrsl/Rf/J7tf3go5RO%2BiKN2NJF%2BgH398lbUb3bao38fmGVabUCvsol7QVrTJ%2BW36s9zXP9PtarqHLVaOMG5m21ubahpNVI26Y73hrhpbJ/bVol/0K8te71jETU2/e0Bukm23KwvwC1j3f1%2BhfpSten%2B5i3od95RLwSETdFxCGkYAnSyey86Ok7GU46vs8i3QQ4ryq/w79UmdaME6835f3pbflj5X9dI8fEalbLZV5VJVB9V54%2Br%2B4lBf3vl7RiH/N%2BVH1/om3lN1Ztu29E7d9TXfJ2PorU6Fbs1jNQ2/BlYF1VH2p00yppNX8P2Wb5vRmjpfWXZq/DraTYp6H/TRExJSIujIgvk660r06657JiNk3a35ppyAf8EfEoqd/aGqS72t%2BkNCRgrf77twLvlrRFKf1gal9268mx%2Bf131Q5mkpaQ9NFyejWSqgZXknYi3ZH%2BKinoLk5bXGm883f3sb7bklq3r4yIXSPim%2BUX8GVSV4Evlw4u4/P71/PrdVL/trKmbZNsCulg96H8z6xSzsKkkSyWrzLPWfn9R8V1UBoe7qgayzmG1O/4DFUfQ3wZSc1u/a93W3Xn901L%2BVYjPUuhmkr3pVr7SKWv4xxdcCR9EmikdepM0j/tQ5WGbZ2DpAWUhpMdjPaW9OZxIAfTvyAdM88s5LuY1IXjK1X25X1Irb//yMepvurte%2BoG1izuJ7nv8DjSqDvNcEJ%2B/5WkuVpkS2l17buSNpS0WJVlVlotX26wzhXnkLq27SVpjdK0I0hDgJ7TpNa47vy%2BaTFR0gdJo5o1056krhLPklqRobFjYjXd%2BX2j3OhVKWdJ0s2w89wbILeQnkQayvpklZ5novQMhBE57%2BukffCdwPHV9hdJ79SczxkYn99/VGysyV1xfjqv9S85gdStZozeGgO%2BO7/35zZ8jfS/9m2UHr6W44Ydq8z2T9LVyo1yt7DiPNuRgt77qX6f22DR1HWIiCmk7bi%2BpB8Xv69CuatLWjX/vYjSfVPlPAuTrrjBnMetZ0n3LVU7zrVMO3TpAfgOaYc4SdJneGsc/m1J/dy3IXdXKPglabzVv0r6E%2Bmf9oakf9ATqH0mWVVEXCPpANKB5YHcr%2BthUh%2BwVUitDjfStxazP0t6nXTDzOOkYaI2IHXheB3YLQpP/ss%2BTB6Hv491r3TnOa2HdXpB0gWkvoc7kYbeJCL%2BKelB0qWshYFL8w%2BoPH8ztwkR8Yak40l95/6rNA7wMNLZ/bKk9d%2BsNM9ESafm9e2S9BdSMPA50mW9JyntGxFxhqQPkcYEnyzpSlK/2GVJ%2B8cmpKBv977Uu4/rVu%2B2qoxpv6%2Bk95FaQN5NGlL1b1QPFq/L6/pTpYetTcvL/kmefibp5sMDlR5KdTep68BWpK5c29a5Ts/mg/FFpEvh15CungSppfxjpJPORWuX0jL/BO7Ix4bppGPFB0g3qv28kikiZkj6Bmms94n59/IoqZvKFqSuFrtRn/tI3cz%2BT9JrpHH9gzRM7iOkAPtk4D%2BF/fnjpGD/UtK%2BPU8i4ipJPyE1gNwj6WLSzb1vJ7WW/ot0XGhk390P%2BISkG3K%2BGaSRybYi7ZNz3JDaQN27Je1DOl7drnSD3dRcj4%2BRWkn3r11CXc4i/WaOk7QZqY/9mqTf4YWkBpp6DdecNxIuRWqpH036/Y7NgV9Dx8RqIuIpSeeRuijcIekqUr/pzUlXQ%2B6gsSvfZYeRxsT/HHC/pMuAF0nHgy1I23J8znsE6Te3O2kM%2B2tJv4sVSNv446T7QO7O6/BPSSeQuoZ1Kt0QXhmHfxq93LRcj4h4WdLRpN/i4cBXBnAbHgR8kjSoxPq8NQ7/DqTneXy%2BVNdQeijX1cCf8j5yL2l40S%2BQtv/Xo/qgJ4NCP63DnqT96HDga5JuJJ3ErUi6WXcDUkPXw6ST1Btz3DOJdExelPTdvhe4pHTF9Zo8/xVKAze8Qur2fGkDq988MQiGCsrdJoMaQwIW8oykxnBipLvXLyS1KL5EGsJsa9KDXwL4QpV5Pk8KqmeRzsjOI/2DGp/nGdmXZZfK3IjU%2Bv4kqSV%2BKumHfgypz21ftsX%2BpB37MdINP7NIN%2BadSY3hKqljHH5SEBekYGThXvJWxja%2Bo5R%2BcOU7A7Zt1jahl%2BGsSCep%2B5IO8jPzOpxd63vL8yxAuuHmXtIP70lSMLA06UBxR41lfZa3HiL0al7WrcBPKI3v3UN9x1HHEIt1bquVSa0UlRvDukjB1EK19gXSidsdOf9cvzlS4PX3vF1mkE5%2BR9PzsJw1v6/Cb%2BdEUjA0i3Rfxb35e5vrd9nLb7%2B7lF7Z7%2BfavvTym622jQr70Gqkm9bvzXV%2BgtR/c65hLfN8G5BObKbm7%2B1R0oOf5hp%2BsNZ%2BWqW8a0gnG2/k/JsWpo/J3%2BNLpBGlLiI9bGxcOW%2Btde1LfUgjz1xBahB5hXRMugj4RKP7LimwO5P0G56e1%2BE%2B0uAAq/Rlf8jlTCjvv6XpW5AeRDQt1/1B0sna8HrL6qUe65CGv5yS12USqW9/j/tfD/tr%2BfVq3u5/BDaoMl9dx8Ra9SKN/nJk3k6z8jJ/Qzopn2v70PvzIrqpcmzI9d2TdCydkbfZA6QTvTVKeUXqenpN3gdfJf0WbyQFvitXyb8nqbtW%2BVhftT49fB/d5W1Xmr5orssbwPsHeBu%2Bg9QVd2r%2Bzu8gHRNqlkcKjs8mnfi8lt/PAd5TJe84qhxH4q1jz1z/C/qyPj2U1dffSFPWoZBnWN5fbiIdi14hHbuvIV2hXS7nW5j0v/XyPH1W3vb/Ip2QDiuVuwTp%2BP84qZG2z%2BvYny/lyrUtpeElv0oK0KrdhGfzqXwp9n7gvIhoxg1VNsQpPf58Z/LIHK2tjZmZWXMM%2BT788GZf4Lnu3s59j3cg3eDmYH8%2BJekdKt3QrTTe/nH540UDXikzMzOzAdIuffiHAY9Juo50Cf51UteEzUmXAL/TwrpZ6%2B1DuqlyAukS4DtIfSDfRbpEd0HLamZmZmbWz9ol4H%2BNdBPbJ0g3BC1O6td6AXB0RPynhXWz1ruadPPXFqQb2V4ndeU5Hjgu2r1fm5mZmc3X2r4Pv5mZmZnZ/Kwt%2BvCbmZmZmVl1DvjNzMzMzNqYA34zMzMzszbmgN/MzMzMrI054DczMzMza2MO%2BM3MzMzM2pgDfjMzMzOzNuaA38zMzMysjTngNzMzMzNrYw74zczMzMzamAN%2BMzMzM7M25oDfzMzMzKyNOeA3MzMzM2tjDvjNzMzMzNqYA34zMzMzszbmgN/MzMzMrI054DczMzMza2MO%2BM3MzMzM2pgDfjMzMzOzNuaA38zMzMysjTngNzMzMzNrYw74zczMzMzamAN%2BMzMzM7M25oDfzMzMzKyNLdTqCpgNNZKWBkYDjwGvtrg6ZmZmNv8ZBqwMTIyI6b1ldsBvVr/RwF9bXQkzMzOb720DXNJbJgf8ZvV7DODiiy9mjTXWaHVdzMzMbD7z4IMP8oUvfAFyTNIbB/xm9XsVYI011mDUqFGtrouZmZnNv/rUtdg37ZqZmZmZtTEH/NYSksZL6u7veczMzMzmd%2B7SY9agzY%2BZyLAR3a2uhplZ3bqP3rrVVTCzAeSA34aSb%2BGrUmZmZmZ1ccBvQ0ZEvNbqOpiZmZkNNW4tHSIkrSLpJEn3SZop6VlJF0gaWco3RlJI%2BrikYyRNlfSSpIskjSjl7ZZ0maSNJN0qaZakhyR9vZRvnKSoUqfKskYW0raR9DdJT0p6RdJkST%2BWtGATtsEcffgljczL/4Gkb%2BdlvSLpNkkbVJl/bUnn520yM2/LI%2Be1XmZmZmaDmVv4h44NgA2B84DHgZHAHsAESetExMul/CcA04DDct59gBOBHUr51gD%2BDJwO/B74BjBe0qSI6GqgnmOAGcAx%2Bf0TwOHAUsAPGyivL74KvA04BQhgP%2BBCSatVrgpIej9wA/AacCrQDawOfA74Ua2CJa0AjCglr97k%2BpuZmZn1Gwf8Q8ffIuLPxQRJlwI3A9sCZ5fyPwtsERGR8y4AfFfS0qVHML8H2CQibsj5zic9xGEX4AcN1POrETGz8PlkSScDYyUdHBGvNFBmb94NrBkR0wAk3Ud6Eu6WwGU5zwmAgPUi4tHKjJIO6KXsscChTa%2BxmZmZ2QBxl54hohhES1pY0nLAg8DzwHpVZjm1EuxnNwALAquU8t1dCfbzcqYC9wGrNaGeb5O0fF724sDajZTZB3%2BqBPtZZX1Wy/UYAWwCnFEM9nN95%2BqqVHIS0FF6bdOMSpuZmZkNBLfwDxGSFgMOJLW8r0Rqra5Yusosj5Y%2BVwLiZXrJV8lbztcnkkYBPyF15VmqNLlaPZuhHMRPkwRvrUPl5KWz3oIjYgowpZiWyzYzMzMbEhzwDx0nkIL940jdeKaT%2BqufR/UrNbNrlFOOVvuSr1Yr%2BBw34koaDkwEXgAOASYDs0hXIH5Wo57N0Nd1NTMzM5vvOOAfOrYDfh8R368kSFoUGD4Ay670jR8eEc8X0svdgzYFlgO%2BFBHXVxIlrdrfFezFQ/m9o6W1MDMzM2sB9%2BEfOmYzd4v1XpRa2fvJ5Py%2BSSVB0hLAzqV8lZZ2FfINI9342jL5voTrgW9Iendxmtw/x8zMzNqcW/iHjsuAr0maDtwNfAz4FGk0nv52Famf/OmSfkEK7L8BTCWNkFNxE%2BlqwO8lHU/qCvQ1BkfXmu8CNwK3SzoVeJg0XOnWwLqNFHj1vqMZNWpUs%2BpnZmZm1i8c8A8de5MC7R2BRYF/kgL%2BK/t7wRHxmqQvkkasOQJ4inQvwTTgzEK%2BZyV9FvgV6cbdacA5wDUDUc%2BeRMSdkj5Kqv8epG34CHB%2BK%2BtlZmZm1t/U%2B6iEZlaURyLq7OzsdAu/mZmZDbiuri46OjoAOvryoFT34TczMzMza2Pu0mMtJ2lZYFgPWWbnG2/NzMzMrE4O%2BG0wuBAY3cP0R0g32JqZmZlZnRzw22DwfXp%2Bsu/MgaqImZmZWbtxwG8tFxGTWl0HMzMzs3blm3bNzMzMzNqYA34bEiRNkNTZ5DJD0rhmlmlmZmY22LhLj1mDNj9mIsNGdLe6GmZm843uo7dudRXMhiS38JuZmZmZtTEH/NYykhaQtGir62FmZmbWzhzwt5ikVSSdJOk%2BSTMlPSvpAkkjC3nWz/3Nd64y/5Z52mcLaZtK%2BrekWZImS9pN0jhJ0UD91pZ0vqSpuX73STqyMH28pO4q8821vFzPEyXtKKkLeAX4dJ31%2BZCkm3JdHpa0e2n6MEmHS5okabqklyTdIGmzulbczMzMrE24D3/rbQBsCJwHPE56wNQewARJ60TEyxHxb0kPAV8Gfl%2BafwdgGnAlgKQPAlcA/wMOBRYEDgHqflKtpPcDNwCvAacC3cDqwOeAH9VbXvYJ0nqcCDyTy%2ByrZYC/A%2BcDf8zl/FbSqxFxRs6zFPDNPP13wNuAXYErJX04Iu6op7KSVgBGlJJXr6cMMzMzs1ZywN96f4uIPxcTJF0K3AxsC5ydk/8E/EDSMhExLecbBnwRuDAiXsv5DgNmAx%2BPiCdzvvOBexqo2wmAgPUi4tFC/Q5ooKyK9wDvi4i7G5h3ReD7EXFMrscpwC3ATyWdnbfBNGBkRLxaqO/vgHuBvUjBfz3Gkk6czMzMzIYkd%2BlpsYh48ymykhaWtBzwIPA8sF4h65%2BAhYEvFdK2AIbnaUhaEPgUcHEl2M/LeBC4vJ56SRoBbAKcUQz2c3l1dw0qmNhgsA/wOnBKoR6v5s8rAB/KabMrwX6%2BR2BZ0ontv5lze/bVSUBH6bVNg/U3MzMzG3Bu4W8xSYsBBwK7ACuRWtQrlq78ERF3SrqX1IXn9Jy8A6lbzLX58wrAYqQThrJqaT1ZLb83dex74OF5mPfJiHiplHZ/fh8J/Asg3%2BvwfWBt0klSw8uOiCnAlGKapBq5zczMzAYft/C33gmk/vDnk/qkbwFsDjzL3N/Pn4DNJC0vaRHg88BfIuL1AaxvWa3W/gVrpM%2Bskd4UknYCxgOTSd13Pk3antfi/d3MzMzmQ27hb73tgN9HxPcrCXmoyuFV8v6J1J98W%2BBp0g2q5xWmTwFmAWtUmbdaWk8eyu8dveSbRvW6rlLn8vpiRUlLlFr518rv3fl9O1Ldv1TseiTpsH6oj5mZmdmg5xbP1pvNnN14IN1cOlcLeUTcA/yX1JVnB9JIPNcXps8G/gF8QdKKlXRJawBb1VOpiJiay/6GpHcXp2nOPi2TgaXziD6V6e8k3UzcbAsBuxWWMyx/ngpMysmzK5ML%2BT4CfKwf6mNmZmY26LmFv/UuA74maTpwNykw/RSpS081fwIOJ7Xknx4Rb5SmjyN1C/qnpN%2BSThz2JPXFX7fOun0XuBG4XdKppD7wI4GtC2WdB/wMuEjS8cDipGFF76exm2R78iSwf35Gwf2kk551gW8XRim6jHRj80WS/gasCuxO2rZLNrMyV%2B87mlGjRjWzSDMzM7Omcwt/6%2B0NnAXsCPwKeCcp4J9RI/%2BfSN/b4vnvOUTEJFJr/jTgCFI/9kOAa0gnCX0WEXcCHyW19O8BHE/qTnRJIc%2BzpNb8l4GfAzuTbkK%2BtJ5l9dE04DPA%2BsAvgJWBPSPid4U844GDgA/k%2Bm4J7EQapcfMzMxsvqN5G2HRhgpJFwOjImLNVtdlqJM0Cujs7Ox0C7%2BZmZkNuK6uLjo6OgA6IqKrt/xu4W9DeajP4uc1SS3jE1pSITMzMzNrGffhb08PSRpPGq1mFVJ3nFdJXW6QtDRpvP6aIuKpfq4juS7LAsN6yDI730BsZmZmZg1wwN%2BergC%2BArwDeAW4GTgoIh7I039N6mvfk4F6utSFwOgepj9CulHYzMzMzBrggL8NRcQuvWT5OXDOQNSlD74PLNPD9H59UJeZmZlZu3PAPx%2BKiLtJw1S2XB5VyMzMzMz6iW/aNTMzMzNrYw74BxFJ4yTVPU6qpPGSuktpIWlcs%2BpmZmZmZkOTA36br0haMZ9YrTuvZW1%2BzERGHvC3JtTKzMzMrP%2B4D3/7Wgx4vdWVGIRWBA4FuoE7WloTMzMzswHggL9NRcSsVtfBzMzMzFrPXXpaRNJGkm6TNEvSZEm71ci3k6RJkmZKek7SeZJW7kP5c/Thr9wfIGmN3Of/eUnTJZ0pafHSvItIOlbSVEkvSrpE0rsauS9A0g8k3STp2bwOkyRtV6O%2BJ0raXtLdOe/Nkt6Xp%2B8m6cG8vSZIGlmaf4KkTknrSLpO0suSnpC0XyHPpsBt%2BeOZeZkhaUw962RmZmY2lLiFvwVyEHsVMBUYR/oeDgOeLuX7EXAEcD5wGjAC2Au4XtIHI%2BL5BhZ/PvAwcCCwHvBNYAqwfyHPacBOwLnATcAngEY7q%2B8NXAL8gfRE3f8DLpD02Ygol7kx8HngN/nzgcBlkn4OjAVOIo3Zvx9wRq5X0TKkh45dmNdzO%2BBnkv4bEZcD9wCHAIcDpwI35PluqlV5SSuQtnvR6r2vtpmZmdng4IC/NQ4nPcl244h4FEDSX4D/VjJIWoV0EnBwRBxVSL8Q%2BA8pAD6K%2Bv0nInYtlLccsCs54Jf0AVKwf1JEfCdn%2B42kPwDvb2B5a0XEmw/PknQicDuwL3OfRLwHWDsiunPeacApwMG5nBdz%2BoLAgZJGVvJmKwJfj4izc77TSU/q3RW4PCKelnQ5afvfHBF9efjYWFKffzMzM7MhyV16BlgOVrcELq4E%2BwARcQ9wZSHrl0jfz/mSlq%2B8gKeAB4DNGqzCyaXPNwDLSVoqf/5Mfj%2B%2BlO%2B4RhZWCvaXAZbOy1yvSvZrSgH8Lfn9L5Vgv5S%2BWmn%2BGRSeIBwRrwK3VslXj5OAjtJrm3koz8zMzGxAuYV/4I0gjaDzQJVp9/FWwL0m6SpAtXwArzW4/EdLn6fl92WAF4BVgDeAyVXqVjdJnyW10K8LLFKYVO15A%2BW6Tc/vj9VIX6aU/nhElMudRmNXJgCIiCmkLk9vktRocWZmZmYDzgH/4LUAKSjeCphdZfqMBsutVhakk4umkrQxqf/%2B9aSuMf8jnajsAny1jrr1tc4Dtm5mZmZmQ4UD/oE3FZhJasEve0/h78mkQPXhiLh/ICqWPUI62VidOVv131M9e4%2B2BWYBW0bEK5VESbvMUw3nTd1PMjYzMzMbytyHf4BFxGxSX/0vSHp3JV3Se0l9%2BysuJLVYH6pSHxIly/VTFS/P798tpe/TQFmzSQH2gpWEPJzmFxooq1leyu/DW1gHMzMzswHjFv7WOBT4NHCDpJNI38NeQBe5v3lETJZ0MPBTYKSki4EXgVWBL5KGlfxlsysWEXdI%2BiMwVtLSpCErPwms0UBxfyONxnOFpHOBFYDvAA8yD/3q59Fk4Hlgd0kvkk4AbomIh%2Bst6Op9RzNq1KgmV8/MzMysudzC3wIRcRepNX8qaYjIb5BOAi4q5Tua1C3mjTz9l6Rx6q8i9Y3vL98gjdLzaeDnwMLA1vUWEhHXkobEfAdplJ%2BvkIb/vKiH2fpVRLwG7Ey6%2BnAy8EdgdKvqY2ZmZtbfNPegJmbVSQrgsIgY1%2Bq6tJKkUUBnZ2enW/jNzMxswHV1ddHR0QHQERFdveV3C7%2BZmZmZWRtzH36rW3542Ihess2IiEaHDjUzMzOzJnHAb41YGejtJtfDgHH9XxUzMzMz64kDfuuziBCApEWBzXvJ/lD/18jMzMzMeuOA3%2BoWEbOAf7S6HmZmZmbWO9%2B0a2ZmZmbWxhzwW9uRNC4PIdpbvjGSIj/918zMzKwtuUuPtT1JBwF3R8TFzSx382MmMmxEdzOLNDObL3QfXfezHM1sHriF3%2BYHBwFfqJJ%2BNrAY8MiA1sbMzMxsALmF3%2BZbETEbmN3qepiZmZn1J7fw25AmaSNJt0maJWmypN1K0wNYAtg599cPSePzNPfhNzMzs7bnFn4bsiS9D7gKmEp6yNdCpAd%2BPV3I9jXgNOBW4NScNrmOZazA3E8VXr2xGpuZmZkNPAf8NpQdDgjYOCIeBZD0F%2BC/lQwRcY6kk4GHIuKcBpYxFji0GZU1MzMzawV36bEhSdKCwJbAxZVgHyAi7gGubOKiTgI6Sq9tmli%2BmZmZWb9yC78NVSNII%2Bw8UGXafcBnmrGQiJgCTCmmSWpG0WZmZmYDwi38ZmZmZmZtzAG/DVVTgZnAmlWmvaf0uden7pqZmZm1Kwf8NiTlMfSvBL4g6d2VdEnvJfXtL3oJGD5wtTMzMzMbPNyH34ayQ4FPAzdIOom0P%2B8FdAHvL%2BSbBHxK0r7Ak8DDEXHLvC786n1HM2rUqHktxszMzKxfuYXfhqyIuIvUmj%2BVNETnN0gnAReVsu5LCvp/AvwR2GMAq2lmZmbWUm7htyEtIq4H1q8yaVwhz33A6CrzjgfG91PVzMzMzAYFt/CbmZmZmbUxB/xmZmZmZm3MAb%2BZmZmZWRtzwG9mZmZm1sYc8JuZmZmZtTEH/GZmZmZmbcwBvzVMUkga1%2Bp69EbSBEmdra6HmZmZWSt4HH5rC5JWBL4NXBwRdwzEMjc/ZiLDRnQPxKLM3tR99NatroKZmQ0xbuG3drEi6Sm767a4HmZmZmaDigN%2BMzMzM7M25oB/EJG0kqQzJD0t6RVJXZK%2BUZi%2Bae43/2VJh0p6QtKLkv4saWlJi0g6TtIUSTMknSlpkdIyQtKJknaUdJ%2BkWZImSdpkINahynr8SNLjuR7XSFqjSpnfkfSQpJmSbpW0ce6XP6FSHnBbzn5mLjskjSmVs46k6yS9nLfdfs1YZzMzM7PBzH34BwlJbwf%2BBQRwIjAV2Ao4XdJSEXFcIfuBwEzgaGANYC/gNeANYBlgHPBRYAzwMHB4aXGjgR2A44FXgLHAFZI%2BHBEN39xa5zoAHJDr/EtgaWA/4A/ARwpl7pHLugE4FhgJXAxMAx7P2e4BDsnreWrOC3BTYVnLAFcAFwLnA9sBP5P034i4vId1WgEYUUpeveZGMDMzMxtkHPAPHkcCCwLvi4hnc9rJkv4IjJN0SiHvQsDoiHgNQNII4P%2BAKyLiMznPSbm1/BvMHfB3AOtHxKQ8/3nAfTnfl/pzHSJiZiH/osC6EfFqrsc04NeSOiKiU9Iw4AhS6/0nIuL1nO8uYDw54I%2BIpyVdnut/c0ScU6VuKwJfj4izcxmnA48AuwI1A37SydCh9W4IMzMzs8HCXXoGAUkCtgUuzR%2BXr7yAK0mt3%2BsVZjmrEuxntwACzigVfQuwsqTyid3NlWAfICIeBf4KbClpwQFaB4AzK8F%2BVmmZXy2/rw8sB/yuEuxnfyC18NdjBvDmiUBe7q2FZdVyEukEqfjaps5lm5mZmbWMW/gHhxHAcNKwkt%2BukWcF3gpyHy1Nm57fH6uSvgAp2H62kP5AlfLvBxbPdXmqL5Uu6es6FJXXo7J%2By%2BT3VfL7g8VMEfG6pO466/d4RESV5b2/p5kiYgowpZiWzm3MzMzMhgYH/IND5UrLOcDva%2BS5C1gn/z27Rp5a6QMRofZ1HYoGsr6t3DZmZmZmLeOAf3CYCrwILBgR/6iVSdI6tabVac0qaWsBL%2Be6NKJP61CnR/L7GsB1lcTcRWkkc55AlFvvzczMzAz34R8UImI28BdgW0kd5en5ptxm%2BpikN/vTS1qZ1C/9qlyXuvXTOvyb1BXpW6X7EHbkrW4/FS/l9%2BENLMfMzMysbbmFf/A4ANgMuEXS74C7gWVJN7p%2BKv/dLJ3AlZKKw3LCvI9G09R1iIhXJY0DTgCulXQ%2BqWV/DDCZOVv1JwPPA7tLepF0AnBLRDzc%2BOr07Op9RzNq1Kj%2BKt7MzMysKdzCP0hExNPAh4EzSUNjngjsTQqS92/y4iYC%2BwBfIw1l%2BRywVUSU%2B9jXpT/WISJOBL4LvJs0Xv/GwOdJwf2sQr7XgJ1JffVPBv5Iet6AmZmZ2XxNcw9cYu1MUgC/iYg9W12XRklagHTPwIUR8a0WLH8U0NnZ2ekWfjMzMxtwXV1ddHR0AHRERFdv%2Bd3Cb4OapEU19ziYXyddNZgw8DUyMzMzG1rch9/mkB%2B81dsNtjMiYsZA1Af4KHCspAtIN/CuR3o6bidwwQDVwczMzGzIcsBvZSsDvd3oehgwrv%2BrAkA36YFi3yW16j8HnAUcUHpKr5mZmZlV4YB/PhMRvT1o6ilg817yPNSk6vQqIrpJN%2BmamZmZWQMc8NscImIW0KwHZ5mZmZlZi/mmXTMzMzOzNuaAP5O0gaSbJL0kKSRdnIewtH4iaYKkzj7kG5m/kzENLKMy7w8aqqSZmZnZEOcuPYCkhUkjvswCvge8DGzQ0krZoLf5MRMZNqK71dUwG7S6j9661VUwMzMc8FesDqwCfCsiTgOQdB7Nf8KtNeYRYDHgtVZXxMzMzGyoccCfrJDfn68kRMTrwOstqU0NkpaIiJdaXY%2BBFulx0LNaXQ8zMzOzoWi%2B78MvaTwwMX%2B8IPf3niBpXLU%2B/JJ2knSrpJclTZN0vaQtSnnGSuqS9IqkJyX9RtLwOus1JtdltKSTJE0BHs/TVslp90maKelZSRdIGlmjjI9LOkbS1HyPwkWSRpTyLpDX%2Bcm8btdJWkdSd95GxbzDJR0n6bG8jg9K2l9SQ/tTXs51eblPSNqvNL1qH35J20u6W9IsSZ2SvihpvKTuGsv5tqTJuc63SXK3LTMzM2t7buGHU4AngIOA44HbgKeBj5czSjqU9MCpm4BDgFeBjwCfAK7KecYBh5KGtvwt8B5gD2ADSR%2BPiHq7pZwETAUOB5bIaRsAGwLnkU4CRuZlTJC0TkS8XCrjBGAa6YFZI4F9gBOBHQp5fgrsB1wKXAl8IL8vWtoGi5NOkFYibbtHc11%2BCrwzl12PZYArgAuB84HtgJ9J%2Bm9EXF5rJklbA38C/gscmMs5nfRdVvNV4G25zpHX9UJJq/X0nUhagbmfPLx6H9bLzMzMbFCY7wP%2BiLhZ0iKkgP%2BGiPgzgKQ5An5Ja5CC/IuA7SLijcI05fcRpODzKmCrSh5J95IC7J2AM%2Bus4nPAJyNidiHtb5V6FupwKXAzsC1wdqmMZ4EtctcYckv8dyUtHRHTJb0d2Be4OCK%2BWCizcoJTtC8p4P1gRDyQ006R9CTwQ0m/iojH6li/FYGvR8TZeZmnk/rs7wrUDPhJJxhPAB%2BPiBl53muACXn%2BsncDa0bEtJz3PuCvwJbAZT0sZyzpBM7MzMxsSJrvu/TU4Quk7XV4MdiHN/uYA3wKGAYcV8rzO%2BAFoJEhK35XCvaJiJmVvyUtLGk54EHSPQjrVSnj1EIdAW4AFiTdqAzwSdLJ30ml%2BU6oUtb2ef5pkpavvEhXNBYENunrimUzgHMqHyLiVeBWYLVaM0haEXgfcFYl2M/zTiS1%2BFfzp0qwn92Q32suJzsJ6Ci9tullHjMzM7NBY75v4a/D6sAbwN095KkE0PcVEyPiVUkPFabX4%2BFygqTFSFcSdiF1rVFh8tJVyni09LkS%2BC6T3yv1erCYKSKek1QMkgHWBN5P6mZUzQo10mt5vHQyUqnf%2B3uYp2p9C2nVTnrm2AYRMS1fmFmmSt5ivinAlGJans/MzMxsSHDAP/jNrJJ2AinYP47UjWc6qV/6eVS/ajO7ShrMeaLQVwsAVwM/rzH9/jrLa2bdBsNyzMzMzAYVB/x9N5kU7K4D3FEjT6Xv%2BHuAhyqJkoYBq5K6vTTDdsDvI%2BL7hWUsCgxvsLxKvdegcEUhdxUqt4BPBpaMiGatSyOK9S2rlmZmZmY233If/r67mNSl55Dy8JN6q4/HP0gj93xXc/b72JXU1eZvTarLbOZumd6L1Ie%2BEdeQnjmwRyl9zyp5zwc%2BJmnL8oQ8XGe/n0RGxJNAJ/B1SUsWlj%2Ba1LffzMzMzDK38PdRRDwo6Ujgx8ANki4EXiENkfkkcGBETJX0U9KoLldIuoTU2j%2BWNNznOdVLr9tlwNckTSfdU/Ax0g3DzzZSWEQ8LenXwPdzna8gDcu5FfAMqbtQxS%2BAzwOX5fH5J5GGC30f6crDyDxPfzuINMrOPyWdSboSsSfpRGDJnmZslqv3Hc2oUaMGYlFmZmZmDXPAX4eIOETSw6TW9COBl4G7KAyDGRHjJE0lBZ/HkobVPBU4qIEx%2BGvZm9TKvyNpnPx/kgL%2BK%2BehzP1J6/OtXNbNwBbAjRSechsRL%2BeW9INII/Z8nTQC0f2kE53p81CHPouISyV9hTRs6NHAA8AYYGfAUbiZmZlZprkHSDFL8tOBpwEHR8SRLa5On0i6A5gaEZv34zJGAZ2dnZ1u4TczM7MB19XVRUdHB0BHRHT1lt99%2BA14c6jPsn3y%2B4SBq0nf5OcPLFRK25TUFWlCC6pkZmZmNii5S88Ay4F1tbHyi57LD6AaSDtIGgP8nfQwrI2ArwBXRcQ/6ylI0rKkB5DVMjsiao3j31crAf%2BQdA7pHoq1gd2Bp4CT57FsMzMzs7bhgH/g7QCc2UuezRj4Vuq7SCP17AcsBTwN/Bo4uIGyLgRG9zD9EdLNvfNiGumG4W8CI4CXSKMgHRARDd28bGZmZtaOHPAPvCuB3vqX3zkQFSmKiNtJN%2Bs2w/fp%2BQm21R4mVpeImE46eTIzMzOzHjjgH2AR8T/gf62uR3%2BKiEmtroOZmZmZJb5p18zMzMysjTng7yNJG0i6SdJLkkLSxZI8pmk/kjReUner62FmZmY2lLlLTx9IWhi4gPQAqu%2BRHlC1QUsrZS23%2BTETGTaiu9XVMBsSuo/eutVVMDObbzng75vVgVWAb0XEaQCSziM9ndbMzMzMbNByl56%2BWSG/P19JiIjXI2JWa6pTnaQlWl0HMzMzMxtcHPD3QtJ4YGL%2BeEHuvz9B0rhqffgl7STpVkkvS5om6XpJW5TyjJXUJekVSU9K%2Bo2k4XXWa0yuy2hJJ0maAjyep62S0%2B6TNFPSs5IukDSyRhkfl3SMpKn5HoWLJI0o5V0gr/OTed2uk7SOpO68jYp5h0s6TtJjeR0flLS/pHne3yQtIelXhbLvk/QDSSrkuVDS7aX5Ls3r%2BvlC2kdy2lbzWi8zMzOzwcpdenp3CvAEcBBwPHAb6aFUHy9nlHQoMA64CTgEeBX4CPAJ4KqcZxxwKPAP4LfAe4A9gA0kfTwiXquzficBU4HDgUoL/wbAhsB5pJOAkXkZEyStExEvl8o4gfQgq8Ny3n2AE5lznPufkh7KdSnpWQIfyO%2BLlrbB4qQTpJVI2%2B7RXJefAu/MZTckB/WXkB5MdjpwB7Al8Iu8vO/lrDcA20haKiJeyPN9HHgD2DiXQf77DaDmk4QlrUB6sFfR6o2ug5mZmdlAc8Dfi4i4WdIipID/hoj4M4CkOQJ%2BSWuQgvyLgO0i4o3CNOX3EcCBpOB/q0oeSfeSAuyd6P0pvGXPAZ%2BMiNmFtL9V6lmow6XAzcC2wNmlMp4FtoiIyHkXAL4raemImC7p7cC%2BwMUR8cVCmZUTnKJ9SQHxByPigZx2iqQngR9K%2BlVEPFbnOlZ8nnTydHBEHJnTfiPpAmBvSSdGxGRSwL8AKci/HOggPQjsAlKQX7ExcGdEvNDDMseSTtDMzMzMhiR36WmeL5C25%2BHFYB%2BgEkiTnmQ7DDiulOd3wAtAI8NY/K4U7BMRbz7JVtLCkpYDHiTdg7BelTJOLdQRUsC8IOlGZYBPkk4OTyrNd0KVsrbP80%2BTtHzlRbqisSCwSV9XrIrPALNJV1qKfgUIqHTN%2BQ8wo7CsjUlXOs4C1pO0eD4J2yjXtScnkU4Yiq9t5mEdzMzMzAaUW/ibZ3VS95C7e8hTCaDvKyZGxKuSHipMr8fD5QRJi5GuJOxC6uqiwuSlq5TxaOnztPy%2BTH6v1OvBYqaIeE7SNOa0JvB%2BUjejalaokd4XqwBPRsSLpfR7ivWMiNmSbuat1vyNSYH9jaSTjo%2BSumUtSy8Bf0RMAaYU0wq3C5iZmZkNeg74h76ZVdJOIAX7x5G68UwHgtSnv9pVndlV0mDOE4W%2BWgC4Gvh5jen3N1BmI24EfiRpUVLAf2REPC%2BpM39%2BOufrrYXfzMzMbEhzwN88k0nB7jqkm0mreSS/vwd4qJIoaRiwKqnbSzNsB/w%2BIr5fWMaiwPAGy6vUew0KVxRyV6FlSnknA0tGRLPWpVyPT0l6W6mVf%2B1SPSEF8sOAr5CuclQC%2B%2Bt5K%2BC/PyKexszMzKyNuQ9/81xM6tJzSHn4ycKQkf8gjdzzXc3ZL2RXUlebvzWpLrOZu3V%2BL1J3lkZcA7xOGumnaM8qec8HPiZpy/KEPFznvJxk/p20DuXlfo90BePyQtotwGukh6M9B3Tl9BtIXXpG49Z9MzMzmw%2B4hb9JIuJBSUcCPwZukHQh8AppiMwngQMjYqqkn5JGfblC0iWk1v6xpOE%2Bz2lSdS4DviZpOumego%2BRbhh%2BtpHCIuJpSb8Gvp/rfAVpWM6tgGdIwXbFL0ij6VyWx%2BefRBou9H2kKw8j8zyNuBS4DjgyP1PgTmAL0k20x%2BUReip1flnSJFJwf2nhpuTrc32WYB4D/qv3Hc2oUaPmpQgzMzOzfueAv4ki4hBJD5Na048EXgbuojAMZkSMkzSV1Ep9LKn1%2BVTgoAbG4K9lb1Ir/46kcfL/SQr4r5yHMvcnrc%2B3clk3k4LtG4E3nzicA%2B3RpGFMtwe%2BThqB6H7Sic70RisQEW/kB2cdTnpGwC5AN/BD0kg9ZZXW/BsLZTwl6UFS9yS38JuZmVnb05yjMZr1XX468DTmHBe/7UkaBXR2dna6hd/MzMwGXFdXFx0dHQAdEdHVW3734bc%2ByUN9lu2T3ycMXE3MzMzMrB7u0jPI5MC62lj5Rc9FxKsDUZ%2BCHSSNId04O4P00KqvAFdFxD/rKUjSsqQRdGqZHRG1xvE3MzMzszo44B98dgDO7CXPZgx8q/pdpJF69gOWIg1r%2BWvg4AbKupA0Sk4tj5Bu7jUzMzOzeeSAf/C5Eti8lzx3DkRFiiLidtLNus3wfeYev7%2Bo2sPEzMzMzKwBDvgHmYj4H/C/VtejP0XEpFbXwczMzGx%2B4Zt2zczMzMzamAP%2BQUzSGEmRHzI16Ejqzg/XqnzeNNd305ZVyszMzMzm4C498ylJnwE%2BHBHjWl2XgSbpq8AKEXHcvJSz%2BTETGTaiuyl1MjNrd91Hb93qKpjNt9zCP7idDSxGGrWm2T5DevLt/OirvPUMATMzM7O25hb%2BQSwiZgOzW10PMzMzMxu63MI/iJX78Oc%2B85dJ2kjSrZJmSXpI0tdL8y0s6VBJD%2BQ8z0q6UdLmefp44Dv576i8CvP/QNJNeb6ZkiZJ2q7BdZggqVPS%2ByVNlPSypAcr5UkaLemWvJz7JM019KeklSSdIelpSa9I6pL0jVKeyv0DX5b0I0mP53W/RtIaxfoAWwOrFNa9u5F1MzMzMxsK3MI/9KwB/Bk4Hfg98A1gvKRJEdGV84wDDgROA24lPShrfWA94GrgFGBF0nj/X6uyjL2BS4A/kJ6I%2B3/ABZI%2BGxF/a6DOywCXAecBFwB7AOdJ2hE4DjgZOBf4IfBnSStHxIsAkt4O/AsI4ERgKrAVcLqkpar0wz8AeAP4JemJxfvl9fhInn5kTn8X8L2cNqNWxSWtAIwoJa/e91U3MzMzay0H/EPPe4BNIuIGAEnnA48BuwA/yHm2Bv4eEd%2BuVkBE3CzpfmDziDinSpa1IuLNh19JOhG4HdgXaCTgXxH4akT8MZd3NXAvKcjfMCJuyen3kB48ti0wPs97JLAg8L6IeDannSzpj8A4SacU6wosCqwbEa/mMqcBv5bUERGdEXG1pCeAZWqse9lY5t97HczMzKwNuEvP0HN3JdgHiIipwH3AaoU8zwOjJK3ZyAJKwf4ypBbxG0hXCBoxg9S6Xyn/vlzHeyrBflb5e7W8bJGC/0vzx%2BUrL9KJwdJV6nRmJdjPKttqNRpzEtBRem3TYFlmZmZmA84t/EPPo1XSppG6zVQcAvwVuF9SJ3AFcHZE3NWXBUj6LHAwsC6wSGFSVJ2hd49HRHne6aQrE28VHjE9xfhvrssIYDjw7fyqZoXS5/L2mZbfl6EBETEFmFJMy3U0MzMzGxIc8A89tUbteTMKjYjrJa1OaoneAvgm8D1Ju0fEaT0VLmljUv/960ndWf4HvEbqMvTVJte5t3WpXIE6h3S/QjXlk5het4%2BZmZnZ/MQBf5uKiOeAM4EzJS1JCuDHkW7khdqt9dsCs4AtI%2BKVSqKkXfqvtjVNBV4EFoyIfzSx3EavVJiZmZkNOQ7425Ck5Qo3uBIRMyQ9CKxcyPZSzjs8Ip4vpM8mBcQLFsobCXyhH6tcVUTMlvQX4KuVm26L0yWNyPcw1OslUv//eXL1vqMZNWrUvBZjZmZm1q8c8Lenu/N485OA50hDcm5HGtayYlJ%2BP17SlcDsiDiPNArPvsAVks4l9ZH/DvAg8P6Bqf4cDgA2A26R9DvgbmBZ0s26n8p/12sSsIOkY4DbgBkRcWmT6mtmZmY2qDjgb0/HA58n9d9fBHiEdBPuLwp5LgROII2xvxOpj/t5EXGtpF1JgfZxwMPA/sBIWhDwR8TTkj5MuhH5S6T7Cp4FunK9GnES6YbkXUhj8T9CGgnIzMzMrO1o7sFTzKwnkkYBnZ2dne7SY2ZmZgOuq6uLjo4OgI7Cg1dr8jj8ZmZmZmZtzAG/mZmZmVkbc8BvZmZmZtbGHPCbmZmZmbUxB/xmZmZmZm3MAb%2BZmZmZWRtzwG9zkDRGUuSn65qZmZnZEOcHb1lTSFoH%2BDIwPiK6W7D8DUkPGjsuIp4fiGVufsxEho3oHohFmZmZ2RDRffTWra7CXNzCb2VnA4uRnj5bj3WAQ0lP5G2FDfPyh7do%2BWZmZmaDkgN%2Bm0NEzI6IWdHiRzBLWqKVyzczMzNrFw74bQ7lPvySuiVdJmkjSbdKmiXpIUlfL84DXJA/XpfnD0mb9nGZ43L%2BdSSdK2kacGOe9n5J4/MyZ0l6StIZkpYrzg/8In98uLD8kYU8O0maJGmmpOcknSdp5QY3k5mZmdmQ4T781hdrAH8GTgd%2BD3wDGC9pUkR0AdcDxwPfBY4C7snz3VOlrJ5cADwAHAQop20OrAacCTwFjAK%2BDYyS9NF8JeJCYC3gK8D3gGfyvFMBJP0IOAI4HzgNGAHsBVwv6YM99fmXtELOX7R6netlZmZm1jIO%2BK0v3gNsEhE3AEg6H3gM2AX4QUQ8JOkGUsB/dURMaHA5d0bEV0tpJ0XEr4oJkv4F/BHYCLghIu6SdDsp4L%2B4eNOwpFWAw4CDI%2BKoQvqFwH%2BAsaSTlFrGku4NMDMzMxuS3KXH%2BuLuSrAPEBFTgftILe/NdHI5ISJmVv6WtKik5YF/5aT1%2BlDml0j7%2BfmSlq%2B8SFcLHgA262X%2Bk4CO0mubPizXzMzMbFBwC7/1xaNV0qYByzR5OQ%2BXEyQtS2ph/z9ghdLkpftQ5pqk7kEP1Jj%2BWk8zR8QUYEqpTn1YrJmZmdng4IDf%2BmJ2jfRmR74zq6SdTxpy8xfAHcAMUov9FfTtCtUCQABbUX09ZjRSUTMzM7OhwgG/NUvTh/GUtAzwSeDQiDi8kL5mHcufTDoxeTgi7m92Hc3MzMwGOwf81iwv5ffhTSyz0iJfvpKwTx3LvxD4KXCopJ2KzxdQ6puzbEQ820jlrt53NKNGjWpkVjMzM7MB44DfmuUOUoC%2Bv6SlgVeAa3Mf%2BIZExAuSrgf2k7Qw8ASwBbBqleyT8vuRks4j9c2/NCImSzqYFPSPlHQx8GIu44vAqcAvG62jmZmZ2WDngN%2BaIiKekrQ7cCBpvP4FSSPgNBzwZ18FTgC%2BQ2rpv4rUH//J0vJvk/RjYHfg06S%2B%2B6sCL0XE0ZLuJ43RXxli87Fc1iXzWD8zMzOzQU2FHg5m1geSRgGdnZ2d7tJjZmZmA66rq4uOjg6AjvwQ1B55HH4zMzMzszbmLj3WbyQtCSzZS7apEVFr2E8zMzMzm0cO%2BK0//YC3%2BszXsirQ3f9VMTMzM5s/OeC3/nQWcGMveZ4aiIqYmZmZza8c8Fu/iYiHgIdaXQ8zMzOz%2BZlv2jUzMzMza2MO%2BIcgSWMkhaSRra6LmZmZmQ1u7tJj8x1JY4GXI2L8vJSz%2BTETGTaiuyl1MrP21H301q2ugpmZW/htvjQWGNPqSpiZmZkNBAf8ZmZmZmZtzAF/m5A0VlKXpFckPSnpN5KGl/JsLOkCSY/mfI9JOlbSYqV84yXNkLSSpIvz31Ml/VLSgnXWq95lvlvSZfnvJyR9J09/n6RrJb0k6RFJXy3NX7mv4eOSjsn1fUnSRZJGFPJ1A6OA0Tl/SJpQzzqZmZmZDSXuw98GJI0jPeDqH8BvgfcAewAbSPp4RLyWs24PLJ7zPAt8GNgLeFeeVrQgcCVwC%2BkBWp8Cvg9MzvP3Vb3LvBy4HtgP2BE4UdJLwJHAH4ALgd2BsyTdHBEPl8o4AZgGHAaMBPYBTgR2yNP3yXlm5DIBnq5VeUkrACNKyav3uMZmZmZmg4gD/iEut14fCFwFbBURb%2BT0e0mB7k7AmTn7/hExszD7qZIeBI6S9O6IeLQwbVHgTxFxRP58sqTbgV2pL%2BCvd5nnRMRP8zqcCzwJnAF8JSL%2BlNOvBu4FdgbGlZb3LLBFRETOuwDwXUlLR8T0iLhY0k%2BAZyLinD7Ufyy9Py3YzMzMbNByl56h71PAMOC4SrCf/Q54AXhziIhi4C1pCUnLAzcBAj5YpeyTS59vAFarp3INLPO0wrzPA/cBLwHnF9LvA56vUZdTK8F%2Boc4LAqvUU%2B%2BCk4CO0mubBssyMzMzG3Bu4R/6KoHsfcXEiHhV0kOF6Uh6N3A48HlgmVI5S5c%2Bz4qIqaW0aVXm61ETljkdeLwUxFfSq9Xl0dLnafm9rnpXRMQUYEoxTVIjRZmZmZm1hAP%2B%2BUS%2B2fZqYFngZ6QuMS8BKwHjmftqz%2BxBtMxa6dUi73rympmZmbU9B/xD3yP5/T3AQ5VEScOAVUk38gK8D1gL2Dkizirk27wf69aKZfZF%2BWqBmZmZWdtywD/0/QN4lXRj6hWFri%2B7krrM/C1/rrR8v9nSrdQ3Ze9%2BrFsrltkXLwHD57WQq/cdzahRo%2Ba9NmZmZmb9yAH/EBcRUyX9lDSSzBWSLiG19o8FbgMqI9HcSxpS85eSViLd0LstDfZt76NWLLMvJgF7SDoYeBCYEhHXtrhOZmZmZv3CAX8biIhxkqYCewLHAs8BpwIHVcbgj4jXJH0OOJ40jOcs4CLS0J139lO9BnyZfXQ46Wbm/YC3ARMBB/xmZmbWljT34Cdm1hNJo4DOzs5Od%2BkxMzOzAdfV1UVHRwdAR0R09Zbf4/CbmZmZmbUxd%2BmxhkhalvTAr1pmVxlT38zMzMwGmAN%2Ba9SFwOgepj8CjByYqpiZmZlZLQ74rVHfp%2BfRdmYOVEXMzMzMrDYH/NaQiJjU6jqYmZmZWe98066ZmZmZWRtzwG9mZmZm1sbcpcf6jaQVgW8DF0fEHS2uTtNtfsxEho3obnU1bBDoPnrrVlfBzMysJrfwW39aETgUWLfF9TAzMzObb7mF35pO0kL4ZNLMzMxsUHBQ1sYkjZMUktaSdI6k6ZKmSjpCycqS/irpBUlPSfp%2Baf4VJJ0u6WlJsyTdKWnnUp6ReRk/kLSPpMnAK8BY4Lac7cycJySN6WPdl5X0S0n/lTQj1/FySR%2BoknfRvK7353r%2BT9KFklYv5FlA0t65vFl5O1whaf06N6uZmZnZkOIW/vnDn4B7gAOArYGDgeeA3YBrgf2BHYFfSrotIq6XtBgwAVgDOBF4GNgeGC9peET8urSMXYBFgVNJAf9FwNuAw3PaDTnfTX2s82rAF4AL8rLfnus7UdI6EfEkgKQFgcuATwLnAb/Oy90c6AAm5/JOB8YAlwOnkfb9jYGPAv%2BuVQlJKwAjSsmrV8trZmZmNhg54J8/3BoRuwFIOhXoBn4FHBgRP8vpfwSeBL4BXE%2B62fa9wE4R8Yec52RgIvATSWdExIuFZbwLWCMiplYSJF1OCvhvjohz6qzzf4G1IuKNQnlnA/cCuwJH5OSvk4L9fSPi2ML8R0tSnm8zUrB/fETsXcjzq0qeHowl3YdgZmZmNiS5S8/84bTKHxExm9SiLVKrdyX9eeA%2BUss6wGeAp4A/FvK8BhwPLAmMLi3jL8Vgf15FxCuVYF/SgpKWA2bkOq5XyLot8AxwQpUyopAngMN6yFPLSaQrBcXXNnWtjJmZmVkLuYV//vBo6fN0YFZEPFMlfbn89yrAA8UW9uyewvSih%2Be5lgWSFgD2JrWwrwosWJj8bOHv1YH7IuL1HopbHXgyIp6rtx4RMQWYUqpbvcWYmZmZtYxb%2BOcPs/uYBqnlvxEzG5yvloOAY0jdi3YCtiT1y%2B/C%2B62ZmZlZn7mF32p5BHi/pAVKrfxrF6b3prfuMj3ZDrguInYtJkoaTurCUzEZ%2BIikhXOXo2omA1tKWraRVn4zMzOzocwBv9Xyd2ALYAdyP/48vv5epL70E/tQxkv5fXgDy59N6WqDpO2BlYAHC8l/IY08tCdwbCm/ch/9vwDfId18u3eNPHW7et/RjBo1qpFZzczMzAaMA36r5VTSMJjjJX2INLLPdsDHgX1KI/TUMhl4Hthd0oukE4BbIqIv/f0vAw6RdCZpKM/3kYYOfaiU7yzSSD3HSPowafjPJYBPkW64/WtEXJdH%2BPmupDWBK0jdgjYGriMNO2pmZmbWlhzwW1URMVPSpsDRwM7AUqQRcnaJiPF9LOO1/KCunwInk/a3XejbDb5HkQL3r5KuMtxOask/urSM2ZI%2BA/wo592WdFPvjaShPSt2Ae4iDen5C9INyv%2Bm788FMDMzMxuS1GBvBrP5lqRRQGdnZ6e79JiZmdmA6%2BrqoqOjA6AjIrp6y%2B/RTszMzMzM2pi79NiAkrQYsHQv2Z6LiFcHoj5mZmZm7c4Bvw20HYAze8mzGTCh/6tiZmZm1v4c8NtAu5L0AK2e3DkQFTEzMzObHzjgtwEVEf8D/tfqepiZmZnNL3zTrpmZmZlZG3PAbwNKUrekywZBPTaVFPlZA2ZmZmZty116rK1JGgu83NeHhdVj82MmMmxEd7OLNbM%2B6D5661ZXwcxsyHALv7W7scCYVlfCzMzMrFUc8JuZmZmZtTEH/EOYpHG5H/oaksZLel7SdElnSlo85xmZ84ypMn9IGlelvLUknZPLmirpCCUrS/qrpBckPSXp%2B/NQ9y0k3SFplqS7JX2pSp7hko7N/f5fkfS4pLMkLd/HZXQDo4DReb1C0oRG62xmZmY2FLkPf3s4H3gYOBBYD/gmMAXYv8Hy/gTcAxwAbA0cDDwH7AZcm8vdEfilpNsi4vo6y18zL%2BNk4PfALsAFkj4dEVcDSFoSuAF4L3AGcDuwPPB54F3AM31Yzj7ACcAM4Mic9nQ9FZW0AjCilLx6PWWYmZmZtZID/vbwn4jYtfJB0nLArjQe8N8aEbvlsk4FuoFfAQdGxM9y%2Bh%2BBJ4FvAPUG/GsB20bEhbms04F7gZ8BV%2Bc8PwQ6gC9FxEWFeX8iSX1ZSERcLOknwDMRcU6ddawYCxza4LxmZmZmLecuPe3h5NLnG4DlJC3VYHmnVf6IiNnAvwEBpxfSnwfuA1ZroPwngTeD%2BIh4ATgL%2BKCkd%2BTkbYE7S8F%2BJX80sMxGnUQ68Si%2BthnA5ZuZmZnNE7fwt4dHS5%2Bn5fdlmlTedGBWRJS70UwHlmug/AerBO335/eRwFOkbjN/aaDspoqIKaTuUW/q4wUGMzMzs0HBLfztYXaNdAFVW8MlLVhneT0tw8zMzMwGKQf87a/S2j%2B8lL7KANejaI0q/fDXyu/d%2BX0yqfvMvBrI7j9mZmZmg4679LS5iHhB0jPAJsBxhUljW1MjAFYEvghUbtpdCvg6cEdEPJXz/AU4RNIXy/34JamOfvwvMffJTlNcve9oRo0a1R9Fm5mZmTWNA/75w2nAAZJOI92Auwlvtai3wv3A6ZI2IA2T%2BQ3g7aThOSt%2BAWxHGq7zDGASsCxpWM7dgTv7uKxJwB6SDgYeBKZExLVNWQszMzOzIcAB//zhcNJY8tsBXwYuB7aidDPqAHoA2IsU1L%2BH9AyBHSLiykqGiJghaWPgMNLVgJ1J9b0GeLyOZR1O6r60H/A2YCLpWQJmZmZm8wUN7AiHZkOfpFFAZ2dnp7v0mJmZ2YDr6uqio6MDoCMiunrL75t2zczMzMzamLv0WFNIGgH0NNTnqxHx3FBdnpmZmdlQ5YDfmuU2eh7qcyKw6RBenpmZmdmQ5IDfmmVHYLEepk/rYdpQWJ6ZmZnZkOSA35oiIv7ZzsszMzMzG6p8066ZmZmZWRtzwA9I2lRSSNq01XXpb5LGSWrqWKz9UaaZmZmZNcd81aVH0ljg5YgY36Ty1gCOBj4JLALcDvw4Iq6rkve9wLHARsCrwN%2BAfSNiajPqMtRI%2BiSpH/5GwLuAp0gPxPpxRPyvh/mGk57UOwLYPiL%2B3P%2B1rW7zYyYybET3gCyr%2B%2BitB2Q5ZmZm1n7mq4AfGAs8A4yf14IkrQzcDMwmPTH2JWAX4CpJn4yI6wt53wVcD0wHDgKWBH4AvE/ShyPi1XmtzxD0M2BZ4ALSk3dXA/YEPitp3Yh4qsZ8hwOLD0wVzczMzIa%2B%2BS3gb6YDgOGkJ5zdByDpd8C9pJb8DxXyHgQsAXwoIh7NeW8FrgbGAKcOWK0Hj32BGyPijUqCpCtIw2nuCRxcnkFSB7AHKeg/fIDqaWZmZjakNdyHv9JvW9IaksZLel7SdElnSlo85xmZ84ypMn9IGlelvLUknZPLmirpCCUrS/qrpBckPSXp%2B3XWtxsYBYzOywlJExpdf2Bj4D%2BVYB8gIl4GLgHWk7RmIe%2B2wGWVYD/n/Qepa8qXS/V8v6SJkmZKelzSwZJ2yfUdWU8FJW0k6TZJsyRNlrRbjXwh6URJO0q6L%2BefJGmTRsvsTURcXwz2K2nAc8B7a8z2a%2BAi4IYa69Gv%2B5CZmZnZUNSMFv7zgYeBA4H1gG8CU4D9GyzvT8A9pBb0rUktvc8Bu5H6eO9P6vv9S0m3FbvO9GIf4ARgBnBkTnu6wTpC6rNfbaz3l/P7h4AHJK0ErAD8u0reW4HPVD7kvNcBAfyU1E3om8Ar9VZO0vuAq4CpwDjSd30Ytdd5NLADcHxe3ljgitzlqLPBMuut85Kk7k7PVJm2PbAh6WRgZC9FNW0fkrQC6X6BotX7sDpmZmZmg0IzAv7/RMSulQ%2BSlgN2pfGA/9aI2C2XdSrQDfwKODAifpbT/wg8CXyD1De%2BVxFxsaSfAM9ExDkN1q3oPmBjSW%2BLiBcL6Rvl95Xy%2Bzvze7UbUf8HLCtpkYh4hbTNlgHWi4g7ACSdSerjXq/DAQEbF7oR/QX4b438HcD6ETEp5z2PtI6HA19qsMx67QMMIwXsb5K0GPBL4NiI6O7DlY5m7kNjgUPrXREzMzOzwaIZw3KeXPp8A7CcpKUaLO%2B0yh8RMZvUMi7g9EL686RgdLUGl9EMvyX14f%2BTpA/mbiTHAevn6YuV3qu10s8q5fk0cHMl2AeIiOeAP9RTMUkLAlsCF5e6Ed0DXFljtpsrwX7O%2ByjwV2BLSQs2WGY9dd6EFFifHxHXliYfACwMHNXH4pq5D51EOhkqvrbpYz3MzMzMWq4ZAf%2Bjpc%2BVbi7LNKm86cCsiCh385g%2BD8uYZxFxObAXsAlpOM77SN1HfpSzzMjvM/P7IlWKWbSUZxXgwSr5qqX1ZATpJKLalYH7qqRRI%2B/9pBFxRjRYZp9IWpvUN7%2BT1IWpOG0k8EPgRxExY%2B65q2raPhQRUyKiq/gCJvexHmZmZmYt14yAf3aNdJH6os89IbUW11NeT8tomYg4EXg7qW/5%2BsDapCASUrAMb3XleSdzeyfwXO7OM1/Kw5teRdpunyl1j4LUjegJYEK%2BCXwk8I48bUROK%2B/HQ2YfMjMzM%2Btv/T0sZ6W1f3gpfZV%2BXm4tTX8abES8RBqPHwBJnyK12P8zT39C0lTe6upT9GHgjsLnR4A1quSrltaTqbkOa1aZ9p4a81TLuxbpJuTKw8HqLbNH%2BX6Pq0hXPz5Z44Fb7yat/0NVpp2U35cBnm%2BkDmZmZmbtrl8D/oh4QdIzpG4vxxUmje3P5fbgJeY%2B%2BWgaSRuSbnD9bURML0z6C7CzpJUj4rGc95OkgPrYQr4rge8oPXjqjpxvWdKIMn0WEbMlXQl8QdK7CzfYvpfUD7%2Baj0laLyJuz3lXJvVVvyL3g6eBMmuStATwd9LNzZtFRK0bkw8Gli%2BldQBHAD8nnWy9VO/ym%2BHqfUczatSoVizazMzMrM8G4sFbpwEHSDqNdPPkJqRAtxUmAXtIOpjUL35KlRtE%2B0TSKqQhSS8BniKN8b87cBfpQVtFRwHbA9dJ%2BjVp6Mkfkka3ObOQ7%2BfATsDVkk7grWE5HyU9lbaeKxSHkm4CvkHSSaTvei%2BgC3h/lfydwJWSisNyVspptMye/IF0heMM4L35xKFiRkRcDBARN5ZnlPR8/vO2Sj4zMzMzq24gAv7DSTd8bkd6yNTlwFaksfoH2uGk7kT7AW8jPdW1oYAfeIHUP39PUjD%2BBGkM%2ByPL/dAj4jFJo4FjgKOBV4G/Ad8v9t/P%2BTbL5RxE6krzG1LgfzxvjerTq4i4S9KWeZmHA4%2BTAvZ3Uj04n0hqLT%2BU1I3mbmBMRNw1D2X2ZN38/o38KnoEuLjO8szMzMysCkU0vVu7NVke7nM3YMlK95omlx/AbyJiz2aX3Y4kjQI6Ozs73aXHzMzMBlxXVxcdHR0AHXkEwR41Y5Qea6L8kKni5%2BWArwE39kewb2ZmZmbtbSC69PQ7SSOAnob6fDU/wKovZS0GLN1Ltuci4tW%2B1q9ON0uaANxDGvJzV2Ap0k2qSFqSdA9AT6a26uRA0tK89SCxqiLiqQGqjpmZmdl8ry0CfuA2eh7qcyKwaR/L2oE5b6StZjNgQh/Lq9ffSfc7fJt0k%2B7twK4RcX2e/gPmvJG2mlWB7n6qX29%2BDezcSx6PfW9mZmY2QNol4N%2BRnluVp/UwrexKYPNe8txZR3l1iYiDmHuUn6KzgLlGrimpqwU9IpoZgP8cOKeJ5ZmZmZnZPGiLgD8i/tnEsv7HW0/HHXQi4iGqP4RqUIiIu0kj/JiZmZnZIOCbds3MzMzM2pgDfjMzMzOzNtYWXXrMWmHzYyYybER3q6thZlV0H711q6tgZjZouIXfzMzMzKyNOeA3MzMzM2tjDvjbmKQPSrpc0guSZki6RtJHC9PHSApJm0g6RdKzOe9ZkpapUt5Wkm6Q9JKkFyX9TdKoUp7xeVkrSbo4/z1V0i8l9fRwtGr131jSBZIelfSKpMckHVt%2BGnHOu7ak8/OyZkq6T9KRpTwrSTpd0pO5vIcl/VbSsHrqZWZmZjaUuA9/m8qB%2BA3AC6Sx8V8DdgMmSBodEbcUsp8IPA%2BMA94D7AGsImnTiIhc3teA35OeU7A/sHjOd6OkD0ZEd6G8BXO%2BW0gPCvsU8H1gMvDbOlZj%2B7yc3wLPAh8G9gLeladV1vX9eV1fA04lPXRsdeBzwI9ynhWBW4HhOc%2B9wEqkh5wtDlR9crKkFYARpeTV61gHMzMzs5ZywN%2B%2BfgIsDGyUx%2B5H0lnAfaQTgNGFvK8Cn4yI13K%2BR3KezwGXSFoSOB44LSK%2BXZlJ0u9zeQeRngxcsSjwp4g4In8%2BWdLtwK7UF/DvHxEzC59PlfQgcJSkd0fEozn9BNLTe9crpCHpgMK8PwXeAXwkIv5dSD9EUk8PHhtL7082NjMzMxu03KWnDeWuM1sAF1eCfXjzoWLnAhtJWqowy6mVYD/7LfA68Jn8eXNSy/gfJS1feQGzSa34m1WpxsmlzzcAq9WzHsVgX9ISeZk3kYL7D%2Bb0EcAmwBnFYD/PX7k6sQDwBeDSUrA/R74aTgI6Sq9t6lkPMzMzs1ZyC397GkHqpnJflWn3kE70Vi6kPVDMEBEzJP0PGJmT1szv19ZY3gulz7MiYmopbRow130BPZH0buBw4PNV5l06v1dOIjp7KGoEsFQveaqKiCnAlFK96i3GzMzMrGUc8FtfVK4EfQ14qsr010ufZ8/rAvNViquBZYGfkfrcv0Tqdz8eX50yMzMz6xMH/O1pKvAy6QbcsrWBN4DHgA1y2prAdZUMuc/%2BO4G/56TJ%2BX1KRPyjPypcxfuAtYCdI%2BKsQt02L%2BWrdFnq6KGsqaSrED3lMTMzM2tLDvjbUETMlnQVsI2kkZURdCS9HfgqcGNEvFDomvJtSWcW%2BvHvQdo3Ls%2BfryQFzAdJuq7U3x9JI6p04ZlXlasEb1Yy31y7dzFTREyVdD3wDUnHlG7aVSRvSLoY2EnS%2BuV%2B/JV89Vbw6n1HM2rUqN4zmpmZmbWQA/72dTDpZtsbJZ1E6nazG7AIsF8p7zDgGknnk64KjAVuBC4ByCcHewBnA7dLOo/Uav5uYGvgn8CeTa7/vaQrC7%2BUtBLphGNbqt8H8N1c39slnQo8TLr/YGtg3ZznINKNzBNznntIVzG2BzYiDUtqZmZm1nYc8LepiOiStDFpOMoDSX3ebwF2Ko3BDylY35F0g%2BzCwB%2BB7xZbvSPiXElPAgcAPySdODxBGn3nzH6o/2uSPkcaDvRAYBZwEemZAXeW8t6ZHyh2BOnqxKLAI8D5hTxPSPpIzrMj6SbeJ0hXMV5udv3NzMzMBgs10JPB2oSkMaRgfYNqw1VadfmhZp2dnZ3u0mNmZmYDrquri46ODoCOiOjqLb9HOjEzMzMza2Pu0mMDTtKypPsGapndDzcBm5mZmc2XHPBbK1wIjO5h%2BiO89dAvMzMzM5sHDvjnYxExnvQQq4H2fXp%2B6u7MgaqImZmZWbtzwG8DLiImtboOZmZmZvML37RrZmZmZtbGHPBbv5A0TlJIWr7VdTEzMzObn7lLj1mDNj9mIsNGdLe6Gg3pPnrrVlfBzMzMBohb%2BM3MzMzM2pgDfhuSJC3R6jqYmZmZDQUO%2BA2Yo8/92pLOl/SCpGcl/VrSojnPyJxnTJX5Q9K4KkUvX6u8Ouo2XtIMSatL%2BrukF4E/5GkLSNpHUpekWZKelnSKpLmG/ZS0laSJkl7M9blN0lfrqYuZmZnZUOM%2B/FZ2PtANHAh8FPguacz8r7e4vIWAK4EbgR8AL%2Bf0U4AxwJnA8cCqwJ7AByV9PCJeA8gnKWcAXcBPgeeBDwKfBs6ttVBJKwAjSsmr11l3MzMzs5ZxwG9lD0fENvnv30h6ARgr6ZfAC80sLyLuqqOcRYALIuLASoKkjYBvAjtGxLmF9OuAK4DtgXMlLU06GbgV2DQiZhXyqpfljgUOraOeZmZmZoOKu/RY2W9Kn0/I758ZBOX9tvR5e2A6cLWk5SsvYBIwA9gs59sceBtwdDHYB4iI6GWZJwEdpdc2Pc5hZmZmNoi4hd/KHih9ngy8AYxscXmvA4%2BX0tYElgam1Jhnhfxe6YLTWecyiYgp5fJ7vyhgZmZmNng44LfeRI2/3yRpwQbLq8crEfFGKW0BUjC%2BY415pja4LDMzM7O24YDfytYEHi58XoMUWHcD03La8NI8qzRY3ryaDHwK%2BGdEzOwlH6TuOA82YblmZmZmQ4YDfiv7DnBV4fNe%2Bf3yiHhB0jPAJsBxhTxjGylvHusJaQSgscCPgYOKEyQtBCwZEc/n5b8IHCjpivJNu33ox1/V1fuOZtSoUY3W3czMzGxAOOC3slUlXUIa5eZjwE7AuRFxZ55%2BGnCApNOAf5OC/7XmobyGRcRESaeQAvl1SYH9a6SrCtsDewN/zicq38t1v03SuaSrFR8AFgd2nte6mJmZmQ1WDvitbAfgcOBo0o2yJwI/LEw/nDQu/XbAl0kt9VtR%2B8bZ3sqbJxGxu6RJwG7AUXkZ3cA5wD8L%2BU6XNAU4gHRF4DXgXuDYZtXFzMzMbDBSg70ZrM3kp%2BQeCoyIiGdaXJ1BTdIooLOzs9NdeszMzGzAdXV10dHRAdAREV295fc4/GZmZmZmbcxdeqxl8hNwF%2BspT0Q8NUDVMTMzM2tLDvitlX5N7zfM%2BilXZmZmZvPAAb8BEBHjgHEDvNifk26uNTMzM7N%2B4oDfWiYi7gbubnU9zMzMzNqZb9o1MzMzM2tjgybglzROUkhavtV1aRZJY/I6rd%2BCZW%2Bal73dQC%2B7P0nqljS%2B1fUwMzMzGyrcpccGlKTPAB/O9wwMaZsfM5FhI7pbtvzuo7du2bLNzMxs6Bg0Lfw23/gM6QFfjXoP8K0m1cXMzMys7c03Ab%2BkJVpdh6FiMG%2BriHglIl5rdT3MzMzMhoqGA/5Cn/u1JZ0v6QVJz0r6taRFc56ROc%2BYKvOHpHFVil6%2BVnl11G28pBmSVpf0d0kvAn/I0xaQtI%2BkLkmzJD0t6RRJy1QpZytJEyW9mOtzm6Sv1lOXbPG8jGdzOWeVlydpG0l/k/SkpFckTZb0Y0kLlvJNkNQpaR1J10l6WdITkvbrw3ZZRNJlkqZL2jCnVb7HdSSdK2kacGNhWROqlDNeUnfhc%2BV7/oGk70l6RNLMvO06ivMB38l/R%2BVVmL6ApL0l/Td/N1MlXVG8B6JaH35JwyUdJ%2BmxvO0elLS/pAVK%2Bf5P0qTC9/lfSXv3tt3MzMzMhrJm9OE/H%2BgGDgQ%2BCnwXWAb4eovLWwi4khS8/gB4OaefAowBzgSOB1YF9gQ%2BKOnjldbjfJJyBtAF/BR4Hvgg8Gng3DrrcmKefxypS8oewCqSNo2ISsA7BpgBHJPfPwEcDiwF/LBU3jLAFcCFpO21HfAzSf%2BNiMurVUDSYsBfgfWBT0XEbaUsFwAPAAfR%2BMOuvg68DfgNsCiwN3CtpPdFxNOkbb8isDnwtSrzn07aDpcDp5G%2Bw41J%2B8G/a6zX4sBEYKVc/qPAhqTv7J3APjnf5sAfgWuA/fPs7wU%2BTnoAWFWSVgBGlJJXr5XfzMzMbLBpRsD/cERsk//%2BjaQXgLGSfgm80MzyIuKuOspZBLggIg6sJEjaCPgmsGNEnFtIv44UQG8PnCtpadLJwK3AphExq5C3kWD4VeCThZOJR0gPnfoccEnO89WImFmY52RJJ5PW/eCIeKUwbUXg6xFxdi7vdOARYFdSsDwHSUsClwGjgE9ExB1V6nhnRDRy9aJoDWDNiHgiL/cK4BZSgL1vRNws6X5g84iY44FbkjYjBfvHR0Sx1f1XvWzzfUkB%2BAcj4oGcdoqkJ4EfSvpVRDwGbE3aH7eMiNl1rNNY5u2eAzMzM7OWakYf/t%2BUPp%2BQ3z8zCMr7benz9sB04GpJy1dewCRSq/pmOd/mpJbqo4vBPkChRb4ep5b6nf8WeJ3COhWDfUlvy/W6AVgcWLtU3gwKT6iNiFdJJyerVVn20sBVuYxNawT7ACf3dWV6cHEl2M/1upUU8Pflu9sWCOCw8oRetvn2pO00rfSd/gNYENgk53seWIL03dbjJKCj9NqmxznMzMzMBpFmtPA/UPo8GXgDGNni8l4HHi%2BlrUkKgKfUmGeF/F7pstFZ5zJrmWOdImKGpP9RWCdJo4CfkLryLFWaf%2BnS58erBMHTgPdXWfZxpO41H4yIrh7q%2BHAP0/qq/N0B3A98uQ/zrg48GRHP1bnMNUnrPbXG9Mp3elKux%2BWSniCdBJ0fEVf0VHhETKG0vzR2kcfMzMysNfpjHP6o8febyjei1lFePV6JiDdKaQuQgrcda8xTK2jsV5KGk/qhvwAcQjrJmQWsB/yMua/E1OqSUi0S/Svwf8ABkr5eZZtUzKySFjXKrOf7628LAFeTukhVcz%2BkwF3SusCWwFb5tYuksyJi54GoqJmZmVkrNCPgX5M5W4fXIAVh3aRWZ4DhpXlWabC8eTUZ%2BBTwz1J/%2BWr5IHXfeLAJy10TuK7yIfepfyfw95y0KbAc8KWIuL6Qb9UmLPtiUmv2eOBF0g3DfTWN6t2Ean1/a1ZJW4s5v7taJ3CTgS0lLVtnK/9kYMmI%2BEdvGXPXp0uBS/MIPicBu0k6IiKa8T2bmZmZDTrNCPi/QwooK/bK75dHxAuSniH1oz6ukGdsI%2BXNYz0hjWgzFvgxaTSaN0laiBQ4Pp%2BX/yJwoKQryjftNtCP/9uSziz049%2BDtO0r61RpsX%2BzNV3SMHreTn0WEWdJWgo4QdILEbF/rzMlk4HPSBoREVNzvT5AGtnmsSr5vyBppcJNux8GPsKc3/1LedrwvK0r/kL67g8lje7zpl62%2BfnAOElbRsSVpfmGAzMi4nVJy0XEs5VpEfGGpMpN4IvU2gA9uXrf0YwaNaqRWc3MzMwGTDMC/lUlXUIa5eZjwE7AuRFxZ55%2BGqk7yWmkoRU3IbX6NlpewyJioqRTSIH8uqTA/jVSy/T2pEDzz/lE5Xu57rdJOpfU2v0B0k209XYBGQZcI%2Bl80rCcY0nDhVZG6Lkpl/97SceTWsG/RuPDY84lIk7MQf%2BRkqZHxFF9mO0M0ig4V%2BaRgFYAdicNVVq%2BzwDS1ZAbJf2WFETvAzzLnN1tJuX34yVdCcyOiPMi4jpJZwPflbQm6ftfgDQs53WkoU2r%2BQXweeCyPD7/JNLNue8jDVc6EngGOE3SssC1pHs7ViGdTN4B3NOHbWFmZmY2JDUj4N%2BBNF780aQbZU9kznHjDyeNY74d%2BaZJUv/pWjfO9lbePImI3SVNAnYDjsrL6CaNevPPQr7TJU0BDiBdEXgNuBc4toHF7km6b%2BBwYGHSePDfrbRaR8Szkj4L/Ip04%2B60XJ9rSM8SaIqIOCoPOVoJ%2BssjIpXz3yPp67nexwB3k05EvkrqhlR2FukG631IJwe3AntGxP8KeS4kjbz0f6STOQHn5Wm7AHeRhhf9BWlEpX%2BTTohq1fFlSaNJV2y2Jz0L4AVS3/1DcxmQtue3SSdbw4GngD8B43q4r8HMzMxsyFNjo0ymJ7SSAqoREfFMMytlQ4ukkaT7Ln4YEb9scXX6XR5RqbOzs9NdeszMzGzAdXV10dHRAdDRyyiMQHPG4TczMzMzs0GqP4bl7De5O8piPeWJiKcGoB6LMffY%2BGXP5VFhzMzMzMxaZkgF/MCv6f2G2YF4KtIOwJm95NkMmND/VTEzMzMzq63hgD8ixgHjmlaTvvk56ebLVrsS2LyXPPM8qtBQERHdDMyJlpmZmZnVaUi18EfE3aSRYlpdj/8B/%2Bs1o5mZmZlZi/mmXTMzMzOzNuaA3waUpA0ljctPwTUzMzOzfjakuvRYW9iQ9PyG8cDzLa3JPNr8mIkMG9Hd6mq0te6jt251FczMzIY8t/DbkCdp8VbXwczMzGywcsBvAyY/nfkX%2BePDkiK/RubpO0maJGmmpOcknSdp5VIZEyR1SvqQpOslvQwcJWlkLusHkr4j6SFJL0u6StLKSn4s6fFc/l8lLTugG8DMzMysBdylxwbShcBawFeA7wHP5PSpkn4EHAGcD5wGjAD2Aq6X9MGIeL5QznLA5cB5pGFany5M2xEYBpwALAvsl8u8FtgU%2BBmwRi77l8A3mryOZmZmZoOKA34bMBFxl6TbSQH/xXn8fiStAhwGHBwRR1XyS7oQ%2BA8wFjiqUNQ7gN0j4pRC3pH5z5WANSNiek5fEDiQ9ITm9SPi9Zw%2BAthR0h4R8UqtOktagXTyUbR6natuZmZm1jLu0mODwZdI%2B%2BL5kpavvICngAdITy0ueoXaTzq%2BoBLsZ7fk93MqwX4hfRjpBKEnY4HO0uuvvcxjZmZmNmi4hd8GgzVJT%2Bp9oMb010qfn4iIV2vkfbT0uRL8P1YjfZle6nYScEEpbXUc9JuZmdkQ4YDfBoMFgAC2AmZXmT6j9HlmD2VVm7%2BndPVUsYiYAkyZYwb1OIuZmZnZoOKA3wZaVEmbTAq8H46I%2Bwe4PmZmZmZtzX34baC9lN%2BHF9IuJLXAH6pS83keTnO5AaqbmZmZWdtxC78NtEn5/UhJ55H6518KHAz8FBgp6WLgRWBV4IvAqaQhNAeVq/cdzahRo1pdDTMzM7MeOeC3ARURt0n6MbA78GnSVaZVI%2BJoSfeTxuc/NGd/DLgKuKQllTUzMzNrA4qo1qXazGqRNAro7OzsdAu/mZmZDbiuri46OjoAOiKiq7f87sNvZmZmZtbGHPCbmZmZmbUxB/xmZmZmZm3MAb%2BZmZmZWRtzwG9mZmZm1sYc8JuZmZmZtTEH/GZmZmZmbcwBv/U7SSMlhaQxra6LmZmZ2fzGT9qdD0jaENgCOC4inm9g/rHAyxExvslVG9I2P2Yiw0Z0t7oaZjaEdB%2B9daurYGbzIbfwzx82BA4Fhjc4/1hgTLMqY2ZmZmYDxwG/mZmZmVkbc8Df5iSNA36RPz6c%2B9JH7le/kKQfS5os6RVJ3ZKOkrRIYf5uYBQwujDvhDxtWUm/lPRfSTMkvSDpckkfaEK9h0k6XNIkSdMlvSTpBkmbVcm7gKS9cz1mSZoq6QpJ65fy7STpVkkvS5om6XpJW8xrXc3MzMwGM/fhb38XAmsBXwG%2BBzyT06cCpwE7A38GfgV8BDgQeC/wxZxvH%2BAEYAZwZE57Or%2BvBnwBuAB4GHg7sBswUdI6EfHkPNR7KeCbwB%2BB3wFvA3YFrpT04Yi4o5D3dFKXo8vzOi0EbAx8FPg3gKRDgXHATcAhwKt5fT8BXFWrEpJWAEaUklefh/UyMzMzG1AO%2BNtcRNwl6XZSwH9xRHQD5Fb4nYHTIuJbOftJkqYAP5C0WURcFxEXS/oJ8ExEnFMq/r/AWhHxRiVB0tnAvaTg/Ih5qPo0YGREvFoo%2B3e57L1y%2BeQW/zHA8RGxd2H%2BX0lSzrMGKci/CNiuVF/1Uo%2BxpPsfzMzMzIYkd%2BmZf30mvx9TSv9Vfu91KImIeKUSPEtaUNJypCsB9wHrzUvlImJ2JdjPXXaWJZ2g/rtU9rZAAIdVKSPyn18g7euHF4P9Up5aTgI6Sq9t6l0fMzMzs1ZxC//8axXgDeDBYmJEPCXp%2BTy9R5IWAPYmtYKvCixYmPzsvFZQ0s7A94G1gYULkx4u/L068GREPNdDUauT1vXueusQEVOAKaV61VuMmZmZWcu4hd96a%2BHuyUGkKwTXAzsBWwKbA13M474laSdgPDCZ1H3n07nsa%2Be1bDMzM7P5iVv45w/VgvpHSIHzmsA9lURJbyeN1/9IL/MDbAdcFxG7FhMlDeetm4MbtR3wEPClYrcbSeWuO5OBLSUt20Mr/2TSuq4D3DGP9TIzMzMbUhzwzx9eyu/DC2l/B44ijcKzWyF93/z%2Bt9L8xXkrZgNz9G%2BRtD2wEqWuQg2YXSmSfMIh6SPAx4BHC/n%2BAnyHdGNt8aZdJCmfLFwM/Aw4RNJcN%2B32oR9/VVfvO5pRo0Y1MquZmZnZgHHAP3%2BYlN%2BPlHQe8BpwKfB74Nu5RX4i8GHSyD0XR8R1pfn3kHQwKZCfEhHXApeRgugzScNdvg/YkdQyP68uA74EXCTpb6R7BHYn9cNfspIpIq7LIwN9V9KawBWk1vyNgeuAEyPiQUlHAj8GbpB0IfAKsAHwJGkoUjMzM7O25IB/PhARt0n6MSlg/jQpIF6VNM79Q6RhLb8IPAX8lLlHvDmcdBPvfqTx8CeS%2BtIfBSwBfBXYAbidNLrP0U2o9njgHaSrD1uSAv2dgO2BTUt5dwHuIvX1/wUwnTSaz02VDBFxiKSHSUN6Hgm8nOc5uwl1NTMzMxu01GBvBrP5lqRRQGdnZ6e79JiZmdmA6%2BrqoqOjA6AjIrp6y%2B8WfrP6DQN48MF5vU3BzMzMrH6FGGRYX/K7hd8GlKRhwLK9ZJseETMHoj6NkPQ14KxW18PMzMzme9tExCW9ZXILvw20DUk30/ZkF1If/sHq/vy%2BHXBvKysyBKwO/JX0dOLJLa7LYOdt1XfeVn3nbdU33k59523Vd/25rYYBK5Puq%2ByVA34baHeSHqDVk177orXYjPx%2Bb1/6zc3PCk8lnuxt1TNvq77ztuo7b6u%2B8XbqO2%2BrvhuAbfWfvmZ0wG8DKiKmAf9odT3MzMzM5hcLtLoCZmZmZmbWfxzwm5mZmZm1MQf8ZvWbSno42dRWV2QI8LbqO2%2BrvvO26jtvq77xduo7b6u%2BGzTbysNympmZmZm1Mbfwm5mZmZm1MQf8ZmZmZmZtzAG/mZmZmVkbc8BvZmZmZtbGHPCbmZmZmbUxB/w2X5K0iKSfSXpS0kxJt0javI/zriTpfEnPS3pB0l8lrVYj766S7pE0S9IDkvZq7pr0v/7eVpJWlnSopFslTZP0jKQJkj7VP2vUPwZqnyrMs5GkyK/lm7MWA2MAf39vl3SKpCfyb7Bb0unNXZv%2BNRDbStLSkn6ej1EzJT0i6XRJ727%2BGvWfRreVpPdIOlbSTXk/CUkje8j/eUm357yPSjpM0kJNXZl%2B1t/bStJykn4o6XpJU/M%2B%2BC9JO/TLCvWjgdqvCvOtXsi/flNWAiAi/PJrvnsBfwReA34BfBu4KX/eqJf5lgTuB54G9gO%2BBzwKPAYsV8q7GxDAn4FvAWflz/u3ev0H07YC9gReBs4FvgPsDUzK22qXVq//YNlOpXkWAP4DzMjbaflWr/9g21bAynnao8CPgW8ABwOXtHr9B9O2yvvSrXlf%2BjnwTeBo4AXgceBtrd4GA7CtxgCzgf/m31UAI2vk3Qp4A7g2H9ePz/P%2BttXrP5i2FfBZ4FXg4nxM/07eZgEc1ur1H0zbqsp8lxSO7es3bT1avSH98mugX8CH8w/pB4W0RYEHgZt6mXe/PO8GhbS1gdeBowppiwHPAJeV5j8n/5CXafV2GETbahSlgBVYBLgHeKzV22CwbKfSPLvn/es4hljAP1DbCvg78BA1TpqGwmuAfn8b5nzfKc2/S07/Yqu3wwBsq2XJJzbAD%2Bg54O8C7gAWKqT9hHQSsHart8Ng2VbAqsAqpTQB1wCzgCVavR0Gy7YqzbMl8ApwBE0O%2BN2lx%2BZH25HOuk%2BtJETELOB04GOSVu5l3tsi4rbCvPeSDmJfLuTbDFgOOKk0/2%2BAJYCt52UFBlC/b6uI6IqIZ4ozRsQrpIDtXZLe1owV6WcDsU8BIGlZUoBxCPB8Myo/wPp9W0lam9QS%2B//t3WuoZWUdx/Hvv8FxjPISqTOmIqYGEuKAYZRoTC9S6oWKMZYXTpADY0omCYMkCYKgpxeOE1GjoiGSOvpCKwa8DoovvJ%2ByQAQby8s41gglOWcG7d%2BL/7M766yz92nvffZ61uX8PrBYnHV7nvVn73X%2Be61nPc%2B0u%2B8xs1VmdsBkTyOLHJ%2Brg9N8d2n/XWm%2Bd7yqZzd2rNz9fXf/4P8VYGYnAycDW939o8KqXxDJ7AVj1j23ymPl7jvd/a%2BlZU7c8T8QWLTJYoNUHquedI3anKbXx67xAEr4ZTlaC7zm7v8qLX8uzU/tt5OZfQI4BXihz%2BrngM8XktO1aV7e9kXiTtBa2iFHrAZZTTT1%2BXDo2tYnZ5xuAN4FfjV2beuVI1a99z92m9njRNK618y2D9OGtkFyxOoF4N/ADWa2LrX7P4to3vM88NjSTiGbsWI1RhlQiqu7v0M0f%2Br0dX1CVqf5Pxbdqjlyxuoq4DDihs7EKeGX5WgNc3evinrLjhqw32eIOxPD7LsG%2BNjd3ytu5O77gT2LlNE0OWK1gJmdAJwPPOjuHw9X1VpliZOZnUK8G3J1S%2BLST45YnZjmW4l2xOuBTcAZwGNm9skR61yXymOVnq6tBw4h7v6/BewA3gHWle5kN9m4sRq1jOIxy%2BV0/bq%2BJOnp5PeBp929X/lNlCVWZraaeNfouj4/LiaiVW%2BVi0zIQUQbubLZwvpB%2BzHkvgcRiUY/s4uU0TQ5YjVPSsa2EXdlNw1XzdrlitOtwHZ3f2TkGjZHjlh9Ks3fBb7p7v8BMLO3iBfwvgvcPkKd65Lrc/V34qXCnxNt1E8l3gG4E/j28NWt1bixGrUMFinn4D7LmyhHrOZJT53uAQ4F2tRbXa5Y3US8c1TZdUkJvyxHe4m7X2WrCusH7ceQ%2B%2B4FVg44zqpFymiaHLH6HzNbAdxLtJM9Jz0qb4PK45S6s/sK8MUx69gUub5/APf3kv1kG3A3Ecc2JPw5PlfHA08Cl7r7g2ndQ2b2BnCXmZ3j7ttHrXgNxo3VqGWwSDldv64vxRbgbOJz9ocKjl%2BVymNlZl8GLgG%2BXrpeTZSa9MhytIu5R7NFvWWDksz3iV/6w%2By7C1hhZkcUNzKzlcTLvG1JZHPEqug2oju3KXd/YoR61i1HnKaJhHW/mR2X2qIfmtYdY2ZtaU6QI1a9%2BbwXUVMzqD1EO9k2yBGrKSJ5%2BV1pu4fT/KvDVLQBxo3VqGUUj1kup%2BvX9bGY2U%2BBy4FN7n73JI%2BdQY5Y3Qw8DewsXNt7Y6usmdR4GEr4ZTmaAU4ys/Lj19ML6xdIv7xfAfoNhHE68JfCG/m9Y5S3PY343vUto4FmqD5WAJjZNNEV4I/c/TdLqHMdZqg%2BTscQTVF2FqYfpnUvEb0atcEM1cfqxTT/XHGj9IP7s0QTljaYofpYHUn0MLOitF2vV6O2tASYYYxYjVEGlOKafmwfPaEycpih%2BlgBYGY/AK4HbnH3myZ13IxmqD5WxwJnMv/aPp3WPQz8cQJlKOGXZekB4p/bht4CMzuQSDafdfc307JjU/d%2B5X2/VBz9zsy%2BAKwj7r72PEHcZdtY2n8j0evM7ydzKpXLESvM7Bqin%2BIb3X1zFSdSsRxxOq/PdF9adykxsFIb5IjVDuA94CIzW1VYPpXKfnRSJ1OxHLF6jUj4y13AfifNX57AeeSwlFgNxd3/DLwKbEjND3s2MjfIYhtUHqu0/3rivaN7gKuXVOP65IjVBhZe27ekdT8GLhrzuPNNqkN/TZraNAH3EyPl3Zy%2BbM%2Bkv88sbLOD1HVwYdmniQE3dgPXEN1o/Q14Gzi8tO3lxD%2BBbUTPBL9Of19b9/k3KVbp4uZE4nFxn%2BnIumPQhDgNKPN6WjbwVq5YET%2BCnOg%2B70rijtl%2B4ClgRd0xaEqsiCaGu4gmQJtTGb8kBuj6E7Cy7hhkiNUhxCjMPwG2p8/Nz9LfV5S2/RbRtfLjxEi7m0n9tNd9/k2KFTFg1T7ih/f3WHhdP77uGDQlVgPKnEIj7WrStPSJaLM6nf7RzRJJwTdK2yz4AqflRxNJ/D%2BBD4DfAicMKOcy4o7QvvTP9yrA6j7/JsWKuaR10PS1umPQhDgNKLMXu7Yl/Lm%2BfxcSj9xniR57tpBGvmzLlCNWRNOnO4heQvYR7ZK3LpfPFXDcItefN/qUcy7x5GMWeJMYG%2BOAus%2B/SbFiLmEdNE3VHYOmxGpAmb34TSzht3RgERERERHpILXhFxERERHpMCX8IiIiIiIdpoRfRERERKTDlPCLiIiIiHSYEn4RERERkQ5Twi8iIiIi0mFK%2BEVEREREOkwJv4iIiIhIhynhFxERERHpMCX8IiIiIiIdpoRfRERERKTDlPCLiIiIiHSYEn4RERERkQ5Twi8iIiIi0mFK%2BEVEREREOuy/7%2BKuP%2B02c7oAAAAASUVORK5CYII%3D'></center>"
      ],
      "text/plain": [
       "<__main__.MatplotlibFigure at 0x27c870e3e80>"
      ]
     },
     "metadata": {},
     "output_type": "display_data"
    }
   ],
   "source": [
    "fig = plt.figure(figsize = (width_inch, height_inch))\n",
    "\n",
    "# get the importances for the features\n",
    "rf_importances = lc_bal_rf_rs.best_estimator_.feature_importances_\n",
    "\n",
    "rf_importances_series = pd.Series(rf_importances,index=data_x.columns).sort_index(ascending = False)\n",
    "\n",
    "# plot the important features\n",
    "rf_importances_series.plot.barh(legend =False, grid=False,)\n",
    "\n",
    "fig_num+=1\n",
    "plt.suptitle('Figure %d: Average Feature Importances for a Balanced Random Forest'%fig_num)\n",
    "plt.tight_layout()\n",
    "plt.close()\n",
    "display(MatplotlibFigure(fig, centered=True))"
   ]
  },
  {
   "cell_type": "markdown",
   "metadata": {
    "slideshow": {
     "slide_type": "subslide"
    }
   },
   "source": [
    "We could also use the importance of each feature (using average impurity decrease), for feature selection.\n",
    "\n",
    "We can put it in a pipeline and use the <code>SelectFromModel</code> function from Scikit-learn."
   ]
  },
  {
   "cell_type": "markdown",
   "metadata": {
    "slideshow": {
     "slide_type": "notes"
    }
   },
   "source": [
    "__Notes__\n",
    "\n",
    "- We can provide both a numeric theshold or use a heuristic such as the mean and median<sup>5</sup>."
   ]
  },
  {
   "cell_type": "code",
   "execution_count": 23,
   "metadata": {
    "slideshow": {
     "slide_type": "skip"
    }
   },
   "outputs": [
    {
     "name": "stdout",
     "output_type": "stream",
     "text": [
      "\u001b[1m\u001b[4mSVM\u001b[0m\n",
      "CV f1-score: 0.343 +/- 0.007\n",
      "\u001b[1m\u001b[4mForest SVM\u001b[0m\n",
      "CV f1-score: 0.342 +/- 0.006\n"
     ]
    }
   ],
   "source": [
    "from sklearn.feature_selection import SelectFromModel\n",
    "from sklearn.svm import SVC\n",
    "from sklearn.model_selection import StratifiedKFold\n",
    "from sklearn.pipeline import Pipeline\n",
    "from sklearn.model_selection import cross_val_score\n",
    "\n",
    "svm = SVC(kernel='rbf', random_state=42, class_weight = 'balanced')\n",
    "\n",
    "rf_svm = Pipeline([\n",
    "  ('feature_selection', SelectFromModel(lc_bal_rf_rs.best_estimator_, threshold = 'mean')),\n",
    "  ('classification', svm)\n",
    "])\n",
    "\n",
    "svm_dict = {'SVM':svm, 'Forest SVM':rf_svm}\n",
    "\n",
    "for classifier_name in svm_dict:\n",
    "    scores = cross_val_score(estimator=svm_dict[classifier_name], \n",
    "                             X=X_train, \n",
    "                             y=y_train, \n",
    "                             scoring = 'f1',\n",
    "                             cv=StratifiedKFold(),\n",
    "                             n_jobs=-1)\n",
    "\n",
    "    print(color.BOLD+color.UNDERLINE+classifier_name+color.END)\n",
    "    print('CV f1-score: %.3f +/- %.3f' % (np.mean(scores), np.std(scores)))"
   ]
  },
  {
   "cell_type": "markdown",
   "metadata": {
    "slideshow": {
     "slide_type": "subslide"
    }
   },
   "source": [
    "## Limitations\n",
    "\n",
    "- Feature importances can be misleading for high cardinality features (many unique values)<sup>6</sup>\n",
    "\n",
    "- If features are highly correlated, one feature may be ranked highly while the information of the others not being fully captured<sup>4</sup>. "
   ]
  },
  {
   "cell_type": "code",
   "execution_count": 24,
   "metadata": {
    "slideshow": {
     "slide_type": "fragment"
    }
   },
   "outputs": [
    {
     "data": {
      "image/png": "[encoded data removed]",
      "text/plain": [
       "<Figure size 776.64x480 with 2 Axes>"
      ]
     },
     "metadata": {
      "needs_background": "light"
     },
     "output_type": "display_data"
    }
   ],
   "source": [
    "plt.figure(figsize=(width_inch, height_inch))\n",
    "sns.heatmap(data_x.corr(), cmap='viridis')\n",
    "plt.show()"
   ]
  },
  {
   "cell_type": "markdown",
   "metadata": {
    "slideshow": {
     "slide_type": "subslide"
    }
   },
   "source": [
    "## Permutation Importance\n",
    "\n",
    "The permutation feature importance is defined to be the decrease in a model score when a single feature value is randomly shuffled<sup>7</sup>.\n",
    "\n",
    "This procedure breaks the relationship between the feature and the target, thus the drop in the model score is indicative of how much the model depends on the feature<sup>8</sup>."
   ]
  },
  {
   "cell_type": "markdown",
   "metadata": {
    "slideshow": {
     "slide_type": "notes"
    }
   },
   "source": [
    "__Notes__\n",
    "\n",
    "- _\" In the permutation-based approach, for each tree, the OOB sample is passed down the tree and the prediction accuracy is recorded. Then the values for each variable (one at a time) are randomly permuted and the accuracy is again computed. The decrease in accuracy as a result of this randomly shuffling of feature values is averaged over all the trees for each predictor. The variables with the largest average decrease in accuracy are considered most important.\"_<sup>9</sup>\n",
    "\n",
    "- _\"This technique benefits from being model agnostic and can be calculated many times with different permutations of the feature.\"_ https://scikit-learn.org/stable/modules/permutation_importance.html\n",
    "\n",
    "- _\"Using a held-out set makes it possible to highlight which features contribute the most to the generalization power of the inspected model. Features that are important on the training set but not on the held-out set might cause the model to overfit.\"_ https://scikit-learn.org/stable/modules/permutation_importance.html\n",
    "\n",
    "- _\"Warning: Features that are deemed of low importance for a bad model (low cross-validation score) could be very important for a good model. Therefore it is always important to evaluate the predictive power of a model using a held-out set (or better with cross-validation) prior to computing importances. Permutation importance does not reflect to the intrinsic predictive value of a feature by itself but how important this feature is for a particular model.\"_ https://scikit-learn.org/stable/modules/permutation_importance.html\n",
    "\n",
    "- For more examples of methods of interpreting forests see: https://towardsdatascience.com/explaining-feature-importance-by-example-of-a-random-forest-d9166011959e"
   ]
  },
  {
   "cell_type": "code",
   "execution_count": 25,
   "metadata": {
    "slideshow": {
     "slide_type": "fragment"
    }
   },
   "outputs": [
    {
     "data": {
      "image/png": "[encoded data removed]",
      "text/plain": [
       "<Figure size 1553.28x480 with 2 Axes>"
      ]
     },
     "metadata": {
      "needs_background": "light"
     },
     "output_type": "display_data"
    }
   ],
   "source": [
    "from sklearn.inspection import permutation_importance\n",
    "\n",
    "fig, axes = plt.subplots(ncols = 2, figsize=(width_inch*2, height_inch), sharey=True)\n",
    "axes = axes.flatten()\n",
    "for i, ax in enumerate(axes):\n",
    "    if i == 0:\n",
    "        X, y = X_train, y_train\n",
    "        name = \"Training\"\n",
    "    else:\n",
    "        X, y = X_val, y_val\n",
    "        name = \"Validation\"\n",
    "    \n",
    "    imp = permutation_importance(lc_bal_rf_rs.best_estimator_, X, y,\n",
    "                                 n_repeats=30, scoring='f1', random_state=0)\n",
    "    imp_df = pd.DataFrame(imp['importances']).T\n",
    "    imp_df.columns = data_x.columns\n",
    "    imp_df_ = imp_df.melt(var_name = 'Feature', value_name='Permutation Importance (F1-Score)')\n",
    "    \n",
    "    sns.barplot(data = imp_df_, x = 'Permutation Importance (F1-Score)', y = 'Feature', ax = ax)\n",
    "    ax.set_title(name)\n",
    "plt.show()"
   ]
  },
  {
   "cell_type": "markdown",
   "metadata": {
    "slideshow": {
     "slide_type": "skip"
    }
   },
   "source": [
    "__Extra: Fairness__\n",
    "\n",
    "In last weeks \"Applications\" notes I questioned what information is fair for us to use when making decisions around lending. Well this week we have a dataset which has some of these very varibles in which could be problematic. \n",
    "    \n",
    "- zip_code\n",
    "    - Maybe you think people who live in wealthy areas are more likely to pay back the loan? \n",
    "    - Doesn't this make it worse for people financially responcible people who live in poor areas? \n",
    "    - Might this unfortunately be related to someones race/ethnicity?\n",
    "- pub_rec (Number of derogatory public records)\n",
    "    - What do they define as a \"derogatory public record\"?\n",
    "    - Should we use such a vauge feature that could include discrimatory information?\n",
    "    - Does this include criminal history? Is the american criminal system unbias? Is this likely to account for certain types of crime over white colar crime?\n",
    "- homeownership    \n",
    "    - Among racial demographics in America, white people have the country's highest homeownership rate, while African Americans have the lowest. \n",
    "    - One study shows that homeownership rates appear correlated with higher school attainment. (\"A Note on the Benefits of Homeownership, Federal Reserve Bank of Chicago\" (PDF). Chicagofed.org. Retrieved October 14, 2017.)\n",
    "       \n",
    "If you look at the full list of varibles for this dataset (we've used a subset), you'll see there are even more features of which you may question their validity or fairness. Should we be including these varibles in our models, in other words should we be assigning weights to them? Without other demographic information (race, gender, ect.) can we ever try correct for them in our model?\n",
    "\n",
    "More on this in week 11...\n",
    "\n",
    "__Note__\n",
    "- Lending Club use what Cathy O'Neil terms e-scores. You can read more about the issues with e-scores in chapter 8 of Weapons of Math Destruction."
   ]
  },
  {
   "cell_type": "markdown",
   "metadata": {
    "slideshow": {
     "slide_type": "slide"
    }
   },
   "source": [
    "# 9. Strengths and Limitations <a id='adv_lim'></a>\n",
    "\n",
    "There are always advantages and disadvantages to using any model on a particular dataset. "
   ]
  },
  {
   "cell_type": "markdown",
   "metadata": {
    "slideshow": {
     "slide_type": "subslide"
    }
   },
   "source": [
    "## Trees\n",
    "### Advantages<sup>1,10</sup>\n",
    "- Easy to explain\n",
    "    - Trees can be displayed graphically in an interpretable mannor.\n",
    "- Inherently multiclass\n",
    "    - Can also handle multitask output (multiclass-multioutput)\n",
    "- Can handle different types of predictors*\n",
    "    - Independent of feature scaling\n",
    "- Can handle missing values*\n",
    "- Can handle multitask output (multiclass-multioutput)\n",
    "\n",
    "\n",
    "\\* not in Scikit-Learn"
   ]
  },
  {
   "cell_type": "markdown",
   "metadata": {
    "slideshow": {
     "slide_type": "notes"
    }
   },
   "source": [
    "__Notes__\n",
    "- _\"Uses a white box model. If a given situation is observable in a model, the explanation for the condition is easily explained by boolean logic.\"_<sup>12</sup>\n",
    "- Decision trees potentially more mirror human decision-making than the regression and classification approaches previously discussed.\n",
    "- Generally, you'll find tree impliminations that are specialised for particular types of data.\n",
    "- _\"Warning At present, no metric in sklearn.metrics supports the multiclass-multioutput classification task.\"_<sup>11</sup>"
   ]
  },
  {
   "cell_type": "markdown",
   "metadata": {
    "slideshow": {
     "slide_type": "skip"
    }
   },
   "source": [
    "### Extra: Categorical Features and Sklearn\n",
    "\n",
    "You may also be wondering: where are my previous data visualisations of the categorical data before this? Well Sklearn's CART decision trees currently _\"does not support categorical variables\"_. This means:\n",
    "\n",
    "- Do not use `Label Encoding` if your categorical data is __not ordinal__ with `DecisionTreeClassifier()`, you'll end up with splits that do not make sense, as the data will be treat as numeric<sup>13</sup>.\n",
    "\n",
    "- Using a `OneHotEncoder` is the only current valid way with sklearn, allowing arbitrary splits not dependent on the label ordering, but is computationally expensive and it can deteriorate the performance of decision trees as it leads to sparse features, which can mess up feature importance<sup>12</sup>.\n",
    "\n",
    "__Solutions__\n",
    "\n",
    "Currently the best way of handling categorical features is to use <code>h2o.randomForest</code>, a different forest implimentation, or <code>catboost</code>, a boosting classifier. \n",
    "\n",
    "__Notes__\n",
    "- H2o has sklearn support which may be useful to look into: http://docs.h2o.ai/h2o/latest-stable/h2o-docs/h2o-client.html"
   ]
  },
  {
   "cell_type": "markdown",
   "metadata": {
    "slideshow": {
     "slide_type": "subslide"
    }
   },
   "source": [
    "### Disadvantages<sup>1,10</sup>\n",
    "\n",
    "- Comparatively poor generalization performance.\n",
    "\n",
    "- Easy to overfit\n",
    "    - Require pruning\n",
    "\n",
    "- High variance\n",
    "    - A small change in the data can cause a large change in the estimated tree.\n",
    "    - Model affected by the rotation of the data.\n",
    "    \n",
    "- Cannot guarantee to return the globally optimal decision tree.\n",
    "    - locally optimal decisions are made at each node."
   ]
  },
  {
   "cell_type": "markdown",
   "metadata": {
    "slideshow": {
     "slide_type": "notes"
    }
   },
   "source": [
    "__Notes__\n",
    "- If there is a highly non-linear and complex relationship between the features and the response then decision trees may outperform classical approaches. However if the relationship between the features and the response is well approximated by a linear model, then an approach such as linear regression will likely work well<sup>1</sup>.\n",
    "- A decision tree is quite boxy. How the model makes a decision boundary is going to be affected by the rotation of the data (as DTs create straight lines). For example, see pg. 315 of James, Gareth, Daniela Witten, Trevor Hastie, and Robert Tibshirani. An introduction to statistical learning. Vol. 112. New York: springer, 2013. "
   ]
  },
  {
   "cell_type": "markdown",
   "metadata": {},
   "source": [
    "## Forests/ExtraTrees\n",
    "\n",
    "Generally improve upon trees, at the expense of interpretability.\n",
    "\n",
    "### Advantages\n",
    "\n",
    "- Comparatively good generalisability\n",
    "    - Not too affected by outlier observations.\n",
    "    - Can still overfit<sup>16</sup> but much less likely\n",
    "\n",
    "- Comparatively small variability in prediction accuracy when tuning<sup>14</sup>\n",
    "\n",
    "- Comparatively good “out of the box” performance<sup>15</sup>\n",
    "    - Easy of use\n",
    "    - not much tuning required to get good results\n",
    "\n",
    "- ExtraTrees is faster to train than random forests\n",
    "    - Its time consuming to to find the best theshold for each feature at each node<sup>3</sup>.\n",
    "\n",
    "- Work well on large datasets\n",
    "\n",
    "###  Disadvantages\n",
    "\n",
    "- Not good for very high-dimensional sparse data<sup>17</sup>.\n",
    "    - e.g. text\n",
    "\n",
    "- Harder than trees to interpret\n",
    "    - Trees in random forests tend to be deeper than decision trees (due to feature subsets)<sup>17</sup>.\n",
    "    \n",
    "- More computationally demanding to train than other algorithms<sup>17</sup>\n",
    "    - Require more memory and are slower to train and to predict than linear models.\n",
    "    - However, they can be easily parallelized across multiple CPU cores.\n",
    "\n",
    "- Setting different random states can drastically change the model<sup>17</sup>.\n",
    "    - The more trees, the more robust to this they are to this."
   ]
  },
  {
   "cell_type": "markdown",
   "metadata": {},
   "source": [
    "__Notes__\n",
    "- Using more CPU cores will result in linear speed-ups<sup>17</sup>.\n",
    "- _'As concluding remarks about ensemble techniques, it is worth noting that ensemble learning increases the computational complexity compared to individual classifiers. In practice, we need to think carefully about whether we want to pay the price of increased computational costs for an often relatively modest improvement in predictive performance. An often-cited example of this tradeoff is the famous \\$1 million Netflix Prize, which was won using ensemble techniques. The details about the algorithm were published in The BigChaos Solution to the Netflix Grand Prize by A. Toescher, M. Jahrer, and R. M. Bell, Netflix Prize documentation, 2009, which is available at http://www.stat.osu.edu/~dmsl/GrandPrize2009_BPC_BigChaos.pdf. The winning team received the $1 million grand prize money; however, Netflix never implemented their model due to its complexity, which made it infeasible for a real-world application: \"We evaluated some of the new methods offline but the additional accuracy gains that we measured did not seem to justify the engineering effort needed to bring them into a production environment.\" http://techblog.netflix.com/2012/04/netflix-recommendations-beyond-5-stars.html'_<sup>4</sup>"
   ]
  },
  {
   "cell_type": "markdown",
   "metadata": {
    "slideshow": {
     "slide_type": "slide"
    }
   },
   "source": [
    "# References\n",
    "1. James, Gareth, Daniela Witten, Trevor Hastie, and Robert Tibshirani. An introduction to statistical learning. Vol. 112. New York: springer, 2013.\n",
    "2. Gorman KB, Williams TD, Fraser WR (2014). Ecological sexual dimorphism and environmental variability within a community of Antarctic penguins (genus Pygoscelis). PLoS ONE 9(3):e90081. https://doi.org/10.1371/journal.pone.0090081\n",
    "3. Géron, A. (2017). Hands-on machine learning with Scikit-Learn and TensorFlow: concepts, tools, and techniques to build intelligent systems. \" O'Reilly Media, Inc.\".\n",
    "4. Raschka, Sebastian, and Vahid Mirjalili. Python Machine Learning, 2nd Ed. Packt Publishing, 2017.\n",
    "5. http://scikit-learn.org/stable/modules/feature_selection.html\n",
    "6. https://scikit-learn.org/stable/modules/generated/sklearn.tree.DecisionTreeClassifier.html#sklearn.tree.DecisionTreeClassifier\n",
    "7. L. Breiman, “Random Forests”, Machine Learning, 45(1), 5-32, 2001\n",
    "8. https://scikit-learn.org/stable/modules/permutation_importance.html\n",
    "9. https://bradleyboehmke.github.io/HOML/random-forest.html\n",
    "10. https://github.com/rasbt/stat479-machine-learning-fs19/blob/master/06_trees/06-trees__notes.pdf\n",
    "11. https://scikit-learn.org/stable/modules/multiclass.html\n",
    "12. https://scikit-learn.org/stable/modules/tree.html\n",
    "13. https://stackoverflow.com/questions/38108832/passing-categorical-data-to-sklearn-decision-tree\n",
    "14. Probst, Philipp, Bernd Bischl, and Anne-Laure Boulesteix. 2018. “Tunability: Importance of Hyperparameters of Machine Learning Algorithms.” arXiv Preprint arXiv:1802.09596.\n",
    "15. https://github.com/rasbt/stat451-machine-learning-fs20/blob/master/L07/07-ensembles__notes.pdf.\n",
    "16. Segal MR: Machine Learning Benchmarks and Random Forest Regression. Technical Report, Center for Bioinformatics & Molecular Biostatistics, University of California, San Francisco 2004.\n",
    "17. Müller, A. C., & Guido, S. (2016). Introduction to machine learning with Python: a guide for data scientists. \" O'Reilly Media, Inc.\".\n",
    "18. https://www.kaggle.com/faressayah/lending-club-loan-defaulters-prediction"
   ]
  },
  {
   "cell_type": "code",
   "execution_count": null,
   "metadata": {
    "slideshow": {
     "slide_type": "skip"
    }
   },
   "outputs": [],
   "source": [
    "import sys\n",
    "from shutil import copyfile\n",
    "\n",
    "# where the HTML template is located\n",
    "dst = os.path.join(sys.prefix, 'lib', 'site-packages', 'nbconvert', 'templates', \"classic.tplx\")\n",
    "\n",
    "# If its not located where it should be\n",
    "if not os.path.exists(dst):\n",
    "    # uses a nb_pdf_template\n",
    "    curr_path = os.path.join(os.getcwd(),\"..\", \"Extra\", \"classic.tplx\")\n",
    "    # copy where it is meant to be\n",
    "    copyfile(curr_path, dst)\n",
    "\n",
    "# Create HTML notes document\n",
    "!jupyter nbconvert 3_Applications.ipynb \\\n",
    "    --to html \\\n",
    "    --output-dir . \\\n",
    "    --template classic\n",
    "!jupyter nbconvert 3_Applications.ipynb \\\n",
    "    --to slides \\\n",
    "    --output-dir . \\\n",
    "    --TemplateExporter.exclude_input=True \\\n",
    "    --TemplateExporter.exclude_output_prompt=True \\\n",
    "    --SlidesExporter.reveal_scroll=True\n",
    "\n",
    "# Create pdf notes document (issues)\n",
    "!jupyter nbconvert 3_Applications.ipynb \\\n",
    "    --to html \\\n",
    "    --output-dir ./PDF_Prep \\\n",
    "    --output 3_Applications_no_code \\\n",
    "    --TemplateExporter.exclude_input=True \\\n",
    "    --TemplateExporter.exclude_output_prompt=True"
   ]
  },
  {
   "cell_type": "code",
   "execution_count": null,
   "metadata": {
    "slideshow": {
     "slide_type": "skip"
    }
   },
   "outputs": [],
   "source": []
  }
 ],
 "metadata": {
  "celltoolbar": "Slideshow",
  "colab": {
   "authorship_tag": "ABX9TyMNuZgSJ2BiDt5YMpOB66EK",
   "collapsed_sections": [],
   "name": "Clustering.ipynb",
   "provenance": []
  },
  "kernelspec": {
   "display_name": "Python 3",
   "language": "python",
   "name": "python3"
  },
  "language_info": {
   "codemirror_mode": {
    "name": "ipython",
    "version": 3
   },
   "file_extension": ".py",
   "mimetype": "text/x-python",
   "name": "python",
   "nbconvert_exporter": "python",
   "pygments_lexer": "ipython3",
   "version": "3.8.8"
  }
 },
 "nbformat": 4,
 "nbformat_minor": 1
}
