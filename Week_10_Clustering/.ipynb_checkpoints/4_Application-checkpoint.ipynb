{
 "cells": [
  {
   "cell_type": "markdown",
   "id": "aware-notebook",
   "metadata": {},
   "source": [
    "_\"In order to perform clustering, some decisions must be made._\n",
    " - _Should the observations or features first be standardized in some way? For instance, maybe the variables should be centered to have mean zero and scaled to have standard deviation one.\"_ Intro to Data Sciecnce"
   ]
  },
  {
   "cell_type": "markdown",
   "id": "hazardous-creativity",
   "metadata": {},
   "source": [
    "## Feature Selection and Clustering"
   ]
  },
  {
   "cell_type": "markdown",
   "id": "improved-palmer",
   "metadata": {},
   "source": [
    "## Imballanced Data and Clustering"
   ]
  },
  {
   "cell_type": "code",
   "execution_count": null,
   "id": "heard-armenia",
   "metadata": {},
   "outputs": [],
   "source": []
  }
 ],
 "metadata": {
  "kernelspec": {
   "display_name": "Python 3",
   "language": "python",
   "name": "python3"
  },
  "language_info": {
   "codemirror_mode": {
    "name": "ipython",
    "version": 3
   },
   "file_extension": ".py",
   "mimetype": "text/x-python",
   "name": "python",
   "nbconvert_exporter": "python",
   "pygments_lexer": "ipython3",
   "version": "3.8.5"
  }
 },
 "nbformat": 4,
 "nbformat_minor": 5
}
