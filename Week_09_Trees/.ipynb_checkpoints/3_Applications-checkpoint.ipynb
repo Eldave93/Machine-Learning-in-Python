{
 "cells": [
  {
   "cell_type": "code",
   "execution_count": 1,
   "metadata": {
    "slideshow": {
     "slide_type": "skip"
    }
   },
   "outputs": [
    {
     "data": {
      "text/html": [
       "<button style=\"margin:0 auto; display: block;\" onclick=\"jQuery('.code_cell .input_area').toggle();\n",
       "    jQuery('.prompt').toggle();\">Toggle code</button>"
      ],
      "text/plain": [
       "<IPython.core.display.HTML object>"
      ]
     },
     "execution_count": 1,
     "metadata": {},
     "output_type": "execute_result"
    }
   ],
   "source": [
    "# This line will add a button to toggle visibility of code blocks,\n",
    "# for use with the HTML export version\n",
    "from IPython.core.display import HTML\n",
    "HTML('''<button style=\"margin:0 auto; display: block;\" onclick=\"jQuery('.code_cell .input_area').toggle();\n",
    "    jQuery('.prompt').toggle();\">Toggle code</button>''')"
   ]
  },
  {
   "cell_type": "markdown",
   "metadata": {
    "slideshow": {
     "slide_type": "slide"
    }
   },
   "source": [
    "<img src=\"./Images/UoE_Horizontal_Logo_282_v1_160215.png\" alt=\"drawing\" width=\"600\"/>\n",
    "\n",
    "# Week 9 - Tree-Based Methods\n",
    "__Dr. David Elliott__\n",
    "    \n",
    "7. [Imballanced Data](#imb)\n",
    "\n",
    "8. [Feature Interpretation/Reduction](#feats)\n",
    "    \n",
    "9. [Strengths and Limitations](#adv_lim)"
   ]
  },
  {
   "cell_type": "code",
   "execution_count": 2,
   "metadata": {
    "slideshow": {
     "slide_type": "skip"
    }
   },
   "outputs": [],
   "source": [
    "%matplotlib inline\n",
    "\n",
    "import os # locating directories\n",
    "\n",
    "import numpy as np   # Arrays\n",
    "import pandas as pd  # DataFrames\n",
    "\n",
    "# Plotting\n",
    "import matplotlib.pyplot as plt\n",
    "import seaborn as sns\n",
    "\n",
    "from sklearn.model_selection import GridSearchCV, RandomizedSearchCV, KFold, StratifiedKFold\n",
    "\n",
    "# colours for print()\n",
    "class color:\n",
    "   PURPLE = '\\033[95m'\n",
    "   CYAN = '\\033[96m'\n",
    "   DARKCYAN = '\\033[36m'\n",
    "   BLUE = '\\033[94m'\n",
    "   GREEN = '\\033[92m'\n",
    "   YELLOW = '\\033[93m'\n",
    "   RED = '\\033[91m'\n",
    "   BOLD = '\\033[1m'\n",
    "   UNDERLINE = '\\033[4m'\n",
    "   END = '\\033[0m'\n",
    "    \n",
    "image_dir = os.path.join(os.getcwd(),\"Images\")\n",
    "# Initial fig number\n",
    "fig_num=0\n",
    "\n",
    "plt.rcParams['figure.dpi'] = 120\n",
    "# golden ratio for figures ()\n",
    "gr = 1.618\n",
    "\n",
    "height_pix = 500\n",
    "width_pix = height_pix*gr\n",
    "\n",
    "height_inch = 4\n",
    "width_inch = height_inch*gr"
   ]
  },
  {
   "cell_type": "code",
   "execution_count": 3,
   "metadata": {
    "slideshow": {
     "slide_type": "skip"
    }
   },
   "outputs": [],
   "source": [
    "# Centered figures in the notebook and presentation\n",
    "# ...was a real pain to find this:\n",
    "# https://gist.githubusercontent.com/maxalbert/800b9f06c7b2dd365ea5\n",
    "\n",
    "import matplotlib.pyplot as plt\n",
    "import matplotlib\n",
    "import numpy as np\n",
    "import urllib\n",
    "import base64\n",
    "from io import BytesIO, StringIO\n",
    "\n",
    "def fig2str(fig, format='svg'):\n",
    "    \"\"\"\n",
    "    Return a string containing the raw data of the matplotlib figure in the given format.\n",
    "\n",
    "    \"\"\"\n",
    "    assert isinstance(fig, matplotlib.figure.Figure)\n",
    "    imgdata = BytesIO()\n",
    "    fig.savefig(imgdata, format=format, bbox_inches='tight')\n",
    "    imgdata.seek(0)  # rewind the data\n",
    "    output = imgdata.getvalue()\n",
    "    if format == 'svg':\n",
    "        return output\n",
    "    else:\n",
    "        return urllib.parse.quote(base64.b64encode(output))\n",
    "\n",
    "class MatplotlibFigure(object):\n",
    "    \"\"\"\n",
    "    Thin wrapper around a matplotlib figure which provides a custom\n",
    "    HTML representation that allows tweaking the appearance\n",
    "\n",
    "    \"\"\"\n",
    "    def __init__(self, fig, centered=False):\n",
    "        assert isinstance(fig, matplotlib.figure.Figure)\n",
    "        self.centered = centered\n",
    "\n",
    "    def _repr_html_(self):\n",
    "        img_str_png = fig2str(fig, format='png')\n",
    "        uri = 'data:image/png;base64,' + img_str_png\n",
    "        html_repr = \"<img src='{}'>\".format(uri)\n",
    "        if self.centered:\n",
    "            html_repr = \"<center>\" + html_repr + \"</center>\"\n",
    "        return html_repr"
   ]
  },
  {
   "cell_type": "code",
   "execution_count": 4,
   "metadata": {
    "slideshow": {
     "slide_type": "skip"
    }
   },
   "outputs": [],
   "source": [
    "# TODO: when tidying this up in the future, but these common functions I use\n",
    "# all the time in a separate .py file.\n",
    "def hyper_search(model, params, X, y, save_path, n_iter=60, metric=\"accuracy\", \n",
    "                 cv = KFold(5), random_state=42, refit=True,\n",
    "                 overwrite=False, warning=False, verbose=0):\n",
    "    if os.path.exists(save_path) and overwrite==False:\n",
    "        #load the model\n",
    "        models = joblib.load(save_path)\n",
    "    else:\n",
    "        # check all param inputs are lists\n",
    "        if all(type(x)==list for x in params.values()):\n",
    "            search_type = \"Gridsearch\"\n",
    "            models = GridSearchCV(model, param_grid=params, scoring=metric, cv=cv, \n",
    "                                  refit=refit, return_train_score=True, verbose=verbose)\n",
    "            n_iter = len(list(itertools.product(*list(iter(params.values())))))\n",
    "        else:\n",
    "            search_type = \"Randomsearch\"\n",
    "            if verbose>0:\n",
    "                print(\"Starting \"+search_type)\n",
    "            models = RandomizedSearchCV(model, param_distributions=params,\n",
    "                                        n_iter=n_iter, scoring=metric, cv=cv,\n",
    "                                        refit=refit, random_state=random_state,\n",
    "                                        return_train_score=True, verbose=verbose)\n",
    "        \n",
    "        start = time()\n",
    "        if warning:\n",
    "            models.fit(X, y)\n",
    "        else:\n",
    "            with warnings.catch_warnings():\n",
    "                warnings.simplefilter(\"ignore\")\n",
    "                models.fit(X, y)\n",
    "        \n",
    "        if verbose>0:\n",
    "            print(search_type + \" took %.2f seconds for %d candidates\" % ((time() - start), n_iter))\n",
    "        joblib.dump(models, save_path)\n",
    "    \n",
    "    return models"
   ]
  },
  {
   "cell_type": "markdown",
   "metadata": {
    "slideshow": {
     "slide_type": "slide"
    }
   },
   "source": [
    "# 7. Imballanced Data <a id='imb'></a>\n",
    "\n",
    "__TODO__\n",
    "- discuss general ensembles for imballances as well."
   ]
  },
  {
   "cell_type": "markdown",
   "metadata": {
    "slideshow": {
     "slide_type": "subslide"
    }
   },
   "source": [
    "## Dataset Example: Lending Club\n",
    "\n"
   ]
  },
  {
   "cell_type": "markdown",
   "metadata": {
    "slideshow": {
     "slide_type": "notes"
    }
   },
   "source": [
    "__Notes__\n",
    "- For the purposes of this lecture, we are only using a sample of the full dataset (~1%). This is to ensure things dont take an age to run. \n",
    "    - You can have a look at how I prepared the data and reduced it down in the \"Loan_Club_Explore_and_Prep.ipynb\" found in the \"Extra\" folder.\n",
    "    - You could also try play with the larger sample of data."
   ]
  },
  {
   "cell_type": "code",
   "execution_count": 5,
   "metadata": {
    "slideshow": {
     "slide_type": "skip"
    }
   },
   "outputs": [
    {
     "data": {
      "text/html": [
       "<div>\n",
       "<style scoped>\n",
       "    .dataframe tbody tr th:only-of-type {\n",
       "        vertical-align: middle;\n",
       "    }\n",
       "\n",
       "    .dataframe tbody tr th {\n",
       "        vertical-align: top;\n",
       "    }\n",
       "\n",
       "    .dataframe thead th {\n",
       "        text-align: right;\n",
       "    }\n",
       "</style>\n",
       "<table border=\"1\" class=\"dataframe\">\n",
       "  <thead>\n",
       "    <tr style=\"text-align: right;\">\n",
       "      <th></th>\n",
       "      <th>loan_amnt</th>\n",
       "      <th>int_rate</th>\n",
       "      <th>annual_inc</th>\n",
       "      <th>dti</th>\n",
       "      <th>total_acc</th>\n",
       "      <th>term</th>\n",
       "      <th>home_ownership</th>\n",
       "      <th>emp_length</th>\n",
       "      <th>open_acc</th>\n",
       "      <th>pub_rec</th>\n",
       "      <th>...</th>\n",
       "      <th>mort_acc</th>\n",
       "      <th>avg_cur_bal</th>\n",
       "      <th>delinq_amnt</th>\n",
       "      <th>fico_range_high</th>\n",
       "      <th>fico_range_low</th>\n",
       "      <th>num_bc_tl</th>\n",
       "      <th>num_tl_90g_dpd_24m</th>\n",
       "      <th>zip_code</th>\n",
       "      <th>installment</th>\n",
       "      <th>loan_status</th>\n",
       "    </tr>\n",
       "  </thead>\n",
       "  <tbody>\n",
       "    <tr>\n",
       "      <th>0</th>\n",
       "      <td>17000.0</td>\n",
       "      <td>8.99%</td>\n",
       "      <td>105000.0</td>\n",
       "      <td>14.82</td>\n",
       "      <td>13.0</td>\n",
       "      <td>36 months</td>\n",
       "      <td>RENT</td>\n",
       "      <td>3 years</td>\n",
       "      <td>7.0</td>\n",
       "      <td>0.0</td>\n",
       "      <td>...</td>\n",
       "      <td>0.0</td>\n",
       "      <td>5321.0</td>\n",
       "      <td>0.0</td>\n",
       "      <td>734.0</td>\n",
       "      <td>730.0</td>\n",
       "      <td>3.0</td>\n",
       "      <td>0.0</td>\n",
       "      <td>941xx</td>\n",
       "      <td>540.52</td>\n",
       "      <td>Fully Paid</td>\n",
       "    </tr>\n",
       "    <tr>\n",
       "      <th>1</th>\n",
       "      <td>7500.0</td>\n",
       "      <td>15.61%</td>\n",
       "      <td>75000.0</td>\n",
       "      <td>24.14</td>\n",
       "      <td>19.0</td>\n",
       "      <td>36 months</td>\n",
       "      <td>RENT</td>\n",
       "      <td>6 years</td>\n",
       "      <td>14.0</td>\n",
       "      <td>0.0</td>\n",
       "      <td>...</td>\n",
       "      <td>3.0</td>\n",
       "      <td>17895.0</td>\n",
       "      <td>0.0</td>\n",
       "      <td>699.0</td>\n",
       "      <td>695.0</td>\n",
       "      <td>9.0</td>\n",
       "      <td>0.0</td>\n",
       "      <td>027xx</td>\n",
       "      <td>262.24</td>\n",
       "      <td>Fully Paid</td>\n",
       "    </tr>\n",
       "    <tr>\n",
       "      <th>2</th>\n",
       "      <td>12000.0</td>\n",
       "      <td>10.49%</td>\n",
       "      <td>44000.0</td>\n",
       "      <td>17.76</td>\n",
       "      <td>24.0</td>\n",
       "      <td>60 months</td>\n",
       "      <td>RENT</td>\n",
       "      <td>2 years</td>\n",
       "      <td>13.0</td>\n",
       "      <td>0.0</td>\n",
       "      <td>...</td>\n",
       "      <td>0.0</td>\n",
       "      <td>1280.0</td>\n",
       "      <td>0.0</td>\n",
       "      <td>794.0</td>\n",
       "      <td>790.0</td>\n",
       "      <td>6.0</td>\n",
       "      <td>0.0</td>\n",
       "      <td>231xx</td>\n",
       "      <td>257.87</td>\n",
       "      <td>Fully Paid</td>\n",
       "    </tr>\n",
       "    <tr>\n",
       "      <th>3</th>\n",
       "      <td>10000.0</td>\n",
       "      <td>11.05%</td>\n",
       "      <td>72000.0</td>\n",
       "      <td>8.45</td>\n",
       "      <td>20.0</td>\n",
       "      <td>36 months</td>\n",
       "      <td>MORTGAGE</td>\n",
       "      <td>5 years</td>\n",
       "      <td>6.0</td>\n",
       "      <td>0.0</td>\n",
       "      <td>...</td>\n",
       "      <td>2.0</td>\n",
       "      <td>9165.0</td>\n",
       "      <td>0.0</td>\n",
       "      <td>669.0</td>\n",
       "      <td>665.0</td>\n",
       "      <td>7.0</td>\n",
       "      <td>0.0</td>\n",
       "      <td>499xx</td>\n",
       "      <td>327.63</td>\n",
       "      <td>Fully Paid</td>\n",
       "    </tr>\n",
       "    <tr>\n",
       "      <th>4</th>\n",
       "      <td>24000.0</td>\n",
       "      <td>5.32%</td>\n",
       "      <td>235000.0</td>\n",
       "      <td>9.23</td>\n",
       "      <td>21.0</td>\n",
       "      <td>36 months</td>\n",
       "      <td>MORTGAGE</td>\n",
       "      <td>&lt; 1 year</td>\n",
       "      <td>12.0</td>\n",
       "      <td>0.0</td>\n",
       "      <td>...</td>\n",
       "      <td>2.0</td>\n",
       "      <td>20279.0</td>\n",
       "      <td>0.0</td>\n",
       "      <td>754.0</td>\n",
       "      <td>750.0</td>\n",
       "      <td>5.0</td>\n",
       "      <td>0.0</td>\n",
       "      <td>332xx</td>\n",
       "      <td>722.76</td>\n",
       "      <td>Fully Paid</td>\n",
       "    </tr>\n",
       "  </tbody>\n",
       "</table>\n",
       "<p>5 rows × 21 columns</p>\n",
       "</div>"
      ],
      "text/plain": [
       "   loan_amnt int_rate  annual_inc    dti  total_acc        term  \\\n",
       "0    17000.0    8.99%    105000.0  14.82       13.0   36 months   \n",
       "1     7500.0   15.61%     75000.0  24.14       19.0   36 months   \n",
       "2    12000.0   10.49%     44000.0  17.76       24.0   60 months   \n",
       "3    10000.0   11.05%     72000.0   8.45       20.0   36 months   \n",
       "4    24000.0    5.32%    235000.0   9.23       21.0   36 months   \n",
       "\n",
       "  home_ownership emp_length  open_acc  pub_rec  ...  mort_acc  avg_cur_bal  \\\n",
       "0           RENT    3 years       7.0      0.0  ...       0.0       5321.0   \n",
       "1           RENT    6 years      14.0      0.0  ...       3.0      17895.0   \n",
       "2           RENT    2 years      13.0      0.0  ...       0.0       1280.0   \n",
       "3       MORTGAGE    5 years       6.0      0.0  ...       2.0       9165.0   \n",
       "4       MORTGAGE   < 1 year      12.0      0.0  ...       2.0      20279.0   \n",
       "\n",
       "   delinq_amnt  fico_range_high  fico_range_low  num_bc_tl  \\\n",
       "0          0.0            734.0           730.0        3.0   \n",
       "1          0.0            699.0           695.0        9.0   \n",
       "2          0.0            794.0           790.0        6.0   \n",
       "3          0.0            669.0           665.0        7.0   \n",
       "4          0.0            754.0           750.0        5.0   \n",
       "\n",
       "   num_tl_90g_dpd_24m  zip_code installment  loan_status  \n",
       "0                 0.0     941xx      540.52   Fully Paid  \n",
       "1                 0.0     027xx      262.24   Fully Paid  \n",
       "2                 0.0     231xx      257.87   Fully Paid  \n",
       "3                 0.0     499xx      327.63   Fully Paid  \n",
       "4                 0.0     332xx      722.76   Fully Paid  \n",
       "\n",
       "[5 rows x 21 columns]"
      ]
     },
     "execution_count": 5,
     "metadata": {},
     "output_type": "execute_result"
    }
   ],
   "source": [
    "df = pd.read_csv('../Data/LCData/LC_reduced.csv')\n",
    "df = df.drop(\"Unnamed: 0\", axis=1)\n",
    "df.head()"
   ]
  },
  {
   "cell_type": "code",
   "execution_count": 6,
   "metadata": {
    "slideshow": {
     "slide_type": "skip"
    }
   },
   "outputs": [
    {
     "name": "stdout",
     "output_type": "stream",
     "text": [
      "<class 'pandas.core.frame.DataFrame'>\n",
      "RangeIndex: 16775 entries, 0 to 16774\n",
      "Data columns (total 21 columns):\n",
      " #   Column                Non-Null Count  Dtype  \n",
      "---  ------                --------------  -----  \n",
      " 0   loan_amnt             16775 non-null  float64\n",
      " 1   int_rate              16775 non-null  object \n",
      " 2   annual_inc            16775 non-null  float64\n",
      " 3   dti                   16775 non-null  float64\n",
      " 4   total_acc             16775 non-null  float64\n",
      " 5   term                  16775 non-null  object \n",
      " 6   home_ownership        16775 non-null  object \n",
      " 7   emp_length            16775 non-null  object \n",
      " 8   open_acc              16775 non-null  float64\n",
      " 9   pub_rec               16775 non-null  float64\n",
      " 10  pub_rec_bankruptcies  16775 non-null  float64\n",
      " 11  mort_acc              16775 non-null  float64\n",
      " 12  avg_cur_bal           16775 non-null  float64\n",
      " 13  delinq_amnt           16775 non-null  float64\n",
      " 14  fico_range_high       16775 non-null  float64\n",
      " 15  fico_range_low        16775 non-null  float64\n",
      " 16  num_bc_tl             16775 non-null  float64\n",
      " 17  num_tl_90g_dpd_24m    16775 non-null  float64\n",
      " 18  zip_code              16775 non-null  object \n",
      " 19  installment           16775 non-null  float64\n",
      " 20  loan_status           16775 non-null  object \n",
      "dtypes: float64(15), object(6)\n",
      "memory usage: 2.7+ MB\n"
     ]
    }
   ],
   "source": [
    "df.info()"
   ]
  },
  {
   "cell_type": "code",
   "execution_count": 7,
   "metadata": {
    "slideshow": {
     "slide_type": "subslide"
    }
   },
   "outputs": [
    {
     "data": {
      "text/html": [
       "<div>\n",
       "<style scoped>\n",
       "    .dataframe tbody tr th:only-of-type {\n",
       "        vertical-align: middle;\n",
       "    }\n",
       "\n",
       "    .dataframe tbody tr th {\n",
       "        vertical-align: top;\n",
       "    }\n",
       "\n",
       "    .dataframe thead th {\n",
       "        text-align: right;\n",
       "    }\n",
       "</style>\n",
       "<table border=\"1\" class=\"dataframe\">\n",
       "  <thead>\n",
       "    <tr style=\"text-align: right;\">\n",
       "      <th></th>\n",
       "      <th>Description</th>\n",
       "    </tr>\n",
       "  </thead>\n",
       "  <tbody>\n",
       "    <tr>\n",
       "      <th>annual_inc</th>\n",
       "      <td>The self-reported annual income provided by the borrower during registration.</td>\n",
       "    </tr>\n",
       "    <tr>\n",
       "      <th>avg_cur_bal</th>\n",
       "      <td>Average current balance of all accounts</td>\n",
       "    </tr>\n",
       "    <tr>\n",
       "      <th>delinq_amnt</th>\n",
       "      <td>The past-due amount owed for the accounts on which the borrower is now delinquent.</td>\n",
       "    </tr>\n",
       "    <tr>\n",
       "      <th>dti</th>\n",
       "      <td>A ratio calculated using the borrower’s total monthly debt payments on the total debt obligations, excluding mortgage and the requested LC loan, divided by the borrower’s self-reported monthly income.</td>\n",
       "    </tr>\n",
       "    <tr>\n",
       "      <th>emp_length</th>\n",
       "      <td>Employment length in years. Possible values are between 0 and 10 where 0 means less than one year and 10 means ten or more years.</td>\n",
       "    </tr>\n",
       "    <tr>\n",
       "      <th>fico_range_high</th>\n",
       "      <td>The upper boundary range the borrower’s FICO at loan origination belongs to.</td>\n",
       "    </tr>\n",
       "    <tr>\n",
       "      <th>fico_range_low</th>\n",
       "      <td>The lower boundary range the borrower’s FICO at loan origination belongs to.</td>\n",
       "    </tr>\n",
       "    <tr>\n",
       "      <th>home_ownership</th>\n",
       "      <td>The home ownership status provided by the borrower during registration or obtained from the credit report. Our values are: RENT, OWN, MORTGAGE, OTHER</td>\n",
       "    </tr>\n",
       "    <tr>\n",
       "      <th>installment</th>\n",
       "      <td>The monthly payment owed by the borrower if the loan originates.</td>\n",
       "    </tr>\n",
       "    <tr>\n",
       "      <th>int_rate</th>\n",
       "      <td>Interest Rate on the loan</td>\n",
       "    </tr>\n",
       "    <tr>\n",
       "      <th>loan_amnt</th>\n",
       "      <td>The listed amount of the loan applied for by the borrower. If at some point in time, the credit department reduces the loan amount, then it will be reflected in this value.</td>\n",
       "    </tr>\n",
       "    <tr>\n",
       "      <th>loan_status</th>\n",
       "      <td>Current status of the loan</td>\n",
       "    </tr>\n",
       "    <tr>\n",
       "      <th>mort_acc</th>\n",
       "      <td>Number of mortgage accounts.</td>\n",
       "    </tr>\n",
       "    <tr>\n",
       "      <th>num_bc_tl</th>\n",
       "      <td>Number of bankcard accounts</td>\n",
       "    </tr>\n",
       "    <tr>\n",
       "      <th>num_tl_90g_dpd_24m</th>\n",
       "      <td>Number of accounts 90 or more days past due in last 24 months</td>\n",
       "    </tr>\n",
       "    <tr>\n",
       "      <th>open_acc</th>\n",
       "      <td>The number of open credit lines in the borrower's credit file.</td>\n",
       "    </tr>\n",
       "    <tr>\n",
       "      <th>pub_rec</th>\n",
       "      <td>Number of derogatory public records</td>\n",
       "    </tr>\n",
       "    <tr>\n",
       "      <th>pub_rec_bankruptcies</th>\n",
       "      <td>Number of public record bankruptcies</td>\n",
       "    </tr>\n",
       "    <tr>\n",
       "      <th>term</th>\n",
       "      <td>The number of payments on the loan. Values are in months and can be either 36 or 60.</td>\n",
       "    </tr>\n",
       "    <tr>\n",
       "      <th>total_acc</th>\n",
       "      <td>The total number of credit lines currently in the borrower's credit file</td>\n",
       "    </tr>\n",
       "    <tr>\n",
       "      <th>zip_code</th>\n",
       "      <td>The first 3 numbers of the zip code provided by the borrower in the loan application.</td>\n",
       "    </tr>\n",
       "  </tbody>\n",
       "</table>\n",
       "</div>"
      ],
      "text/plain": [
       "                                                                                                                                                                                                                   Description\n",
       "annual_inc                                                                                                                                       The self-reported annual income provided by the borrower during registration.\n",
       "avg_cur_bal                                                                                                                                                                            Average current balance of all accounts\n",
       "delinq_amnt                                                                                                                                 The past-due amount owed for the accounts on which the borrower is now delinquent.\n",
       "dti                   A ratio calculated using the borrower’s total monthly debt payments on the total debt obligations, excluding mortgage and the requested LC loan, divided by the borrower’s self-reported monthly income.\n",
       "emp_length                                                                                  Employment length in years. Possible values are between 0 and 10 where 0 means less than one year and 10 means ten or more years. \n",
       "fico_range_high                                                                                                                                   The upper boundary range the borrower’s FICO at loan origination belongs to.\n",
       "fico_range_low                                                                                                                                    The lower boundary range the borrower’s FICO at loan origination belongs to.\n",
       "home_ownership                                                           The home ownership status provided by the borrower during registration or obtained from the credit report. Our values are: RENT, OWN, MORTGAGE, OTHER\n",
       "installment                                                                                                                                                   The monthly payment owed by the borrower if the loan originates.\n",
       "int_rate                                                                                                                                                                                             Interest Rate on the loan\n",
       "loan_amnt                                         The listed amount of the loan applied for by the borrower. If at some point in time, the credit department reduces the loan amount, then it will be reflected in this value.\n",
       "loan_status                                                                                                                                                                                         Current status of the loan\n",
       "mort_acc                                                                                                                                                                                          Number of mortgage accounts.\n",
       "num_bc_tl                                                                                                                                                                                          Number of bankcard accounts\n",
       "num_tl_90g_dpd_24m                                                                                                                                               Number of accounts 90 or more days past due in last 24 months\n",
       "open_acc                                                                                                                                                        The number of open credit lines in the borrower's credit file.\n",
       "pub_rec                                                                                                                                                                                    Number of derogatory public records\n",
       "pub_rec_bankruptcies                                                                                                                                                                      Number of public record bankruptcies\n",
       "term                                                                                                                                      The number of payments on the loan. Values are in months and can be either 36 or 60.\n",
       "total_acc                                                                                                                                             The total number of credit lines currently in the borrower's credit file\n",
       "zip_code                                                                                                                                 The first 3 numbers of the zip code provided by the borrower in the loan application."
      ]
     },
     "metadata": {},
     "output_type": "display_data"
    },
    {
     "name": "stdout",
     "output_type": "stream",
     "text": [
      "As the xlwt package is no longer maintained, the xlwt engine will be removed in a future version of pandas. This is the only engine in pandas that supports writing in the xls format. Install openpyxl and write to an xlsx file instead.\n",
      "\n",
      ": boolean\n",
      "    use_inf_as_null had been deprecated and will be removed in a future\n",
      "    version. Use `use_inf_as_na` instead.\n",
      "\n"
     ]
    },
    {
     "name": "stderr",
     "output_type": "stream",
     "text": [
      "C:\\Users\\delliot2\\.conda\\envs\\mlp_pip\\lib\\site-packages\\pandas\\_config\\config.py:620: FutureWarning: As the xlwt package is no longer maintained, the xlwt engine will be removed in a future version of pandas. This is the only engine in pandas that supports writing in the xls format. Install openpyxl and write to an xlsx file instead.\n",
      "  warnings.warn(d.msg, FutureWarning)\n",
      "C:\\Users\\delliot2\\.conda\\envs\\mlp_pip\\lib\\site-packages\\pandas\\_config\\config.py:620: FutureWarning: \n",
      ": boolean\n",
      "    use_inf_as_null had been deprecated and will be removed in a future\n",
      "    version. Use `use_inf_as_na` instead.\n",
      "\n",
      "  warnings.warn(d.msg, FutureWarning)\n"
     ]
    }
   ],
   "source": [
    "def set_pandas_display_options() -> None:\n",
    "    \"\"\"Set pandas display options.\"\"\"\n",
    "    # Ref: https://stackoverflow.com/a/52432757/\n",
    "    display = pd.options.display\n",
    "\n",
    "    display.max_columns = 1000\n",
    "    display.max_rows = 1000\n",
    "    display.max_colwidth = 1000\n",
    "    display.width = None\n",
    "    # display.precision = 2  # set as needed\n",
    "\n",
    "set_pandas_display_options()\n",
    "info = pd.read_excel(\"../Data/LCData/LCDataDictionary.xlsx\")\n",
    "info = info[['LoanStatNew','Description']].iloc[0:-2]\n",
    "display(info.set_index('LoanStatNew').loc[df.columns].sort_index())\n",
    "pd.reset_option('all')"
   ]
  },
  {
   "cell_type": "code",
   "execution_count": 8,
   "metadata": {
    "slideshow": {
     "slide_type": "fragment"
    }
   },
   "outputs": [
    {
     "name": "stdout",
     "output_type": "stream",
     "text": [
      "\u001b[1m\u001b[4mLoan Status (%)\u001b[0m\n"
     ]
    },
    {
     "data": {
      "text/plain": [
       "Fully Paid     80.81\n",
       "Charged Off    19.19\n",
       "Name: loan_status, dtype: float64"
      ]
     },
     "execution_count": 8,
     "metadata": {},
     "output_type": "execute_result"
    }
   ],
   "source": [
    "print(color.BOLD+color.UNDERLINE+\"Loan Status (%)\"+color.END)\n",
    "((df['loan_status'].value_counts()/len(df['loan_status']))*100).round(2)"
   ]
  },
  {
   "cell_type": "markdown",
   "metadata": {
    "slideshow": {
     "slide_type": "skip"
    }
   },
   "source": [
    "__Extra: Ethics__\n",
    "- Are all these variables \"fair\"?"
   ]
  },
  {
   "cell_type": "markdown",
   "metadata": {
    "slideshow": {
     "slide_type": "skip"
    }
   },
   "source": [
    "### Data Prep"
   ]
  },
  {
   "cell_type": "code",
   "execution_count": 9,
   "metadata": {
    "slideshow": {
     "slide_type": "skip"
    }
   },
   "outputs": [
    {
     "name": "stdout",
     "output_type": "stream",
     "text": [
      "<class 'pandas.core.frame.DataFrame'>\n",
      "RangeIndex: 16775 entries, 0 to 16774\n",
      "Data columns (total 19 columns):\n",
      " #   Column                Non-Null Count  Dtype  \n",
      "---  ------                --------------  -----  \n",
      " 0   loan_amnt             16775 non-null  float64\n",
      " 1   int_rate              16775 non-null  float64\n",
      " 2   annual_inc            16775 non-null  float64\n",
      " 3   dti                   16775 non-null  float64\n",
      " 4   total_acc             16775 non-null  float64\n",
      " 5   term                  16775 non-null  int32  \n",
      " 6   emp_length            16775 non-null  int32  \n",
      " 7   open_acc              16775 non-null  float64\n",
      " 8   pub_rec               16775 non-null  float64\n",
      " 9   pub_rec_bankruptcies  16775 non-null  float64\n",
      " 10  mort_acc              16775 non-null  float64\n",
      " 11  avg_cur_bal           16775 non-null  float64\n",
      " 12  delinq_amnt           16775 non-null  float64\n",
      " 13  fico_range_high       16775 non-null  float64\n",
      " 14  fico_range_low        16775 non-null  float64\n",
      " 15  num_bc_tl             16775 non-null  float64\n",
      " 16  num_tl_90g_dpd_24m    16775 non-null  float64\n",
      " 17  installment           16775 non-null  float64\n",
      " 18  loan_status           16775 non-null  object \n",
      "dtypes: float64(16), int32(2), object(1)\n",
      "memory usage: 2.3+ MB\n"
     ]
    }
   ],
   "source": [
    "# turn intrest rate into a float\n",
    "df['int_rate'] = df['int_rate'].str.replace(r'%', '').astype(float)\n",
    "# get the employment length in years\n",
    "df['emp_length'] = df['emp_length'].str.extract('(\\d+)').astype(int)\n",
    "# get the loan term in months\n",
    "df['term'] = df['term'].str.extract('(\\d+)').astype(int)\n",
    "# we are going to remove categorical variables for now as scikit-learn\n",
    "# doesnt like them (see later).\n",
    "cont_df = df.drop(['home_ownership', 'zip_code'], axis=1)\n",
    "cont_df.info()"
   ]
  },
  {
   "cell_type": "code",
   "execution_count": 10,
   "metadata": {
    "slideshow": {
     "slide_type": "skip"
    }
   },
   "outputs": [],
   "source": [
    "from sklearn.preprocessing import LabelEncoder\n",
    "from sklearn.model_selection import train_test_split\n",
    "\n",
    "LE = LabelEncoder()\n",
    "data_x, data_y = cont_df.drop(['loan_status'], axis=1), cont_df['loan_status']\n",
    "\n",
    "# it will do this alpabetically but we want our positive value to\n",
    "# be \"charged off\".\n",
    "classes = list(cont_df['loan_status'].unique())\n",
    "classes.sort(reverse=True)\n",
    "LE.fit(classes)\n",
    "LE.classes = np.array(classes)\n",
    "LE.classes_ = np.array(classes)\n",
    "\n",
    "data_y = LE.transform(data_y)\n",
    "\n",
    "X_train, X_test, y_train, y_test = train_test_split(data_x.values, data_y, test_size = 0.1, random_state=42)\n",
    "X_train, X_val, y_train, y_val = train_test_split(X_train, y_train, test_size = 0.1, random_state=42)"
   ]
  },
  {
   "cell_type": "markdown",
   "metadata": {
    "slideshow": {
     "slide_type": "subslide"
    }
   },
   "source": [
    "## Forest\n",
    "We can deal with class imballance alike to discussed last week using <code>class_weight = 'balanced'</code>.\n",
    "\n",
    "We also undersample using a _ballanced random forest_, which builds several estimators on different randomly selected subsets of data. \n",
    "\n",
    "Generally what performs better depends on the amount of data you are training on and the aims of the model."
   ]
  },
  {
   "cell_type": "markdown",
   "metadata": {
    "slideshow": {
     "slide_type": "notes"
    }
   },
   "source": [
    "__Notes__\n",
    "- Balanced Random Forests are generally faster to train.\n",
    "- If data is small then class weight will probably be better (as seen below), but if you have very large datasets, then undersampling will likely work better."
   ]
  },
  {
   "cell_type": "code",
   "execution_count": 11,
   "metadata": {
    "slideshow": {
     "slide_type": "skip"
    }
   },
   "outputs": [],
   "source": [
    "# from https://realpython.com/python-timer/\n",
    "\n",
    "import time\n",
    "\n",
    "class TimerError(Exception):\n",
    "    \"\"\"A custom exception used to report errors in use of Timer class\"\"\"\n",
    "\n",
    "class Timer:\n",
    "    def __init__(self):\n",
    "        self._start_time = None\n",
    "\n",
    "    def start(self):\n",
    "        \"\"\"Start a new timer\"\"\"\n",
    "        if self._start_time is not None:\n",
    "            raise TimerError(f\"Timer is running. Use .stop() to stop it\")\n",
    "\n",
    "        self._start_time = time.perf_counter()\n",
    "\n",
    "    def stop(self):\n",
    "        \"\"\"Stop the timer, and report the elapsed time\"\"\"\n",
    "        if self._start_time is None:\n",
    "            raise TimerError(f\"Timer is not running. Use .start() to start it\")\n",
    "\n",
    "        elapsed_time = time.perf_counter() - self._start_time\n",
    "        self._start_time = None\n",
    "        print(f\"Elapsed time: {elapsed_time:0.2f} seconds\")\n",
    "        return elapsed_time"
   ]
  },
  {
   "cell_type": "code",
   "execution_count": 12,
   "metadata": {
    "slideshow": {
     "slide_type": "fragment"
    }
   },
   "outputs": [
    {
     "name": "stdout",
     "output_type": "stream",
     "text": [
      "\u001b[1m\u001b[4mRandom Forest\u001b[0m\n",
      "Elapsed time: 0.64 seconds\n",
      "OOB Score: 0.803\n",
      "\u001b[1m\u001b[4mRandom Forest (Balanced Class Weight)\u001b[0m\n",
      "Elapsed time: 0.67 seconds\n",
      "OOB Score: 0.803\n",
      "\u001b[1m\u001b[4mBalanced Random Forest\u001b[0m\n",
      "Elapsed time: 0.63 seconds\n",
      "OOB Score: 0.635\n"
     ]
    }
   ],
   "source": [
    "from imblearn.ensemble import BalancedRandomForestClassifier\n",
    "from sklearn.ensemble import RandomForestClassifier\n",
    "from sklearn.model_selection import cross_val_score\n",
    "from sklearn.base import clone\n",
    "\n",
    "t = Timer()\n",
    "\n",
    "RF = RandomForestClassifier(criterion='gini',\n",
    "                            n_estimators=100,\n",
    "                            random_state=42,\n",
    "                            oob_score = True,\n",
    "                            n_jobs=-1)\n",
    "\n",
    "RF_weight = clone(RF)\n",
    "RF_weight.set_params(**{'class_weight': 'balanced'})\n",
    "\n",
    "bal_f = BalancedRandomForestClassifier(criterion='gini',\n",
    "                                       n_estimators=100,\n",
    "                                       max_features = 'sqrt',\n",
    "                                       random_state=42,\n",
    "                                       oob_score = True,\n",
    "                                       n_jobs=-1)\n",
    "\n",
    "rf_dict = {'Random Forest':RF, 'Random Forest (Balanced Class Weight)':RF_weight, 'Balanced Random Forest':bal_f}\n",
    "\n",
    "for classifier_name in rf_dict:\n",
    "    t.start()\n",
    "    rf_dict[classifier_name].fit(X_train, y=y_train)\n",
    "    print(color.BOLD+color.UNDERLINE+classifier_name+color.END)\n",
    "    t.stop()\n",
    "    print('OOB Score: %.3f' % (rf_dict[classifier_name].oob_score_))"
   ]
  },
  {
   "cell_type": "code",
   "execution_count": 13,
   "metadata": {
    "slideshow": {
     "slide_type": "subslide"
    }
   },
   "outputs": [
    {
     "data": {
      "image/png": "[encoded data removed]",
      "text/plain": [
       "<Figure size 776.64x480 with 1 Axes>"
      ]
     },
     "metadata": {
      "needs_background": "light"
     },
     "output_type": "display_data"
    },
    {
     "data": {
      "image/png": "[encoded data removed]",
      "text/plain": [
       "<Figure size 776.64x480 with 1 Axes>"
      ]
     },
     "metadata": {
      "needs_background": "light"
     },
     "output_type": "display_data"
    },
    {
     "data": {
      "image/png": "[encoded data removed]",
      "text/plain": [
       "<Figure size 776.64x480 with 1 Axes>"
      ]
     },
     "metadata": {
      "needs_background": "light"
     },
     "output_type": "display_data"
    }
   ],
   "source": [
    "from sklearn.metrics import confusion_matrix\n",
    "import warnings # prevent warnings\n",
    "\n",
    "# this creates the matplotlib graph to make the confmat look nicer\n",
    "def pretty_confusion_matrix(confmat, labels, title, labeling=False, highlight_indexes=[]):\n",
    "\n",
    "    labels_list = [[\"TN\", \"FP\"], [\"FN\", \"TP\"]]\n",
    "    \n",
    "    fig, ax = plt.subplots(figsize=(width_inch, height_inch))\n",
    "    ax.matshow(confmat, cmap=plt.cm.Blues, alpha=0.3)\n",
    "    for i in range(confmat.shape[0]):\n",
    "        for j in range(confmat.shape[1]):\n",
    "            if labeling:\n",
    "                label = str(confmat[i, j])+\" (\"+labels_list[i][j]+\")\"\n",
    "            else:\n",
    "                label = confmat[i, j]\n",
    "            \n",
    "            \n",
    "            if [i,j] in highlight_indexes:\n",
    "                ax.text(x=j, y=i, s=label, va='center', ha='center',\n",
    "                        weight = \"bold\", fontsize=18, color='#32618b')\n",
    "            else:\n",
    "                ax.text(x=j, y=i, s=label, va='center', ha='center')\n",
    "       \n",
    "    # change the labels\n",
    "    with warnings.catch_warnings():\n",
    "        warnings.simplefilter(\"ignore\")\n",
    "        ax.set_xticklabels(['']+[labels[0], labels[1]])\n",
    "        ax.set_yticklabels(['']+[labels[0], labels[1]])\n",
    "\n",
    "    plt.xlabel('Predicted Label')\n",
    "    plt.ylabel('True Label')\n",
    "    ax.xaxis.set_label_position('top')\n",
    "    plt.suptitle(title)\n",
    "    plt.tight_layout()\n",
    "    \n",
    "    plt.show()\n",
    "    \n",
    "\n",
    "for classifier_name in rf_dict:\n",
    "    # use the first classifier to predict the validation set    \n",
    "    predictions = rf_dict[classifier_name].predict(X_val)\n",
    "\n",
    "    # get the confusion matrix as a numpy array\n",
    "    confmat = confusion_matrix(y_true=y_val, y_pred=predictions)\n",
    "\n",
    "    fig_num+=1\n",
    "    # use the pretty function to make it nicer\n",
    "    pretty_confusion_matrix(confmat, LE.classes_,\n",
    "                            \"Figure %d: \"%fig_num+classifier_name+\" Validation Confusion Matrix\",\n",
    "                            labeling=True,\n",
    "                           )"
   ]
  },
  {
   "cell_type": "code",
   "execution_count": 14,
   "metadata": {
    "slideshow": {
     "slide_type": "skip"
    }
   },
   "outputs": [
    {
     "data": {
      "text/html": [
       "<div>\n",
       "<style scoped>\n",
       "    .dataframe tbody tr th:only-of-type {\n",
       "        vertical-align: middle;\n",
       "    }\n",
       "\n",
       "    .dataframe tbody tr th {\n",
       "        vertical-align: top;\n",
       "    }\n",
       "\n",
       "    .dataframe thead th {\n",
       "        text-align: right;\n",
       "    }\n",
       "</style>\n",
       "<table border=\"1\" class=\"dataframe\">\n",
       "  <thead>\n",
       "    <tr style=\"text-align: right;\">\n",
       "      <th></th>\n",
       "      <th></th>\n",
       "      <th>Fully Paid</th>\n",
       "      <th>Charged Off</th>\n",
       "      <th>accuracy</th>\n",
       "      <th>macro avg</th>\n",
       "      <th>weighted avg</th>\n",
       "    </tr>\n",
       "    <tr>\n",
       "      <th>classifer</th>\n",
       "      <th>metric</th>\n",
       "      <th></th>\n",
       "      <th></th>\n",
       "      <th></th>\n",
       "      <th></th>\n",
       "      <th></th>\n",
       "    </tr>\n",
       "  </thead>\n",
       "  <tbody>\n",
       "    <tr>\n",
       "      <th rowspan=\"4\" valign=\"top\">Random Forest</th>\n",
       "      <th>precision</th>\n",
       "      <td>0.82</td>\n",
       "      <td>0.55</td>\n",
       "      <td>0.82</td>\n",
       "      <td>0.69</td>\n",
       "      <td>0.77</td>\n",
       "    </tr>\n",
       "    <tr>\n",
       "      <th>recall</th>\n",
       "      <td>0.99</td>\n",
       "      <td>0.06</td>\n",
       "      <td>0.82</td>\n",
       "      <td>0.52</td>\n",
       "      <td>0.82</td>\n",
       "    </tr>\n",
       "    <tr>\n",
       "      <th>f1-score</th>\n",
       "      <td>0.90</td>\n",
       "      <td>0.11</td>\n",
       "      <td>0.82</td>\n",
       "      <td>0.50</td>\n",
       "      <td>0.75</td>\n",
       "    </tr>\n",
       "    <tr>\n",
       "      <th>support</th>\n",
       "      <td>1230.00</td>\n",
       "      <td>280.00</td>\n",
       "      <td>0.82</td>\n",
       "      <td>1510.00</td>\n",
       "      <td>1510.00</td>\n",
       "    </tr>\n",
       "    <tr>\n",
       "      <th rowspan=\"4\" valign=\"top\">Random Forest (Balanced Class Weight)</th>\n",
       "      <th>precision</th>\n",
       "      <td>0.81</td>\n",
       "      <td>0.19</td>\n",
       "      <td>0.81</td>\n",
       "      <td>0.50</td>\n",
       "      <td>0.70</td>\n",
       "    </tr>\n",
       "    <tr>\n",
       "      <th>recall</th>\n",
       "      <td>0.99</td>\n",
       "      <td>0.01</td>\n",
       "      <td>0.81</td>\n",
       "      <td>0.50</td>\n",
       "      <td>0.81</td>\n",
       "    </tr>\n",
       "    <tr>\n",
       "      <th>f1-score</th>\n",
       "      <td>0.89</td>\n",
       "      <td>0.03</td>\n",
       "      <td>0.81</td>\n",
       "      <td>0.46</td>\n",
       "      <td>0.73</td>\n",
       "    </tr>\n",
       "    <tr>\n",
       "      <th>support</th>\n",
       "      <td>1230.00</td>\n",
       "      <td>280.00</td>\n",
       "      <td>0.81</td>\n",
       "      <td>1510.00</td>\n",
       "      <td>1510.00</td>\n",
       "    </tr>\n",
       "    <tr>\n",
       "      <th rowspan=\"4\" valign=\"top\">Balanced Random Forest</th>\n",
       "      <th>precision</th>\n",
       "      <td>0.87</td>\n",
       "      <td>0.26</td>\n",
       "      <td>0.60</td>\n",
       "      <td>0.56</td>\n",
       "      <td>0.76</td>\n",
       "    </tr>\n",
       "    <tr>\n",
       "      <th>recall</th>\n",
       "      <td>0.60</td>\n",
       "      <td>0.60</td>\n",
       "      <td>0.60</td>\n",
       "      <td>0.60</td>\n",
       "      <td>0.60</td>\n",
       "    </tr>\n",
       "    <tr>\n",
       "      <th>f1-score</th>\n",
       "      <td>0.71</td>\n",
       "      <td>0.36</td>\n",
       "      <td>0.60</td>\n",
       "      <td>0.54</td>\n",
       "      <td>0.65</td>\n",
       "    </tr>\n",
       "    <tr>\n",
       "      <th>support</th>\n",
       "      <td>1230.00</td>\n",
       "      <td>280.00</td>\n",
       "      <td>0.60</td>\n",
       "      <td>1510.00</td>\n",
       "      <td>1510.00</td>\n",
       "    </tr>\n",
       "  </tbody>\n",
       "</table>\n",
       "</div>"
      ],
      "text/plain": [
       "                                                 Fully Paid  Charged Off  \\\n",
       "classifer                             metric                               \n",
       "Random Forest                         precision        0.82         0.55   \n",
       "                                      recall           0.99         0.06   \n",
       "                                      f1-score         0.90         0.11   \n",
       "                                      support       1230.00       280.00   \n",
       "Random Forest (Balanced Class Weight) precision        0.81         0.19   \n",
       "                                      recall           0.99         0.01   \n",
       "                                      f1-score         0.89         0.03   \n",
       "                                      support       1230.00       280.00   \n",
       "Balanced Random Forest                precision        0.87         0.26   \n",
       "                                      recall           0.60         0.60   \n",
       "                                      f1-score         0.71         0.36   \n",
       "                                      support       1230.00       280.00   \n",
       "\n",
       "                                                 accuracy  macro avg  \\\n",
       "classifer                             metric                           \n",
       "Random Forest                         precision      0.82       0.69   \n",
       "                                      recall         0.82       0.52   \n",
       "                                      f1-score       0.82       0.50   \n",
       "                                      support        0.82    1510.00   \n",
       "Random Forest (Balanced Class Weight) precision      0.81       0.50   \n",
       "                                      recall         0.81       0.50   \n",
       "                                      f1-score       0.81       0.46   \n",
       "                                      support        0.81    1510.00   \n",
       "Balanced Random Forest                precision      0.60       0.56   \n",
       "                                      recall         0.60       0.60   \n",
       "                                      f1-score       0.60       0.54   \n",
       "                                      support        0.60    1510.00   \n",
       "\n",
       "                                                 weighted avg  \n",
       "classifer                             metric                   \n",
       "Random Forest                         precision          0.77  \n",
       "                                      recall             0.82  \n",
       "                                      f1-score           0.75  \n",
       "                                      support         1510.00  \n",
       "Random Forest (Balanced Class Weight) precision          0.70  \n",
       "                                      recall             0.81  \n",
       "                                      f1-score           0.73  \n",
       "                                      support         1510.00  \n",
       "Balanced Random Forest                precision          0.76  \n",
       "                                      recall             0.60  \n",
       "                                      f1-score           0.65  \n",
       "                                      support         1510.00  "
      ]
     },
     "metadata": {},
     "output_type": "display_data"
    }
   ],
   "source": [
    "from sklearn.metrics import classification_report\n",
    "\n",
    "for i, classifier_name in enumerate(rf_dict):\n",
    "    # use the first classifier to predict the validation set    \n",
    "    predictions = rf_dict[classifier_name].predict(X_val)\n",
    "\n",
    "    report = pd.DataFrame(classification_report(y_val, \n",
    "                                       predictions, \n",
    "                                       labels=None, \n",
    "                                       target_names=LE.classes_, \n",
    "                                       sample_weight=None, \n",
    "                                       digits=2, \n",
    "                                       output_dict=True)).round(2)\n",
    "    report['classifer'] = classifier_name\n",
    "    \n",
    "    if i == 0:\n",
    "        reports = report\n",
    "    else:\n",
    "        reports = pd.concat([reports, report])\n",
    "\n",
    "reports.index.name = 'metric'\n",
    "reports = reports.set_index('classifer', append=True)\n",
    "reports = reports.swaplevel()\n",
    "display(reports)"
   ]
  },
  {
   "cell_type": "markdown",
   "metadata": {
    "slideshow": {
     "slide_type": "skip"
    }
   },
   "source": [
    "__Extra__\n",
    "\n",
    "Above was just done on pretty much the default params so you'd want to do some searches to get better hyperparameters."
   ]
  },
  {
   "cell_type": "code",
   "execution_count": 16,
   "metadata": {},
   "outputs": [
    {
     "data": {
      "text/html": [
       "<div>\n",
       "<style scoped>\n",
       "    .dataframe tbody tr th:only-of-type {\n",
       "        vertical-align: middle;\n",
       "    }\n",
       "\n",
       "    .dataframe tbody tr th {\n",
       "        vertical-align: top;\n",
       "    }\n",
       "\n",
       "    .dataframe thead th {\n",
       "        text-align: right;\n",
       "    }\n",
       "</style>\n",
       "<table border=\"1\" class=\"dataframe\">\n",
       "  <thead>\n",
       "    <tr style=\"text-align: right;\">\n",
       "      <th></th>\n",
       "      <th>param_n_estimators</th>\n",
       "      <th>param_max_features</th>\n",
       "      <th>param_class_weight</th>\n",
       "      <th>mean_test_score</th>\n",
       "      <th>std_test_score</th>\n",
       "    </tr>\n",
       "  </thead>\n",
       "  <tbody>\n",
       "    <tr>\n",
       "      <th>1</th>\n",
       "      <td>460</td>\n",
       "      <td>2</td>\n",
       "      <td>None</td>\n",
       "      <td>0.805991</td>\n",
       "      <td>0.007311</td>\n",
       "    </tr>\n",
       "    <tr>\n",
       "      <th>0</th>\n",
       "      <td>120</td>\n",
       "      <td>17</td>\n",
       "      <td>None</td>\n",
       "      <td>0.800691</td>\n",
       "      <td>0.005001</td>\n",
       "    </tr>\n",
       "  </tbody>\n",
       "</table>\n",
       "</div>"
      ],
      "text/plain": [
       "  param_n_estimators param_max_features param_class_weight  mean_test_score  \\\n",
       "1                460                  2               None         0.805991   \n",
       "0                120                 17               None         0.800691   \n",
       "\n",
       "   std_test_score  \n",
       "1        0.007311  \n",
       "0        0.005001  "
      ]
     },
     "metadata": {},
     "output_type": "display_data"
    }
   ],
   "source": [
    "from time import time\n",
    "import joblib\n",
    "rf_param_dist = {'n_estimators': range(50, 500),\n",
    "                 'max_features': range(1, X_train.shape[1]),\n",
    "                 'class_weight': [None, 'balanced']}\n",
    "\n",
    "# tbf a random search here would be better but I guess I'm doing this for comparison\n",
    "# with the previous plot.\n",
    "lc_rf_rs = hyper_search(RF, rf_param_dist, X_train, y_train,\n",
    "                        os.path.join(os.getcwd(), \"Models\", \"lc_rf_rs.pkl\"),\n",
    "                        n_iter=2, overwrite=False, metric=\"f1\", verbose=2)\n",
    "display(pd.DataFrame(lc_rf_rs.cv_results_).sort_values(\"rank_test_score\")[[\"param_n_estimators\",\n",
    "                                                                           \"param_max_features\",\n",
    "                                                                           \"param_class_weight\",\n",
    "                                                                           \"mean_test_score\", \n",
    "                                                                           \"std_test_score\"]].head())"
   ]
  },
  {
   "cell_type": "code",
   "execution_count": 17,
   "metadata": {},
   "outputs": [
    {
     "data": {
      "text/html": [
       "<div>\n",
       "<style scoped>\n",
       "    .dataframe tbody tr th:only-of-type {\n",
       "        vertical-align: middle;\n",
       "    }\n",
       "\n",
       "    .dataframe tbody tr th {\n",
       "        vertical-align: top;\n",
       "    }\n",
       "\n",
       "    .dataframe thead th {\n",
       "        text-align: right;\n",
       "    }\n",
       "</style>\n",
       "<table border=\"1\" class=\"dataframe\">\n",
       "  <thead>\n",
       "    <tr style=\"text-align: right;\">\n",
       "      <th></th>\n",
       "      <th>param_n_estimators</th>\n",
       "      <th>param_max_features</th>\n",
       "      <th>mean_test_score</th>\n",
       "      <th>std_test_score</th>\n",
       "    </tr>\n",
       "  </thead>\n",
       "  <tbody>\n",
       "    <tr>\n",
       "      <th>0</th>\n",
       "      <td>120</td>\n",
       "      <td>17</td>\n",
       "      <td>0.622434</td>\n",
       "      <td>0.008163</td>\n",
       "    </tr>\n",
       "    <tr>\n",
       "      <th>1</th>\n",
       "      <td>453</td>\n",
       "      <td>17</td>\n",
       "      <td>0.618607</td>\n",
       "      <td>0.006659</td>\n",
       "    </tr>\n",
       "  </tbody>\n",
       "</table>\n",
       "</div>"
      ],
      "text/plain": [
       "  param_n_estimators param_max_features  mean_test_score  std_test_score\n",
       "0                120                 17         0.622434        0.008163\n",
       "1                453                 17         0.618607        0.006659"
      ]
     },
     "metadata": {},
     "output_type": "display_data"
    }
   ],
   "source": [
    "del rf_param_dist['class_weight']\n",
    "\n",
    "# tbf a random search here would be better but I guess I'm doing this for comparison\n",
    "# with the previous plot.\n",
    "lc_bal_rf_rs = hyper_search(bal_f, rf_param_dist, X_train, y_train,\n",
    "                        os.path.join(os.getcwd(), \"Models\", \"lc_bal_rf_rs.pkl\"),\n",
    "                        n_iter=2, overwrite=False, metric=\"f1\", verbose=2)\n",
    "display(pd.DataFrame(lc_bal_rf_rs.cv_results_).sort_values(\"rank_test_score\")[[\"param_n_estimators\",\n",
    "                                                                               \"param_max_features\",\n",
    "                                                                               \"mean_test_score\", \n",
    "                                                                               \"std_test_score\"]].head())"
   ]
  },
  {
   "cell_type": "markdown",
   "metadata": {
    "slideshow": {
     "slide_type": "slide"
    }
   },
   "source": [
    "## 8. Feature Interpretation/Reduction <a id='feats'>\n",
    "    \n",
    "Feature importances, as we have previously seen, can give us insight into the important features for a forest."
   ]
  },
  {
   "cell_type": "code",
   "execution_count": 18,
   "metadata": {
    "slideshow": {
     "slide_type": "fragment"
    }
   },
   "outputs": [
    {
     "data": {
      "text/html": [
       "<center><img src='data:image/png;base64,iVBORw0KGgoAAAANSUhEUgAAAvwAAAHcCAYAAACqHH4kAAAAOXRFWHRTb2Z0d2FyZQBNYXRwbG90bGliIHZlcnNpb24zLjMuNCwgaHR0cHM6Ly9tYXRwbG90bGliLm9yZy8QVMy6AAAACXBIWXMAABJ0AAASdAHeZh94AACEdElEQVR4nOzde7xlc/3H8debjGsZl1GRjLvMUSiViqFCUlH4KZRBvzDlEnJLDEUqISTkMiGJMG65hRnXHxqhM%2BQyHNeYwQyGGZfx%2Bf3x/W7WrNn7nLP3uexz9ryfj8d57LO/67u%2B67vWXmefz/qu7/e7FBGYmZmZmVlrmq/ZFTAzMzMzs77jgN/MzMzMrIU54DczMzMza2EO%2BM3MzMzMWpgDfjMzMzOzFuaA38zMzMyshTngNzMzMzNrYQ74zczMzMxamAN%2BMzMzM7MW5oDfzMzMzKyFOeA3MzMzM2thgyrglzRcUkga2%2By6mJlZ80haQNIRkh6R9Eb%2B37BVs%2Bs10EnaKB%2BrMc2uS3/K%2Bzy%2B2fXoS5JG5f0c1ey62MAzYAL%2BfJJ29jOq2XVsFiXXF47F%2B/pgG8tLmp3LP7q3y59XSRrbxXk9vgl1Gd5f2%2BwthSBlfLPr0tf8T7vb9gMOA54FjgWOAP7T1Br1QOEcL/%2B8LmmSpGMkLdnses4rqnwOsyW9JGl8/htVs%2Bs42Eka08X/x45m17ERA/V/Va8Hjr3giBrp9wLPAB8DXu632gwMPwI2BmYBC/XRNr5PugAMYGdJh0XE2320rXnRZaRzuKyjf6th1jK%2BBswANomIN5tdmV70BDA2/y5gaeArwIHANyV9MiJmNKlu86JKTLIAsArwTWAk8CnS/2bruQnA%2BCrp0/u3Gq1twAX8ETGmiyyDtgWnEZJWB35FasH6NrBCH2xjfmAX4BXgPGA08A3gkt7e1jxsXESMbXYlzFrIssCLLRbsA3SU/w9KGgLcDnwS2Ib3Lgisj1X5LD4P3AyMlvTbiHi8KRVrLeO7EftZDw2YLj3d0VkffkmrSbpY0jRJr0m6XdIWtW6Pd3bLpVrXh%2BK287b%2BKmmKpHckbVTIt5mkv0t6IfcrnSzpN5KGNrC/7wPOBR4DDq93/TpsDnwE%2BCvwh5z2v6W6fDvv//E16rpgPvb/LXc5kvQdSTdJmi5plqQHJR0qacEq5US%2BZfohSWdIeibfSh2Vl6%2BWb23/U9LUfIyfkHS6pI90Urcxkh7L%2BR%2BX9IucXvU8kPQ%2BSaMl/Z%2BkV/Jt9X9J%2BpGkPvu7qfNYbSXpPEkP53P%2BNUkTJe1VrqOkAHbKbx%2BvdstUUketW6iFW68blcvt7PPKeT4j6W%2BSnpP0pqSnJJ0madkGD1Nx%2B%2B/%2BfUvaRNItkmbkc%2BPsyt%2BdpHUkXZnP0RmSLleVrk15XyKfG7/I50rl7/hwpcCrWj2%2BJOkapVv%2Bb%2BTP5BhJi3eyjSGSDpP0UF5nbD4Xz85Zz9act7eH5/WXzevdVjimz0o6X9KaVbZX/O4aLukCpe%2BnWfnv6GudHN/tJN2Q92tWPkf%2BIulTVfLWc%2B5uIOkKSU/nfX8u/611%2BT2X9yOAFYEVqp3LOd//SLpZ0suSZkr6t6SDa9SnI/98QNJx%2Bfe31I1%2B7vncu1jp%2B2Wm0vfFbZJ27Grd7soXNRPy22Gl7df9nVhjPz4p6XeS7it83o9I%2Bq2kJarkL/7tbZzP61fz/l8l6WM1trOIpANzfV9V%2Bnt8UNKJkj5YJe/Bku5V%2Bn6bIekOSd%2BpUfYQST9T%2Bnud47u%2Bu8ehKxFxG6nhUaQLsOL2%2B%2BsYriLpIpXinc7qnet2sVLcUjlHTpH04Sp5KzHQikr/8x7Qe3//h0ipO5OkbSXdleswRdLJkhau43DWpcF9WEnSnpLuz3%2Bf4wt5lpT0y3z%2BzVT6rrhB0qZVyhui9L/1nnzcX8/H4zJJX855Ril9NwGM1Jzf32P66LB024Br4W%2BEpDVIrR9LAFcB9wMrAZcCf%2B/lza0M3Ak8DPwZWJjUMo7SP6sxwEvAlcAU4OPA/sBXJa0fEa/Usa1DgXWA9SPiDXXSZVApwDob%2BFNEjKprj%2BAH%2BXVsRLRLmghsKmmFiHgiLxtH6kq1vaSfVOnusyUwFPhtcZmks4CdgaeBi0m36D4L/Bz4kqRNqpS1JPB/pNv1lwDvAM/nZd8CdgduIn3mbwIjSF2Svi7pUxHxTGH7ytvdAngEOJl0a3ZUXm8ukhYArgA2Ax4Czid1p9oYOAn4DPDdauv2RAPH6hjSsbmT1N1tceCLwO%2BA9Up1PALYCvhEXj49p0%2Bn52p%2BXpJ2AU4H3gAuB54CVuW9z%2BuzEfFkL9ThG6QuHlcCpwKfI33GwyUdDNwA3AKcCawFfB1YSdLHI%2BKdKuVdSDqGfwPeIp3fY4BPSfpGRFS%2B1JG0G%2BlC%2BTXgItLf/UakLhhfl/T5iJheZRsX521cTfr7mkK6rT09b6/cDaxSxobAQaS/gYtJx31VUsvvN/L27quyvRWAu0gNCOeSPrftgMskfTkibirsk0jfJzsBL5A%2B16mkhoGNSX8X/yzk7/a5K%2BkrpO/pV0jnxDO5Lh8j3V2s1a2zYhypK9w%2B%2Bf0JpeOD0jikg3Pdz8/HaHPgaGAzSZtWuTMwBLgx1%2BW6XL/utN7%2BAZhEavX9L7AU8FXgXEmrR8TPulFGp/J30sj89p%2BlxXV9J3bif0ndVSYA/yA1CH4S2BfYXNJnIuLVKut9jXS%2BXk3621uTtP/rSVozIl4o7McSuZ6fIJ1DZ%2BX6rkw6fy7hve%2BOoaTPYx3gnpx3PtL38vmSRkTEoYWyRfq73RKYTPquH0K6e71WN/a/EW%2BV3vfHMVwVuIN0nl1N%2Bo5YhfR3cXW1Sipd1F9Mukj5G6nb2CeBPYAtJX2hxp2KY0nfZVeQ/ia%2BARwFDJH0Eul/0DjSd%2BsmwA%2BB%2BXO5vaoH%2B/A7YAPSd87fgdm5vBVI37fDc/2vARYlfRbXSNotIv5YKGcs8B2gHTgHmEm6y/gFUpe7f5A%2BiyNIDbTFrnlQvctS/4qIAfFD6jsepH%2Bq5Z9ROc/wnGdsad0bcvoepfTNC%2BWOqrK98TXqMjYvH15IG14o6%2Bgq62ycl90ODC0tG5WXHV/H8ViP9GXy80JaRy7nfVXyV7YxtrvbyOstB7wNPFRI%2B1Eu6%2BelvKfl9K9VKeeqvGytKnW6BFi4lH9MXrZ3jfPgnBr7uRywYJX0TUl/yH8opX83l3czMKSQPpTUSjPXeVCo20nA/IX0%2BUkBYwBbdvP4Vs6lcVXO6zGVc6XBY7Vyle3NB/wp5/9MV%2Bd1aXkHqTtBtWWVOmzU3c8LWI30z/xRYLnSsi/lz%2BvSbh7HjWp8VpXj9jYwsnQcrs/LXgJ2KK1X9XMkfSkH6YJ%2BiUL6QqR/sgF8t5C%2BAuli5hVgjVJZp%2BT8p9fYxv3A0p38LY%2BqcSyWAd5fJf0TpMD26lL68MLndHhp2WY5/e%2Bl9B/k9LuAxUvL5gc%2BXKW%2B3Tp3Sf%2B0A/hElX2Y63h0ck5UPV%2BB9XP5TwIfKqS/jxS4BHBIlbKC9E970e7WIWr/HQ4h/V96q3zud%2BMc7%2BC974cjSIHrI/k8%2B2WV9er9TqxsZ0wpfQUK33eF9F1z/gM7%2Bdv7UmnZL/OyA0rp5%2Bf0PwDzlZYtVjzXeO/7qlzGQqTg7B1g7UL69jn/HcBChfQlSRcANf/n1/g8Aogq6Rvm4/pG8e%2BgH4/hdVT/f7Al7/2djyqkLwa8mOu8QWmdA3P%2B60rplWPfUTx/Sf83XyA1bkwFPlZYtiDwQD4uy3TzGI%2BpfC5U//84vBf24RlgxSrbHp/PoW%2BX0oeSAveZwAdz2uI57z9rfL5LVTl3un2u9ddP0ytQOkC1fsbnPMMpBbXA8jntEUpfIHl55Z/%2BqCrbq/qB0HnA/xzVv1wvzctH1CjzX8CUbh6LhUnB6L3AAoX0DmoH/IsDa1D6AurGtn6Wyzy4kLZk/qN9hjkD3s/lvBeVyvgQ6Qvrnir7/BalC6C8bH7SF8ddVT6Xbn9hlNa9H3islPaPXOaGVfLvUD4PSIHii6SWumrHeWj%2Bw7%2Bwm3WqnEu1foY3eqw62ea6uezDujqvS8s7aCzgr/p5Acfn5VvUKPPSfN7MFbxWybtR%2BbPK6aNy%2BrlV1vleXnZzlWUjqR4Aj6cU1Fepw02FtJ9SuxFgCdKFwEwK3xmFbWxZY18r%2BzSqgb%2BBy0l3o4rfG8N57593tX9WTwAvlNL%2BnddZpxvbrOvc5b2Af7V696875yvwx1z%2BD6osW40UNJS/JzqocRHSg/p9K5f5vW7mr5xftX6uBj5bZx2qfSdWtjOmm2WIdHf3xhrn6XlV1lkxL/tbIW2ZfOyfpYuLKlLr9dvA3TWWfyKX/%2BtCWuV//cZV8lfqOr6OY1c57mPyz1Gkbq9vkv4H7FlHWb11DD%2BS0x6r8bc8nrkD/sr/ufOr5H8f6S5WAB8tpI/NabtWWeesvOzIKssOz8tGdvO4jOninN%2BoF/Zh707On4tq1GvLvHx0fv%2BB/P42QN08d7p9rvXXz4Dr0hMR9U51tXZ%2BvSOq35q/Ffhyjyo1p/si4o0q6euT/ultK2nbKsuHAMMkLRURL3axjV%2BTuiStFxHlW4ZVRcTL1Dl7kVI/711JX17nFMp6SdIVwNakrjCX5/TbJT1Muk28RERMy6vsQPrHPrZQ9iKkP6oXgH1qdEd6g3Qbv6wjIqbUqLPy9kbl8pfI264o36ZfJ%2B/f7VWKu7VK2mqkC55HgENr1HtmjXp3ZueoMWi30WMlaSngJ6RbvyuRbkcWLVdnHRtV6/NaP7%2BOlLReleXLkD671YCJPaxDuZsDpMCCGmVXujjU6uM8oUraraSAZZ1C2rr59cZy5oiYJulfpBbBNYByN5u7amy7S0r9dXcnzRSyNHN3z1yadNFadG9EzK5S3FO891khaVGgDXg%2BIv7VRT0aOXf/TAqG75T0V1IXj9si4unOtlWHzj6ThyU9DawoafH8vVkxixQg10XSR0mtjF8CPkpqsCmq9%2B9wQkRsVCh/KVJjy4nAzZK2ioi/F5bX%2B51Yaz8WAHYjTQ6xJqkRqTgWqNZ%2BVPvbeyq/Fvutr5fLuzkiXuuiOuuR9qFW3%2BcF8mvxvFqX9F1f7Xt9fBfb68zhpfeVQPjscsZ%2BOIaV755ba/wtj%2Be9rl8Vnf09vC3pZlKjwDqku2Jd1asn36u1HBGdD9rtyT5U%2B56tfN8tXuP8qoyT%2BVjexis5Jvo6cK%2Bki0ndgO6MiNc7qfeAMuAC/gYsnl%2Bfr7G8VnqjnquRvhTpeJa/HMoqt6aqkjSS1A9uTFTvh9ubNiPdgrw25u7jOZYU8P%2BAHPBnfyK1dHyb9wb47kS62Dm/kG8JUqvGMOofcFzrGAMcR%2Bq7%2B1/gWtIXzMy8bBRzz2K0OPBSVJ9itNq5sVR%2BXZXO671YJ8vqVfexyv1b7ya1At1FumB7idQqNhTYm3SLtT909jcB6aKkM71xLKtd7L7djWULVFkGVc6N/I/lBdKFSkXl%2B6ccXFNKH1plWWfneU2S9ib1W59GatV8EnidFIhsRQr6qn3202sU%2BTZzBiWVunan33fd525EXJL74%2B5H6l%2B9G0AeO3RwRFzfnXI60Z3P5KOk/SyeG1MiN891l6SVSH9/S5ACgOtymbNJAchO9PDvMDcQXSFpJunzPp45x6bV%2B51Yy19J/c8fI40feY50sUYuv9Z%2BTK9S57fzxV/xwmNofu3OeVX57lgv/9RS/O6ofNdXayRr6G8N3muEzBfC65O6A54q6YmIKAegfX0Mu4p3qu1nT76jevt7tVG9/T1bOb82yT%2B1FM%2Bv7UgX9tvz3jijWZL%2BBuwfEb0da/a6Vgj4K4NgP1hjea30oPb%2BD%2B1ke7X%2BIbxM6lLU0wejrEP6B3qEpFqD197KXwTrRMS9PdhWZbDuZoWR5WVfkbR8RFRaG84lDcTbCfiDpHVIA6Iui8LAIt77MvhXRKxLfarWRdIywF6kQTOfi9LgJ1WfueEVYElJ76sS9Fc7Nyr1vjQivlVftRvWyLH6PinYn6tlRNL6pIC/Xu%2BQ7kRVM7ST9Tr7m4DUL7eeweoDwQcptRQpzT61NO9958B7%2B/gh0sDNsg%2BX8r2r3uCyUIcxpH9i60bEf0vL16%2B2Xp2m59futEw39HceEVcBV%2BUg6jOkgXJ7AFdKWiciHqijvrXq9CFS3%2B2yWp9J3Z8HaTDmUlS5g5e/j3ZqoMxa7syvq1XuTjT4nTgXpVmXvknqArl5zDnxwnzAAb1Q/%2Bn5tZ7z6viI2Leb5b9M%2Bq5foErQ/6FullFTvivxD0lfJw0i/lMelP069NsxrByXWnFNtf18uZNl0Ml31ADSk32o9nddybd3RJzYnQpExExy9y5Jy5Pu3I4CdiRd3G/QnXKaaVBNy1nDvfl1fVWfLvELNdabRur/PwelOenXbqAe/wcsIanqzC91aCe1IFT7qTxs5az8vquuQTVJ%2BhDpn%2BwrnWzvNlLrwi6V9XLgfyPwGaVnBFT%2Bof2pWH6kB8NMAkao954OuRLpnL2uyj%2B2j%2BTlZf/K63yuyrJq58Z/yDOM5Nuzfa7BY7VKfr24yrLyLd2Kyi3g%2BWssnwZ8sMZ%2BzzUNYzf8X34d8F%2BEVVQ7hl8gHbtiN5fK7xuVM%2Be7MGuTuoo8WMe2O/ucliZdfN1eJdhfjPdufTcsBzbtpHNhnS7y9ujvPCJei4gbc1B3NOmCc/MGql3U2WeyCqm7weNRfeakejXyd9ioYteOyv%2B6Rr4Tq6nsx%2BVVGkY%2BzdzdlBpxF6lRYcN8odedvPV8d9xDOhbVvtc3qqOcTkXE/aRxIh8BflxY1B/HsHJufyHHKmUbdbLOXMtyA0LlGN/T08r1od7ehx79b4qIpyLiz6ReEo%2BSPo%2BlClneofb/2aYZ9AF/pCn9xpP%2B2HYrLsvTv9Xqv38X8FHNPd/qoTT2cKvj8%2BsfVWV%2BcUmLSvpsV4VExD8i4vvVfngvwN8tp1Va3ZG0uKQ1VGU%2B2hp2Id3h%2BHMn2xtF7q9Yupgam193JU1T9QJpOsSy40j/wM9SlecQSFpCUj0BSkd%2BnePLLgc6f6T6HZvK2IRfqDCHutL86HNNl5e/qE8itRicqCpzCkv6sKrMd95D9R6rjvy6USnfOqTpCKupnD8frbH8LtIx3LlU5ijg8zVrXtvJpK5ex0tarbxQaV7jgXox8DMV5s2WtBBp1gx4b558SA%2BqewvYMweTRT8nDfY6r8a4n1o6%2B5ymkLrvfDKf95X6LUCafm7pOrbTmUqr12kqPUtA0nyl75m6zl1JG6r0rI6s0mrZ0z6xZ%2BXXQyW9O2d9/s44lvR/78webqOiI79uVEyUtBnpLlxvqrR0318YP1XZfj3fidVUytmomJjvIPy%2BgbrOJSKmAheQvluPLTfQSVqscq7lMUF/Jk2D%2B7Nqwa2klSWtWEiq/F0elf9eK/mWJP1f702/IHXV2b/wPdGRXzcq1bM3j%2BHTpG5dK1J6yq%2BkLal%2BkTmO1N3zO1VikH1yWf%2BI3pkeua%2BMoxf3ISL%2BSeqC9y2lqaPnImmt/NkhaZikalO7Lkrq9vM2c46VeZEqDcrN1gpdeiD1eb8NOEXSV3lvHv6tSf3otiRdcRUdS7o6u0xp4NhLpFbgFUkXEBvVU4GIuEHSQaSg4BFJfyeNHF%2BMdAExkjSY6Cv17163fJM8Dz8pUK9JqT9Q5Z/RGbXyRcSjkiaQjsXmpKk3Ic2u8grpD20B4KRq/SYj4ixJnyTNrT1Z0rWkbhJLko7zhrnOu3dnByPiOUkXkMYP3CvpOlLfvk1Iraj3MvfdmXNy/q8A7ZIuz3XemtQHfnXmPjd%2BTuoHvTtpgPKNpH6ny5D69n%2BeNDtLT7odlPet3mN1Dqlv/AmSNiYNMl6VdNfmElJ/w7Ib8jp/VBp09CowPSJOzstPIgX7f5D0JdKgsbVJ/VavzGXXs0//yV%2BmZwGTJF1Dmu5yAVIwuwFparc16im3nzxIqnNxHv6VSX8D51YyRUSHpH1I/9DvkXQhaZ9Gko7bf0j9PutxByno3Se3GlX6oJ6Uu3GcSJqH/9%2BSLiMF2xuTzpWb8u89dQbp8/ku6fvsMtJ%2BLUt61sNZpNvbjZy7JwLLSbqNFCS9SZpP%2B4ukGYMu6EnF8%2BQCvyZ1oWjPn%2BFrpO%2BwNtL38G96so2CU0h/Mxfl7Tybt/EV0pzw1f4OuzJccw4kXJL0v%2BmTpL757wZ6DX4nVnM36X/otyTdTjpGHyQds4d4b6BmT/2IdHx2BzbK58qbpPNkM9I87%2BMLeVcFjgS%2BK%2BlWUt/1ZUmDKdcjNTg9nvP/hXS8v0H63C8jfddsk/dv5V7aByLiGUmnkrpOHkBqZOmvY/hD0nfECbnB8j5Sg%2Bc3SdPOfr1U1xn5e/giYIKki0h/n58kTd36HKXG0oGmj/Zhe1JvhTMl7UXqMjeddOfm46TzdH1SI8tywL8k/ZsUXz5Fasz5Gqmb0YmlO2w3AN9WGuh7D%2Bl/yM0RcXOddexdMQCmCor3pjGKLvIMz/nGVlm2BinQmU76cr%2BDNMPM/nmdraqs8w3SKPRZpCuyC0jB%2BVhK0xd2tu1SmV8gfdE/S/oim0r60j0O%2BFQPj1FHrkOP5uEn/TMIStNo1shbmdv4slL6GZXPDPhkF2VUHog0JR%2BT50ityb9g7rnLO53OCliENGj40fy5PUUKtpYiT0lWZZ2FSP80Hie1ynTkMpbL2xtXZR2Rgp0bSBeDb5KC/luBQ4Dlu/mZVc6lUd3MX8%2BxWpM0oHpKPucnki7kap6rpFbCB/NxCErTGubz92ZSwPkKKcD9OJ1Py1nz88p51srH4Ym83ZdIXUZOA77YzeOyUbVt0ckUlnQy/WCtY8R709otmI955ZypPO16ril583qbkgZsTsv5HyXNtjW0St6q52kpz1dI32EzeO/vbHhe9r78OT5ACgCfI12ENPTd1Vl9SLO/TCD1eZ2Vj8efSeMHGjp3gf8hBWeP5P17JZ8PRwHDunM%2B5HI6yudvafm3SX%2Bvr%2Ba6TyJdqC9Ub1ld1ONzpMBhWt7WraTB0zXPvy7O8fJP5fw7A1i9ynp1fSfWqhfpwuKUfCxmkcY/HJ3Ln%2Bv40PXzIqp%2BN5BaRX9KCpxez8fsAdJA9GVKeYeQAv/b8zn4BinQu4HU4FSe/3wIcFg%2BXsXv%2BgVr1aeTz6PTmIQUzL%2BWfyrztffXMVyF9PCp6cwZ79Qsj3SBdCkpJnkzH8c/AMtWyTuW0vdIYdkYqvwv6M7%2BdFJWd/9GemUfCnneT/p/PpH0XTST9B13FWmM46I539B8XlUa/94gDRQeT7roVKncZUiTmDxP6qLZ7X3syx/lyrUsSX8mBa1rRMRDza6PDRySNiEFacdERK1uMDYPUXrs%2Bsiof3pgMzOzAWvQ9%2BGHd/uUzjV6O3dL2A54wMH%2BvKvGmIqlSI8Fh9RiYGZmZtaSWqUP/xDgKUk3kfrMvg2MIHVdeZPU583mXcdJ%2BgTptvBUUh%2B9zUm3X0%2BLiIYfgGRmZmY20LVKwP8WcCpp0NdnSP3lXiAN8DgmunhapLW8S0j9Lb9O6otX6c9bmX7UzMzMrGW1fB9%2BMzMzM7N5WUv04TczMzMzs%2Boc8JuZmZmZtTAH/GZmZmZmLcwBv5mZmZlZC3PAb2ZmZmbWwhzwm5mZmZm1MAf8ZmZmZmYtzAG/mZmZmVkLc8BvZmZmZtbCHPCbmZmZmbUwB/xmZmZmZi3MAb%2BZmZmZWQtzwG9mZmZm1sIc8JuZmZmZtTAH/GZmZmZmLcwBv5mZmZlZC3PAb2ZmZmbWwhzwm5mZmZm1MAf8ZmZmZmYtzAG/mZmZmVkLc8BvZmZmZtbCHPCbmZmZmbUwB/xmZmZmZi3MAb%2BZmZmZWQt7X7MrYDbYSFocGAk8BbzZ5OqYmZnZvGcIsDwwISJe7iqzA36z%2Bo0ELmt2JczMzGyetyVweVeZHPCb1e8pgHHjxrHKKqs0uy5mZmY2j3n00UfZaqutIMckXXHAb1a/NwFWWWUVRowY0ey6mJmZ2byrW12LPWjXzMzMzKyFOeC3ppA0VlJHX69jZmZmNq9zlx6zBm1y3ASGDOtodjXMrBd1HLNFs6tgZtbrHPDbYPK/%2BK6UmZmZWV0c8NugERFvNbsOZmZmZoONW0sHCUkrSDpF0kOSZkp6UdJFkoaX8o2SFJI%2BL%2Bk4SVMlvSbpUknDSnk7JF0p6QuS7pI0S9Jjkr5XyjdGUlSpU2VbwwtpW0q6StKzkt6QNFnSzyTN3wvHYI4%2B/JKG5%2B3vL%2BkHeVtvSLpb0npV1l9D0oX5mMzMx/KontbLzMzMbCBzC//gsR7wOeAC4GlgOLAHMF7SmhHxein/ScA04Iicdx/gZGC7Ur5VgL8BZwJ/AnYBxkqaGBGTGqjnKGAGcFx%2B/SJwJPAB4CcNlNcd2wPvB04DAjgAuETSSpW7ApI%2BDtwCvAWcDnQAKwNfB35aq2BJywDDSskr93L9zczMzPqMA/7B46qI%2BFsxQdIVwB3A1sC5pfwvAptGROS88wF7SVq89Ajm1YENI%2BKWnO9C0kMcdgb2b6Ce20fEzML7UyWdCoyWdGhEvNFAmV35KLBqREwDkPQQ6Um4mwFX5jwnAQLWjYgnKytKOqiLskcDh/d6jc3MzMz6ibv0DBLFIFrSApKWAh4FpgPrVlnl9Eqwn90CzA%2BsUMr3QCXYz9uZCjwErNQL9Xy/pKXzthcB1mikzG74ayXYzyr7s1KuxzBgQ%2BCsYrCf6ztXV6WSU4C20s%2BWvVFpMzMzs/7gFv5BQtLCwMGklvflSK3VFYtXWeXJ0vtKQLxEF/kqecv5ukXSCOAXpK48HygtrlbP3lAO4qdJgvf2oXLx0l5vwRExBZhSTMtlm5mZmQ0KDvgHj5NIwf4JpG48L5P6q19A9Ts1s2uUU45Wu5OvViv4HANxJQ0FJgCvAIcBk4FZpDsQv6pRz97Q3X01MzMzm%2Bc44B88tgH%2BFBH7VRIkLQQM7YdtV/rGD42I6YX0cvegjYClgG9FxM2VREkr9nUFu/BYfm1rai3MzMzMmsB9%2BAeP2czdYr0npVb2PjI5v25YSZC0KLBTKV%2BlpV2FfENIA1%2BbJo9LuBnYRdJHi8vk/jlmZmbW4tzCP3hcCXxX0svAA8D6wJdJs/H0tetI/eTPlPQbUmC/CzCVNENOxe2kuwF/knQiqSvQdxkYXWv2Am4F7pF0OvA4abrSLYC1Gynw%2Bn1HMmLEiN6qn5mZmVmfcMA/eOxNCrR3ABYCbiMF/Nf29YYj4i1J3yTNWPNz4DnSWIJpwNmFfC9K%2BhrwW9LA3WnAecAN/VHPzkTEfZI%2BS6r/HqRj%2BARwYTPrZWZmZtbX1PWshGZWlGciam9vb3cLv5mZmfW7SZMm0dbWBtDWnQelug%2B/mZmZmVkLc5ceazpJSwJDOskyOw%2B8NTMzM7M6OeC3geASYGQny58gDbA1MzMzszo54LeBYD86f7LvzP6qiJmZmVmrccBvTRcRE5tdBzMzM7NW5UG7ZmZmZmYtzAG/DQqSxktq7%2BUyQ9KY3izTzMzMbKBxlx6zBm1y3ASGDOtodjXMzBrWccwWza6CmfUDt/CbmZmZmbUwB/zWNJLmk7RQs%2BthZmZm1soc8DeZpBUknSLpIUkzJb0o6SJJwwt5PpX7m%2B9UZf3N8rKvFdI2kvRPSbMkTZa0m6QxkqKB%2Bq0h6UJJU3P9HpJ0VGH5WEkdVdaba3u5nidL2kHSJOAN4Ct11ueTkm7PdXlc0u6l5UMkHSlpoqSXJb0m6RZJG9e142ZmZmYtwn34m2894HPABcDTpAdM7QGMl7RmRLweEf%2BU9BjwP8CfSutvB0wDrgWQtA5wDfBf4HBgfuAwoO4n1Ur6OHAL8BZwOtABrAx8HfhpveVlXyTtx8nAC7nM7loC%2BDtwIfCXXM4fJL0ZEWflPB8Avp%2BX/xF4P7ArcK2kT0fEvfVUVtIywLBS8sr1lGFmZmbWTA74m%2B%2BqiPhbMUHSFcAdwNbAuTn5r8D%2BkpaIiGk53xDgm8AlEfFWzncEMBv4fEQ8m/NdCDzYQN1OAgSsGxFPFup3UANlVawOrBURDzSw7rLAfhFxXK7HacCdwC8lnZuPwTRgeES8WajvH4H/AHuSgv96jCZdOJmZmZkNSu7S02QR8e5TZCUtIGkp4FFgOrBuIetfgQWAbxXSNgWG5mVImh/4MjCuEuznbTwKXF1PvSQNAzYEzioG%2B7m8ursGFUxoMNgHeBs4rVCPN/P7ZYBP5rTZlWA/jxFYknRh%2B0/mPJ7ddQrQVvrZssH6m5mZmfU7t/A3maSFgYOBnYHlSC3qFYtXfomI%2ByT9h9SF58ycvB2pW8yN%2Bf0ywMKkC4ayammdWSm/9urc98DjPVj32Yh4rZT2cH4dDvwfQB7rsB%2BwBukiqeFtR8QUYEoxTVKN3GZmZmYDj1v4m%2B8kUn/4C0l90jcFNgFeZO7P56/AxpKWlrQg8A3g4oh4ux/rW1artX/%2BGukza6T3Ckk7AmOByaTuO18hHc8b8fluZmZm8yC38DffNsCfImK/SkKeqnJolbx/JfUn3xp4njRA9YLC8inALGCVKutWS%2BvMY/m1rYt806he1xXq3F53LCtp0VIr/2r5tSO/bkOq%2B7eKXY8kHdEH9TEzMzMb8Nzi2XyzmbMbD6TBpXO1kEfEg8C/SV15tiPNxHNzYfls4B/AVpKWraRLWgXYvJ5KRcTUXPYukj5aXKY5%2B7RMBhbPM/pUln%2BYNJi4t70P2K2wnSH5/VRgYk6eXVlcyPcZYP0%2BqI%2BZmZnZgOcW/ua7EviupJeBB0iB6ZdJXXqq%2BStwJKkl/8yIeKe0fAypW9Btkv5AunD4Eakv/tp11m0v4FbgHkmnk/rADwe2KJR1AfAr4FJJJwKLkKYVfZjGBsl25lngwPyMgodJFz1rAz8ozFJ0JWlg86WSrgJWBHYnHdvFerMy1%2B87khEjRvRmkWZmZma9zi38zbc3cA6wA/Bb4MOkgH9Gjfx/JX1ui%2BTf5xARE0mt%2BdOAn5P6sR8G3EC6SOi2iLgP%2BCyppX8P4ERSd6LLC3leJLXmvw78GtiJNAj5inq21U3TgK8CnwJ%2BAywP/Cgi/ljIMxY4BPhEru9mwI6kWXrMzMzM5jnq2QyLNlhIGgeMiIhVm12XwU7SCKC9vb3dLfxmZmbW7yZNmkRbWxtAW0RM6iq/W/hbUJ7qs/h%2BVVLL%2BPimVMjMzMzMmsZ9%2BFvTY5LGkmarWYHUHedNUpcbJC1Omq%2B/poh4ro/rSK7LksCQTrLMzgOIzczMzKwBDvhb0zXAd4APAW8AdwCHRMQjefnvSH3tO9NfT5e6BBjZyfInSAOFzczMzKwBDvhbUETs3EWWXwPn9UddumE/YIlOlvfpg7rMzMzMWp0D/nlQRDxAmqay6fKsQmZmZmbWRzxo18zMzMyshTngH0AkjZFU9zypksZK6iilhaQxvVU3MzMzMxucHPDbPEXSsvnCau2elrXJcRN6oUZmZmZmfct9%2BFvXwsDbza7EALQscDjQAdzb1JqYmZmZ9QMH/C0qImY1uw5mZmZm1nzu0tMkkr4g6W5JsyRNlrRbjXw7SpooaaaklyRdIGn5bpQ/Rx/%2ByvgASavkPv/TJb0s6WxJi5TWXVDS8ZKmSnpV0uWSPtLIuABJ%2B0u6XdKLeR8mStqmRn1PlrStpAdy3jskrZWX7ybp0Xy8xksaXlp/vKR2SWtKuknS65KekXRAIc9GwN357dl5myFpVD37ZGZmZjaYuIW/CXIQex0wFRhD%2BhyOAJ4v5fsp8HPgQuAMYBiwJ3CzpHUiYnoDm78QeBw4GFgX%2BD4wBTiwkOcMYEfgfOB24IvAVQ1sC2Bv4HLgz6Qn6n4buEjS1yKiXOYGwDeA3%2Bf3BwNXSvo1MBo4hTRn/wHAWbleRUuQHjp2Sd7PbYBfSfp3RFwNPAgcBhwJnA7ckte7vVblJS1DOu5FK3e922ZmZmYDgwP%2B5jiS9CTbDSLiSQBJFwP/rmSQtALpIuDQiDi6kH4J8C9SAHw09ftXROxaKG8pYFdywC/pE6Rg/5SI%2BGHO9ntJfwY%2B3sD2VouIdx%2BeJelk4B5gX%2Ba%2BiFgdWCMiOnLeacBpwKG5nFdz%2BvzAwZKGV/JmywLfi4hzc74zSU/q3RW4OiKel3Q16fjfERHdefjYaFKffzMzM7NByV16%2BlkOVjcDxlWCfYCIeBC4tpD1W6TP50JJS1d%2BgOeAR4CNG6zCqaX3twBLSfpAfv/V/HpiKd8JjWysFOwvASyet7lulew3lAL4O/PrxZVgv5S%2BUmn9GRSeIBwRbwJ3VclXj1OAttLPlj0oz8zMzKxfuYW//w0jzaDzSJVlD/FewL0q6S5AtXwAbzW4/SdL76fl1yWAV4AVgHeAyVXqVjdJXyO10K8NLFhYVO15A%2BW6vZxfn6qRvkQp/emIKJc7jcbuTAAQEVNIXZ7eJanR4szMzMz6nQP%2BgWs%2BUlC8OTC7yvIZDZZbrSxIFxe9StIGpP77N5O6xvyXdKGyM7B9HXXrbp37bd/MzMzMBgsH/P1vKjCT1IJftnrh98mkQPXxiHi4PyqWPUG62FiZOVv1V6%2BevVNbA7OAzSLijUqipJ17VMOeqftJxmZmZmaDmfvw97OImE3qq7%2BVpI9W0iV9jNS3v%2BISUov14Sr1IVGyVB9V8er8ulcpfZ8GyppNCrDnryTk6TS3aqCs3vJafh3axDqYmZmZ9Ru38DfH4cBXgFsknUL6HPYEJpH7m0fEZEmHAr8EhksaB7wKrAh8kzSt5LG9XbGIuFfSX4DRkhYnTVn5JWCVBoq7ijQbzzWSzgeWAX4IPEoP%2BtX30GRgOrC7pFdJFwB3RsTj9RZ0/b4je7lqZmZmZr3PLfxNEBH3k1rzp5KmiNyFdBFwaSnfMaRuMe/k5ceS5qm/jtQ3vq/sQpql5yvAr4EFgC3qLSQibiRNifkh0iw/3yFN/3lpJ6v1qYh4C9iJdPfhVOAvgCN3MzMza1mae1ITs%2BokBXBERIxpdl2aSdIIoL29vZ0RI0Y0uzpmZmY2j5k0aRJtbW0AbRExqav8buE3MzMzM2th7sNvdcsPDxvWRbYZEdHo1KFmZmZm1ksc8Fsjlge6GuR6BDCm76tiZmZmZp1xwG/dFhECkLQQsEkX2R/r%2BxqZmZmZWVcc8FvdImIW8I9m18PMzMzMuuZBu2ZmZmZmLcwBv7UcSWPyFKJd5RslKfLTf83MzMxakrv0WMuTdAjwQESM681yNzluAkOGdfRmkWZm7%2Bo4pu7nHZqZVeUWfpsXHAJsVSX9XGBh4Il%2BrY2ZmZlZP3ILv82zImI2MLvZ9TAzMzPrS27ht0FN0hck3S1plqTJknYrLQ9gUWCn3F8/JI3Ny9yH38zMzFqeW/ht0JK0FnAdMJX0kK/3kR749Xwh23eBM4C7gNNz2uQ6trEMcz9VeOXGamxmZmbW/xzw22B2JCBgg4h4EkDSxcC/Kxki4jxJpwKPRcR5DWxjNHB4b1TWzMzMrBncpccGJUnzA5sB4yrBPkBEPAhc24ubOgVoK/1s2Yvlm5mZmfUpt/DbYDWMNMPOI1WWPQR8tTc2EhFTgCnFNEm9UbSZmZlZv3ALv5mZmZlZC3PAb4PVVGAmsGqVZauX3nf51F0zMzOzVuWA3walPIf%2BtcBWkj5aSZf0MVLf/qLXgKH9VzszMzOzgcN9%2BG0wOxz4CnCLpFNI5/OewCTg44V8E4EvS9oXeBZ4PCLu7OnGr993JCNGjOhpMWZmZmZ9yi38NmhFxP2k1vyppCk6dyFdBFxayrovKej/BfAXYI9%2BrKaZmZlZU7mF3wa1iLgZ%2BFSVRWMKeR4CRlZZdywwto%2BqZmZmZjYguIXfzMzMzKyFOeA3MzMzM2thDvjNzMzMzFqYA34zMzMzsxbmgN/MzMzMrIU54DczMzMza2EO%2BK1hkkLSmGbXoyuSxktqb3Y9zMzMzJrB8/BbS5C0LPADYFxE3Nsf29zkuAkMGdbRH5uyOnQcs0Wzq2BmZjaguIXfWsWypKfsrt3kepiZmZkNKA74zczMzMxamAP%2BAUTScpLOkvS8pDckTZK0S2H5Rrnf/P9IOlzSM5JelfQ3SYtLWlDSCZKmSJoh6WxJC5a2EZJOlrSDpIckzZI0UdKG/bEPVfbjp5KezvW4QdIqVcr8oaTHJM2UdJekDXK//PGV8oC7c/azc9khaVSpnDUl3STp9XzsDuiNfTYzMzMbyNyHf4CQ9EHg/4AATgamApsDZ0r6QEScUMh%2BMDATOAZYBdgTeAt4B1gCGAN8FhgFPA4cWdrcSGA74ETgDWA0cI2kT0dEw4Nb69wHgINynY8FFgcOAP4MfKZQ5h65rFuA44HhwDhgGvB0zvYgcFjez9NzXoDbC9taArgGuAS4ENgG%2BJWkf0fE1Z3s0zLAsFLyyjUPgpmZmdkA44B/4DgKmB9YKyJezGmnSvoLMEbSaYW87wNGRsRbAJKGAd8GromIr%2BY8p%2BTW8l2YO%2BBvAz4VERPz%2BhcAD%2BV83%2BrLfYiImYX8CwFrR8SbuR7TgN9JaouIdklDgJ%2BTWu%2B/GBFv53z3A2PJAX9EPC/p6lz/OyLivCp1Wxb4XkScm8s4E3gC2BWoGfCTLoYOr/dAmJmZmQ0U7tIzAEgSsDVwRX67dOUHuJbU%2Br1uYZVzKsF%2Bdicg4KxS0XcCy0sqX9jdUQn2ASLiSeAyYDNJ8/fTPgCcXQn2s0rL/Er59VPAUsAfK8F%2B9mdSC389ZgDvXgjk7d5V2FYtp5AukIo/W9a5bTMzM7OmcQv/wDAMGEqaVvIHNfIsw3tB7pOlZS/n16eqpM9HCrZfLKQ/UqX8h4FFcl2e606lS7q7D0Xl/ajs3xL5dYX8%2BmgxU0S8Lamjzvo9HRFRZXsf72yliJgCTCmmpWsbMzMzs8HBAf/AULnTch7wpxp57gfWzL/PrpGnVnp/RKjd3Yei/qxvM4%2BNmZmZWdM44B8YpgKvAvNHxD9qZZK0Zq1ldVq1StpqwOu5Lo3o1j7U6Yn8ugpwUyUxd1EazpwXEOXWezMzMzPDffgHhIiYDVwMbC2prbw8D8rtTetLerc/vaTlSf3Sr8t1qVsf7cM/SV2R/rc0DmEH3uv2U/Fafh3awHbMzMzMWpZb%2BAeOg4CNgTsl/RF4AFiSNND1y/n33tIOXCupOC0n9Hw2ml7dh4h4U9IY4CTgRkkXklr2RwGTmbNVfzIwHdhd0qukC4A7I%2BLxxnenc9fvO5IRI0b0VfFmZmZmvcIt/ANERDwPfBo4mzQ15snA3qQg%2BcBe3twEYB/gu6SpLF8CNo%2BIch/7uvTFPkTEycBewEdJ8/VvAHyDFNzPKuR7C9iJ1Ff/VOAvpOcNmJmZmc3TNPfEJdbKJAXw%2B4j4UbPr0ihJ85HGDFwSEf/bhO2PANrb29vdwm9mZmb9btKkSbS1tQG0RcSkrvK7hd8GNEkLae55ML9Humswvv9rZGZmZja4uA%2B/zSE/eKurAbYzImJGf9QH%2BCxwvKSLSAN41yU9HbcduKif6mBmZmY2aDngt7Llga4Guh4BjOn7qgDQQXqg2F6kVv2XgHOAg0pP6TUzMzOzKhzwz2MioqsHTT0HbNJFnsd6qTpdiogO0iBdMzMzM2uAA36bQ0TMAnrrwVlmZmZm1mQetGtmZmZm1sIc8GeS1pN0u6TXJIWkcXkKS%2BsjksZLau9GvuH5MxnVwDYq6%2B7fUCXNzMzMBjl36QEkLUCa8WUW8GPgdWC9plbKBrxNjpvAkGEdza6GAR3HbNHsKpiZmQ1YDviTlYEVgP%2BNiDMAJF1A7z/h1hrzBLAw8FazK2JmZmY22DjgT5bJr9MrCRHxNvB2U2pTg6RFI%2BK1Ztejv0V6HPSsZtfDzMzMbDCa5/vwSxoLTMhvL8r9vcdLGlOtD7%2BkHSXdJel1SdMk3Sxp01Ke0ZImSXpD0rOSfi9paJ31GpXrMlLSKZKmAE/nZSvktIckzZT0oqSLJA2vUcbnJR0naWoeo3CppGGlvPPlfX4279tNktaU1JGPUTHvUEknSHoq7%2BOjkg6U1ND5lLdzU97uM5IOKC2v2odf0raSHpA0S1K7pG9KGiupo8Z2fiBpcq7z3ZLcbcvMzMxanlv44TTgGeAQ4ETgbuB54PPljJIOJz1w6nbgMOBN4DPAF4Hrcp4xwOGkqS3/AKwO7AGsJ%2BnzEVFvt5RTgKnAkcCiOW094HPABaSLgOF5G%2BMlrRkRr5fKOAmYRnpg1nBgH%2BBkYLtCnl8CBwBXANcCn8ivC5WOwSKkC6TlSMfuyVyXXwIfzmXXYwngGuAS4EJgG%2BBXkv4dEVfXWknSFsBfgX8DB%2BdyziR9ltVsD7w/1znyvl4iaaXOPhNJyzD3k4dX7sZ%2BmZmZmQ0I83zAHxF3SFqQFPDfEhF/A5A0R8AvaRVSkH8psE1EvFNYpvw6jBR8XgdsXskj6T%2BkAHtH4Ow6q/gS8KWImF1Iu6pSz0IdrgDuALYGzi2V8SKwae4aQ26J30vS4hHxsqQPAvsC4yLim4UyKxc4RfuSAt51IuKRnHaapGeBn0j6bUQ8Vcf%2BLQt8LyLOzds8k9Rnf1egZsBPusB4Bvh8RMzI694AjM/rl30UWDUipuW8DwGXAZsBV3ayndGkCzgzMzOzQWme79JTh61Ix%2BvIYrAP7/YxB/gyMAQ4oZTnj8ArQCNTifyxFOwTETMrv0taQNJSwKOkMQjrVinj9EIdAW4B5icNVAb4Euni75TSeidVKWvbvP40SUtXfkh3NOYHNuzujmUzgPMqbyLiTeAuYKVaK0haFlgLOKcS7Od1J5Ba/Kv5ayXYz27JrzW3k50CtJV%2BtuxiHTMzM7MBY55v4a/DysA7wAOd5KkE0A8VEyPiTUmPFZbX4/FygqSFSXcSdiZ1rVFh8eJVyniy9L4S%2BC6RXyv1erSYKSJeklQMkgFWBT5O6mZUzTI10mt5unQxUqnfxztZp2p9C2nVLnrmOAYRMS3fmFmiSt5ivinAlGJaXs/MzMxsUHDAP/DNrJJ2EinYP4HUjedlUr/0C6h%2B12Z2lTSY80Khu%2BYDrgd%2BXWP5w3WW15t1GwjbMTMzMxtQHPB332RSsLsmcG%2BNPJW%2B46sDj1USJQ0BViR1e%2BkN2wB/ioj9CttYCBjaYHmVeq9C4Y5C7ipUbgGfDCwWEb21L40o1resWpqZmZnZPMt9%2BLtvHKlLz2Hl6Sf1Xh%2BPf5Bm7tlLc/b72JXU1eaqXqrLbOZumd6T1Ie%2BETeQnjmwRyn9R1XyXgisL2mz8oI8XWefX0RGxLNAO/A9SYsVtj%2BS1LffzMzMzDK38HdTRDwq6SjgZ8Atki4B3iBNkfkscHBETJX0S9KsLtdIupzU2j%2BaNN3nedVLr9uVwHclvUwaU7A%2BacDwi40UFhHPS/odsF%2Bu8zWkaTk3B14gdReq%2BA3wDeDKPD//RNJ0oWuR7jwMz%2Bv0tUNIs%2BzcJuls0p2IH5EuBBbrbMXecv2%2BIxkxYkR/bMrMzMysYQ746xARh0l6nNSafhTwOnA/hWkwI2KMpKmk4PN40rSapwOHNDAHfy17k1r5dyDNk38bKeC/tgdlHkjan//NZd0BbArcSuEptxHxem5JP4Q0Y8/3SDMQPUy60Hm5B3Xotoi4QtJ3SNOGHgM8AowCdgIchZuZmZllmnuCFLMkPx14GnBoRBzV5Op0i6R7gakRsUkfbmME0N7e3u4WfjMzM%2Bt3kyZNoq2tDaAtIiZ1ld99%2BA14d6rPsn3y6/j%2Bq0n35OcPvK%2BUthGpK9L4JlTJzMzMbEByl55%2BlgPranPlF72UH0DVn7aTNAr4O%2BlhWF8AvgNcFxG31VOQpCVJDyCrZXZE1JrHv7uWA/4h6TzSGIo1gN2B54BTe1i2mZmZWctwwN//tgPO7iLPxvR/K/X9pJl6DgA%2BADwP/A44tIGyLgFGdrL8CdLg3p6YRhow/H1gGPAaaRakgyKiocHLZmZmZq3IAX//uxboqn/5ff1RkaKIuIc0WLc37EfnT7Ct9jCxukTEy6SLJzMzMzPrhAP%2BfhYR/wX%2B2%2Bx69KWImNjsOpiZmZlZ4kG7ZmZmZmYtzAF/N0laT9Ltkl6TFJLGSfKcpn1I0lhJHc2uh5mZmdlg5i493SBpAeAi0gOofkx6QNV6Ta2UNd0mx01gyLCOZlfDCjqO2aLZVTAzMxtwHPB3z8rACsD/RsQZAJIuID2d1szMzMxswHKXnu5ZJr9OryRExNsRMas51alO0qLNroOZmZmZDSwO%2BLsgaSwwIb%2B9KPffHy9pTLU%2B/JJ2lHSXpNclTZN0s6RNS3lGS5ok6Q1Jz0r6vaShddZrVK7LSEmnSJoCPJ2XrZDTHpI0U9KLki6SNLxGGZ%2BXdJykqXmMwqWShpXyzpf3%2Bdm8bzdJWlNSRz5GxbxDJZ0g6am8j49KOlBSj883SYtK%2Bm2h7Ick7S9JhTyXSLqntN4VeV%2B/UUj7TE7bvKf1MjMzMxuo3KWna6cBzwCHACcCd5MeSvX5ckZJhwNjgNuBw4A3gc8AXwSuy3nGAIcD/wD%2BAKwO7AGsJ%2BnzEfFWnfU7BZgKHAlUWvjXAz4HXEC6CBietzFe0poR8XqpjJNID7I6IufdBziZOee5/yXpoVxXkJ4l8In8ulDpGCxCukBajnTsnsx1%2BSXw4Vx2Q3JQfznpwWRnAvcCmwG/ydv7cc56C7ClpA9ExCt5vc8D7wAb5DLIv78D1HySsKRlSA/2Klq50X0wMzMz628O%2BLsQEXdIWpAU8N8SEX8DkDRHwC9pFVKQfymwTUS8U1im/DoMOJgU/G9eySPpP6QAe0e6fgpv2UvAlyJidiHtqko9C3W4ArgD2Bo4t1TGi8CmERE573zAXpIWj4iXJX0Q2BcYFxHfLJRZucAp2pcUEK8TEY/ktNMkPQv8RNJvI%2BKpOvex4huki6dDI%2BKonPZ7SRcBe0s6OSImkwL%2B%2BUhB/tVAG%2BlBYBeRgvyKDYD7IuKVTrY5mnSBZmZmZjYouUtP79mKdDyPLAb7AJVAmvQk2yHACaU8fwReARqZYuSPpWCfiHj3SbaSFpC0FPAoaQzCulXKOL1QR0gB8/ykgcoAXyJdHJ5SWu%2BkKmVtm9efJmnpyg/pjsb8wIbd3bEqvgrMJt1pKfotIKDSNedfwIzCtjYg3ek4B1hX0iL5IuwLua6dOYV0wVD82bIH%2B2BmZmbWr9zC33tWJnUPeaCTPJUA%2BqFiYkS8KemxwvJ6PF5OkLQw6U7CzqSuLiosXrxKGU%2BW3k/Lr0vk10q9Hi1mioiXJE1jTqsCHyd1M6pmmRrp3bEC8GxEvFpKf7BYz4iYLekO3mvN34AU2N9Kuuj4LKlb1pJ0EfBHxBRgSjGtMFzAzMzMbMBzwD/4zaySdhIp2D%2BB1I3nZSBIffqr3dWZXSUN5rxQ6K75gOuBX9dY/nADZTbiVuCnkhYiBfxHRcR0Se35/fM5X1ct/GZmZmaDmgP%2B3jOZFOyuSRpMWs0T%2BXV14LFKoqQhwIqkbi%2B9YRvgTxGxX2EbCwFDGyyvUu9VKNxRyF2FlijlnQwsFhG9tS/lenxZ0vtLrfxrlOoJKZAfAnyHdJejEtjfzHsB/8MR8TxmZmZmLcx9%2BHvPOFKXnsPK008Wpoz8B2nmnr00Z7%2BQXUldba7qpbrMZu7W%2BT1J3VkacQPwNmmmn6IfVcl7IbC%2BpM3KC/J0nT25yPw7aR/K2/0x6Q7G1YW0O4G3SA9HewmYlNNvIXXpGYlb983MzGwe4Bb%2BXhIRj0o6CvgZcIukS4A3SFNkPgscHBFTJf2SNOvLNZIuJ7X2jyZN93leL1XnSuC7kl4mjSlYnzRg%2BMVGCouI5yX9Dtgv1/ka0rScmwMvkILtit%2BQZtO5Ms/PP5E0XehapDsPw/M6jbgCuAk4Kj9T4D5gU9Ig2hPyDD2VOr8uaSIpuL%2BiMCj55lyfRelhwH/9viMZMWJET4owMzMz63MO%2BHtRRBwm6XFSa/pRwOvA/RSmwYyIMZKmklqpjye1Pp8OHNLAHPy17E1q5d%2BBNE/%2BbaSA/9oelHkgaX/%2BN5d1BynYvhV494nDOdAeSZrGdFvge6QZiB4mXei83GgFIuKd/OCsI0nPCNgZ6AB%2BQpqpp6zSmn9roYznJD1K6p7kFn4zMzNreZpzNkaz7stPB57GnPPitzxJI4D29vZ2t/CbmZlZv5s0aRJtbW0AbRExqav87sNv3ZKn%2BizbJ7%2BO77%2BamJmZmVk93KVngMmBdbW58oteiog3%2B6M%2BBdtJGkUaODuD9NCq7wDXRcRt9RQkaUnSDDq1zI6IWvP4m5mZmVkdHPAPPNsBZ3eRZ2P6v1X9ftJMPQcAHyBNa/k74NAGyrqENEtOLU%2BQBveamZmZWQ854B94rgU26SLPff1RkaKIuIc0WLc37Mfc8/cXVXuYmJmZmZk1wAH/ABMR/wX%2B2%2Bx69KWImNjsOpiZmZnNKzxo18zMzMyshTngH8AkjZIU%2BSFTA46kjvxwrcr7jXJ9N2papczMzMxsDu7SM4%2BS9FXg0xExptl16W%2BStgeWiYgTelLOJsdNYMiwjl6pk5kNDB3HbNHsKpiZ9Tq38A9s5wILk2at6W1fJT35dl60Pe89Q8DMzMyspbmFfwCLiNnA7GbXw8zMzMwGL7fwD2DlPvy5z/yVkr4g6S5JsyQ9Jul7pfUWkHS4pEdynhcl3Sppk7x8LPDD/HtUfgrr7y/p9rzeTEkTJW3T4D6Ml9Qu6eOSJkh6XdKjlfIkjZR0Z97OQ5LmmvpT0nKSzpL0vKQ3JE2StEspT2X8wP9I%2Bqmkp/O%2B3yBplWJ9gC2AFQr73tHIvpmZmZkNBm7hH3xWAf4GnAn8CdgFGCtpYkRMynnGAAcDZwB3kR6U9SlgXeB64DRgWdJ8/9%2Btso29gcuBP5OeiPtt4CJJX4uIqxqo8xLAlcAFwEXAHsAFknYATgBOBc4HfgL8TdLyEfEqgKQPAv8HBHAyMBXYHDhT0geq9MM/CHgHOJb0xOID8n58Ji8/Kqd/BPhxTptRq%2BKSlgGGlZJX7v6um5mZmTWXA/7BZ3Vgw4i4BUDShcBTwM7A/jnPFsDfI%2BIH1QqIiDskPQxsEhHnVcmyWkS8%2B/ArSScD9wD7Ao0E/MsC20fEX3J51wP/IQX5n4uIO3P6g6QHj20NjM3rHgXMD6wVES/mtFMl/QUYI%2Bm0Yl2BhYC1I%2BLNXOY04HeS2iKiPSKul/QMsESNfS8bzbw71sHMzMxagLv0DD4PVIJ9gIiYCjwErFTIMx0YIWnVRjZQCvaXILWI30K6Q9CIGaTW/Ur5D%2BU6PlgJ9rPK7yvlbYsU/F%2BR3y5d%2BSFdGCxepU5nV4L9rHKsVqIxpwBtpZ8tGyzLzMzMrN%2B5hX/webJK2jRSt5mKw4DLgIcltQPXAOdGxP3d2YCkrwGHAmsDCxYWRdUVuvZ0RJTXfZl0Z%2BK9wiNeTjH%2Bu/syDBgK/CD/VLNM6X35%2BEzLr0vQgIiYAkwppuU6mpmZmQ0KDvgHn1qz9rwbhUbEzZJWJrVEbwp8H/ixpN0j4ozOCpe0Aan//s2k7iz/Bd4idRnavpfr3NW%2BVO5AnUcar1BN%2BSKmy%2BNjZmZmNi9xwN%2BiIuIl4GzgbEmLkQL4MaSBvFC7tX5rYBawWUS8UUmUtHPf1bamqcCrwPwR8Y9eLLfROxVmZmZmg44D/hYkaanCAFciYoakR4HlC9ley3mHRsT0QvpsUkA8f6G84cBWfVjlqiJitqSLge0rg26LyyUNy2MY6vUaqf9/j1y/70hGjBjR02LMzMzM%2BpQD/tb0QJ5vfiLwEmlKzm1I01pWTMyvJ0q6FpgdEReQZuHZF7hG0vmkPvI/BB4FPt4/1Z/DQcDGwJ2S/gg8ACxJGqz75fx7vSYC20k6DrgbmBERV/RSfc3MzMwGFAf8relE4Buk/vsLAk%2BQBuH%2BppDnEuAk0hz7O5L6uF8QETdK2pUUaJ8APA4cCAynCQF/RDwv6dOkgcjfIo0reBGYlOvViFNIA5J3Js3F/wRpJiAzMzOzlqO5J08xs85IGgG0t7e3u0uPmZmZ9btJkybR1tYG0FZ48GpNnoffzMzMzKyFOeA3MzMzM2thDvjNzMzMzFqYA34zMzMzsxbmgN/MzMzMrIU54DczMzMza2EO%2BG0OkkZJivx0XTMzMzMb5PzgLesVktYE/gcYGxEdTdj%2B50gPGjshIqb3xzY3OW4CQ4Z19MemzMzMbJDoOGaLZldhLm7ht7JzgYVJT5%2Btx5rA4aQn8jbD5/L2hzZp%2B2ZmZmYDkgN%2Bm0NEzI6IWdHkRzBLWrSZ2zczMzNrFQ74bQ7lPvySOiRdKekLku6SNEvSY5K%2BV1wHuCi/vSmvH5I26uY2x%2BT8a0o6X9I04Na87OOSxuZtzpL0nKSzJC1VXB/4TX77eGH7wwt5dpQ0UdJMSS9JukDS8g0eJjMzM7NBw334rTtWAf4GnAn8CdgFGCtpYkRMAm4GTgT2Ao4GHszrPVilrM5cBDwCHAIop20CrAScDTwHjAB%2BAIyQ9Nl8J%2BISYDXgO8CPgRfyulMBJP0U%2BDlwIXAGMAzYE7hZ0jqd9fmXtEzOX7RynftlZmZm1jQO%2BK07Vgc2jIhbACRdCDwF7AzsHxGPSbqFFPBfHxHjG9zOfRGxfSntlIj4bTFB0v8BfwG%2BANwSEfdLuocU8I8rDhqWtAJwBHBoRBxdSL8E%2BBcwmnSRUsto0tgAMzMzs0HJXXqsOx6oBPsAETEVeIjU8t6bTi0nRMTMyu%2BSFpK0NPB/OWndbpT5LdJ5fqGkpSs/pLsFjwAbd7H%2BKUBb6WfLbmzXzMzMbEBwC791x5NV0qYBS/Tydh4vJ0haktTC/m1gmdLixbtR5qqk7kGP1Fj%2BVmcrR8QUYEqpTt3YrJmZmdnA4IDfumN2jfTejnxnVkm7kDTl5m%2BAe4EZpBb7a%2BjeHar5gAA2p/p%2BzGikomZmZmaDhQN%2B6y29Po2npCWALwGHR8SRhfRV69j%2BZNKFyeMR8XBv19HMzMxsoHPAb73ltfw6tBfLrLTIl%2B8k7FPH9i8BfgkcLmnH4vMFlPrmLBkRLzZSuev3HcmIESMaWdXMzMys3zjgt95yLylAP1DS4sAbwI25D3xDIuIVSTcDB0haAHgG2BRYsUr2ifn1KEkXkPrmXxERkyUdSgr6h0saB7yay/gmcDpwbKN1NDMzMxvoHPBbr4iI5yTtDhxMmq9/ftIMOA0H/Nn2wEnAD0kt/deR%2BuM/W9r%2B3ZJ%2BBuwOfIXUd39F4LWIOEbSw6Q5%2BitTbD6Vy7q8h/UzMzMzG9BU6OFgZt0gaQTQ3t7e7i49ZmZm1u8mTZpEW1sbQFt%2BCGqnPA%2B/mZmZmVkLc5ce6zOSFgMW6yLb1IioNe2nmZmZmfWQA37rS/vzXp/5WlYEOvq%2BKmZmZmbzJgf81pfOAW7tIs9z/VERMzMzs3mVA37rMxHxGPBYs%2BthZmZmNi/zoF0zMzMzsxbmgH8QkjRKUkga3uy6mJmZmdnA5i49Ns%2BRNBp4PSLG9qScTY6bwJBhHb1SJ7OudByzRbOrYGZmg5Rb%2BG1eNBoY1exKmJmZmfUHB/xmZmZmZi3MAX%2BLkDRa0iRJb0h6VtLvJQ0t5dlA0kWSnsz5npJ0vKSFS/nGSpohaTlJ4/LvUyUdK2n%2BOutV7zY/KunK/Pszkn6Yl68l6UZJr0l6QtL2pfUr4xo%2BL%2Bm4XN/XJF0qaVghXwcwAhiZ84ek8fXsk5mZmdlg4j78LUDSGNIDrv4B/AFYHdgDWE/S5yPirZx1W2CRnOdF4NPAnsBH8rKi%2BYFrgTtJD9D6MrAfMDmv3131bvNq4GbgAGAH4GRJrwFHAX8GLgF2B86RdEdEPF4q4yRgGnAEMBzYBzgZ2C4v3yfnmZHLBHi%2BVuUlLQMMKyWv3Okem5mZmQ0gDvgHudx6fTBwHbB5RLyT0/9DCnR3BM7O2Q%2BMiJmF1U%2BX9ChwtKSPRsSThWULAX%2BNiJ/n96dKugfYlfoC/nq3eV5E/DLvw/nAs8BZwHci4q85/XrgP8BOwJjS9l4ENo2IyHnnA/aStHhEvBwR4yT9AnghIs7rRv1H0/XTgs3MzMwGLHfpGfy%2BDAwBTqgE%2B9kfgVeAd6f2KAbekhaVtDRwOyBgnSpln1p6fwuwUj2Va2CbZxTWnQ48BLwGXFhIfwiYXqMup1eC/UKd5wdWqKfeBacAbaWfLRssy8zMzKzfuYV/8KsEsg8VEyPiTUmPFZYj6aPAkcA3gCVK5Sxeej8rIqaW0qZVWa9TvbDNl4GnS0F8Jb1aXZ4svZ%2BWX%2Buqd0VETAGmFNMkNVKUmZmZWVM44J9H5MG21wNLAr8idYl5DVgOGMvcd3tmD6Bt1kqvFnnXk9fMzMys5TngH/yeyK%2BrA49VEiUNAVYkDeQFWAtYDdgpIs4p5NukD%2BvWjG12R/lugZmZmVnLcsA/%2BP0DeJM0MPWaQteXXUldZq7K7yst3%2B%2B2dCv1Tdm7D%2BvWjG12x2vA0J4Wcv2%2BIxkxYkTPa2NmZmbWhxzwD3IRMVXSL0kzyVwj6XJSa/9o4G6gMhPNf0hTah4raTnSgN6tabBvezc1Y5vdMRHYQ9KhwKPAlIi4scl1MjMzM%2BsTDvhbQESMkTQV%2BBFwPPAScDpwSGUO/oh4S9LXgRNJ03jOAi4lTd15Xx/Vq9%2B32U1HkgYzHwC8H5gAOOA3MzOzlqS5Jz8xs85IGgG0t7e3u0uPmZmZ9btJkybR1tYG0BYRk7rK73n4zczMzMxamLv0WEMkLUl64Fcts6vMqW9mZmZm/cwBvzXqEmBkJ8ufAIb3T1XMzMzMrBYH/Nao/eh8tp2Z/VURMzMzM6vNAb81JCImNrsOZmZmZtY1D9o1MzMzM2thDvjNzMzMzFqYu/RYn5G0LPADYFxE3Nvk6vS6TY6bwJBhHc2uRsvoOGaLZlfBzMysJbmF3/rSssDhwNpNroeZmZnZPMst/NbrJL0PX0yamZmZDQgOylqYpDGSQtJqks6T9LKkqZJ%2BrmR5SZdJekXSc5L2K62/jKQzJT0vaZak%2ByTtVMozPG9jf0n7SJoMvAGMBu7O2c7OeULSqG7WfUlJx0r6t6QZuY5XS/pElbwL5X19ONfzv5IukbRyIc98kvbO5c3Kx%2BEaSZ%2Bq87CamZmZDSpu4Z83/BV4EDgI2AI4FHgJ2A24ETgQ2AE4VtLdEXGzpIWB8cAqwMnA48C2wFhJQyPid6Vt7AwsBJxOCvgvBd4PHJnTbsn5bu9mnVcCtgIuytv%2BYK7vBElrRsSzAJLmB64EvgRcAPwub3cToA2YnMs7ExgFXA2cQTr3NwA%2BC/yzViUkLQMMKyWvXC2vmZmZ2UDkgH/ecFdE7AYg6XSgA/gtcHBE/Cqn/wV4FtgFuJk02PZjwI4R8eec51RgAvALSWdFxKuFbXwEWCUiplYSJF1NCvjviIjz6qzzv4HVIuKdQnnnAv8BdgV%2BnpO/Rwr2942I4wvrHyNJeb2NScH%2BiRGxdyHPbyt5OjGaNA7BzMzMbFByl555wxmVXyJiNqlFW6RW70r6dOAhUss6wFeB54C/FPK8BZwILAaMLG3j4mKw31MR8UYl2Jc0v6SlgBm5jusWsm4NvACcVKWMKOQJ4IhO8tRyCulOQfFny7p2xszMzKyJ3MI/b3iy9P5lYFZEvFAlfan8%2BwrAI8UW9uzBwvKix3tcywJJ8wF7k1rYVwTmLyx%2BsfD7ysBDEfF2J8WtDDwbES/VW4%2BImAJMKdWt3mLMzMzMmsYt/POG2d1Mg9Ty34iZDa5XyyHAcaTuRTsCm5H65U/C562ZmZlZt7mF32p5Avi4pPlKrfxrFJZ3pavuMp3ZBrgpInYtJkoaSurCUzEZ%2BIykBXKXo2omA5tJWrKRVn4zMzOzwcwBv9Xyd2BTYDtyP/48v/6epL70E7pRxmv5dWgD259N6W6DpG2B5YBHC8kXk2Ye%2BhFwfCm/ch/9i4Efkgbf7l0jT92u33ckI0aMaGRVMzMzs37jgN9qOZ00DeZYSZ8kzeyzDfB5YJ/SDD21TAamA7tLepV0AXBnRHSnv/%2BVwGGSziZN5bkWaerQx0r5ziHN1HOcpE%2BTpv9cFPgyacDtZRFxU57hZy9JqwLXkLoFbQDcRJp21MzMzKwlOeC3qiJipqSNgGOAnYAPkGbI2TkixnazjLfyg7p%2BCZxKOt92pnsDfI8mBe7bk%2B4y3ENqyT%2BmtI3Zkr4K/DTn3Zo0qPdW0tSeFTsD95Om9PwNaYDyP%2Bn%2BcwHMzMzMBiU12JvBbJ4laQTQ3t7e7i49ZmZm1u8mTZpEW1sbQFtETOoqv2c7MTMzMzNrYe7SY/1K0sLA4l1keyki3uyP%2BpiZmZm1Ogf81t%2B2A87uIs/GwPi%2Br4qZmZlZ63PAb/3tWtIDtDpzX39UxMzMzGxe4IDf%2BlVE/Bf4b7PrYWZmZjav8KBdMzMzM7MW5oDf%2BpWkDklXDoB6bCQp8rMGzMzMzFqWu/RYS5M0Gni9uw8Lq8cmx01gyLCO3i7WrCEdx2zR7CqYmdkA5RZ%2Ba3WjgVHNroSZmZlZszjgNzMzMzNrYQ74BzFJY3I/9FUkjZU0XdLLks6WtEjOMzznGVVl/ZA0pkp5q0k6L5c1VdLPlSwv6TJJr0h6TtJ%2BPaj7ppLulTRL0gOSvlUlz1BJx%2Bd%2B/29IelrSOZKW7uY2OoARwMi8XyFpfKN1NjMzMxuM3Ie/NVwIPA4cDKwLfB%2BYAhzYYHl/BR4EDgK2AA4FXgJ2A27M5e4AHCvp7oi4uc7yV83bOBX4E7AzcJGkr0TE9QCSFgNuAT4GnAXcAywNfAP4CPBCN7azD3ASMAM4Kqc9X09FJS0DDCslr1xPGWZmZmbN5IC/NfwrInatvJG0FLArjQf8d0XEbrms04EO4LfAwRHxq5z%2BF%2BBZYBeg3oB/NWDriLgkl3Um8B/gV8D1Oc9PgDbgWxFxaWHdX0hSdzYSEeMk/QJ4ISLOq7OOFaOBwxtc18zMzKzp3KWnNZxaen8LsJSkDzRY3hmVXyJiNvBPQMCZhfTpwEPASg2U/yzwbhAfEa8A5wDrSPpQTt4auK8U7FfyRwPbbNQppAuP4s%2BW/bh9MzMzsx5xC39reLL0flp%2BXaKXynsZmBUR5W40LwNLNVD%2Bo1WC9ofz63DgOVK3mYsbKLtXRcQUUveod3XzBoOZmZnZgOAW/tYwu0a6gKqt4ZLmr7O8zrZhZmZmZgOUA/7WV2ntH1pKX6Gf61G0SpV%2B%2BKvl1478OpnUfaan%2BrP7j5mZmdmA4y49LS4iXpH0ArAhcEJh0ejm1AiAZYFvApVBux8AvgfcGxHP5TwXA4dJ%2Bma5H78k1dGP/zXmvtjpFdfvO5IRI0b0RdFmZmZmvcYB/7zhDOAgSWeQBuBuyHst6s3wMHCmpPVI02TuAnyQND1nxW%2BAbUjTdZ4FTASWJE3LuTtwXze3NRHYQ9KhwKPAlIi4sVf2wszMzGwQcMA/bziSNJf8NsD/AFcDm1MajNqPHgH2JAX1q5OeIbBdRFxbyRARMyRtABxBuhuwE6m%2BNwBP17GtI0ndlw4A3g9MID1LwMzMzGyeoP6d4dBs8JM0Amhvb293lx4zMzPrd5MmTaKtrQ2gLSImdZXfg3bNzMzMzFqYu/RYr5A0DOhsqs83I%2BKlwbo9MzMzs8HKAb/1lrvpfKrPCcBGg3h7ZmZmZoOSA37rLTsAC3eyfFonywbD9szMzMwGJQf81isi4rZW3p6ZmZnZYOVBu2ZmZmZmLcwBPyBpI0khaaNm16WvSRojqVfnYu2LMs3MzMysd8xTXXokjQZej4ixvVTeKsAxwJeABYF7gJ9FxE1V8n4MOB74AvAmcBWwb0RM7Y26DDaSvkTqh/8F4CPAc6QHYv0sIv7byXpDSU/qHQZsGxF/6/vaVrfJcRMYMqyjV8rqOGaLXinHzMzMrGyeCviB0cALwNieFiRpeeAOYDbpibGvATsD10n6UkTcXMj7EeBm4GXgEGAxYH9gLUmfjog3e1qfQehXwJLARaQn764E/Aj4mqS1I%2BK5GusdCSzSP1U0MzMzG/zmtYC/Nx0EDCU94ewhAEl/BP5Dasn/ZCHvIcCiwCcj4smc9y7gemAUcHq/1Xrg2Be4NSLeqSRIuoY0neaPgEPLK0hqA/YgBf1H9lM9zczMzAa1hvvwV/ptS1pF0lhJ0yW9LOlsSYvkPMNznlFV1g9JY6qUt5qk83JZUyX9XMnyki6T9Iqk5yTtV2d9O4ARwMi8nZA0vtH9BzYA/lUJ9gEi4nXgcmBdSasW8m4NXFkJ9nPef5C6pvxPqZ4flzRB0kxJT0s6VNLOub7D66mgpC9IulvSLEmTJe1WI19IOlnSDpIeyvknStqw0TK7EhE3F4P9ShrwEvCxGqv9DrgUuKXGfvTpOWRmZmY2GPVGC/%2BFwOPAwcC6wPeBKcCBDZb3V%2BBBUgv6FqSW3peA3Uh9vA8k9f0%2BVtLdxa4zXdgHOAmYARyV055vsI6Q%2BuxXm%2Bv99fz6SeARScsBywD/rJL3LuCrlTc5701AAL8kdRP6PvBGvZWTtBZwHTAVGEP6rI%2Bg9j6PBLYDTszbGw1ck7sctTdYZr11XozU3emFKsu2BT5HuhgY3kVRvXYOSVqGNF6gaOVu7I6ZmZnZgNAbAf%2B/ImLXyhtJSwG70njAf1dE7JbLOh3oAH4LHBwRv8rpfwGeBXYh9Y3vUkSMk/QL4IWIOK/BuhU9BGwg6f0R8Woh/Qv5dbn8%2BuH8Wm0g6n%2BBJSUtGBFvkI7ZEsC6EXEvgKSzSX3c63UkIGCDQjeii4F/18jfBnwqIibmvBeQ9vFI4FsNllmvfYAhpID9XZIWBo4Fjo%2BIjm7c6ejNc2g0cHi9O2JmZmY2UPTGtJynlt7fAiwl6QMNlndG5ZeImE1qGRdwZiF9OikYXanBbfSGP5D68P9V0jq5G8kJwKfy8oVLr9Va6WeV8nwFuKMS7ANExEvAn%2BupmKT5gc2AcaVuRA8C19ZY7Y5KsJ/zPglcBmwmaf4Gy6ynzhuSAusLI%2BLG0uKDgAWAo7tZXG%2BeQ6eQLoaKP1t2sx5mZmZmTdcbAf%2BTpfeVbi5L9FJ5LwOzIqLczePlHmyjxyLiamBPYEPSdJwPkbqP/DRnmZFfZ%2BbXBasUs1ApzwrAo1XyVUvrzDDSRUS1OwMPVUmjRt6HSTPiDGuwzG6RtAapb347qQtTcdlw4CfATyNixtxrV9Vr51BETImIScUfYHI362FmZmbWdL0R8M%2BukS5SX/S5F6TW4nrK62wbTRMRJwMfJPUt/xSwBimIhBQsw3tdeT7M3D4MvJS788yT8vSm15GO21dL3aMgdSN6BhifB4EPBz6Ulw3LaeXzeNCcQ2ZmZmZ9ra%2Bn5ay09g8tpa/Qx9utpdefBhsRr5Hm4wdA0pdJLfa35eXPSJrKe119ij4N3Ft4/wSwSpV81dI6MzXXYdUqy1avsU61vKuRBiFXHg5Wb5mdyuM9riPd/fhSjQdufZS0/49VWXZKfl0CmN5IHczMzMxaXZ8G/BHxiqQXSN1eTigsGt2X2%2B3Ea8x98dFrJH2ONMD1DxHxcmHRxcBOkpaPiKdy3i%2BRAurjC/muBX6o9OCpe3O%2BJUkzynRbRMyWdC2wlaSPFgbYfozUD7%2Ba9SWtGxH35LzLk/qqX5P7wdNAmTVJWhT4O2lw88YRUWtg8qHA0qW0NuDnwK9JF1uv1bv93nD9viMZMWJEMzZtZmZm1m398eCtM4CDJJ1BGjy5ISnQbYaJwB6SDiX1i59SZYBot0hagTQl6eXAc6Q5/ncH7ic9aKvoaGBb4CZJvyNNPfkT0uw2Zxfy/RrYEbhe0km8Ny3nk6Sn0tZzh%2BJw0iDgWySdQvqs9wQmAR%2Bvkr8duFZScVrOSjmNltmZP5PucJwFfCxfOFTMiIhxABFxa3lFSdPzr3dX8pmZmZlZdf0R8B9JGvC5DekhU1cDm5Pm6u9vR5K6Ex0AvJ/0VNeGAn7gFVL//B%2BRgvFnSHPYH1Xuhx4RT0kaCRwHHAO8CVwF7Ffsv5/zbZzLOYTUleb3pMD/RN6b1adLEXG/pM3yNo8EniYF7B%2BmenA%2BgdRafjipG80DwKiIuL8HZXZm7fy6S/4pegIYV2d5ZmZmZlaFInq9W7v1sjzd527AYpXuNb1cfgC/j4gf9XbZrUjSCKC9vb3dXXrMzMys302aNIm2tjaAtjyDYKd6Y5Ye60X5IVPF90sB3wVu7Ytg38zMzMxaW3906elzkoYBnU31%2BWZ%2BgFV3yloYWLyLbC9FxJvdrV%2Bd7pA0HniQNOXnrsAHSINUkbQYaQxAZ6Y26%2BJA0uK89yCxqiLiuX6qjpmZmdk8ryUCfuBuOp/qcwKwUTfL2o45B9JWszEwvpvl1evvpPEOPyAN0r0H2DUibs7L92fOgbTVrAh09FH9uvI7YKcu8njuezMzM7N%2B0ioB/w503qo8rZNlZdcCm3SR5746yqtLRBzC3LP8FJ0DzDVzTUldLegR0ZsB%2BK%2BB83qxPDMzMzPrgZYI%2BCPitl4s67%2B893TcASciHqP6Q6gGhIh4gDTDj5mZmZkNAB60a2ZmZmbWwhzwm5mZmZm1sJbo0mPWDJscN4EhwzqaXQ2zOXQcs0Wzq2BmZgOMW/jNzMzMzFqYA34zMzMzsxbmgL%2BFSVpH0tWSXpE0Q9INkj5bWD5KUkjaUNJpkl7Mec%2BRtESV8jaXdIuk1yS9KukqSSNKecbmbS0naVz%2BfaqkYyV19nC0avXfQNJFkp6U9IakpyQdX34acc67hqQL87ZmSnpI0lGlPMtJOlPSs7m8xyX9QdKQeuplZmZmNpi4D3%2BLyoH4LcArpLnx3wJ2A8ZLGhkRdxaynwxMB8YAqwN7ACtI2igiIpf3XeBPpOcUHAgskvPdKmmdiOgolDd/zncn6UFhXwb2AyYDf6hjN7bN2/kD8CLwaWBP4CN5WWVfP5739S3gdNJDx1YGvg78NOdZFrgLGJrz/AdYjvSQs0WAqk9OlrQMMKyUvHId%2B2BmZmbWVA74W9cvgAWAL%2BS5%2B5F0DvAQ6QJgZCHvm8CXIuKtnO%2BJnOfrwOWSFgNOBM6IiB9UVpL0p1zeIaQnA1csBPw1In6e358q6R5gV%2BoL%2BA%2BMiJmF96dLehQ4WtJHI%2BLJnH4S6em96xbSkHRQYd1fAh8CPhMR/yykHyapswePjabrJxubmZmZDVju0tOCcteZTYFxlWAf3n2o2PnAFyR9oLDK6ZVgP/sD8Dbw1fx%2BE1LL%2BF8kLV35AWaTWvE3rlKNU0vvbwFWqmc/isG%2BpEXzNm8nBffr5PRhwIbAWcVgP69fuTsxH7AVcEUp2J8jXw2nAG2lny3r2Q8zMzOzZnILf2saRuqm8lCVZQ%2BSLvSWL6Q9UswQETMk/RcYnpNWza831tjeK6X3syJiailtGjDXuIDOSPoocCTwjSrrLp5fKxcR7Z0UNQz4QBd5qoqIKcCUUr3qLcbMzMysaRzwW3dU7gR9F3iuyvK3S%2B9n93SD%2BS7F9cCSwK9Ife5fI/W7H4vvTpmZmZl1iwP%2B1jQVeJ00ALdsDeAd4ClgvZy2KnBTJUPus/9h4O85aXJ%2BnRIR/%2BiLClexFrAasFNEnFOo2yalfJUuS22dlDWVdBeiszxmZmZmLckBfwuKiNmSrgO2lDS8MoOOpA8C2wO3RsQrha4pP5B0dqEf/x6kc%2BPq/P5aUsB8iKSbSv39kTSsSheenqrcJXi3knlw7d7FTBExVdLNwC6SjisN2lUk70gaB%2Bwo6VPlfvyVfPVW8Pp9RzJixIiuM5qZmZk1kQP%2B1nUoabDtrZJOIXW72Q1YEDiglHcIcIOkC0l3BUYDtwKXA%2BSLgz2Ac4F7JF1AajX/KLAFcBvwo16u/39IdxaOlbQc6YJja6qPA9gr1/ceSacDj5PGH2wBrJ3zHEIayDwh53mQdBdjW%2BALpGlJzczMzFqOA/4WFRGTJG1Amo7yYFKf9zuBHUtz8EMK1ncgDZBdAPgLsFex1Tsizpf0LHAQ8BPShcMzpNl3zu6D%2Br8l6euk6UAPBmYBl5KeGXBfKe99%2BYFiPyfdnVgIeAK4sJDnGUmfyXl2IA3ifYZ0F%2BP13q6/mZmZ2UChBnoyWIuQNIoUrK9XbbpKqy4/1Ky9vb3dXXrMzMys302aNIm2tjaAtoiY1FV%2Bz3RiZmZmZtbC3KXH%2Bp2kJUnjBmqZ3QeDgM3MzMzmSQ74rRkuAUZ2svwJ3nvol5mZmZn1gAP%2BeVhEjCU9xKq/7UfnT92d2V8VMTMzM2t1Dvit30XExGbXwczMzGxe4UG7ZmZmZmYtzAG/9QlJYySFpKWbXRczMzOzeZm79Jg1aJPjJjBkWEe/brPjmC36dXtmZmY2%2BLmF38zMzMyshTngt0FJ0qLNroOZmZnZYOCA34A5%2BtyvIelCSa9IelHS7yQtlPMMz3lGVVk/JI2pUvTStcqro25jJc2QtLKkv0t6FfhzXjafpH0kTZI0S9Lzkk6TNNe0n5I2lzRB0qu5PndL2r6eupiZmZkNNu7Db2UXAh3AwcBngb1Ic%2BZ/r8nlvQ%2B4FrgV2B94PaefBowCzgZOBFYEfgSsI%2BnzEfEWQL5IOQuYBPwSmA6sA3wFOL/WRiUtAwwrJa9cZ93NzMzMmsYBv5U9HhFb5t9/L%2BkVYLSkY4FXerO8iLi/jnIWBC6KiIMrCZK%2BAHwf2CEizi%2Bk3wRcA2wLnC9pcdLFwF3ARhExq5BXXWx3NHB4HfU0MzMzG1DcpcfKfl96f1J%2B/eoAKO8PpffbAi8D10tauvIDTARmABvnfJsA7weOKQb7ABERXWzzFKCt9LNlp2uYmZmZDSBu4beyR0rvJwPvAMObXN7bwNOltFWBxYEpNdZZJr9WuuC017lNImJKufyubwqYmZmZDRwO%2BK0rUeP3d0mav8Hy6vFGRLxTSpuPFIzvUGOdqQ1uy8zMzKxlOOC3slWBxwvvVyEF1h3AtJw2tLTOCg2W11OTgS8Dt0XEzC7yQeqO82gvbNfMzMxs0HDAb2U/BK4rvN8zv14dEa9IegHYEDihkGd0I%2BX1sJ6QZgAaDfwMOKS4QNL7gMUiYnre/qvAwZKuKQ/a7UY//qqu33ckI0aMaLTuZmZmZv3CAb%2BVrSjpctIsN%2BsDOwLnR8R9efkZwEGSzgD%2BSQr%2BV%2BtBeQ2LiAmSTiMF8muTAvu3SHcVtgX2Bv6WL1R%2BnOt%2Bt6TzSXcrPgEsAuzU07qYmZmZDVQO%2BK1sO%2BBI4BjSQNmTgZ8Ulh9Jmpd%2BG%2BB/SC31m1N74GxX5fVIROwuaSKwG3B03kYHcB5wWyHfmZKmAAeR7gi8BfwHOL636mJmZmY2EKnB3gzWYvJTcg8HhkXEC02uzoAmaQTQ3t7e7i49ZmZm1u8mTZpEW1sbQFtETOoqv%2BfhNzMzMzNrYe7SY02Tn4C7cGd5IuK5fqqOmZmZWUtywG/N9Du6HjDrp1yZmZmZ9YADfgMgIsYAY/p5s78mDa41MzMzsz7igN%2BaJiIeAB5odj3MzMzMWpkH7ZqZmZmZtbABE/BLGiMpJC3d7Lr0Fkmj8j59qgnb3ihve5v%2B3nZfktQhaWyz62FmZmY2WLhLj/UrSV8FPp3HDAxqmxw3gSHDOnpcTscxW/S8MmZmZmY1DJgWfptnfJX0gK9GrQ78by/VxczMzKzlzTMBv6RFm12HwWIgH6uIeCMi3mp2PczMzMwGi4YD/kKf%2BzUkXSjpFUkvSvqdpIVynuE5z6gq64ekMVWKXrpWeXXUbaykGZJWlvR3Sa8Cf87L5pO0j6RJkmZJel7SaZKWqFLO5pImSHo11%2BduSdvXU5dskbyNF3M555S3J2lLSVdJelbSG5ImS/qZpPlL%2BcZLape0pqSbJL0u6RlJB3TjuCwo6UpJL0v6XE6rfI5rSjpf0jTg1sK2xlcpZ6ykjsL7yue8v6QfS3pC0sx87NqK6wE/zL9H5aewfD5Je0v6d/5spkq6pjgGoloffklDJZ0g6al87B6VdKCk%2BUr5vi1pYuHz/Lekvbs6bmZmZmaDWW/04b8Q6AAOBj4L7AUsAXyvyeW9D7iWFLzuD7ye008DRgFnAycCKwI/AtaR9PlK63G%2BSDkLmAT8EpgOrAN8BTi/zrqcnNcfQ%2BqSsgewgqSNIqIS8I4CZgDH5dcvAkcCHwB%2BUipvCeAa4BLS8doG%2BJWkf0fE1dUqIGlh4DLgU8CXI%2BLuUpaLgEeAQ2j8YVffA94P/B5YCNgbuFHSWhHxPOnYLwtsAny3yvpnko7D1cAZpM9wA9J58M8a%2B7UIMAFYLpf/JPA50mf2YWCfnG8T4C/ADcCBefWPAZ8nPQCsKknLAMNKySvXym9mZmY20PRGwP94RGyZf/%2B9pFeA0ZKOBV7pzfIi4v46ylkQuCgiDq4kSPoC8H1gh4g4v5B%2BEymA3hY4X9LipIuBu4CNImJWIW8jwfCbwJcKFxNPkB469XXg8pxn%2B4iYWVjnVEmnkvb90Ih4o7BsWeB7EXFuLu9M4AlgV1KwPAdJiwFXAiOAL0bEvVXqeF9ENHL3omgVYNWIeCZv9xrgTlKAvW9E3CHpYWCTiJjjgVuSNiYF%2BydGRLHV/bddHPN9SQH4OhHxSE47TdKzwE8k/TYingK2IJ2Pm0XE7Dr2aTQ9G3NgZmZm1lS90Yf/96X3J%2BXXrw6A8v5Qer8t8DJwvaSlKz/ARFKr%2BsY53yaklupjisE%2BQKFFvh6nl/qd/wF4m8I%2BFYN9Se/P9boFWARYo1TeDApPqI2IN0kXJytV2fbiwHW5jI1qBPsAp3Z3ZzoxrhLs53rdRQr4u/PZbQ0EcER5QRfHfFvScZpW%2Bkz/AcwPbJjzTQcWJX229TgFaCv9bNnpGmZmZmYDSG%2B08D9Sej8ZeAcY3uTy3gaeLqWtSgqAp9RYZ5n8Wumy0V7nNmuZY58iYoak/1LYJ0kjgF%2BQuvJ8oLT%2B4qX3T1cJgqcBH6%2By7RNI3WvWiYhJndTx8U6WdVf5swN4GPifbqy7MvBsRLxU5zZXJe331BrLK5/pKbkeV0t6hnQRdGFEXNNZ4RExhdL50thNHjMzM7Pm6It5%2BKPG7%2B8qD0Sto7x6vBER75TS5iMFbzvUWKdW0NinJA0l9UN/BTiMdJEzC1gX%2BBVz34mp1SWlWiR6GfBt4CBJ36tyTCpmVkmLGmXW8/n1tfmA60ldpKp5GFLgLmltYDNg8/yzs6RzImKn/qiomZmZWTP0RsC/KnO2Dq9CCsI6SK3OAENL66zQYHk9NRn4MnBbqb98tXyQum882gvbXRW4qfIm96n/MPD3nLQRsBTwrYi4uZBvxV7Y9jhSa/ZY4FXSgOHumkb1bkK1Pr9Vq6StxpyfXa0LuMnAZpKWrLOVfzKwWET8o6uMuevTFcAVeQafU4DdJP08InrjczYzMzMbcHoj4P8hKaCs2DO/Xh0Rr0h6gdSP%2BoRCntGNlNfDekKa0WY08DPSbDTvkvQ%2BUuA4PW//VeBgSdeUB%2B020I//B5LOLvTj34N07Cv7VGmxf7c1XdIQOj9O3RYR50j6AHCSpFci4sAuV0omA1%2BVNCwipuZ6fYI0s81TVfJvJWm5wqDdTwOfYc7P/rW8bGg%2B1hUXkz77w0mz%2B7yri2N%2BITBG0mYRcW1pvaHAjIh4W9JSEfFiZVlEvCOpMgh8wVoHoDPX7zuSESNGNLKqmZmZWb/pjYB/RUmXk2a5WR/YETg/Iu7Ly88gdSc5gzS14oakVt9Gy2tYREyQdBopkF%2BbFNi/RWqZ3pYUaP4tX6j8ONf9bknnk1q7P0EaRFtvF5AhwA2SLiRNyzmaNF1oZYae23P5f5J0IqkV/Ls0Pj3mXCLi5Bz0HyXp5Yg4uhurnUWaBefaPBPQMsDupKlKy%2BMMIN0NuVXSH0hB9D7Ai8zZ3WZifj1R0rXA7Ii4ICJuknQusJekVUmf/3ykaTlvIk1tWs1vgG8AV%2Bb5%2BSeSBueuRZqudDjwAnCGpCWBG0ljO1YgXUzeCzzYjWNhZmZmNij1RsC/HWm%2B%2BGNIA2VPZs55448kzWO%2BDXnQJKn/dK2Bs12V1yMRsbukicBuwNF5Gx2kWW9uK%2BQ7U9IU4CDSHYG3gP8Axzew2R%2BRxg0cCSxAmg9%2Br0qrdUS8KOlrwG9JA3en5frcQHqWQK%2BIiKPzlKOVoL88I1I5/4OSvpfrfRzwAOlCZHtSN6Syc0gDrPchXRzcBfwoIv5byHMJaealb5Mu5gRckJftDNxPml70N6QZlf5JuiCqVcfXJY0k3bHZlvQsgFdIffcPz2VAOp4/IF1sDQWeA/4KjOlkXIOZmZnZoKfGZplMT2glBVTDIuKF3qyUDS6ShpPGXfwkIo5tcnX6XJ5Rqb29vd1deszMzKzfTZo0iba2NoC2LmZhBHpnHn4zMzMzMxug%2BmJazj6Tu6Ms3FmeiHiuH%2BqxMHPPjV/2Up4VxszMzMysaQZVwA/8jq4HzPbHU5G2A87uIs/GwPi%2Br4qZmZmZWW0NB/wRMQYY02s16Z5fkwZfNtu1wCZd5OnxrEKDRUR00D8XWmZmZmZWp0HVwh8RD5Bmiml2Pf4L/LfLjGZmZmZmTeZBu2ZmZmZmLcwBv/UrSZ%2BTNCY/BdfMzMzM%2Btig6tJjLeFzpOc3jAWmN7UmPbTJcRMYMqyjKdvuOGaLpmzXzMzMBh%2B38NugJ2mRZtfBzMzMbKBywG/9Jj%2Bd%2BTf57eOSIv8Mz8t3lDRR0kxJL0m6QNLypTLGS2qX9ElJN0t6HTha0vBc1v6SfijpMUmvS7pO0vJKfibp6Vz%2BZZKW7NcDYGZmZtYE7tJj/ekSYDXgO8CPgRdy%2BlRJPwV%2BDlwInAEMA/YEbpa0TkRML5SzFHA1cAFpmtbnC8t2AIYAJwFLAgfkMm8ENgJ%2BBaySyz4W2KWX99HMzMxsQHHAb/0mIu6XdA8p4B%2BX5%2B9H0grAEcChEXF0Jb%2BkS4B/AaOBowtFfQjYPSJOK%2BQdnn9dDlg1Il7O6fMDB5Oe0PypiHg7pw8DdpC0R0S8UavOkpYhXXwUrVznrpuZmZk1jbv02EDwLdK5eKGkpSs/wHPAI6SnFhe9Qe0nHV9UCfazO/PreZVgv5A%2BhHSB0JnRQHvp57Iu1jEzMzMbMNzCbwPBqqQn9T5SY/lbpffPRMSbNfI%2BWXpfCf6fqpG%2BRBd1OwW4qJS2Mg76zczMbJBwwG8DwXxAAJsDs6ssn1F6P7OTsqqt31m6OqtYREwBpsyxgjpdxczMzGxAccBv/S2qpE0mBd6PR8TD/VwfMzMzs5bmPvzW317Lr0MLaZeQWuAPV6n5PE%2BnuVQ/1c3MzMys5biF3/rbxPx6lKQLSP3zrwAOBX4JDJc0DngVWBH4JnA6aQrNAeX6fUcyYsSIZlfDzMzMrFMO%2BK1fRcTdkn4G7A58hXSXacWIOEbSw6T5%2BQ/P2Z8CrgMub0plzczMzFqAIqp1qTazWiSNANrb29vdwm9mZmb9btKkSbS1tQG0RcSkrvK7D7%2BZmZmZWQtzwG9mZmZm1sIc8JuZmZmZtTAH/GZmZmZmLcwBv5mZmZlZC3PAb2ZmZmbWwhzwm5mZmZm1MAf81uckDZcUkkY1uy5mZmZm8xo/aXceIOlzwKbACRExvYH1RwOvR8TYXq7aoLbJcRMYMqyj2dUwG/A6jtmi2VUwM5unuYV/3vA54HBgaIPrjwZG9VZlzMzMzKz/OOA3MzMzM2thDvhbnKQxwG/y28dzX/rI/erfJ%2BlnkiZLekNSh6SjJS1YWL8DGAGMLKw7Pi9bUtKxkv4taYakVyRdLekTvVDvIZKOlDRR0suSXpN0i6SNq%2BSdT9LeuR6zJE2VdI2kT5Xy7SjpLkmvS5om6WZJm/a0rmZmZmYDmfvwt75LgNWA7wA/Bl7I6VOBM4CdgL8BvwU%2BAxwMfAz4Zs63D3ASMAM4Kqc9n19XArYCLgIeBz4I7AZMkLRmRDzbg3p/APg%2B8Bfgj8D7gV2BayV9OiLuLeQ9k9Tl6Oq8T%2B8DNgA%2BC/wTQNLhwBjgduAw4M28v18ErqtVCUnLAMNKySv3YL/MzMzM%2BpUD/hYXEfdLuocU8I%2BLiA6A3Aq/E3BGRPxvzn6KpCnA/pI2joibImKcpF8AL0TEeaXi/w2sFhHvVBIknQv8hxSc/7wHVZ8GDI%2BINwtl/zGXvWcun9ziPwo4MSL2Lqz/W0nKeVYhBfmXAtuU6qsu6jGaNP7BzMzMbFByl55511fz63Gl9N/m1y6n1YiINyrBs6T5JS1FuhPwELBuTyoXEbMrwX7usrMk6QL1n6WytwYCOKJKGZF/3Yp0rh9ZDPZLeWo5BWgr/WxZ7/6YmZmZNYtb%2BOddKwDvAI8WEyPiOUnT8/JOSZoP2JvUCr4iMH9h8Ys9raCknYD9gDWABQqLHi/8vjLwbES81ElRK5P29YF66xARU4AppXrVW4yZmZlZ07iF37pq4e7MIaQ7BDcDOwKbAZsAk%2BjhuSVpR2AsMJnUfecruewbe1q2mZmZ2bzELfzzhmpB/ROkwHlV4MFKoqQPkubrf6KL9QG2AW6KiF2LiZKG8t7g4EZtAzwGfKvY7UZSuevOZGAzSUt20so/mbSvawL39rBeZmZmZoOKA/55w2v5dWgh7e/A0aRZeHYrpO%2BbX68qrV9ct2I2MEf/FknbAstR6irUgNmVIskXHJI%2BA6wPPFnIdzHwQ9LA2uKgXSQpXyyMA34FHCZprkG73ejHX9X1%2B45kxIgRjaxqZmZm1m8c8M8bJubXoyRdALwFXAH8CfhBbpGfAHyaNHPPuIi4qbT%2BHpIOJQXyUyLiRuBKUhB9Nmm6y7WAHUgt8z11JfAt4FJJV5HGCOxO6oe/WCVTRNyUZwbaS9KqwDWk1vwNgJuAkyPiUUlHAT8DbpF0CfAGsB7wLGkqUjMzM7OW5IB/HhARd0v6GSlg/gopIF6RNM/9Y6RpLb8JPAf8krlnvDmSNIj3ANJ8%2BBNIfemPBhYFtge2A%2B4hze5zTC9UeyzwIdLdh81Igf6OwLbARqW8OwP3k/r6/wZ4mTSbz%2B2VDBFxmKTHSVN6HgW8ntc5txfqamZmZjZgqcHeDGbzLEkjgPb29nZ36TEzM7N%2BN2nSJNra2gDaImJSV/ndwm9WvyEAjz7a02EKZmZmZvUrxCBDupPfLfzWryQNAZbsItvLETGzP%2BrTCEnfBc5pdj3MzMxsnrdlRFzeVSa38Ft/%2BxxpMG1ndib14R%2BoHs6v2wD/aWZFBpiVgctITyKe3OS6DBQ%2BJtX5uFTn41Kdj0t1Pi5zm5eOyRBgedK4yi454Lf%2Bdh/pAVqd6bIvWpPNyK//6U6/uXlF4QnEk31cEh%2BT6nxcqvNxqc7HpTofl7nNg8fkX93N6IDf%2BlVETAP%2B0ex6mJmZmc0r5mt2BczMzMzMrO844DczMzMza2EO%2BM3qN5X0cLKpza7IAOPjMjcfk%2Bp8XKrzcanOx6U6H5e5%2BZjU4Gk5zczMzMxamFv4zczMzMxamAN%2BMzMzM7MW5oDfzMzMzKyFOeA3MzMzM2thDvjNzMzMzFqYA35raZIWlPQrSc9KminpTkmbdHPd5SRdKGm6pFckXSZppRp5d5X0oKRZkh6RtGdPy%2BxLfX1cJC0v6XBJd0maJukFSeMlfblKeaMkRY2fD/XWPndHf5wvnezrQY2W2df64Xzp7BwISTsU8o6pkWdWb%2B93F/vV0DGRtLqk4yXdnr8vQtLwTvJ/Q9I9Oe%2BTko6Q9L4q%2BYZKOl3SVEmvSbpJ0ro93M269fVxkbSUpJ9Iujnv63RJ/ydpuyp5N%2BrknPpsL%2B1yt/TH%2BSKpo8a%2Bnlol77xyvnR2DoSknxbyDpj/RX1hri8NsxYzFtgGOAF4BBgF/F3SxhFxa62VJC0G3AQsDhwNvAX8GJggae2IeLGQdzfgVOBi4DhgA%2BBESYtExK8aKbMfjKVvj8uWwIHAOOBPpO%2Ba7wHXS9olIs6uUvxhwOOltOn171qPjKWPz5fseuCcUtq/elhmXxpL3x6Xm4HvVinix8AngBuqLNsDmFF4P7v7u9MrxtLAMQHWB/YCHgAeBNaulVHS5qS/ofHAnsBawKHAMqT9r%2BSbD7iKdKx%2BA7wAjAbGS/pkRDxS9941bix9e1zWB44C/g78Angb2Bq4QNKaEXF4lXVOBO4upT3a9a70qrH08fmS3Qv8tpT2cPHNPHa%2BPEj175bvApsC11VZNhD%2BF/W%2BiPCPf1ryB/g0EMD%2BhbSFSF/0t3ex7gF53fUKaWuQ/rkcXUhbmPRleWVp/fNIwcgS9ZbZIsdlBLB0ad0FSV%2B%2BT5XSR%2BUyP9Xq50tOD%2BDkbtRnnjlfaqy7MPAKcF0pfUwuc%2Bl69mMAHZMlgffn3/fP5QyvkXcSKYB7XyHt/9s741ivyjKOf57dCSJdNMwwRlRGVoxKkHRGW6hrtVLTRpKyipxZg1bJ1qj8o5YmbNbUabZpZptiBNgEt5qrmZNGRVbXWGnRUIJBioCKci9UPv3xnB8czj3n/u7vx%2B%2Bc373nfj/bGeM9z/u%2Bz3nu8zvvc97zvs%2B5AXgVeEeq7PKknQWpstOA/cD9dbIL8BbgTZkyIx4KB4CJqfL5WbvU3F%2BeITMWFciNGX8Zov5W4B%2BZssWMgLGorENLekSdWUDM%2Bt3ZKHD3AeBu4Dwze2OTun9w9yOzQu7%2BFDGoXJ6SOx84FbgjU//7wETgo220WTal28Xd/%2Bruz6cruvshYlZumpn15jVuZr1m1tP6JXWEKvzlCGY2wcxO7GSbJVGpXVJcDPQCqwrOm5lNMjNrfgkdp22buPs%2Bdz/QrAMzmwnMBO509/%2BmTt1BBLgLMvo8C/ws1c8eYA3wMTMbP5yL6gCl28Xdn3b37ZkyJ96EjAeKll32Ws5SqIoo3S5pzGycmU1sos%2BY8Jc8zOwcYAbF95Zuj0WloIBf1JnZxBP8S5nyzcm/Z%2BVVSl53vht4POf0ZuCtqYB1dvJvVvaPxCzc7DbaLJsq7FLE6cDB5Mjya2JG96CZbTCztzVpq9NUaZfFwCtAv5n9zcyu7ECbZdEtf1kE9JMKSjJsA14EDpjZfWY2ZYi2Ok1bNmmjD8jYz913ATtT5xuyf3L3V3P0OQk4swP6DIcq7FJEY4318znn7iHuLQPJWvW5JeqRR5V2uYC4v76crOn/coE%2BY9lfGnuCigL%2Bbo9FpaA1/KLOvAHYnVPeKJtaUG8yMVPUrO7fkz7%2B5%2B7PpYXc/bCZ7U310UqbZVOFXQZhZjOAjwNr3T293vogsY6zcZM9G1gGbDKzOe6%2Bo/BKOktVdtlEzKQ9nZQvBVaZ2cnu/oM22yyTyv3FzCYDHwYezJnF2w/cDvwWOETsmVkKnGNmc3OChzJo1yat9pFuM9vP1IzsY0302dIBnZpRhV0GkfjL1cBGd0/3f5jYW/Vz4kFgJrH8Y6OZvc/d/zyosXKoyi5/AX5D/KZOJSYWbjGzqe6%2BPKPPmPSXZNZ%2BIbDZ3bP7OEbKWFQKCvhFnZlABARZBlLni%2BoxzLoTiEElj4GM3HDbLJsq7HIMZnYSsJaYsT0mG427ryEC4AYPmtnDxIB0HfCFAn06TSV2cfd5aQEz%2BxHxRuhGM/uxu/e32mbJVO4vxKv%2BceTMwLn7rZmiB8xscyK7BFhZ0GYnadcmrfbBEP1Mqlif4VC5HsmbpFXAKcTG5iO4%2BybiAbvBBjNbRwTGK4iHyiqoxC7ufkn6/2Z2D/ALYJmZ3ebuO6vUZxh0Q48LgSlEEoFjGEFjUSloSY%2BoM/3EDGOWE1Pni%2BoxzLr9RGCSx4kZueG2WTZV2OUIyYzKamJ2bUGyJGFIPLIz/B4YlMazRCq1SwN3P0zMWJ9CzCgdd5sdpht2WQTsI4KVprj7/cC/qc5f2rVJq30wRD/9GdnR7CvHw21E4H61uz/RTDiZ1V0PnF/hGu2u/H2SvQ03E5O787utTw7d0GMRsW/gp8MR7tJYVAoK%2BEWd2c3R1%2BJpGmVFgec%2BYtZhOHV3Az1m9vq0kJmNI16pNuRaabNsqrBLmruAi4DF7v5IC3ruIJaFVEXVdknTeFXcuN4x6y9mNp1YprPW3f/Tgp5V%2Bku7Nmm1j3Sb2X52ZWRHs6%2B0hZl9k3ir8zV3v7eFqjuIiZqhNrZ2km7%2BfbL3lm7rk6Zqf5kAXAb8yt2fbaFq1WNRKSjgF3WmDzjTzCZlys9NnR9EspFpC5C3setcYFtqXXGjjazsXOL31ddGm2XTR/l2AcDMbgI%2BC1zr7j9pUc8zgD0t1jke%2BqjILjk0Movs6WCbnaKPau1yBZGFpjCDRpYkU8%2Bbqc5f%2BmjDJm30ARn7mdlUYFqmjz5gTrK8JavPQTJ52Eukj/LtAoCZLSVStN7iqe%2BdDJMziGUjLzcT7BB9VGSXHI65t6T6G1P%2BknAJQ2f%2BKqLqsagcupUPVIeOsg/ippHN8TueyL/7u1TZdFI5rZOy5WTy8QJvJ/KHr0yVTQD2Ag9l6t9LZGGZ3GqbdbBLUv7VRPY7TfQ5LafsI0ndW%2Btkl4Jr7SXyTu8Bxo1Vf0mdfwLYDlgL/rIk6efakW6TTDvN8qo/SQQ9Pamy64kMYO9MlS1kcF711xEbnFePBl9p0S4LiWUZ9xX5yRC%2B8h5i39X6OtmFmIHuyZSdQGziPQScPlb9JSW3nhiXX9OCv1Q%2BFpV1WHJBQtQSM1tDvMK7mQiqPkN87ONCd38skXkU%2BIC7W6peL/Hl017gu8QXQpcBPcBZHjmLG7JLiLz764CHieUInwauc/cb22mzbMq2i5ldRqRT3Ap8O0eFX3ryStXMtiZtPk6kWZwDXEW87n2vt/bq9biowC7fAi4FHgL%2BRby6vooY0D7l7qtabbMKqvgdJfKziLcCK9396wW6HCTW324hZmnfD3ySeFCY5%2B55KV87znHY5GSObi6dR6w//x7xJc8X3P32lOxFwAYia8hqYBbwReBud78mJddDBHazOPbLqdOJ31AV2ZwaupRqlySH%2BkbiXrGc8Kk0m9x9WyL7CLEOfBPwHLGP6Jqkznnu/mQHL31IKrDLYuIrzOuIDGCTgSsJn/iGu69ItTlm/CUlP5nY5/OAu19RoMuIGYtKodtPHDp0lHkQm39uIn6wA0R%2B3w9lZB4l2d%2BUKZ9GZJZ5EThABGkzCvr5HPAUMZPyT%2BAr5Mw8tdLmaLYLR7%2BGWnTMT8neQNxkXyBm3rYTHxeaUkO7fJD4lPvu5Fr3Ew%2BJFxToMyb8JSW7IvGPdw2hy13EF2hfSmy4lcjM0zsabEIsPSr6XTyT08%2Blye9jgFhLfD1wQo7ca4EfEsHbK0nflX8xtGy7cPRrqEXH4pTsl4gNl3uJIH8X8fZ11PyGWrDL2cTD4U5iHDpAPBh9okCfMeEvKfnPJ%2BcuHkKXETMWlXFohl8IIYQQQogao027QgghhBBC1BgF/EIIIYQQQtQYBfxCCCGEEELUGAX8QgghhBBC1BgF/EIIIYQQQtQYBfxCCCGEEELUGAX8QgghhBBC1BgF/EIIIYQQQtQYBfxCCCGEEELUGAX8QgghhBBC1BgF/EIIIYQQQtQYBfxCCCGEEELUGAX8QgghhBBC1BgF/EIIIYQQQtQYBfxCCCGEEELUmP8Dg0Hgldj75J8AAAAASUVORK5CYII%3D'></center>"
      ],
      "text/plain": [
       "<__main__.MatplotlibFigure at 0x256514e1e50>"
      ]
     },
     "metadata": {},
     "output_type": "display_data"
    }
   ],
   "source": [
    "fig = plt.figure(figsize = (width_inch, height_inch))\n",
    "\n",
    "# get the importances for the features\n",
    "rf_importances = lc_bal_rf_rs.best_estimator_.feature_importances_\n",
    "\n",
    "rf_importances_series = pd.Series(rf_importances,index=data_x.columns).sort_index(ascending = False)\n",
    "\n",
    "# plot the important features\n",
    "rf_importances_series.plot.barh(legend =False, grid=False,)\n",
    "\n",
    "fig_num+=1\n",
    "plt.suptitle('Figure %d: Average Feature Importances for a Balanced Random Forest'%fig_num)\n",
    "plt.tight_layout()\n",
    "plt.close()\n",
    "display(MatplotlibFigure(fig, centered=True))"
   ]
  },
  {
   "cell_type": "markdown",
   "metadata": {
    "slideshow": {
     "slide_type": "subslide"
    }
   },
   "source": [
    "We could also use the importance of each feature (using average impurity decrease), for feature selection.\n",
    "\n",
    "Rather than manually setting a theshold we can put it in a pipeline and use the <code>SelectFromModel</code> function from Scikit-learn. Using this we can still provide both a numeric theshold or we could use a heuristic such as the mean and median<sup>5</sup>."
   ]
  },
  {
   "cell_type": "code",
   "execution_count": 20,
   "metadata": {
    "slideshow": {
     "slide_type": "skip"
    }
   },
   "outputs": [
    {
     "name": "stdout",
     "output_type": "stream",
     "text": [
      "\u001b[1m\u001b[4mSVM\u001b[0m\n",
      "CV f1-score: 0.343 +/- 0.007\n",
      "\u001b[1m\u001b[4mForest SVM\u001b[0m\n",
      "CV f1-score: 0.342 +/- 0.006\n"
     ]
    }
   ],
   "source": [
    "from sklearn.feature_selection import SelectFromModel\n",
    "from sklearn.svm import SVC\n",
    "from sklearn.model_selection import StratifiedKFold\n",
    "from sklearn.pipeline import Pipeline\n",
    "from sklearn.model_selection import cross_val_score\n",
    "\n",
    "svm = SVC(kernel='rbf', random_state=42, class_weight = 'balanced')\n",
    "\n",
    "rf_svm = Pipeline([\n",
    "  ('feature_selection', SelectFromModel(lc_bal_rf_rs.best_estimator_, threshold = 'mean')),\n",
    "  ('classification', svm)\n",
    "])\n",
    "\n",
    "svm_dict = {'SVM':svm, 'Forest SVM':rf_svm}\n",
    "\n",
    "for classifier_name in svm_dict:\n",
    "    scores = cross_val_score(estimator=svm_dict[classifier_name], \n",
    "                             X=X_train, \n",
    "                             y=y_train, \n",
    "                             scoring = 'f1',\n",
    "                             cv=StratifiedKFold(),\n",
    "                             n_jobs=-1)\n",
    "\n",
    "    print(color.BOLD+color.UNDERLINE+classifier_name+color.END)\n",
    "    print('CV f1-score: %.3f +/- %.3f' % (np.mean(scores), np.std(scores)))"
   ]
  },
  {
   "cell_type": "markdown",
   "metadata": {
    "slideshow": {
     "slide_type": "subslide"
    }
   },
   "source": [
    "__Limitations__\n",
    "\n",
    "- Feature importances can be misleading for high cardinality features (many unique values)<sup>6</sup>\n",
    "\n",
    "- If features are highly correlated, one feature may be ranked highly while the information of the others not being fully captured<sup>4</sup>. "
   ]
  },
  {
   "cell_type": "code",
   "execution_count": 21,
   "metadata": {
    "slideshow": {
     "slide_type": "fragment"
    }
   },
   "outputs": [
    {
     "data": {
      "image/png": "[encoded data removed]",
      "text/plain": [
       "<Figure size 776.64x480 with 2 Axes>"
      ]
     },
     "metadata": {
      "needs_background": "light"
     },
     "output_type": "display_data"
    }
   ],
   "source": [
    "plt.figure(figsize=(width_inch, height_inch))\n",
    "sns.heatmap(data_x.corr(), cmap='viridis')\n",
    "plt.show()"
   ]
  },
  {
   "cell_type": "markdown",
   "metadata": {
    "slideshow": {
     "slide_type": "subslide"
    }
   },
   "source": [
    "### Permutation Importance\n",
    "\n",
    "The permutation feature importance is defined to be the decrease in a model score when a single feature value is randomly shuffled<sup>7</sup>.\n",
    "\n",
    "This procedure breaks the relationship between the feature and the target, thus the drop in the model score is indicative of how much the model depends on the feature<sup>8</sup>."
   ]
  },
  {
   "cell_type": "markdown",
   "metadata": {
    "slideshow": {
     "slide_type": "notes"
    }
   },
   "source": [
    "__Notes__\n",
    "\n",
    "- _\" In the permutation-based approach, for each tree, the OOB sample is passed down the tree and the prediction accuracy is recorded. Then the values for each variable (one at a time) are randomly permuted and the accuracy is again computed. The decrease in accuracy as a result of this randomly shuffling of feature values is averaged over all the trees for each predictor. The variables with the largest average decrease in accuracy are considered most important.\"_<sup>9</sup>\n",
    "\n",
    "- _\"This technique benefits from being model agnostic and can be calculated many times with different permutations of the feature.\"_ https://scikit-learn.org/stable/modules/permutation_importance.html\n",
    "\n",
    "- _\"Using a held-out set makes it possible to highlight which features contribute the most to the generalization power of the inspected model. Features that are important on the training set but not on the held-out set might cause the model to overfit.\"_ https://scikit-learn.org/stable/modules/permutation_importance.html\n",
    "\n",
    "- _\"Warning: Features that are deemed of low importance for a bad model (low cross-validation score) could be very important for a good model. Therefore it is always important to evaluate the predictive power of a model using a held-out set (or better with cross-validation) prior to computing importances. Permutation importance does not reflect to the intrinsic predictive value of a feature by itself but how important this feature is for a particular model.\"_ https://scikit-learn.org/stable/modules/permutation_importance.html\n",
    "\n",
    "- For more examples of methods of interpreting forests see: https://towardsdatascience.com/explaining-feature-importance-by-example-of-a-random-forest-d9166011959e"
   ]
  },
  {
   "cell_type": "code",
   "execution_count": 44,
   "metadata": {
    "slideshow": {
     "slide_type": "fragment"
    }
   },
   "outputs": [
    {
     "data": {
      "image/png": "[encoded data removed]",
      "text/plain": [
       "<Figure size 1553.28x480 with 2 Axes>"
      ]
     },
     "metadata": {
      "needs_background": "light"
     },
     "output_type": "display_data"
    }
   ],
   "source": [
    "from sklearn.inspection import permutation_importance\n",
    "\n",
    "fig, axes = plt.subplots(ncols = 2, figsize=(width_inch*2, height_inch), sharey=True)\n",
    "axes = axes.flatten()\n",
    "for i, ax in enumerate(axes):\n",
    "    if i == 0:\n",
    "        X, y = X_train, y_train\n",
    "        name = \"Training\"\n",
    "    else:\n",
    "        X, y = X_val, y_val\n",
    "        name = \"Validation\"\n",
    "    \n",
    "    imp = permutation_importance(lc_bal_rf_rs.best_estimator_, X, y,\n",
    "                                 n_repeats=30, scoring='f1', random_state=0)\n",
    "    imp_df = pd.DataFrame(imp['importances']).T\n",
    "    imp_df.columns = data_x.columns\n",
    "    imp_df_ = imp_df.melt(var_name = 'Feature', value_name='Permutation Importance (F1-Score)')\n",
    "    \n",
    "    sns.barplot(data = imp_df_, x = 'Permutation Importance (F1-Score)', y = 'Feature', ax = ax)\n",
    "    ax.set_title(name)\n",
    "plt.show()"
   ]
  },
  {
   "cell_type": "markdown",
   "metadata": {
    "slideshow": {
     "slide_type": "slide"
    }
   },
   "source": [
    "# 9. Strengths and Limitations <a id='adv_lim'></a>\n",
    "\n",
    "There are always advantages and disadvantages to using any model on a particular dataset. "
   ]
  },
  {
   "cell_type": "markdown",
   "metadata": {
    "slideshow": {
     "slide_type": "subslide"
    }
   },
   "source": [
    "## Trees\n",
    "### Advantages<sup>1,10</sup>\n",
    "- Easy to explain\n",
    "    - Trees can be displayed graphically in an interpretable mannor.\n",
    "- Inherently multiclass\n",
    "    - Can also handle multitask output (multiclass-multioutput)\n",
    "- Can handle different types of predictors*\n",
    "    - Independent of feature scaling\n",
    "- Can handle missing values*\n",
    "- Can handle multitask output (multiclass-multioutput)\n",
    "\n",
    "\n",
    "\\* not in Scikit-Learn"
   ]
  },
  {
   "cell_type": "markdown",
   "metadata": {
    "slideshow": {
     "slide_type": "notes"
    }
   },
   "source": [
    "__Notes__\n",
    "- _\"Uses a white box model. If a given situation is observable in a model, the explanation for the condition is easily explained by boolean logic.\"_<sup>12</sup>\n",
    "- Decision trees potentially more mirror human decision-making than the regression and classification approaches previously discussed.\n",
    "- Generally, you'll find tree impliminations that are specialised for particular types of data.\n",
    "- _\"Warning At present, no metric in sklearn.metrics supports the multiclass-multioutput classification task.\"_<sup>11</sup>"
   ]
  },
  {
   "cell_type": "markdown",
   "metadata": {
    "slideshow": {
     "slide_type": "skip"
    }
   },
   "source": [
    "### Extra: Categorical Features and Sklearn\n",
    "\n",
    "You may also be wondering: where are my previous data visualisations of the categorical data before this? Well Sklearn's CART decision trees currently _\"does not support categorical variables\"_. This means:\n",
    "\n",
    "- Do not use `Label Encoding` if your categorical data is __not ordinal__ with `DecisionTreeClassifier()`, you'll end up with splits that do not make sense, as the data will be treat as numeric<sup>13</sup>.\n",
    "\n",
    "- Using a `OneHotEncoder` is the only current valid way with sklearn, allowing arbitrary splits not dependent on the label ordering, but is computationally expensive and it can deteriorate the performance of decision trees as it leads to sparse features, which can mess up feature importance<sup>12</sup>.\n",
    "\n",
    "__Solutions__\n",
    "\n",
    "Currently the best way of handling categorical features is to use <code>h2o.randomForest</code>, a different forest implimentation, or <code>catboost</code>, a boosting classifier. \n",
    "\n",
    "__Notes__\n",
    "- H2o has sklearn support which may be useful to look into: http://docs.h2o.ai/h2o/latest-stable/h2o-docs/h2o-client.html"
   ]
  },
  {
   "cell_type": "markdown",
   "metadata": {
    "slideshow": {
     "slide_type": "subslide"
    }
   },
   "source": [
    "### Disadvantages <sup>1,10</sup>\n",
    "\n",
    "- Comparatively poor generalization performance.\n",
    "\n",
    "- Easy to overfit\n",
    "    - Require pruning\n",
    "\n",
    "- High variance\n",
    "    - A small change in the data can cause a large change in the estimated tree.\n",
    "    - Model affected by the rotation of the data.\n",
    "    \n",
    "- Cannot guarantee to return the globally optimal decision tree.\n",
    "    - locally optimal decisions are made at each node."
   ]
  },
  {
   "cell_type": "markdown",
   "metadata": {
    "slideshow": {
     "slide_type": "notes"
    }
   },
   "source": [
    "__Notes__\n",
    "- If there is a highly non-linear and complex relationship between the features and the response then decision trees may outperform classical approaches. However if the relationship between the features and the response is well approximated by a linear model, then an approach such as linear regression will likely work well<sup>1</sup>.\n",
    "- A decision tree is quite boxy. How the model makes a decision boundary is going to be affected by the rotation of the data (as DTs create straight lines). For example, see pg. 315 of James, Gareth, Daniela Witten, Trevor Hastie, and Robert Tibshirani. An introduction to statistical learning. Vol. 112. New York: springer, 2013. "
   ]
  },
  {
   "cell_type": "markdown",
   "metadata": {},
   "source": [
    "## Forests/ExtraTrees\n",
    "\n",
    "Generally improve upon trees, at the expense of interpretability.\n",
    "\n",
    "### Advantages\n",
    "\n",
    "- Comparatively good generalisability\n",
    "    - Not too affected by outlier observations.\n",
    "    - Can still overfit<sup>16</sup> but much less likely\n",
    "\n",
    "- Comparatively small variability in prediction accuracy when tuning<sup>14</sup>\n",
    "\n",
    "- Comparatively good “out of the box” performance<sup>15</sup>\n",
    "    - Easy of use\n",
    "    - not much tuning required to get good results\n",
    "\n",
    "- ExtraTrees is faster to train than random forests\n",
    "    - Its time consuming to to find the best theshold for each feature at each node<sup>3</sup>.\n",
    "\n",
    "- Work well on large datasets\n",
    "\n",
    "###  Disadvantages\n",
    "\n",
    "- Not good for very high-dimensional sparse data<sup>17</sup>.\n",
    "    - e.g. text\n",
    "\n",
    "- Harder than trees to interpret\n",
    "    - Trees in random forests tend to be deeper than decision trees (due to feature subsets)<sup>17</sup>.\n",
    "    \n",
    "- More computationally demanding to train than other algorithms<sup>17</sup>\n",
    "    - Require more memory and are slower to train and to predict than linear models.\n",
    "    - However, they can be easily parallelized across multiple CPU cores.\n",
    "\n",
    "- Setting different random states can drastically change the model<sup>17</sup>.\n",
    "    - The more trees, the more robust to this they are to this."
   ]
  },
  {
   "cell_type": "markdown",
   "metadata": {},
   "source": [
    "__Notes__\n",
    "- Using more CPU cores will result in linear speed-ups<sup>17</sup>.\n",
    "- _'As concluding remarks about ensemble techniques, it is worth noting that ensemble learning increases the computational complexity compared to individual classifiers. In practice, we need to think carefully about whether we want to pay the price of increased computational costs for an often relatively modest improvement in predictive performance. An often-cited example of this tradeoff is the famous \\$1 million Netflix Prize, which was won using ensemble techniques. The details about the algorithm were published in The BigChaos Solution to the Netflix Grand Prize by A. Toescher, M. Jahrer, and R. M. Bell, Netflix Prize documentation, 2009, which is available at http://www.stat.osu.edu/~dmsl/GrandPrize2009_BPC_BigChaos.pdf. The winning team received the $1 million grand prize money; however, Netflix never implemented their model due to its complexity, which made it infeasible for a real-world application: \"We evaluated some of the new methods offline but the additional accuracy gains that we measured did not seem to justify the engineering effort needed to bring them into a production environment.\" http://techblog.netflix.com/2012/04/netflix-recommendations-beyond-5-stars.html'_<sup>4</sup>"
   ]
  },
  {
   "cell_type": "markdown",
   "metadata": {
    "slideshow": {
     "slide_type": "slide"
    }
   },
   "source": [
    "# References\n",
    "1. James, Gareth, Daniela Witten, Trevor Hastie, and Robert Tibshirani. An introduction to statistical learning. Vol. 112. New York: springer, 2013.\n",
    "2. Gorman KB, Williams TD, Fraser WR (2014). Ecological sexual dimorphism and environmental variability within a community of Antarctic penguins (genus Pygoscelis). PLoS ONE 9(3):e90081. https://doi.org/10.1371/journal.pone.0090081\n",
    "3. Géron, A. (2017). Hands-on machine learning with Scikit-Learn and TensorFlow: concepts, tools, and techniques to build intelligent systems. \" O'Reilly Media, Inc.\".\n",
    "4. Raschka, Sebastian, and Vahid Mirjalili. Python Machine Learning, 2nd Ed. Packt Publishing, 2017.\n",
    "5. http://scikit-learn.org/stable/modules/feature_selection.html\n",
    "6. https://scikit-learn.org/stable/modules/generated/sklearn.tree.DecisionTreeClassifier.html#sklearn.tree.DecisionTreeClassifier\n",
    "7. L. Breiman, “Random Forests”, Machine Learning, 45(1), 5-32, 2001\n",
    "8. https://scikit-learn.org/stable/modules/permutation_importance.html\n",
    "9. https://bradleyboehmke.github.io/HOML/random-forest.html\n",
    "10. https://github.com/rasbt/stat479-machine-learning-fs19/blob/master/06_trees/06-trees__notes.pdf\n",
    "11. https://scikit-learn.org/stable/modules/multiclass.html\n",
    "12. https://scikit-learn.org/stable/modules/tree.html\n",
    "13. https://stackoverflow.com/questions/38108832/passing-categorical-data-to-sklearn-decision-tree\n",
    "14. Probst, Philipp, Bernd Bischl, and Anne-Laure Boulesteix. 2018. “Tunability: Importance of Hyperparameters of Machine Learning Algorithms.” arXiv Preprint arXiv:1802.09596.\n",
    "15. https://github.com/rasbt/stat451-machine-learning-fs20/blob/master/L07/07-ensembles__notes.pdf.\n",
    "16. Segal MR: Machine Learning Benchmarks and Random Forest Regression. Technical Report, Center for Bioinformatics & Molecular Biostatistics, University of California, San Francisco 2004.\n",
    "17. Müller, A. C., & Guido, S. (2016). Introduction to machine learning with Python: a guide for data scientists. \" O'Reilly Media, Inc.\"."
   ]
  },
  {
   "cell_type": "code",
   "execution_count": null,
   "metadata": {
    "slideshow": {
     "slide_type": "skip"
    }
   },
   "outputs": [],
   "source": [
    "import sys\n",
    "from shutil import copyfile\n",
    "\n",
    "# where the HTML template is located\n",
    "dst = os.path.join(sys.prefix, 'lib', 'site-packages', 'nbconvert', 'templates', \"classic.tplx\")\n",
    "\n",
    "# If its not located where it should be\n",
    "if not os.path.exists(dst):\n",
    "    # uses a nb_pdf_template\n",
    "    curr_path = os.path.join(os.getcwd(),\"..\", \"Extra\", \"classic.tplx\")\n",
    "    # copy where it is meant to be\n",
    "    copyfile(curr_path, dst)\n",
    "\n",
    "# Create HTML notes document\n",
    "!jupyter nbconvert 3_Applications.ipynb \\\n",
    "    --to html \\\n",
    "    --output-dir . \\\n",
    "    --template classic\n",
    "!jupyter nbconvert 3_Applications.ipynb \\\n",
    "    --to slides \\\n",
    "    --output-dir . \\\n",
    "    --TemplateExporter.exclude_input=True \\\n",
    "    --TemplateExporter.exclude_output_prompt=True \\\n",
    "    --SlidesExporter.reveal_scroll=True\n",
    "\n",
    "# Create pdf notes document (issues)\n",
    "!jupyter nbconvert 3_Applications.ipynb \\\n",
    "    --to html \\\n",
    "    --output-dir ./PDF_Prep \\\n",
    "    --output 3_Applications_no_code \\\n",
    "    --TemplateExporter.exclude_input=True \\\n",
    "    --TemplateExporter.exclude_output_prompt=True"
   ]
  },
  {
   "cell_type": "code",
   "execution_count": null,
   "metadata": {
    "slideshow": {
     "slide_type": "skip"
    }
   },
   "outputs": [],
   "source": []
  }
 ],
 "metadata": {
  "celltoolbar": "Slideshow",
  "colab": {
   "authorship_tag": "ABX9TyMNuZgSJ2BiDt5YMpOB66EK",
   "collapsed_sections": [],
   "name": "Clustering.ipynb",
   "provenance": []
  },
  "kernelspec": {
   "display_name": "Python 3",
   "language": "python",
   "name": "python3"
  },
  "language_info": {
   "codemirror_mode": {
    "name": "ipython",
    "version": 3
   },
   "file_extension": ".py",
   "mimetype": "text/x-python",
   "name": "python",
   "nbconvert_exporter": "python",
   "pygments_lexer": "ipython3",
   "version": "3.8.8"
  }
 },
 "nbformat": 4,
 "nbformat_minor": 1
}
