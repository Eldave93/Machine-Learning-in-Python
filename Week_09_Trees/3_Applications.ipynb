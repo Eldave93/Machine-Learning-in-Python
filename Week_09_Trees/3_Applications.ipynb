{
 "cells": [
  {
   "cell_type": "code",
   "execution_count": 1,
   "metadata": {
    "slideshow": {
     "slide_type": "skip"
    }
   },
   "outputs": [
    {
     "data": {
      "text/html": [
       "<button style=\"margin:0 auto; display: block;\" onclick=\"jQuery('.code_cell .input_area').toggle();\n",
       "    jQuery('.prompt').toggle();\">Toggle code</button>"
      ],
      "text/plain": [
       "<IPython.core.display.HTML object>"
      ]
     },
     "execution_count": 1,
     "metadata": {},
     "output_type": "execute_result"
    }
   ],
   "source": [
    "# This line will add a button to toggle visibility of code blocks,\n",
    "# for use with the HTML export version\n",
    "from IPython.core.display import HTML\n",
    "HTML('''<button style=\"margin:0 auto; display: block;\" onclick=\"jQuery('.code_cell .input_area').toggle();\n",
    "    jQuery('.prompt').toggle();\">Toggle code</button>''')"
   ]
  },
  {
   "cell_type": "markdown",
   "metadata": {
    "slideshow": {
     "slide_type": "slide"
    }
   },
   "source": [
    "<img src=\"./Images/UoE_Horizontal_Logo_282_v1_160215.png\" alt=\"drawing\" width=\"600\"/>\n",
    "\n",
    "# Week 9 - Tree-Based Methods\n",
    "__Dr. David Elliott__\n",
    "    \n",
    "7. [Imballanced Data](#imb)\n",
    "\n",
    "8. [Feature Interpretation/Reduction](#feats)\n",
    "    \n",
    "9. [Strengths and Limitations](#adv_lim)"
   ]
  },
  {
   "cell_type": "code",
   "execution_count": 2,
   "metadata": {
    "slideshow": {
     "slide_type": "skip"
    }
   },
   "outputs": [],
   "source": [
    "%matplotlib inline\n",
    "\n",
    "import os # locating directories\n",
    "\n",
    "import numpy as np   # Arrays\n",
    "import pandas as pd  # DataFrames\n",
    "\n",
    "# Plotting\n",
    "import matplotlib.pyplot as plt\n",
    "import seaborn as sns\n",
    "\n",
    "from sklearn.model_selection import GridSearchCV, RandomizedSearchCV, KFold, StratifiedKFold\n",
    "\n",
    "# colours for print()\n",
    "class color:\n",
    "   PURPLE = '\\033[95m'\n",
    "   CYAN = '\\033[96m'\n",
    "   DARKCYAN = '\\033[36m'\n",
    "   BLUE = '\\033[94m'\n",
    "   GREEN = '\\033[92m'\n",
    "   YELLOW = '\\033[93m'\n",
    "   RED = '\\033[91m'\n",
    "   BOLD = '\\033[1m'\n",
    "   UNDERLINE = '\\033[4m'\n",
    "   END = '\\033[0m'\n",
    "    \n",
    "image_dir = os.path.join(os.getcwd(),\"Images\")\n",
    "# Initial fig number\n",
    "fig_num=0\n",
    "\n",
    "plt.rcParams['figure.dpi'] = 120\n",
    "# golden ratio for figures ()\n",
    "gr = 1.618\n",
    "\n",
    "height_pix = 500\n",
    "width_pix = height_pix*gr\n",
    "\n",
    "height_inch = 4\n",
    "width_inch = height_inch*gr"
   ]
  },
  {
   "cell_type": "code",
   "execution_count": 3,
   "metadata": {
    "slideshow": {
     "slide_type": "skip"
    }
   },
   "outputs": [],
   "source": [
    "# Centered figures in the notebook and presentation\n",
    "# ...was a real pain to find this:\n",
    "# https://gist.githubusercontent.com/maxalbert/800b9f06c7b2dd365ea5\n",
    "\n",
    "import matplotlib.pyplot as plt\n",
    "import matplotlib\n",
    "import numpy as np\n",
    "import urllib\n",
    "import base64\n",
    "from io import BytesIO, StringIO\n",
    "\n",
    "def fig2str(fig, format='svg'):\n",
    "    \"\"\"\n",
    "    Return a string containing the raw data of the matplotlib figure in the given format.\n",
    "\n",
    "    \"\"\"\n",
    "    assert isinstance(fig, matplotlib.figure.Figure)\n",
    "    imgdata = BytesIO()\n",
    "    fig.savefig(imgdata, format=format, bbox_inches='tight')\n",
    "    imgdata.seek(0)  # rewind the data\n",
    "    output = imgdata.getvalue()\n",
    "    if format == 'svg':\n",
    "        return output\n",
    "    else:\n",
    "        return urllib.parse.quote(base64.b64encode(output))\n",
    "\n",
    "class MatplotlibFigure(object):\n",
    "    \"\"\"\n",
    "    Thin wrapper around a matplotlib figure which provides a custom\n",
    "    HTML representation that allows tweaking the appearance\n",
    "\n",
    "    \"\"\"\n",
    "    def __init__(self, fig, centered=False):\n",
    "        assert isinstance(fig, matplotlib.figure.Figure)\n",
    "        self.centered = centered\n",
    "\n",
    "    def _repr_html_(self):\n",
    "        img_str_png = fig2str(fig, format='png')\n",
    "        uri = 'data:image/png;base64,' + img_str_png\n",
    "        html_repr = \"<img src='{}'>\".format(uri)\n",
    "        if self.centered:\n",
    "            html_repr = \"<center>\" + html_repr + \"</center>\"\n",
    "        return html_repr"
   ]
  },
  {
   "cell_type": "code",
   "execution_count": 4,
   "metadata": {
    "slideshow": {
     "slide_type": "skip"
    }
   },
   "outputs": [],
   "source": [
    "# TODO: when tidying this up in the future, but these common functions I use\n",
    "# all the time in a separate .py file.\n",
    "def hyper_search(model, params, X, y, save_path, n_iter=60, metric=\"accuracy\", \n",
    "                 cv = KFold(5), random_state=42, refit=True,\n",
    "                 overwrite=False, warning=False, verbose=0):\n",
    "    if os.path.exists(save_path) and overwrite==False:\n",
    "        #load the model\n",
    "        models = joblib.load(save_path)\n",
    "    else:\n",
    "        # check all param inputs are lists\n",
    "        if all(type(x)==list for x in params.values()):\n",
    "            search_type = \"Gridsearch\"\n",
    "            models = GridSearchCV(model, param_grid=params, scoring=metric, cv=cv, \n",
    "                                  refit=refit, return_train_score=True, verbose=verbose)\n",
    "            n_iter = len(list(itertools.product(*list(iter(params.values())))))\n",
    "        else:\n",
    "            search_type = \"Randomsearch\"\n",
    "            if verbose>0:\n",
    "                print(\"Starting \"+search_type)\n",
    "            models = RandomizedSearchCV(model, param_distributions=params,\n",
    "                                        n_iter=n_iter, scoring=metric, cv=cv,\n",
    "                                        refit=refit, random_state=random_state,\n",
    "                                        return_train_score=True, verbose=verbose)\n",
    "        \n",
    "        start = time()\n",
    "        if warning:\n",
    "            models.fit(X, y)\n",
    "        else:\n",
    "            with warnings.catch_warnings():\n",
    "                warnings.simplefilter(\"ignore\")\n",
    "                models.fit(X, y)\n",
    "        \n",
    "        if verbose>0:\n",
    "            print(search_type + \" took %.2f seconds for %d candidates\" % ((time() - start), n_iter))\n",
    "        joblib.dump(models, save_path)\n",
    "    \n",
    "    return models"
   ]
  },
  {
   "cell_type": "markdown",
   "metadata": {
    "slideshow": {
     "slide_type": "subslide"
    }
   },
   "source": [
    "## Dataset Example: Lending Club<sup>18</sup>\n",
    "\n",
    "LendingClub (was) the world's largest peer-to-peer lending platform. \n",
    "\n",
    "Investors were able to search and browse the loan listings on LendingClub website and select loans that they want to invest in based on the information supplied about the borrower, amount of loan, loan grade, and loan purpose. \n",
    "- Investors make money from the interest on these loans. \n",
    "- LendingClub makes money by charging borrowers an origination fee and investors a service fee."
   ]
  },
  {
   "cell_type": "code",
   "execution_count": 5,
   "metadata": {
    "slideshow": {
     "slide_type": "skip"
    }
   },
   "outputs": [
    {
     "data": {
      "text/html": [
       "<div>\n",
       "<style scoped>\n",
       "    .dataframe tbody tr th:only-of-type {\n",
       "        vertical-align: middle;\n",
       "    }\n",
       "\n",
       "    .dataframe tbody tr th {\n",
       "        vertical-align: top;\n",
       "    }\n",
       "\n",
       "    .dataframe thead th {\n",
       "        text-align: right;\n",
       "    }\n",
       "</style>\n",
       "<table border=\"1\" class=\"dataframe\">\n",
       "  <thead>\n",
       "    <tr style=\"text-align: right;\">\n",
       "      <th></th>\n",
       "      <th>loan_amnt</th>\n",
       "      <th>int_rate</th>\n",
       "      <th>annual_inc</th>\n",
       "      <th>dti</th>\n",
       "      <th>total_acc</th>\n",
       "      <th>term</th>\n",
       "      <th>home_ownership</th>\n",
       "      <th>emp_length</th>\n",
       "      <th>open_acc</th>\n",
       "      <th>pub_rec</th>\n",
       "      <th>...</th>\n",
       "      <th>mort_acc</th>\n",
       "      <th>avg_cur_bal</th>\n",
       "      <th>delinq_amnt</th>\n",
       "      <th>fico_range_high</th>\n",
       "      <th>fico_range_low</th>\n",
       "      <th>num_bc_tl</th>\n",
       "      <th>num_tl_90g_dpd_24m</th>\n",
       "      <th>zip_code</th>\n",
       "      <th>installment</th>\n",
       "      <th>loan_status</th>\n",
       "    </tr>\n",
       "  </thead>\n",
       "  <tbody>\n",
       "    <tr>\n",
       "      <th>0</th>\n",
       "      <td>17000.0</td>\n",
       "      <td>8.99%</td>\n",
       "      <td>105000.0</td>\n",
       "      <td>14.82</td>\n",
       "      <td>13.0</td>\n",
       "      <td>36 months</td>\n",
       "      <td>RENT</td>\n",
       "      <td>3 years</td>\n",
       "      <td>7.0</td>\n",
       "      <td>0.0</td>\n",
       "      <td>...</td>\n",
       "      <td>0.0</td>\n",
       "      <td>5321.0</td>\n",
       "      <td>0.0</td>\n",
       "      <td>734.0</td>\n",
       "      <td>730.0</td>\n",
       "      <td>3.0</td>\n",
       "      <td>0.0</td>\n",
       "      <td>941xx</td>\n",
       "      <td>540.52</td>\n",
       "      <td>Fully Paid</td>\n",
       "    </tr>\n",
       "    <tr>\n",
       "      <th>1</th>\n",
       "      <td>7500.0</td>\n",
       "      <td>15.61%</td>\n",
       "      <td>75000.0</td>\n",
       "      <td>24.14</td>\n",
       "      <td>19.0</td>\n",
       "      <td>36 months</td>\n",
       "      <td>RENT</td>\n",
       "      <td>6 years</td>\n",
       "      <td>14.0</td>\n",
       "      <td>0.0</td>\n",
       "      <td>...</td>\n",
       "      <td>3.0</td>\n",
       "      <td>17895.0</td>\n",
       "      <td>0.0</td>\n",
       "      <td>699.0</td>\n",
       "      <td>695.0</td>\n",
       "      <td>9.0</td>\n",
       "      <td>0.0</td>\n",
       "      <td>027xx</td>\n",
       "      <td>262.24</td>\n",
       "      <td>Fully Paid</td>\n",
       "    </tr>\n",
       "    <tr>\n",
       "      <th>2</th>\n",
       "      <td>12000.0</td>\n",
       "      <td>10.49%</td>\n",
       "      <td>44000.0</td>\n",
       "      <td>17.76</td>\n",
       "      <td>24.0</td>\n",
       "      <td>60 months</td>\n",
       "      <td>RENT</td>\n",
       "      <td>2 years</td>\n",
       "      <td>13.0</td>\n",
       "      <td>0.0</td>\n",
       "      <td>...</td>\n",
       "      <td>0.0</td>\n",
       "      <td>1280.0</td>\n",
       "      <td>0.0</td>\n",
       "      <td>794.0</td>\n",
       "      <td>790.0</td>\n",
       "      <td>6.0</td>\n",
       "      <td>0.0</td>\n",
       "      <td>231xx</td>\n",
       "      <td>257.87</td>\n",
       "      <td>Fully Paid</td>\n",
       "    </tr>\n",
       "    <tr>\n",
       "      <th>3</th>\n",
       "      <td>10000.0</td>\n",
       "      <td>11.05%</td>\n",
       "      <td>72000.0</td>\n",
       "      <td>8.45</td>\n",
       "      <td>20.0</td>\n",
       "      <td>36 months</td>\n",
       "      <td>MORTGAGE</td>\n",
       "      <td>5 years</td>\n",
       "      <td>6.0</td>\n",
       "      <td>0.0</td>\n",
       "      <td>...</td>\n",
       "      <td>2.0</td>\n",
       "      <td>9165.0</td>\n",
       "      <td>0.0</td>\n",
       "      <td>669.0</td>\n",
       "      <td>665.0</td>\n",
       "      <td>7.0</td>\n",
       "      <td>0.0</td>\n",
       "      <td>499xx</td>\n",
       "      <td>327.63</td>\n",
       "      <td>Fully Paid</td>\n",
       "    </tr>\n",
       "    <tr>\n",
       "      <th>4</th>\n",
       "      <td>24000.0</td>\n",
       "      <td>5.32%</td>\n",
       "      <td>235000.0</td>\n",
       "      <td>9.23</td>\n",
       "      <td>21.0</td>\n",
       "      <td>36 months</td>\n",
       "      <td>MORTGAGE</td>\n",
       "      <td>&lt; 1 year</td>\n",
       "      <td>12.0</td>\n",
       "      <td>0.0</td>\n",
       "      <td>...</td>\n",
       "      <td>2.0</td>\n",
       "      <td>20279.0</td>\n",
       "      <td>0.0</td>\n",
       "      <td>754.0</td>\n",
       "      <td>750.0</td>\n",
       "      <td>5.0</td>\n",
       "      <td>0.0</td>\n",
       "      <td>332xx</td>\n",
       "      <td>722.76</td>\n",
       "      <td>Fully Paid</td>\n",
       "    </tr>\n",
       "  </tbody>\n",
       "</table>\n",
       "<p>5 rows × 21 columns</p>\n",
       "</div>"
      ],
      "text/plain": [
       "   loan_amnt int_rate  annual_inc    dti  total_acc        term  \\\n",
       "0    17000.0    8.99%    105000.0  14.82       13.0   36 months   \n",
       "1     7500.0   15.61%     75000.0  24.14       19.0   36 months   \n",
       "2    12000.0   10.49%     44000.0  17.76       24.0   60 months   \n",
       "3    10000.0   11.05%     72000.0   8.45       20.0   36 months   \n",
       "4    24000.0    5.32%    235000.0   9.23       21.0   36 months   \n",
       "\n",
       "  home_ownership emp_length  open_acc  pub_rec  ...  mort_acc  avg_cur_bal  \\\n",
       "0           RENT    3 years       7.0      0.0  ...       0.0       5321.0   \n",
       "1           RENT    6 years      14.0      0.0  ...       3.0      17895.0   \n",
       "2           RENT    2 years      13.0      0.0  ...       0.0       1280.0   \n",
       "3       MORTGAGE    5 years       6.0      0.0  ...       2.0       9165.0   \n",
       "4       MORTGAGE   < 1 year      12.0      0.0  ...       2.0      20279.0   \n",
       "\n",
       "   delinq_amnt  fico_range_high  fico_range_low  num_bc_tl  \\\n",
       "0          0.0            734.0           730.0        3.0   \n",
       "1          0.0            699.0           695.0        9.0   \n",
       "2          0.0            794.0           790.0        6.0   \n",
       "3          0.0            669.0           665.0        7.0   \n",
       "4          0.0            754.0           750.0        5.0   \n",
       "\n",
       "   num_tl_90g_dpd_24m  zip_code installment  loan_status  \n",
       "0                 0.0     941xx      540.52   Fully Paid  \n",
       "1                 0.0     027xx      262.24   Fully Paid  \n",
       "2                 0.0     231xx      257.87   Fully Paid  \n",
       "3                 0.0     499xx      327.63   Fully Paid  \n",
       "4                 0.0     332xx      722.76   Fully Paid  \n",
       "\n",
       "[5 rows x 21 columns]"
      ]
     },
     "execution_count": 5,
     "metadata": {},
     "output_type": "execute_result"
    }
   ],
   "source": [
    "df = pd.read_csv('../Data/LCData/LC_reduced.csv')\n",
    "df = df.drop(\"Unnamed: 0\", axis=1)\n",
    "df.head()"
   ]
  },
  {
   "cell_type": "markdown",
   "metadata": {},
   "source": [
    "__Notes__\n",
    "\n",
    "- It was the first peer-to-peer lender to register its offerings as securities with the Securities and Exchange Commission (SEC), and to offer loan trading on a secondary market.\n",
    "- headquartered in San Francisco, California\n",
    "- It now takes an institutional investor-focused approach\n",
    "- Its loan trading platform was closed down in 2020"
   ]
  },
  {
   "cell_type": "markdown",
   "metadata": {
    "slideshow": {
     "slide_type": "subslide"
    }
   },
   "source": [
    "When a person applies for a loan, there are two types of decisions that could be taken by the company<sup>18</sup>:\n",
    "\n",
    "- __Loan accepted__: If the company approves the loan, there are 3 possible scenarios described below:\n",
    "    - _Fully paid_: Applicant has fully paid the loan (the principal and the interest rate)\n",
    "    - _Current_: Applicant is in the process of paying the instalments, i.e. the tenure of the loan is not yet completed.\n",
    "    - _Charged-off_: Applicant has not paid the instalments in due time for a long period of time, i.e. he/she has defaulted on the loan\n",
    "- __Loan rejected__: The company had rejected the loan (because the candidate does not meet their requirements etc.)."
   ]
  },
  {
   "cell_type": "markdown",
   "metadata": {
    "slideshow": {
     "slide_type": "notes"
    }
   },
   "source": [
    "- _\"It now presents the algorithm just as a search tool for investors to find Notes they would like to purchase, using borrower and loan attributes such as the length of a loan term, target weighted average interest rate, borrower credit score, employment tenure, homeownership status, and others.[63]\"_ \n",
    "- _\"To reduce default risk, LendingClub focuses on high-credit-worthy borrowers, declining approximately 90% of the loan applications it received as of 2012[64] and assigning higher interest rates to riskier borrowers within its credit criteria.[23]\"_ \n",
    "- _\"Only borrowers with FICO score of 660 or higher can be approved for loans.[54]\"_\n",
    "- Lending Club blends traditional credit reports with data gathered from around the web."
   ]
  },
  {
   "cell_type": "code",
   "execution_count": 6,
   "metadata": {
    "slideshow": {
     "slide_type": "notes"
    }
   },
   "outputs": [
    {
     "data": {
      "text/plain": [
       "660.0"
      ]
     },
     "execution_count": 6,
     "metadata": {},
     "output_type": "execute_result"
    }
   ],
   "source": [
    "df['fico_range_low'].min()"
   ]
  },
  {
   "cell_type": "markdown",
   "metadata": {
    "slideshow": {
     "slide_type": "subslide"
    }
   },
   "source": [
    "When the company receives a loan application, the company has to make a decision for loan approval based on the applicant’s profile. Two types of risks are associated with the bank’s decision:\n",
    "\n",
    "- If the applicant is likely to repay the loan, then not approving the loan results in a loss of business to the company\n",
    "- If the applicant is not likely to repay the loan, i.e. he/she is likely to default, then approving the loan may lead to a financial loss for the company\n",
    "\n",
    "The data given contains the information about past loan applicants and whether they ‘defaulted’ or not. The aim is to identify patterns which indicate if a person is likely to default, which may be used for taking actions such as denying the loan, reducing the amount of loan, lending (to risky applicants) at a higher interest rate, etc."
   ]
  },
  {
   "cell_type": "code",
   "execution_count": 7,
   "metadata": {
    "slideshow": {
     "slide_type": "skip"
    }
   },
   "outputs": [
    {
     "name": "stdout",
     "output_type": "stream",
     "text": [
      "<class 'pandas.core.frame.DataFrame'>\n",
      "RangeIndex: 16775 entries, 0 to 16774\n",
      "Data columns (total 21 columns):\n",
      " #   Column                Non-Null Count  Dtype  \n",
      "---  ------                --------------  -----  \n",
      " 0   loan_amnt             16775 non-null  float64\n",
      " 1   int_rate              16775 non-null  object \n",
      " 2   annual_inc            16775 non-null  float64\n",
      " 3   dti                   16775 non-null  float64\n",
      " 4   total_acc             16775 non-null  float64\n",
      " 5   term                  16775 non-null  object \n",
      " 6   home_ownership        16775 non-null  object \n",
      " 7   emp_length            16775 non-null  object \n",
      " 8   open_acc              16775 non-null  float64\n",
      " 9   pub_rec               16775 non-null  float64\n",
      " 10  pub_rec_bankruptcies  16775 non-null  float64\n",
      " 11  mort_acc              16775 non-null  float64\n",
      " 12  avg_cur_bal           16775 non-null  float64\n",
      " 13  delinq_amnt           16775 non-null  float64\n",
      " 14  fico_range_high       16775 non-null  float64\n",
      " 15  fico_range_low        16775 non-null  float64\n",
      " 16  num_bc_tl             16775 non-null  float64\n",
      " 17  num_tl_90g_dpd_24m    16775 non-null  float64\n",
      " 18  zip_code              16775 non-null  object \n",
      " 19  installment           16775 non-null  float64\n",
      " 20  loan_status           16775 non-null  object \n",
      "dtypes: float64(15), object(6)\n",
      "memory usage: 2.7+ MB\n"
     ]
    }
   ],
   "source": [
    "df.info()"
   ]
  },
  {
   "cell_type": "code",
   "execution_count": 8,
   "metadata": {
    "slideshow": {
     "slide_type": "subslide"
    }
   },
   "outputs": [
    {
     "data": {
      "text/html": [
       "<div>\n",
       "<style scoped>\n",
       "    .dataframe tbody tr th:only-of-type {\n",
       "        vertical-align: middle;\n",
       "    }\n",
       "\n",
       "    .dataframe tbody tr th {\n",
       "        vertical-align: top;\n",
       "    }\n",
       "\n",
       "    .dataframe thead th {\n",
       "        text-align: right;\n",
       "    }\n",
       "</style>\n",
       "<table border=\"1\" class=\"dataframe\">\n",
       "  <thead>\n",
       "    <tr style=\"text-align: right;\">\n",
       "      <th></th>\n",
       "      <th>Description</th>\n",
       "    </tr>\n",
       "  </thead>\n",
       "  <tbody>\n",
       "    <tr>\n",
       "      <th>annual_inc</th>\n",
       "      <td>The self-reported annual income provided by the borrower during registration.</td>\n",
       "    </tr>\n",
       "    <tr>\n",
       "      <th>avg_cur_bal</th>\n",
       "      <td>Average current balance of all accounts</td>\n",
       "    </tr>\n",
       "    <tr>\n",
       "      <th>delinq_amnt</th>\n",
       "      <td>The past-due amount owed for the accounts on which the borrower is now delinquent.</td>\n",
       "    </tr>\n",
       "    <tr>\n",
       "      <th>dti</th>\n",
       "      <td>A ratio calculated using the borrower’s total monthly debt payments on the total debt obligations, excluding mortgage and the requested LC loan, divided by the borrower’s self-reported monthly income.</td>\n",
       "    </tr>\n",
       "    <tr>\n",
       "      <th>emp_length</th>\n",
       "      <td>Employment length in years. Possible values are between 0 and 10 where 0 means less than one year and 10 means ten or more years.</td>\n",
       "    </tr>\n",
       "    <tr>\n",
       "      <th>fico_range_high</th>\n",
       "      <td>The upper boundary range the borrower’s FICO at loan origination belongs to.</td>\n",
       "    </tr>\n",
       "    <tr>\n",
       "      <th>fico_range_low</th>\n",
       "      <td>The lower boundary range the borrower’s FICO at loan origination belongs to.</td>\n",
       "    </tr>\n",
       "    <tr>\n",
       "      <th>home_ownership</th>\n",
       "      <td>The home ownership status provided by the borrower during registration or obtained from the credit report. Our values are: RENT, OWN, MORTGAGE, OTHER</td>\n",
       "    </tr>\n",
       "    <tr>\n",
       "      <th>installment</th>\n",
       "      <td>The monthly payment owed by the borrower if the loan originates.</td>\n",
       "    </tr>\n",
       "    <tr>\n",
       "      <th>int_rate</th>\n",
       "      <td>Interest Rate on the loan</td>\n",
       "    </tr>\n",
       "    <tr>\n",
       "      <th>loan_amnt</th>\n",
       "      <td>The listed amount of the loan applied for by the borrower. If at some point in time, the credit department reduces the loan amount, then it will be reflected in this value.</td>\n",
       "    </tr>\n",
       "    <tr>\n",
       "      <th>loan_status</th>\n",
       "      <td>Current status of the loan</td>\n",
       "    </tr>\n",
       "    <tr>\n",
       "      <th>mort_acc</th>\n",
       "      <td>Number of mortgage accounts.</td>\n",
       "    </tr>\n",
       "    <tr>\n",
       "      <th>num_bc_tl</th>\n",
       "      <td>Number of bankcard accounts</td>\n",
       "    </tr>\n",
       "    <tr>\n",
       "      <th>num_tl_90g_dpd_24m</th>\n",
       "      <td>Number of accounts 90 or more days past due in last 24 months</td>\n",
       "    </tr>\n",
       "    <tr>\n",
       "      <th>open_acc</th>\n",
       "      <td>The number of open credit lines in the borrower's credit file.</td>\n",
       "    </tr>\n",
       "    <tr>\n",
       "      <th>pub_rec</th>\n",
       "      <td>Number of derogatory public records</td>\n",
       "    </tr>\n",
       "    <tr>\n",
       "      <th>pub_rec_bankruptcies</th>\n",
       "      <td>Number of public record bankruptcies</td>\n",
       "    </tr>\n",
       "    <tr>\n",
       "      <th>term</th>\n",
       "      <td>The number of payments on the loan. Values are in months and can be either 36 or 60.</td>\n",
       "    </tr>\n",
       "    <tr>\n",
       "      <th>total_acc</th>\n",
       "      <td>The total number of credit lines currently in the borrower's credit file</td>\n",
       "    </tr>\n",
       "    <tr>\n",
       "      <th>zip_code</th>\n",
       "      <td>The first 3 numbers of the zip code provided by the borrower in the loan application.</td>\n",
       "    </tr>\n",
       "  </tbody>\n",
       "</table>\n",
       "</div>"
      ],
      "text/plain": [
       "                                                                                                                                                                                                                   Description\n",
       "annual_inc                                                                                                                                       The self-reported annual income provided by the borrower during registration.\n",
       "avg_cur_bal                                                                                                                                                                            Average current balance of all accounts\n",
       "delinq_amnt                                                                                                                                 The past-due amount owed for the accounts on which the borrower is now delinquent.\n",
       "dti                   A ratio calculated using the borrower’s total monthly debt payments on the total debt obligations, excluding mortgage and the requested LC loan, divided by the borrower’s self-reported monthly income.\n",
       "emp_length                                                                                  Employment length in years. Possible values are between 0 and 10 where 0 means less than one year and 10 means ten or more years. \n",
       "fico_range_high                                                                                                                                   The upper boundary range the borrower’s FICO at loan origination belongs to.\n",
       "fico_range_low                                                                                                                                    The lower boundary range the borrower’s FICO at loan origination belongs to.\n",
       "home_ownership                                                           The home ownership status provided by the borrower during registration or obtained from the credit report. Our values are: RENT, OWN, MORTGAGE, OTHER\n",
       "installment                                                                                                                                                   The monthly payment owed by the borrower if the loan originates.\n",
       "int_rate                                                                                                                                                                                             Interest Rate on the loan\n",
       "loan_amnt                                         The listed amount of the loan applied for by the borrower. If at some point in time, the credit department reduces the loan amount, then it will be reflected in this value.\n",
       "loan_status                                                                                                                                                                                         Current status of the loan\n",
       "mort_acc                                                                                                                                                                                          Number of mortgage accounts.\n",
       "num_bc_tl                                                                                                                                                                                          Number of bankcard accounts\n",
       "num_tl_90g_dpd_24m                                                                                                                                               Number of accounts 90 or more days past due in last 24 months\n",
       "open_acc                                                                                                                                                        The number of open credit lines in the borrower's credit file.\n",
       "pub_rec                                                                                                                                                                                    Number of derogatory public records\n",
       "pub_rec_bankruptcies                                                                                                                                                                      Number of public record bankruptcies\n",
       "term                                                                                                                                      The number of payments on the loan. Values are in months and can be either 36 or 60.\n",
       "total_acc                                                                                                                                             The total number of credit lines currently in the borrower's credit file\n",
       "zip_code                                                                                                                                 The first 3 numbers of the zip code provided by the borrower in the loan application."
      ]
     },
     "metadata": {},
     "output_type": "display_data"
    },
    {
     "name": "stdout",
     "output_type": "stream",
     "text": [
      "As the xlwt package is no longer maintained, the xlwt engine will be removed in a future version of pandas. This is the only engine in pandas that supports writing in the xls format. Install openpyxl and write to an xlsx file instead.\n",
      "\n",
      ": boolean\n",
      "    use_inf_as_null had been deprecated and will be removed in a future\n",
      "    version. Use `use_inf_as_na` instead.\n",
      "\n"
     ]
    },
    {
     "name": "stderr",
     "output_type": "stream",
     "text": [
      "C:\\Users\\delliot2\\.conda\\envs\\mlp_pip\\lib\\site-packages\\pandas\\_config\\config.py:620: FutureWarning: As the xlwt package is no longer maintained, the xlwt engine will be removed in a future version of pandas. This is the only engine in pandas that supports writing in the xls format. Install openpyxl and write to an xlsx file instead.\n",
      "  warnings.warn(d.msg, FutureWarning)\n",
      "C:\\Users\\delliot2\\.conda\\envs\\mlp_pip\\lib\\site-packages\\pandas\\_config\\config.py:620: FutureWarning: \n",
      ": boolean\n",
      "    use_inf_as_null had been deprecated and will be removed in a future\n",
      "    version. Use `use_inf_as_na` instead.\n",
      "\n",
      "  warnings.warn(d.msg, FutureWarning)\n"
     ]
    }
   ],
   "source": [
    "def set_pandas_display_options() -> None:\n",
    "    \"\"\"Set pandas display options.\"\"\"\n",
    "    # Ref: https://stackoverflow.com/a/52432757/\n",
    "    display = pd.options.display\n",
    "\n",
    "    display.max_columns = 1000\n",
    "    display.max_rows = 1000\n",
    "    display.max_colwidth = 1000\n",
    "    display.width = None\n",
    "    # display.precision = 2  # set as needed\n",
    "\n",
    "set_pandas_display_options()\n",
    "info = pd.read_excel(\"../Data/LCData/LCDataDictionary.xlsx\")\n",
    "info = info[['LoanStatNew','Description']].iloc[0:-2]\n",
    "display(info.set_index('LoanStatNew').loc[df.columns].sort_index())\n",
    "pd.reset_option('all')"
   ]
  },
  {
   "cell_type": "code",
   "execution_count": 9,
   "metadata": {
    "slideshow": {
     "slide_type": "fragment"
    }
   },
   "outputs": [
    {
     "name": "stdout",
     "output_type": "stream",
     "text": [
      "\u001b[1m\u001b[4mLoan Status (%)\u001b[0m\n"
     ]
    },
    {
     "data": {
      "text/plain": [
       "Fully Paid     80.81\n",
       "Charged Off    19.19\n",
       "Name: loan_status, dtype: float64"
      ]
     },
     "execution_count": 9,
     "metadata": {},
     "output_type": "execute_result"
    }
   ],
   "source": [
    "print(color.BOLD+color.UNDERLINE+\"Loan Status (%)\"+color.END)\n",
    "((df['loan_status'].value_counts()/len(df['loan_status']))*100).round(2)"
   ]
  },
  {
   "cell_type": "markdown",
   "metadata": {
    "slideshow": {
     "slide_type": "skip"
    }
   },
   "source": [
    "### Data Prep\n",
    "\n",
    "For the purposes of this lecture, we are only using a sample of the full dataset (~1%). This is to ensure things dont take an age to run. \n",
    "\n",
    "- You can have a look at how I prepared the data and reduced it down in the \"Loan_Club_Explore_and_Prep.ipynb\" found in the \"Extra\" folder.\n",
    "- You could also try play with the larger sample of data.\n",
    "- There are also 150 columns so loads of features, some of them potentially concerning!"
   ]
  },
  {
   "cell_type": "code",
   "execution_count": 10,
   "metadata": {
    "slideshow": {
     "slide_type": "skip"
    }
   },
   "outputs": [
    {
     "name": "stdout",
     "output_type": "stream",
     "text": [
      "<class 'pandas.core.frame.DataFrame'>\n",
      "RangeIndex: 16775 entries, 0 to 16774\n",
      "Data columns (total 19 columns):\n",
      " #   Column                Non-Null Count  Dtype  \n",
      "---  ------                --------------  -----  \n",
      " 0   loan_amnt             16775 non-null  float64\n",
      " 1   int_rate              16775 non-null  float64\n",
      " 2   annual_inc            16775 non-null  float64\n",
      " 3   dti                   16775 non-null  float64\n",
      " 4   total_acc             16775 non-null  float64\n",
      " 5   term                  16775 non-null  int32  \n",
      " 6   emp_length            16775 non-null  int32  \n",
      " 7   open_acc              16775 non-null  float64\n",
      " 8   pub_rec               16775 non-null  float64\n",
      " 9   pub_rec_bankruptcies  16775 non-null  float64\n",
      " 10  mort_acc              16775 non-null  float64\n",
      " 11  avg_cur_bal           16775 non-null  float64\n",
      " 12  delinq_amnt           16775 non-null  float64\n",
      " 13  fico_range_high       16775 non-null  float64\n",
      " 14  fico_range_low        16775 non-null  float64\n",
      " 15  num_bc_tl             16775 non-null  float64\n",
      " 16  num_tl_90g_dpd_24m    16775 non-null  float64\n",
      " 17  installment           16775 non-null  float64\n",
      " 18  loan_status           16775 non-null  object \n",
      "dtypes: float64(16), int32(2), object(1)\n",
      "memory usage: 2.3+ MB\n"
     ]
    }
   ],
   "source": [
    "# turn intrest rate into a float\n",
    "df['int_rate'] = df['int_rate'].str.replace(r'%', '').astype(float)\n",
    "# get the employment length in years\n",
    "df['emp_length'] = df['emp_length'].str.extract('(\\d+)').astype(int)\n",
    "# get the loan term in months\n",
    "df['term'] = df['term'].str.extract('(\\d+)').astype(int)\n",
    "# we are going to remove categorical variables for now as scikit-learn\n",
    "# doesnt like them (see later).\n",
    "cont_df = df.drop(['home_ownership', 'zip_code'], axis=1)\n",
    "cont_df.info()"
   ]
  },
  {
   "cell_type": "code",
   "execution_count": 11,
   "metadata": {
    "slideshow": {
     "slide_type": "skip"
    }
   },
   "outputs": [],
   "source": [
    "from sklearn.preprocessing import LabelEncoder\n",
    "from sklearn.model_selection import train_test_split\n",
    "\n",
    "LE = LabelEncoder()\n",
    "data_x, data_y = cont_df.drop(['loan_status'], axis=1), cont_df['loan_status']\n",
    "\n",
    "# it will do this alpabetically but we want our positive value to\n",
    "# be \"charged off\".\n",
    "classes = list(cont_df['loan_status'].unique())\n",
    "classes.sort(reverse=True)\n",
    "LE.fit(classes)\n",
    "LE.classes = np.array(classes)\n",
    "LE.classes_ = np.array(classes)\n",
    "\n",
    "data_y = LE.transform(data_y)\n",
    "\n",
    "X_train, X_test, y_train, y_test = train_test_split(data_x.values, data_y, test_size = 0.1, random_state=42)\n",
    "X_train, X_val, y_train, y_val = train_test_split(X_train, y_train, test_size = 0.1, random_state=42)"
   ]
  },
  {
   "cell_type": "markdown",
   "metadata": {
    "slideshow": {
     "slide_type": "slide"
    }
   },
   "source": [
    "# 7. Imballanced Data <a id='imb'></a>\n",
    "\n",
    "## Forest\n",
    "We can deal with class imballance using <code>class_weight = 'balanced'</code>, alike to discussed last week.\n",
    "\n",
    "We can also undersample using a _ballanced random forest_, which builds several estimators on different randomly selected subsets of data. \n",
    "\n",
    "Generally what performs better depends on the amount of data you are training on and the aims of the model."
   ]
  },
  {
   "cell_type": "markdown",
   "metadata": {
    "slideshow": {
     "slide_type": "notes"
    }
   },
   "source": [
    "__Notes__\n",
    "- Balanced Random Forests are generally faster to train.\n",
    "- If data is small then class weight will probably be better (as seen below), but if you have very large datasets, then undersampling will likely work better."
   ]
  },
  {
   "cell_type": "code",
   "execution_count": 12,
   "metadata": {
    "slideshow": {
     "slide_type": "skip"
    }
   },
   "outputs": [],
   "source": [
    "# from https://realpython.com/python-timer/\n",
    "\n",
    "import time\n",
    "\n",
    "class TimerError(Exception):\n",
    "    \"\"\"A custom exception used to report errors in use of Timer class\"\"\"\n",
    "\n",
    "class Timer:\n",
    "    def __init__(self):\n",
    "        self._start_time = None\n",
    "\n",
    "    def start(self):\n",
    "        \"\"\"Start a new timer\"\"\"\n",
    "        if self._start_time is not None:\n",
    "            raise TimerError(f\"Timer is running. Use .stop() to stop it\")\n",
    "\n",
    "        self._start_time = time.perf_counter()\n",
    "\n",
    "    def stop(self):\n",
    "        \"\"\"Stop the timer, and report the elapsed time\"\"\"\n",
    "        if self._start_time is None:\n",
    "            raise TimerError(f\"Timer is not running. Use .start() to start it\")\n",
    "\n",
    "        elapsed_time = time.perf_counter() - self._start_time\n",
    "        self._start_time = None\n",
    "        print(f\"Elapsed time: {elapsed_time:0.2f} seconds\")\n",
    "        return elapsed_time"
   ]
  },
  {
   "cell_type": "code",
   "execution_count": 13,
   "metadata": {
    "slideshow": {
     "slide_type": "fragment"
    }
   },
   "outputs": [
    {
     "name": "stdout",
     "output_type": "stream",
     "text": [
      "\u001b[1m\u001b[4mRandom Forest\u001b[0m\n",
      "Elapsed time: 0.69 seconds\n",
      "OOB Score: 0.803\n",
      "\u001b[1m\u001b[4mRandom Forest (Balanced Class Weight)\u001b[0m\n",
      "Elapsed time: 0.65 seconds\n",
      "OOB Score: 0.803\n",
      "\u001b[1m\u001b[4mBalanced Random Forest\u001b[0m\n",
      "Elapsed time: 0.63 seconds\n",
      "OOB Score: 0.635\n"
     ]
    }
   ],
   "source": [
    "from imblearn.ensemble import BalancedRandomForestClassifier\n",
    "from sklearn.ensemble import RandomForestClassifier\n",
    "from sklearn.model_selection import cross_val_score\n",
    "from sklearn.base import clone\n",
    "\n",
    "t = Timer()\n",
    "\n",
    "RF = RandomForestClassifier(criterion='gini',\n",
    "                            n_estimators=100,\n",
    "                            random_state=42,\n",
    "                            oob_score = True,\n",
    "                            n_jobs=-1)\n",
    "\n",
    "RF_weight = clone(RF)\n",
    "RF_weight.set_params(**{'class_weight': 'balanced'})\n",
    "\n",
    "bal_f = BalancedRandomForestClassifier(criterion='gini',\n",
    "                                       n_estimators=100,\n",
    "                                       max_features = 'sqrt',\n",
    "                                       random_state=42,\n",
    "                                       oob_score = True,\n",
    "                                       n_jobs=-1)\n",
    "\n",
    "rf_dict = {'Random Forest':RF, 'Random Forest (Balanced Class Weight)':RF_weight, 'Balanced Random Forest':bal_f}\n",
    "\n",
    "for classifier_name in rf_dict:\n",
    "    t.start()\n",
    "    rf_dict[classifier_name].fit(X_train, y=y_train)\n",
    "    print(color.BOLD+color.UNDERLINE+classifier_name+color.END)\n",
    "    t.stop()\n",
    "    print('OOB Score: %.3f' % (rf_dict[classifier_name].oob_score_))"
   ]
  },
  {
   "cell_type": "markdown",
   "metadata": {
    "slideshow": {
     "slide_type": "subslide"
    }
   },
   "source": [
    "__Notes__\n",
    "\n",
    "- Remember from last week, accuracy can only tell us so much! "
   ]
  },
  {
   "cell_type": "code",
   "execution_count": 14,
   "metadata": {
    "slideshow": {
     "slide_type": "subslide"
    }
   },
   "outputs": [
    {
     "data": {
      "image/png": "[encoded data removed]",
      "text/plain": [
       "<Figure size 776.64x480 with 1 Axes>"
      ]
     },
     "metadata": {
      "needs_background": "light"
     },
     "output_type": "display_data"
    },
    {
     "data": {
      "image/png": "[encoded data removed]",
      "text/plain": [
       "<Figure size 776.64x480 with 1 Axes>"
      ]
     },
     "metadata": {
      "needs_background": "light"
     },
     "output_type": "display_data"
    },
    {
     "data": {
      "image/png": "[encoded data removed]",
      "text/plain": [
       "<Figure size 776.64x480 with 1 Axes>"
      ]
     },
     "metadata": {
      "needs_background": "light"
     },
     "output_type": "display_data"
    }
   ],
   "source": [
    "from sklearn.metrics import confusion_matrix\n",
    "import warnings # prevent warnings\n",
    "\n",
    "# this creates the matplotlib graph to make the confmat look nicer\n",
    "def pretty_confusion_matrix(confmat, labels, title, labeling=False, highlight_indexes=[]):\n",
    "\n",
    "    labels_list = [[\"TN\", \"FP\"], [\"FN\", \"TP\"]]\n",
    "    \n",
    "    fig, ax = plt.subplots(figsize=(width_inch, height_inch))\n",
    "    ax.matshow(confmat, cmap=plt.cm.Blues, alpha=0.3)\n",
    "    for i in range(confmat.shape[0]):\n",
    "        for j in range(confmat.shape[1]):\n",
    "            if labeling:\n",
    "                label = str(confmat[i, j])+\" (\"+labels_list[i][j]+\")\"\n",
    "            else:\n",
    "                label = confmat[i, j]\n",
    "            \n",
    "            \n",
    "            if [i,j] in highlight_indexes:\n",
    "                ax.text(x=j, y=i, s=label, va='center', ha='center',\n",
    "                        weight = \"bold\", fontsize=18, color='#32618b')\n",
    "            else:\n",
    "                ax.text(x=j, y=i, s=label, va='center', ha='center')\n",
    "       \n",
    "    # change the labels\n",
    "    with warnings.catch_warnings():\n",
    "        warnings.simplefilter(\"ignore\")\n",
    "        ax.set_xticklabels(['']+[labels[0], labels[1]])\n",
    "        ax.set_yticklabels(['']+[labels[0], labels[1]])\n",
    "\n",
    "    plt.xlabel('Predicted Label')\n",
    "    plt.ylabel('True Label')\n",
    "    ax.xaxis.set_label_position('top')\n",
    "    plt.suptitle(title)\n",
    "    plt.tight_layout()\n",
    "    \n",
    "    plt.show()\n",
    "    \n",
    "\n",
    "for classifier_name in rf_dict:\n",
    "    # use the first classifier to predict the validation set    \n",
    "    predictions = rf_dict[classifier_name].predict(X_val)\n",
    "\n",
    "    # get the confusion matrix as a numpy array\n",
    "    confmat = confusion_matrix(y_true=y_val, y_pred=predictions)\n",
    "\n",
    "    fig_num+=1\n",
    "    # use the pretty function to make it nicer\n",
    "    pretty_confusion_matrix(confmat, LE.classes_,\n",
    "                            \"Figure %d: \"%fig_num+classifier_name+\" Validation Confusion Matrix\",\n",
    "                            labeling=True,\n",
    "                           )"
   ]
  },
  {
   "cell_type": "markdown",
   "metadata": {
    "slideshow": {
     "slide_type": "skip"
    }
   },
   "source": [
    "__Notes__\n",
    "\n",
    "- This looks like the problem we had last week, depending on what we try we either have poor performance on the minority class (\"Charged Off\") or have a high false positive rate."
   ]
  },
  {
   "cell_type": "code",
   "execution_count": 15,
   "metadata": {
    "slideshow": {
     "slide_type": "skip"
    }
   },
   "outputs": [
    {
     "data": {
      "text/html": [
       "<div>\n",
       "<style scoped>\n",
       "    .dataframe tbody tr th:only-of-type {\n",
       "        vertical-align: middle;\n",
       "    }\n",
       "\n",
       "    .dataframe tbody tr th {\n",
       "        vertical-align: top;\n",
       "    }\n",
       "\n",
       "    .dataframe thead th {\n",
       "        text-align: right;\n",
       "    }\n",
       "</style>\n",
       "<table border=\"1\" class=\"dataframe\">\n",
       "  <thead>\n",
       "    <tr style=\"text-align: right;\">\n",
       "      <th></th>\n",
       "      <th></th>\n",
       "      <th>Fully Paid</th>\n",
       "      <th>Charged Off</th>\n",
       "      <th>accuracy</th>\n",
       "      <th>macro avg</th>\n",
       "      <th>weighted avg</th>\n",
       "    </tr>\n",
       "    <tr>\n",
       "      <th>classifer</th>\n",
       "      <th>metric</th>\n",
       "      <th></th>\n",
       "      <th></th>\n",
       "      <th></th>\n",
       "      <th></th>\n",
       "      <th></th>\n",
       "    </tr>\n",
       "  </thead>\n",
       "  <tbody>\n",
       "    <tr>\n",
       "      <th rowspan=\"4\" valign=\"top\">Random Forest</th>\n",
       "      <th>precision</th>\n",
       "      <td>0.82</td>\n",
       "      <td>0.55</td>\n",
       "      <td>0.82</td>\n",
       "      <td>0.69</td>\n",
       "      <td>0.77</td>\n",
       "    </tr>\n",
       "    <tr>\n",
       "      <th>recall</th>\n",
       "      <td>0.99</td>\n",
       "      <td>0.06</td>\n",
       "      <td>0.82</td>\n",
       "      <td>0.52</td>\n",
       "      <td>0.82</td>\n",
       "    </tr>\n",
       "    <tr>\n",
       "      <th>f1-score</th>\n",
       "      <td>0.90</td>\n",
       "      <td>0.11</td>\n",
       "      <td>0.82</td>\n",
       "      <td>0.50</td>\n",
       "      <td>0.75</td>\n",
       "    </tr>\n",
       "    <tr>\n",
       "      <th>support</th>\n",
       "      <td>1230.00</td>\n",
       "      <td>280.00</td>\n",
       "      <td>0.82</td>\n",
       "      <td>1510.00</td>\n",
       "      <td>1510.00</td>\n",
       "    </tr>\n",
       "    <tr>\n",
       "      <th rowspan=\"4\" valign=\"top\">Random Forest (Balanced Class Weight)</th>\n",
       "      <th>precision</th>\n",
       "      <td>0.81</td>\n",
       "      <td>0.19</td>\n",
       "      <td>0.81</td>\n",
       "      <td>0.50</td>\n",
       "      <td>0.70</td>\n",
       "    </tr>\n",
       "    <tr>\n",
       "      <th>recall</th>\n",
       "      <td>0.99</td>\n",
       "      <td>0.01</td>\n",
       "      <td>0.81</td>\n",
       "      <td>0.50</td>\n",
       "      <td>0.81</td>\n",
       "    </tr>\n",
       "    <tr>\n",
       "      <th>f1-score</th>\n",
       "      <td>0.89</td>\n",
       "      <td>0.03</td>\n",
       "      <td>0.81</td>\n",
       "      <td>0.46</td>\n",
       "      <td>0.73</td>\n",
       "    </tr>\n",
       "    <tr>\n",
       "      <th>support</th>\n",
       "      <td>1230.00</td>\n",
       "      <td>280.00</td>\n",
       "      <td>0.81</td>\n",
       "      <td>1510.00</td>\n",
       "      <td>1510.00</td>\n",
       "    </tr>\n",
       "    <tr>\n",
       "      <th rowspan=\"4\" valign=\"top\">Balanced Random Forest</th>\n",
       "      <th>precision</th>\n",
       "      <td>0.87</td>\n",
       "      <td>0.26</td>\n",
       "      <td>0.60</td>\n",
       "      <td>0.56</td>\n",
       "      <td>0.76</td>\n",
       "    </tr>\n",
       "    <tr>\n",
       "      <th>recall</th>\n",
       "      <td>0.60</td>\n",
       "      <td>0.60</td>\n",
       "      <td>0.60</td>\n",
       "      <td>0.60</td>\n",
       "      <td>0.60</td>\n",
       "    </tr>\n",
       "    <tr>\n",
       "      <th>f1-score</th>\n",
       "      <td>0.71</td>\n",
       "      <td>0.36</td>\n",
       "      <td>0.60</td>\n",
       "      <td>0.54</td>\n",
       "      <td>0.65</td>\n",
       "    </tr>\n",
       "    <tr>\n",
       "      <th>support</th>\n",
       "      <td>1230.00</td>\n",
       "      <td>280.00</td>\n",
       "      <td>0.60</td>\n",
       "      <td>1510.00</td>\n",
       "      <td>1510.00</td>\n",
       "    </tr>\n",
       "  </tbody>\n",
       "</table>\n",
       "</div>"
      ],
      "text/plain": [
       "                                                 Fully Paid  Charged Off  \\\n",
       "classifer                             metric                               \n",
       "Random Forest                         precision        0.82         0.55   \n",
       "                                      recall           0.99         0.06   \n",
       "                                      f1-score         0.90         0.11   \n",
       "                                      support       1230.00       280.00   \n",
       "Random Forest (Balanced Class Weight) precision        0.81         0.19   \n",
       "                                      recall           0.99         0.01   \n",
       "                                      f1-score         0.89         0.03   \n",
       "                                      support       1230.00       280.00   \n",
       "Balanced Random Forest                precision        0.87         0.26   \n",
       "                                      recall           0.60         0.60   \n",
       "                                      f1-score         0.71         0.36   \n",
       "                                      support       1230.00       280.00   \n",
       "\n",
       "                                                 accuracy  macro avg  \\\n",
       "classifer                             metric                           \n",
       "Random Forest                         precision      0.82       0.69   \n",
       "                                      recall         0.82       0.52   \n",
       "                                      f1-score       0.82       0.50   \n",
       "                                      support        0.82    1510.00   \n",
       "Random Forest (Balanced Class Weight) precision      0.81       0.50   \n",
       "                                      recall         0.81       0.50   \n",
       "                                      f1-score       0.81       0.46   \n",
       "                                      support        0.81    1510.00   \n",
       "Balanced Random Forest                precision      0.60       0.56   \n",
       "                                      recall         0.60       0.60   \n",
       "                                      f1-score       0.60       0.54   \n",
       "                                      support        0.60    1510.00   \n",
       "\n",
       "                                                 weighted avg  \n",
       "classifer                             metric                   \n",
       "Random Forest                         precision          0.77  \n",
       "                                      recall             0.82  \n",
       "                                      f1-score           0.75  \n",
       "                                      support         1510.00  \n",
       "Random Forest (Balanced Class Weight) precision          0.70  \n",
       "                                      recall             0.81  \n",
       "                                      f1-score           0.73  \n",
       "                                      support         1510.00  \n",
       "Balanced Random Forest                precision          0.76  \n",
       "                                      recall             0.60  \n",
       "                                      f1-score           0.65  \n",
       "                                      support         1510.00  "
      ]
     },
     "metadata": {},
     "output_type": "display_data"
    }
   ],
   "source": [
    "from sklearn.metrics import classification_report\n",
    "\n",
    "for i, classifier_name in enumerate(rf_dict):\n",
    "    # use the first classifier to predict the validation set    \n",
    "    predictions = rf_dict[classifier_name].predict(X_val)\n",
    "\n",
    "    report = pd.DataFrame(classification_report(y_val, \n",
    "                                       predictions, \n",
    "                                       labels=None, \n",
    "                                       target_names=LE.classes_, \n",
    "                                       sample_weight=None, \n",
    "                                       digits=2, \n",
    "                                       output_dict=True)).round(2)\n",
    "    report['classifer'] = classifier_name\n",
    "    \n",
    "    if i == 0:\n",
    "        reports = report\n",
    "    else:\n",
    "        reports = pd.concat([reports, report])\n",
    "\n",
    "reports.index.name = 'metric'\n",
    "reports = reports.set_index('classifer', append=True)\n",
    "reports = reports.swaplevel()\n",
    "display(reports)"
   ]
  },
  {
   "cell_type": "markdown",
   "metadata": {
    "slideshow": {
     "slide_type": "skip"
    }
   },
   "source": [
    "The above was just done on pretty much the default params, so you'd want to do some searches to get better hyperparameters."
   ]
  },
  {
   "cell_type": "code",
   "execution_count": 16,
   "metadata": {
    "slideshow": {
     "slide_type": "skip"
    }
   },
   "outputs": [
    {
     "data": {
      "text/html": [
       "<div>\n",
       "<style scoped>\n",
       "    .dataframe tbody tr th:only-of-type {\n",
       "        vertical-align: middle;\n",
       "    }\n",
       "\n",
       "    .dataframe tbody tr th {\n",
       "        vertical-align: top;\n",
       "    }\n",
       "\n",
       "    .dataframe thead th {\n",
       "        text-align: right;\n",
       "    }\n",
       "</style>\n",
       "<table border=\"1\" class=\"dataframe\">\n",
       "  <thead>\n",
       "    <tr style=\"text-align: right;\">\n",
       "      <th></th>\n",
       "      <th>param_n_estimators</th>\n",
       "      <th>param_max_features</th>\n",
       "      <th>param_class_weight</th>\n",
       "      <th>mean_test_score</th>\n",
       "      <th>std_test_score</th>\n",
       "    </tr>\n",
       "  </thead>\n",
       "  <tbody>\n",
       "    <tr>\n",
       "      <th>28</th>\n",
       "      <td>105</td>\n",
       "      <td>11</td>\n",
       "      <td>None</td>\n",
       "      <td>0.103820</td>\n",
       "      <td>0.016114</td>\n",
       "    </tr>\n",
       "    <tr>\n",
       "      <th>25</th>\n",
       "      <td>151</td>\n",
       "      <td>12</td>\n",
       "      <td>None</td>\n",
       "      <td>0.100164</td>\n",
       "      <td>0.012414</td>\n",
       "    </tr>\n",
       "    <tr>\n",
       "      <th>39</th>\n",
       "      <td>97</td>\n",
       "      <td>7</td>\n",
       "      <td>None</td>\n",
       "      <td>0.097164</td>\n",
       "      <td>0.012689</td>\n",
       "    </tr>\n",
       "    <tr>\n",
       "      <th>4</th>\n",
       "      <td>291</td>\n",
       "      <td>12</td>\n",
       "      <td>None</td>\n",
       "      <td>0.096904</td>\n",
       "      <td>0.013131</td>\n",
       "    </tr>\n",
       "    <tr>\n",
       "      <th>0</th>\n",
       "      <td>120</td>\n",
       "      <td>17</td>\n",
       "      <td>None</td>\n",
       "      <td>0.095412</td>\n",
       "      <td>0.007575</td>\n",
       "    </tr>\n",
       "  </tbody>\n",
       "</table>\n",
       "</div>"
      ],
      "text/plain": [
       "   param_n_estimators param_max_features param_class_weight  mean_test_score  \\\n",
       "28                105                 11               None         0.103820   \n",
       "25                151                 12               None         0.100164   \n",
       "39                 97                  7               None         0.097164   \n",
       "4                 291                 12               None         0.096904   \n",
       "0                 120                 17               None         0.095412   \n",
       "\n",
       "    std_test_score  \n",
       "28        0.016114  \n",
       "25        0.012414  \n",
       "39        0.012689  \n",
       "4         0.013131  \n",
       "0         0.007575  "
      ]
     },
     "metadata": {},
     "output_type": "display_data"
    }
   ],
   "source": [
    "from time import time\n",
    "import joblib\n",
    "rf_param_dist = {'n_estimators': range(50, 500),\n",
    "                 'max_features': range(1, X_train.shape[1]),\n",
    "                 'class_weight': [None, 'balanced']}\n",
    "\n",
    "lc_rf_rs = hyper_search(RF, rf_param_dist, X_train, y_train,\n",
    "                        os.path.join(os.getcwd(), \"Models\", \"lc_rf_rs.pkl\"),\n",
    "                        n_iter=60, overwrite=False, metric=\"f1\", verbose=2)\n",
    "display(pd.DataFrame(lc_rf_rs.cv_results_).sort_values(\"rank_test_score\")[[\"param_n_estimators\",\n",
    "                                                                           \"param_max_features\",\n",
    "                                                                           \"param_class_weight\",\n",
    "                                                                           \"mean_test_score\", \n",
    "                                                                           \"std_test_score\"]].head())"
   ]
  },
  {
   "cell_type": "code",
   "execution_count": 17,
   "metadata": {
    "slideshow": {
     "slide_type": "skip"
    }
   },
   "outputs": [
    {
     "data": {
      "text/html": [
       "<div>\n",
       "<style scoped>\n",
       "    .dataframe tbody tr th:only-of-type {\n",
       "        vertical-align: middle;\n",
       "    }\n",
       "\n",
       "    .dataframe tbody tr th {\n",
       "        vertical-align: top;\n",
       "    }\n",
       "\n",
       "    .dataframe thead th {\n",
       "        text-align: right;\n",
       "    }\n",
       "</style>\n",
       "<table border=\"1\" class=\"dataframe\">\n",
       "  <thead>\n",
       "    <tr style=\"text-align: right;\">\n",
       "      <th></th>\n",
       "      <th>param_n_estimators</th>\n",
       "      <th>param_max_features</th>\n",
       "      <th>mean_test_score</th>\n",
       "      <th>std_test_score</th>\n",
       "    </tr>\n",
       "  </thead>\n",
       "  <tbody>\n",
       "    <tr>\n",
       "      <th>30</th>\n",
       "      <td>334</td>\n",
       "      <td>3</td>\n",
       "      <td>0.407487</td>\n",
       "      <td>0.015900</td>\n",
       "    </tr>\n",
       "    <tr>\n",
       "      <th>43</th>\n",
       "      <td>125</td>\n",
       "      <td>3</td>\n",
       "      <td>0.406370</td>\n",
       "      <td>0.017198</td>\n",
       "    </tr>\n",
       "    <tr>\n",
       "      <th>51</th>\n",
       "      <td>417</td>\n",
       "      <td>3</td>\n",
       "      <td>0.405944</td>\n",
       "      <td>0.017373</td>\n",
       "    </tr>\n",
       "    <tr>\n",
       "      <th>19</th>\n",
       "      <td>385</td>\n",
       "      <td>4</td>\n",
       "      <td>0.405593</td>\n",
       "      <td>0.013208</td>\n",
       "    </tr>\n",
       "    <tr>\n",
       "      <th>55</th>\n",
       "      <td>456</td>\n",
       "      <td>8</td>\n",
       "      <td>0.404155</td>\n",
       "      <td>0.017343</td>\n",
       "    </tr>\n",
       "  </tbody>\n",
       "</table>\n",
       "</div>"
      ],
      "text/plain": [
       "   param_n_estimators param_max_features  mean_test_score  std_test_score\n",
       "30                334                  3         0.407487        0.015900\n",
       "43                125                  3         0.406370        0.017198\n",
       "51                417                  3         0.405944        0.017373\n",
       "19                385                  4         0.405593        0.013208\n",
       "55                456                  8         0.404155        0.017343"
      ]
     },
     "metadata": {},
     "output_type": "display_data"
    }
   ],
   "source": [
    "del rf_param_dist['class_weight']\n",
    "\n",
    "lc_bal_rf_rs = hyper_search(bal_f, rf_param_dist, X_train, y_train,\n",
    "                        os.path.join(os.getcwd(), \"Models\", \"lc_bal_rf_rs.pkl\"),\n",
    "                        n_iter=60, overwrite=False, metric=\"f1\", verbose=2)\n",
    "display(pd.DataFrame(lc_bal_rf_rs.cv_results_).sort_values(\"rank_test_score\")[[\"param_n_estimators\",\n",
    "                                                                               \"param_max_features\",\n",
    "                                                                               \"mean_test_score\", \n",
    "                                                                               \"std_test_score\"]].head())"
   ]
  },
  {
   "cell_type": "markdown",
   "metadata": {
    "slideshow": {
     "slide_type": "slide"
    }
   },
   "source": [
    "# 8. Feature Interpretation/Reduction <a id='feats'>\n",
    "    \n",
    "## Feature importances\n",
    "    \n",
    "Feature importances, as we have previously seen, can give us insight into the important features for our model."
   ]
  },
  {
   "cell_type": "code",
   "execution_count": 18,
   "metadata": {
    "slideshow": {
     "slide_type": "fragment"
    }
   },
   "outputs": [
    {
     "data": {
      "text/html": [
       "<center><img src='data:image/png;base64,iVBORw0KGgoAAAANSUhEUgAAAvwAAAHcCAYAAACqHH4kAAAAOXRFWHRTb2Z0d2FyZQBNYXRwbG90bGliIHZlcnNpb24zLjMuNCwgaHR0cHM6Ly9tYXRwbG90bGliLm9yZy8QVMy6AAAACXBIWXMAABJ0AAASdAHeZh94AACCZElEQVR4nOzde7xmY/3/8debDKKMw6hIxllmd6B0xFBJUlHxVSiDClMOISIxFKmEkFMOE5II45RTmHH8oRHa23nYjjGDGQwzDuPz%2B%2BO6btasue%2B9933vw733Pe/n43E/7n1f61rXuta61732Z13rWtdSRGBmZmZmZq1pgWZXwMzMzMzM%2Bo8DfjMzMzOzFuaA38zMzMyshTngNzMzMzNrYQ74zczMzMxamAN%2BMzMzM7MW5oDfzMzMzKyFOeA3MzMzM2thDvjNzMzMzFqYA34zMzMzsxbmgN/MzMzMrIUNqYBf0khJIWl8s%2BtiZmbNI2khSYdIekjSa/l/wxbNrtdgJ2nDvK3GNbsuAymv88Rm16M/SRqT13NMs%2Btig8%2BgCfjzTtrVa0yz69gsSq4pbIt39cMyVpA0J5d/eF%2BXP7%2BSNL6b/XpiE%2BoycqCW2VcKQcrEZtelv/mfdo/tDRwEPA0cCRwC3N/UGvVCYR8vv16V1CHpCElLNbue84sq38McSS9Imph/o2p2HYc6SeO6%2Bf/Y2ew6NmKw/q/q88CxDxxSI/0u4Cngw8CLA1abweEnwEbAbGCRflrGD0gngAHsIOmgiHizn5Y1P7qYtA%2BXdQ5sNcxaxteAmcDGEfF6syvThx4Dxue/BSwDfAXYD/impE9ExMwm1W1%2BVIlJFgJWBb4JjAY%2BSfrfbL03CZhYJX3GwFajtQ26gD8ixnWTZci24DRC0hrAb0ktWN8BVuyHZSwI7Ai8BJwNjAW%2BAVzY18uaj02IiPHNroRZC1kOeL7Fgn2AzvL/QUnDgFuATwBb8s4JgfWzKt/F54EbgLGS/hARjzalYq1lYg9iP%2BulQdOlpye66sMvaXVJF0iaLukVSbdI2qzW5fGuLrlU6/pQXHZe1t8lTZX0lqQNC/k2kfRPSc/lfqVTJP1e0vAG1vddwFnAI8DB9c5fh02BDwJ/B07MaT8s1eU7ef2PrlHXhfO2/1%2B5y5Gk70q6XtIMSbMl3SfpQEkLVykn8iXT90s6VdJT%2BVLqmDx99Xxp%2B9%2BSpuVt/JikUyR9sIu6jZP0SM7/qKRf5/Sq%2B4Gkd0kaK%2Bn/SXopX1b/j6SfSOq3302d22oLSWdLejDv869Imixp93IdJQWwff74aLVLppI6a11CLVx63bBcblffV87zaUn/kPSMpNclPSHpZEnLNbiZist/%2B/ctaWNJN0qamfeNMyq/O0lrS7os76MzJV2iKl2b8rpE3jd%2BnfeVyu/4YKXAq1o9vijpSqVL/q/l7%2BQISUt0sYxhkg6S9ECeZ3zeF8/IWc/Q3Je3R%2Bb5l8vz3VzYpk9LOkfSWlWWVzx2jZR0rtLxaXb%2BHX2ti%2B27taRr83rNzvvI3yR9skreevbd9SVdKunJvO7P5N9at8e5vB4BrASsWG1fzvn%2BT9INkl6UNEvSfyXtX6M%2Bnfn1XklH5b/fUA/6ued97wKl48sspePFzZK2627ensonNZPyxxGl5dd9TKyxHp%2BQ9EdJdxe%2B74ck/UHSklXyF397G%2BX9%2BuW8/pdL%2BnCN5bxb0n65vi8r/R7vk3SspPdVybu/pLuUjm8zJd0q6bs1yh4m6ZdKv9e5jvU93Q7diYibSQ2PIp2AFZc/UNtwVUnnqxTvdFXvXLcLlOKWyj5ygqQPVMlbiYFWUvqfd6/e%2Bf0fIKXuTJK2knR7rsNUScdLWrSOzVmXBtdhZUm7Sbon/z4nFvIsJek3ef%2BbpXSsuFbSl6uUN0zpf%2Budebu/mrfHxZK%2BlPOMUTo2AYzW3Mfvcf20WXps0LXwN0LSmqTWjyWBy4F7gJWBi4B/9vHiVgFuAx4E/gosSmoZR%2Bmf1TjgBeAyYCrwUWAf4KuSPhsRL9WxrAOBtYHPRsRr6qLLoFKAdQbwl4gYU9cawY/y%2B/iIaJc0GfiypBUj4rE8bQKpK9U2kn5WpbvP5sBw4A/FaZJOB3YAngQuIF2i%2BwzwK%2BCLkjauUtZSwP8jXa6/EHgLeDZP%2BxawC3A96Tt/HRhF6pL0dUmfjIinCstXXu5mwEPA8aRLs2PyfPOQtBBwKbAJ8ABwDqk71UbAccCnge9Vm7c3GthWR5C2zW2k7m5LAF8A/gisW6rjIcAWwMfy9Bk5fQa9V/P7krQjcArwGnAJ8ASwGu98X5%2BJiMf7oA7fIHXxuAw4Cfgc6TseKWl/4FrgRuA04CPA14GVJX00It6qUt55pG34D%2BAN0v49DvikpG9EROWgjqSdSSfKrwDnk373G5K6YHxd0ucjYkaVZVyQl3EF6fc1lXRZe0ZeXrkbWKWMDYCfk34DF5C2%2B2qklt9v5OXdXWV5KwK3kxoQziJ9b1sDF0v6UkRcX1gnkY4n2wPPkb7XaaSGgY1Iv4t/F/L3eN%2BV9BXScfol0j7xVK7Lh0lXF2t166yYQOoKt2f%2BfExp%2B6B0H9L%2Bue7n5G20KXA4sImkL1e5MjAMuC7X5epcv5603p4IdJBaff8HLA18FThL0hoR8cselNGlfEwanT/%2BuzS5rmNiF35I6q4yCfgXqUHwE8BewKaSPh0RL1eZ72uk/fUK0m9vLdL6rytprYh4rrAeS%2BZ6foy0D52e67sKaf%2B5kHeOHcNJ38fawJ057wKk4/I5kkZFxIGFskX63W4OTCEd64eRrl5/pAfr34g3Sp8HYhuuBtxK2s%2BuIB0jViX9Lq6oVkmlk/oLSCcp/yB1G/sEsCuwuaT1alypOJJ0LLuU9Jv4BnAYMEzSC6T/QRNIx9aNgR8DC%2BZy%2B1Qv1uGPwPqkY84/gTm5vBVJx9uRuf5XAouRvosrJe0cEX8ulDMe%2BC7QDpwJzCJdZVyP1OXuX6Tv4hBSA22xax5U77I0sCJiULxIfceD9E%2B1/BqT84zMecaX5r02p%2B9aSt%2B0UO6YKsubWKMu4/P0kYW0kYWyDq8yz0Z52i3A8NK0MXna0XVsj3VJB5NfFdI6cznvqpK/sozxPV1Gnm954E3ggULaT3JZvyrlPTmnf61KOZfnaR%2BpUqcLgUVL%2BcflaXvU2A/OrLGeywMLV0n/MumHfGIp/Xu5vBuAYYX04aRWmnn2g0LdjgMWLKQvSAoYA9i8h9u3si9NqLJfj6vsKw1uq1WqLG8B4C85/6e7269L0ztJ3QmqTavUYcOefl/A6qR/5g8Dy5emfTF/Xxf1cDtuWOO7qmy3N4HRpe1wTZ72ArBtab6q3yPpoBykE/olC%2BmLkP7JBvC9QvqKpJOZl4A1S2WdkPOfUmMZ9wDLdPFbHlNjWywLvKdK%2BsdIge0VpfSRhe/p4NK0TXL6P0vpP8rptwNLlKYtCHygSn17tO%2BS/mkH8LEq6zDP9uhin6i6vwKfzeU/Dry/kP4uUuASwAFVygrSP%2B3FelqHqP07HEb6v/RGed/vwT7eyTvHh0NIgetDeT/7TZX56j0mVpYzrpS%2BIoXjXSF9p5x/vy5%2Be18sTftNnrZvKf2cnH4isEBp2uLFfY13jlflMhYhBWdvAR8vpG%2BT898KLFJIX4p0AlDzf36N7yOAqJK%2BQd6urxV/BwO4Da%2Bm%2Bv%2BDzXnndz6mkL448Hyu8/qlefbL%2Ba8upVe2fWdx/yX933yO1LgxDfhwYdrCwL15uyzbw208rvK9UP3/48g%2BWIengJWqLHti3oe%2BU0ofTgrcZwHvy2lL5Lz/rvH9Ll1l3%2BnxvjZQr6ZXoLSBar0m5jwjKQW1wAo57SFKB5A8vfJPf0yV5VX9Qug64H%2BG6gfXi/L0UTXK/A8wtYfbYlFSMHoXsFAhvZPaAf8SwJqUDkA9WNYvc5n7F9KWyj/ap5g74P1cznt%2BqYz3kw5Yd1ZZ5zconQDlaQuSDhy3V/leenzAKM17D/BIKe1fucwNquTftrwfkALF50ktddW28/D8wz%2Bvh3Wq7Eu1XiMb3VZdLHOdXPZB3e3XpemdNBbwV/2%2BgKPz9M1qlHlR3m/mCV6r5N2w/F3l9DE5/awq83w/T7uhyrTRVA%2BAJ1IK6qvU4fpC2i%2Bo3QiwJOlEYBaFY0ZhGZvXWNfKOo1p4DdwCelqVPG4MZJ3/nlX%2B2f1GPBcKe2/eZ61e7DMuvZd3gn4V693/XqyvwJ/zuX/qMq01UlBQ/k40UmNk5Be1O9buczv9zB/Zf%2Bq9boC%2BEyddah2TKwsZ1wPyxDp6u51NfbTs6vMs1Ke9o9C2rJ52z9NNydVpNbrN4E7akz/WC7/d4W0yv/6jarkr9R1Yh3brrLdx%2BXXYaRur6%2BT/gfsVkdZfbUNP5jTHqnxW57IvAF/5f/cOVXyv4t0FSuADxXSx%2Be0narMc3qedmiVaQfnaaN7uF3GdbPPb9gH67BHF/vP%2BTXqtXmePjZ/fm/%2BfDOgHu47Pd7XBuo16Lr0RES9Q119PL/fGtUvzd8EfKlXlZrb3RHxWpX0z5L%2B6W0laasq04cBIyQtHRHPd7OM35G6JK0bEeVLhlVFxIvUOXqRUj/vnUgHrzMLZb0g6VLg26SuMJfk9FskPUi6TLxkREzPs2xL%2Bsc%2BvlD2u0k/queAPWt0R3qNdBm/rDMiptaos/LyxuTyl8zLrihfpl87r98tVYq7qUra6qQTnoeAA2vUe1aNendlh6hx026j20rS0sDPSJd%2BVyZdjixavs46NqrW9/XZ/D5a0rpVpi9L%2Bu5WByb3sg7lbg6QAgtqlF3p4lCrj/OkKmk3kQKWtQtp6%2BT368qZI2K6pP%2BQWgTXBMrdbG6vsexuKfXX3YU0UsgyzNs9cxnSSWvRXRExp0pxT/DOd4WkxYA24NmI%2BE839Whk3/0rKRi%2BTdLfSV08bo6IJ7taVh26%2Bk4elPQksJKkJfJxs2I2KUCui6QPkVoZvwh8iNRgU1Tv73BSRGxYKH9pUmPLscANkraIiH8Wptd7TKy1HgsBO5MGh1iL1IhUvBeo1npU%2B%2B09kd%2BL/dbXzeXdEBGvdFOddUnrUKvv80L5vbhfrUM61lc7rk/sZnldObj0uRIIn1HOOADbsHLsuanGb3ki73T9qujq9/CmpBtIjQJrk66KdVev3hxXazkkur5ptzfrUO04WzneLVFj/6rcJ/PhvIyXckz0deAuSReQugHdFhGvdlHvQWXQBfwNWCK/P1tjeq30Rj1TI31p0vYsHxzKKpemqpI0mtQPblxU74fblzYhXYK8Kubt4zmeFPD/iBzwZ38htXR8h3du8N2edLJzTiHfkqRWjRHUf8NxrW0McBSp7%2B7/gKtIB5hZedoY5h3FaAnghag%2BxGi1fWPp/L4aXdd78S6m1avubZX7t95BagW6nXTC9gKpVWw4sAfpEutA6Oo3AemkpCt9sS2rney%2B2YNpC1WZBlX2jfyP5TnSiUpF5fhTDq4ppQ%2BvMq2r/bwmSXuQ%2Bq1PJ7VqPg68SgpEtiAFfdW%2B%2Bxk1inyTuYOSSl170u%2B77n03Ii7M/XH3JvWv3hkg3zu0f0Rc05NyutCT7%2BRDpPUs7htTIzfP9ZSklUm/vyVJAcDVucw5pABke3r5O8wNRJdKmkX6vo9m7nvT6j0m1vJ3Uv/zR0j3jzxDOlkjl19rPWZUqfOb%2BeSveOIxPL/3ZL%2BqHDvWza9aiseOyrG%2BWiNZQ781eKcRMp8If5bUHfAkSY9FRDkA7e9t2F28U209e3OM6uvjaqP6%2Bjhb2b82zq9aivvX1qQT%2B2145z6j2ZL%2BAewTEX0da/a5Vgj4KzfBvq/G9FrpQe31H97F8mr9Q3iR1KWotw9GWZv0D/QQSbVuXnsjHwjWjoi7erGsys26mxTuLC/7iqQVIqLS2nAW6Ua87YETJa1NuiHq4ijcWMQ7B4P/RMQ61KdqXSQtC%2BxOumnmc1G6%2BUnVR254CVhK0ruqBP3V9o1KvS%2BKiG/VV%2B2GNbKtfkAK9udpGZH0WVLAX6%2B3SFeiqhnexXxd/SYg9cut52b1weB9lFqKlEafWoZ3jjnwzjq%2Bn3TjZtkHSvneVm9wWajDONI/sXUi4n%2Bl6Z%2BtNl%2BdZuT3nrRMN/Q7j4jLgctzEPVp0o1yuwKXSVo7Iu6to7616vR%2BUt/tslrfSd3fB%2BlmzKWpcgUvH4%2B2b6DMWm7L76tXrk40eEych9KoS98kdYHcNOYeeGEBYN8%2BqP%2BM/F7PfnV0ROzVw/JfJB3rF6oS9L%2B/h2XUlK9K/EvS10k3Ef8l35T9KgzYNqxsl1pxTbX1fLGLadDFMWoQ6c06VPtdV/LtERHH9qQCETGL3L1L0gqkK7djgO1IJ/fr96ScZhpSw3LWcFd%2B/6yqD5e4Xo35ppP6/89FaUz6jzdQj/8HLCmp6sgvdWgntSBUe1UetnJ6/txd16CaJL2f9E/2pS6WdzOpdWHHynw58L8O%2BLTSMwIq/9D%2BUiw/0oNhOoBR6runQ65M2mevrvKP7YN5etl/8jyfqzKt2r5xP3mEkXx5tt81uK1Wze8XVJlWvqRbUbkEvGCN6dOB99VY73mGYeyB/5ffB/2BsIpq23A90rYrdnOp/L1hOXO%2BCvNxUleR%2B%2BpYdlff0zKkk69bqgT7i/POpe%2BG5cCmnbQvrN1N3l79ziPilYi4Lgd1h5NOODdtoNpFXX0nq5K6Gzwa1UdOqlcjv8NGFbt2VP7XNXJMrKayHpdUaRj5FPN2U2rE7aRGhQ3yiV5P8tZz7LiTtC2qHdc3rKOcLkXEPaT7RD4I/LQwaSC2YWXfXi/HKmUbdjHPPNNyA0JlG9/Z28r1o75eh179b4qIJyLir6ReEg%2BTvo%2BlC1neovb/2aYZ8gF/pCH9JpJ%2BbDsXp%2BXh32r1378d%2BJDmHW/1QBp7uNXR%2Bf3PqjK%2BuKTFJH2mu0Ii4l8R8YNqL94J8HfOaZVWdyQtIWlNVRmPtoYdSVc4/trF8saQ%2ByuWTqbG5/edSMNUPUcaDrHsKNI/8NNV5TkEkpaUVE%2BA0pnf5zrY5UDnz1S/YlO5N%2BHXKoyhrjQ%2B%2BjzD5eUD9XGkFoNjVWVMYUkfUJXxznup3m3Vmd83LOVbmzQcYTWV/edDNabfTtqGO5TKHAN8vmbNazue1NXraEmrlycqjWs8WE8GfqnCuNmSFiGNmgHvjJMP6UF1bwC75WCy6Fekm73OrnHfTy1dfU9TSd13PpH3%2B0r9FiINP7dMHcvpSqXV62SVniUgaYHScaaufVfSBio9qyOrtFr2tk/s6fn9QElvj1mfjxlHkv7vndbLZVR05vcNi4mSNiFdhetLlZbuewr3T1WWX88xsZpKORsWE/MVhD81UNd5RMQ04FzSsfXIcgOdpMUr%2B1q%2BJ%2BivpGFwf1ktuJW0iqSVCkmV3%2BVh%2BfdaybcU6f96X/o1qavOPoXjRGd%2B37BUz77chk%2BSunWtROkpv5I2p/pJ5gRSd8/vVolB9sxl/Sv6Znjk/jKBPlyHiPg3qQvet5SGjp6HpI/k7w5JIyRVG9p1MVK3nzeZ%2B16Z56nSoNxsrdClB1Kf95uBEyR9lXfG4f82qR/d5qQzrqIjSWdnFyvdOPYCqRV4JdIJxIb1VCAirpX0c1JQ8JCkf5LuHF%2BcdAIxmnQz0VfqX70e%2BSZ5HH5SoF6TUn%2Bgyj%2BjU2vli4iHJU0ibYtNSUNvQhpd5SXSD20h4Lhq/SYj4nRJnyCNrT1F0lWkbhJLkbbzBrnOu/RkBSPiGUnnku4fuEvS1aS%2BfRuTWlHvYt6rM2fm/F8B2iVdkuv8bVIf%2BDWYd9/4Fakf9C6kG5SvI/U7XZbUt//zpNFZetPtoLxu9W6rM0l944%2BRtBHpJuPVSFdtLiT1Nyy7Ns/zZ6Wbjl4GZkTE8Xn6caRg/0RJXyTdNPZxUr/Vy3LZ9azT/flgejrQIelK0nCXC5GC2fVJQ7utWU%2B5A%2BQ%2BUp2L4/CvQvoNnFXJFBGdkvYk/UO/U9J5pHUaTdpu95P6fdbjVlLQu2duNar0QT0ud%2BM4ljQO/38lXUwKtjci7SvX579761TS9/M90vHsYtJ6LUd61sPppMvbjey7xwLLS7qZFCS9ThpP%2BwukEYPO7U3F8%2BACvyN1oWjP3%2BErpGNYG%2Bk4/PveLKPgBNJv5vy8nKfzMr5CGhO%2B2u%2BwOyM1942ES5H%2BN32C1Df/7UCvwWNiNXeQ/od%2BS9ItpG30PtI2e4B3btTsrZ%2BQts8uwIZ5X3mdtJ9sQhrnfWIh72rAocD3JN1E6ru%2BHOlmynVJDU6P5vx/I23vb5C%2B94tJx5ot8/qt0kfrQEQ8JekkUtfJfUmNLAO1DX9MOkYckxss7yY1eH6TNOzs10t1nZmPw%2BcDkySdT/p9foI0dOszlBpLB5t%2BWodtSL0VTpO0O6nL3AzSlZuPkvbTz5IaWZYH/iPpv6T48glSY87XSN2Mji1dYbsW%2BI7Sjb53kv6H3BARN9RZx74Vg2CooHhnGKPoJs/InG98lWlrkgKdGaSD%2B62kEWb2yfNsUWWeb5DuQp9NOiM7lxScj6c0fGFXyy6VuR7pQP806UA2jXTQPQr4ZC%2B3UWeuQ6/G4Sf9MwhKw2jWyFsZ2/jiUvqple8M%2BEQ3ZVQeiDQ1b5NnSK3Jv2bescu7HM4KeDfppuGH8/f2BCnYWpo8JFmVeRYh/dN4lNQq05nLWD4vb0KVeUQKdq4lnQy%2BTgr6bwIOAFbo4XdW2ZfG9DB/PdtqLdIN1VPzPj%2BZdCJXc18ltRLel7dDUBrWMO%2B/N5ACzpdIAe5H6XpYzprfV87zkbwdHsvLfYHUZeRk4As93C4bVlsWXQxhSRfDD9baRrwzrN3CeZtX9pnK067nGZI3z/dl0g2b03P%2Bh0mjbQ2vkrfqflrK8xXSMWwm7/zORuZp78rf472kAPAZ0klIQ8eurupDGv1lEqnP6%2By8Pf5Kun%2BgoX0X%2BD9ScPZQXr%2BX8v5wGDCiJ/tDLqezvP%2BWpn%2BH9Ht9Ode9g3Sivki9ZXVTj8%2BRAofpeVk3kW6errn/dbOPl1%2BV/e9UYI0q89V1TKxVL9KJxQl5W8wm3f9weC5/nu1D98%2BLqHpsILWK/oIUOL2at9m9pBvRly3lHUYK/G/J%2B%2BBrpEDvWlKDU3n882HAQXl7FY/1C9eqTxffR5cxCSmYfyW/KuO1D9Q2XJX08KkZzB3v1CyPdIJ0ESkmeT1vxxOB5arkHU/pOFKYNo4q/wt6sj5dlNXT30ifrEMhz3tI/88nk45Fs0jHuMtJ9zgulvMNz/tVpfHvNdKNwhNJJ50qlbssaRCTZ0ldNHu8jv35Uq5cy5L0V1LQumZEPNDs%2BtjgIWljUpB2RETU6gZj8xGlx66PjvqHBzYzMxu0hnwffni7T%2Bk8d2/nbglbA/c62J9/1binYmnSY8EhtRiYmZmZtaRW6cM/DHhC0vWkPrNvAqNIXVdeJ/V5s/nXUZI%2BRrosPI3UR29T0uXXkyOi4QcgmZmZmQ12rRLwvwGcRLrp69Ok/nLPkW7wOCK6eVqktbwLSf0tv07qi1fpz1sZftTMzMysZbV8H34zMzMzs/lZS/ThNzMzMzOz6hzwm5mZmZm1MAf8ZmZmZmYtzAG/mZmZmVkLc8BvZmZmZtbCHPCbmZmZmbUwB/xmZmZmZi3MAb%2BZmZmZWQtzwG9mZmZm1sIc8JuZmZmZtTAH/GZmZmZmLcwBv5mZmZlZC3PAb2ZmZmbWwhzwm5mZmZm1MAf8ZmZmZmYtzAG/mZmZmVkLc8BvZmZmZtbCHPCbmZmZmbUwB/xmZmZmZi3MAb%2BZmZmZWQtzwG9mZmZm1sIc8JuZmZmZtTAH/GZmZmZmLcwBv5mZmZlZC3tXsytgNtRIWgIYDTwBvN7k6piZmdn8ZxiwAjApIl7sLrMDfrP6jQYubnYlzMzMbL63OXBJd5kc8JvV7wmACRMmsOqqqza7LmZmZjafefjhh9liiy0gxyTdccBvVr/XAVZddVVGjRrV7LqYmZnZ/KtHXYt9066ZmZmZWQtzwG9NIWm8pM7%2BnsfMzMxsfucuPWYN2vioSQwb0dnsapiZ1a3ziM2aXQUzG0AO%2BG0o%2BSG%2BKmVmZmZWFwf8NmRExBvNroOZmZnZUOPW0iFC0oqSTpD0gKRZkp6XdL6kkaV8YySFpM9LOkrSNEmvSLpI0ohS3k5Jl0laT9LtkmZLekTS90v5xkmKKnWqLGtkIW1zSZdLelrSa5KmSPqlpAX7YBvM1Ydf0si8/H0k/Sgv6zVJd0hat8r8a0o6L2%2BTWXlbHtbbepmZmZkNZm7hHzrWBT4HnAs8CYwEdgUmSlorIl4t5T8OmA4ckvPuCRwPbF3KtyrwD%2BA04C/AjsB4SZMjoqOBeo4BZgJH5fcvAIcC7wV%2B1kB5PbEN8B7gZCCAfYELJa1cuSog6aPAjcAbwClAJ7AK8HXgF7UKlrQsMKKUvEof19/MzMys3zjgHzouj4h/FBMkXQrcCnwbOKuU/3ngyxEROe8CwO6Slig9gnkNYIOIuDHnO4/0EIcdgH0aqOc2ETGr8PkkSScBYyUdGBGvNVBmdz4ErBYR0wEkPUB6Eu4mwGU5z3GAgHUi4vHKjJJ%2B3k3ZY4GD%2B7zGZmZmZgPEXXqGiGIQLWkhSUsDDwMzgHWqzHJKJdjPbgQWBFYs5bu3Euzn5UwDHgBW7oN6vkfSMnnZ7wbWbKTMHvh7JdjPKuuzcq7HCGAD4PRisJ/rO09XpZITgLbSa/O%2BqLSZmZnZQHAL/xAhaVFgf1LL%2B/Kk1uqKJarM8njpcyUgXrKbfJW85Xw9ImkU8GtSV573liZXq2dfKAfx0yXBO%2BtQOXlpr7fgiJgKTC2m5bLNzMzMhgQH/EPHcaRg/xhSN54XSf3Vz6X6lZo5NcopR6s9yVerFXyuG3ElDQcmAS8BBwFTgNmkKxC/rVHPvtDTdTUzMzOb7zjgHzq2BP4SEXtXEiQtAgwfgGVX%2BsYPj4gZhfRy96ANgaWBb0XEDZVESSv1dwW78Uh%2Bb2tqLczMzMyawH34h445zNtivRulVvZ%2BMiW/b1BJkLQYsH0pX6WlXYV8w0g3vjZNvi/hBmBHSR8qTpP755iZmVmLcwv/0HEZ8D1JLwL3Ap8FvkQajae/XU3qJ3%2BapN%2BTAvsdgWmkEXIqbiFdDfiLpGNJXYG%2Bx%2BDoWrM7cBNwp6RTgEdJw5VuBny8kQKv2Ws0o0aN6qv6mZmZmfULB/xDxx6kQHtbYBHgZlLAf1V/Lzgi3pD0TdKINb8CniHdSzAdOKOQ73lJXwP%2BQLpxdzpwNnDtQNSzKxFxt6TPkOq/K2kbPgac18x6mZmZmfU3dT8qoZkV5ZGI2tvb293Cb2ZmZgOuo6ODtrY2gLaePCjVffjNzMzMzFqYu/RY00laChjWRZY5%2BcZbMzMzM6uTA34bDC4ERncx/THSDbZmZmZmVicH/DYY7E3XT/adNVAVMTMzM2s1Dvit6SJicrPrYGZmZtaqfNOumZmZmVkLc8BvQ4KkiZLa%2B7jMkDSuL8s0MzMzG2zcpcesQRsfNYlhIzqbXQ0zs/lG5xGbNbsKZkOSW/jNzMzMzFqYA35rGkkLSFqk2fUwMzMza2UO%2BJtM0oqSTpD0gKRZkp6XdL6kkYU8n8z9zbevMv8medrXCmkbSvq3pNmSpkjaWdI4SdFA/daUdJ6kabl%2BD0g6rDB9vKTOKvPNs7xcz%2BMlbSupA3gN%2BEqd9fmEpFtyXR6VtEtp%2BjBJh0qaLOlFSa9IulHSRnWtuJmZmVmLcB/%2B5lsX%2BBxwLvAk6QFTuwITJa0VEa9GxL8lPQL8H/CX0vxbA9OBqwAkrQ1cCfwPOBhYEDgIqPtJtZI%2BCtwIvAGcAnQCqwBfB35Rb3nZF0jrcTzwXC6zp5YE/gmcB/wtl3OipNcj4vSc573AD/L0PwPvAXYCrpL0qYi4q57KSloWGFFKXqWeMszMzMyayQF/810eEf8oJki6FLgV%2BDZwVk7%2BO7CPpCUjYnrONwz4JnBhRLyR8x0CzAE%2BHxFP53znAfc1ULfjAAHrRMTjhfr9vIGyKtYAPhIR9zYw73LA3hFxVK7HycBtwG8knZW3wXRgZES8Xqjvn4H7gd1IwX89xpJOnMzMzMyGJHfpabKIePspspIWkrQ08DAwA1inkPXvwELAtwppXwaG52lIWhD4EjChEuznZTwMXFFPvSSNADYATi8G%2B7m8ursGFUxqMNgHeBM4uVCP1/PnZYFP5LQ5lWA/3yOwFOnE9t/MvT176gSgrfTavMH6m5mZmQ04t/A3maRFgf2BHYDlSS3qFUtU/oiIuyXdT%2BrCc1pO3prULea6/HlZYFHSCUNZtbSurJzf%2B3Tse%2BDRXsz7dES8Ukp7ML%2BPBP4fQL7XYW9gTdJJUsPLjoipwNRimqQauc3MzMwGH7fwN99xpP7w55H6pH8Z2Bh4nnm/n78DG0laRtLCwDeACyLizQGsb1mt1v4Fa6TPqpHeJyRtB4wHppC673yFtD2vw/u7mZmZzYfcwt98WwJ/iYi9Kwl5qMrhVfL%2BndSf/NvAs6QbVM8tTJ8KzAZWrTJvtbSuPJLf27rJN53qdV2xzuX1xHKSFiu18q%2Be3zvz%2B5akun%2Br2PVI0iH9UB8zMzOzQc8tns03h7m78UC6uXSeFvKIuA/4L6krz9akkXhuKEyfA/wL2ELScpV0SasCm9ZTqYiYlsveUdKHitM0d5%2BWKcASeUSfyvQPkG4m7mvvAnYuLGdY/jwNmJyT51QmF/J9GvhsP9THzMzMbNBzC3/zXQZ8T9KLwL2kwPRLpC491fwdOJTUkn9aRLxVmj6O1C3oZkknkk4cfkLqi//xOuu2O3ATcKekU0h94EcCmxXKOhf4LXCRpGOBd5OGFX2Qxm6S7crTwH75GQUPkk56Pg78qDBK0WWkG5svknQ5sBKwC2nbLt6Xlblmr9GMGjWqL4s0MzMz63Nu4W%2B%2BPYAzgW2BPwAfIAX8M2vk/zvpe3t3/nsuETGZ1Jo/HfgVqR/7QcC1pJOEHouIu4HPkFr6dwWOJXUnuqSQ53lSa/6rwO%2BA7Uk3IV9az7J6aDrwVeCTwO%2BBFYCfRMSfC3nGAwcAH8v13QTYjjRKj5mZmdl8R70bYdGGCkkTgFERsVqz6zLUSRoFtLe3t7uF38zMzAZcR0cHbW1tAG0R0dFdfrfwt6A81Gfx82qklvGJTamQmZmZmTWN%2B/C3pkckjSeNVrMiqTvO66QuN0hagjRef00R8Uw/15Fcl6WAYV1kmZNvIDYzMzOzBjjgb01XAt8F3g%2B8BtwKHBARD%2BXpfyT1te/KQD1d6kJgdBfTHyPdKGxmZmZmDXDA34IiYodusvwOOHsg6tIDewNLdjG9Xx/UZWZmZtbqHPDPhyLiXtIwlU2XRxUyMzMzs37im3bNzMzMzFqYA/5BRNI4SXWPkyppvKTOUlpIGtdXdTMzMzOzockBv81XJC2XT6w%2B3tuyNj5qEiN/fnkf1MrMzMys/7gPf%2BtaFHiz2ZUYhJYDDgY6gbuaWhMzMzOzAeCAv0VFxOxm18HMzMzMms9deppE0nqS7pA0W9IUSTvXyLedpMmSZkl6QdK5klboQflz9eGv3B8gadXc53%2BGpBclnSHp3aV5F5Z0tKRpkl6WdImkDzZyX4CkfSTdIun5vA6TJW1Zo77HS9pK0r05762SPpKn7yzp4by9JkoaWZp/oqR2SWtJul7Sq5KekrRvIc%2BGwB354xl5mSFpTD3rZGZmZjaUuIW/CXIQezUwDRhH%2Bh4OAZ4t5fsF8CvgPOBUYASwG3CDpLUjYkYDiz8PeBTYH1gH%2BAEwFdivkOdUYDvgHOAW4AtAo53V9wAuAf5KeqLud4DzJX0tIsplrg98A/hT/rw/cJmk3wFjgRNIY/bvC5ye61W0JOmhYxfm9dwS%2BK2k/0bEFcB9wEHAocApwI15vltqVV7SsqTtXrRK96ttZmZmNjg44G%2BOQ0lPsl0/Ih4HkHQB8N9KBkkrkk4CDoyIwwvpFwL/IQXAh1O//0TEToXylgZ2Igf8kj5GCvZPiIgf52x/kvRX4KMNLG/1iHj74VmSjgfuBPZi3pOINYA1I6Iz550OnAwcmMt5OacvCOwvaWQlb7Yc8P2IOCvnO430pN6dgCsi4llJV5C2/60R0ZOHj40l9fk3MzMzG5LcpWeA5WB1E2BCJdgHiIj7gKsKWb9F%2Bn7Ok7RM5QU8AzwEbNRgFU4qfb4RWFrSe/Pnr%2Bb3Y0v5jmlkYaVgf0lgibzMdapkv7YUwN%2BW3y%2BoBPul9JVL88%2Bk8AThiHgduL1KvnqcALSVXpv3ojwzMzOzAeUW/oE3gjSCzkNVpj3AOwH3aqSrANXyAbzR4PIfL32ent%2BXBF4CVgTeAqZUqVvdJH2N1EL/cWDhwqRqzxso1%2B3F/P5EjfQlS%2BlPRkS53Ok0dmUCgIiYSury9DZJjRZnZmZmNuAc8A9eC5CC4k2BOVWmz2yw3GplQTq56FOS1if137%2BB1DXmf6QTlR2AbeqoW0/rPGDrZmZmZjZUOOAfeNOAWaQW/LI1Cn9PIQWqj0bEgwNRsewx0snGKszdqr9G9exd%2BjYwG9gkIl6rJEraoVc17J26n2RsZmZmNpS5D/8Ai4g5pL76W0j6UCVd0odJffsrLiS1WB%2BsUh8SJUv3UxWvyO%2B7l9L3bKCsOaQAe8FKQh5Oc4sGyuorr%2BT34U2sg5mZmdmAcQt/cxwMfAW4UdIJpO9hN6CD3N88IqZIOhD4DTBS0gTgZWAl4JukYSWP7OuKRcRdkv4GjJW0BGnIyi8CqzZQ3OWk0XiulHQOsCzwY%2BBhetGvvpemADOAXSS9TDoBuC0iHq23oGv2Gs2oUaP6uHpmZmZmfcst/E0QEfeQWvOnkYaI3JF0EnBRKd8RpG4xb%2BXpR5LGqb%2Ba1De%2Bv%2BxIGqXnK8DvgIWAzeotJCKuIw2J%2BX7SKD/fJQ3/eVEXs/WriHgD2J509eEk4G/A6GbVx8zMzKy/ad5BTcyqkxTAIRExrtl1aSZJo4D29vZ2t/CbmZnZgOvo6KCtrQ2gLSI6usvvFn4zMzMzsxbmPvxWt/zwsBHdZJsZEY0OHWpmZmZmfcQBvzViBaC7m1wPAcb1f1XMzMzMrCsO%2BK3HIkIAkhYBNu4m%2ByP9XyMzMzMz644DfqtbRMwG/tXsepiZmZlZ93zTrpmZmZlZC3PAby1H0rg8hGh3%2BcZIivz0XzMzM7OW5C491vIkHQDcGxET%2BrLcjY%2BaxLARnX1ZpJnZfKHziLqf5WhmveAWfpsfHABsUSX9LGBR4LEBrY2ZmZnZAHILv823ImIOMKfZ9TAzMzPrT27htyFN0nqS7pA0W9IUSTuXpgewGLB97q8fksbnae7Db2ZmZi3PLfw2ZEn6CHA1MI30kK93kR749Wwh2/eAU4HbgVNy2pQ6lrEs8z5VeJXGamxmZmY28Bzw21B2KCBg/Yh4HEDSBcB/Kxki4mxJJwGPRMTZDSxjLHBwX1TWzMzMrBncpceGJEkLApsAEyrBPkBE3Adc1YeLOgFoK70278PyzczMzPqVW/htqBpBGmHnoSrTHgC%2B2hcLiYipwNRimqS%2BKNrMzMxsQLiF38zMzMyshTngt6FqGjALWK3KtDVKn7t96q6ZmZlZq3LAb0NSHkP/KmALSR%2BqpEv6MKlvf9ErwPCBq52ZmZnZ4OE%2B/DaUHQx8BbhR0gmk/Xk3oAP4aCHfZOBLkvYCngYejYjbervwa/YazahRo3pbjJmZmVm/cgu/DVkRcQ%2BpNX8aaYjOHUknAReVsu5FCvp/DfwN2HUAq2lmZmbWVG7htyEtIm4APlll0rhCngeA0VXmHQ%2BM76eqmZmZmQ0KbuE3MzMzM2thDvjNzMzMzFqYA34zMzMzsxbmgN/MzMzMrIU54DczMzMza2EO%2BM3MzMzMWpgDfmuYpJA0rtn16I6kiZLam10PMzMzs2bwOPzWEiQtB/wImBARdw3EMjc%2BahLDRnQOxKLM3tZ5xGbNroKZmQ0xbuG3VrEc6Sm7H29yPczMzMwGFQf8ZmZmZmYtzAH/ICJpeUmnS3pW0muSOiTtWJi%2BYe43/3%2BSDpb0lKSXJf1D0hKSFpZ0jKSpkmZKOkPSwqVlhKTjJW0r6QFJsyVNlrTBQKxDlfX4haQncz2ulbRqlTJ/LOkRSbMk3S5p/dwvf2KlPOCOnP2MXHZIGlMqZy1J10t6NW%2B7fftinc3MzMwGM/fhHyQkvQ/4f0AAxwPTgE2B0yS9NyKOKWTfH5gFHAGsCuwGvAG8BSwJjAM%2BA4wBHgUOLS1uNLA1cCzwGjAWuFLSpyKi4Ztb61wHgJ/nOh8JLAHsC/wV%2BHShzF1zWTcCRwMjgQnAdODJnO0%2B4KC8nqfkvAC3FJa1JHAlcCFwHrAl8FtJ/42IK7pYp2WBEaXkVWpuBDMzM7NBxgH/4HEYsCDwkYh4PqedJOlvwDhJJxfyvgsYHRFvAEgaAXwHuDIivprznJBby3dk3oC/DfhkREzO858LPJDzfas/1yEiZhXyLwJ8PCJez/WYDvxRUltEtEsaBvyK1Hr/hYh4M%2Be7BxhPDvgj4llJV%2BT63xoRZ1ep23LA9yPirFzGacBjwE5AzYCfdDJ0cL0bwszMzGywcJeeQUCSgG8Dl%2BaPy1RewFWk1u91CrOcWQn2s9sAAaeXir4NWEFS%2BcTu1kqwDxARjwMXA5tIWnCA1gHgjEqwn1Va5lfO758Elgb%2BXAn2s7%2BSWvjrMRN4%2B0QgL/f2wrJqOYF0glR8bV7nss3MzMyaxi38g8MIYDhpWMkf1cizLO8EuY%2BXpr2Y35%2Bokr4AKdh%2BvpD%2BUJXyHwTenevyTE8qXdLTdSgqr0dl/ZbM7yvm94eLmSLiTUmdddbvyYiIKsv7aFczRcRUYGoxLZ3bmJmZmQ0NDvgHh8qVlrOBv9TIcw%2BwVv57To08tdIHIkLt6ToUDWR9m7ltzMzMzJrGAf/gMA14GVgwIv5VK5OktWpNq9NqVdJWB17NdWlEj9ahTo/l91WB6yuJuYvSSOY%2BgSi33puZmZkZ7sM/KETEHOAC4NuS2srT8025femzkt7uTy9pBVK/9KtzXerWT%2Bvwb1JXpB%2BW7kPYlne6/VS8kt%2BHN7AcMzMzs5blFv7B4%2BfARsBtkv4M3AssRbrR9Uv5777SDlwlqTgsJ/R%2BNJo%2BXYeIeF3SOOA44DpJ55Fa9scAU5i7VX8KMAPYRdLLpBOA2yLi0cZXp2vX7DWaUaNG9VfxZmZmZn3CLfyDREQ8C3wKOIM0NObxwB6kIHm/Pl7cJGBP4HukoSxfADaNiHIf%2B7r0xzpExPHA7sCHSOP1rw98gxTczy7kewPYntRX/yTgb6TnDZiZmZnN1zTvwCXWyiQF8KeI%2BEmz69IoSQuQ7hm4MCJ%2B2ITljwLa29vb3cJvZmZmA66jo4O2tjaAtojo6C6/W/htUJO0iOYdB/P7pKsGEwe%2BRmZmZmZDi/vw21zyg7e6u8F2ZkTMHIj6AJ8BjpZ0PukG3nVIT8dtB84foDqYmZmZDVkO%2BK1sBaC7G10PAcb1f1UA6CQ9UGx3Uqv%2BC8CZwM9LT%2Bk1MzMzsyoc8M9nIqK7B009A2zcTZ5H%2Bqg63YqITtJNumZmZmbWAAf8NpeImA301YOzzMzMzKzJfNOumZmZmVkLc8CfSVpX0i2SXpEUkibkISytn0iaKKm9B/lG5u9kTAPLqMy7T0OVNDMzMxvi3KUHkLQQacSX2cBPgVeBdZtaKRv0Nj5qEsNGdDa7GmaDVucRmzW7CmZmhgP%2BilWAFYEfRsSpAJLOpe%2BfcGuNeQxYFHij2RUxMzMzG2oc8CfL5vcZlYSIeBN4sym1qUHSYhHxSrPrMdAiPQ56drPrYWZmZjYUzfd9%2BCWNByblj%2Bfn/t4TJY2r1odf0naSbpf0qqTpkm6Q9OVSnrGSOiS9JulpSX%2BSNLzOeo3JdRkt6QRJU4En87QVc9oDkmZJel7S%2BZJG1ijj85KOkjQt36NwkaQRpbwL5HV%2BOq/b9ZLWktSZt1Ex73BJx0h6Iq/jw5L2k9TQ/pSXc31e7lOS9i1Nr9qHX9JWku6VNFtSu6RvShovqbPGcn4kaUqu8x2S3G3LzMzMWp5b%2BOFk4CngAOBY4A7gWeDz5YySDiY9cOoW4CDgdeDTwBeAq3OeccDBpKEtTwTWAHYF1pX0%2BYiot1vKCcA04FBgsZy2LvA54FzSScDIvIyJktaKiFdLZRwHTCc9MGsksCdwPLB1Ic9vgH2BS4GrgI/l90VK2%2BDdpBOk5Unb7vFcl98AH8hl12NJ4ErgQuA8YEvgt5L%2BGxFX1JpJ0mbA34H/Avvnck4jfZfVbAO8J9c58rpeKGnlrr4TScsy75OHV%2BnBepmZmZkNCvN9wB8Rt0pamBTw3xgR/wCQNFfAL2lVUpB/EbBlRLxVmKb8PoIUfF4NbFrJI%2Bl%2BUoC9HXBGnVV8AfhiRMwppF1eqWehDpcCtwLfBs4qlfE88OXcNYbcEr%2B7pCUi4kVJ7wP2AiZExDcLZVZOcIr2IgW8a0fEQzntZElPAz%2BT9IeIeKKO9VsO%2BH5EnJWXeRqpz/5OQM2An3SC8RTw%2BYiYmee9FpiY5y/7ELBaREzPeR8ALgY2AS7rYjljSSdwZmZmZkPSfN%2Blpw5bkLbXocVgH97uYw7wJWAYcEwpz5%2BBl4BGhqz4cynYJyJmVf6WtJCkpYGHSfcgrFOljFMKdQS4EViQdKMywBdJJ38nlOY7rkpZW%2BX5p0tapvIiXdFYENigpyuWzQTOrnyIiNeB24GVa80gaTngI8CZlWA/zzuJ1OJfzd8rwX52Y36vuZzsBKCt9Nq8m3nMzMzMBo35voW/DqsAbwH3dpGnEkA/UEyMiNclPVKYXo9HywmSFiVdSdiB1LVGhclLVCnj8dLnSuC7ZH6v1OvhYqaIeEFSMUgGWA34KKmbUTXL1kiv5cnSyUilfh/tYp6q9S2kVTvpmWsbRMT0fGFmySp5i/mmAlOLaXk%2BMzMzsyHBAf/gN6tK2nGkYP8YUjeeF0n90s%2Bl%2BlWbOVXSYO4ThZ5aALgG%2BF2N6Q/WWV5f1m0wLMfMzMxsUHHA33NTSMHuWsBdNfJU%2Bo6vATxSSZQ0DFiJ1O2lL2wJ/CUi9i4sYxFgeIPlVeq9KoUrCrmrULkFfAqweET01bo0oljfsmppZmZmZvMt9%2BHvuQmkLj0HlYef1Dt9PP5FGrlnd83d72MnUleby/uoLnOYt2V6N1If%2BkZcS3rmwK6l9J9UyXse8FlJm5Qn5OE6%2B/0kMiKeBtqB70tavLD80aS%2B/WZmZmaWuYW/hyLiYUmHAb8EbpR0IfAaaYjMp4H9I2KapN%2BQRnW5UtIlpNb%2BsaThPs%2BuXnrdLgO%2BJ%2BlF0j0FnyXdMPx8I4VFxLOS/gjsnet8JWlYzk2B50jdhSp%2BD3wDuCyPzz%2BZNFzoR0hXHkbmefrbAaRRdm6WdAbpSsRPSCcCi3c1Y1%2B5Zq/RjBo1aiAWZWZmZtYwB/x1iIiDJD1Kak0/DHgVuIfCMJgRMU7SNFLweTRpWM1TgAMaGIO/lj1IrfzbksbJv5kU8F/VizL3I63PD3NZtwJfBm6i8JTbiHg1t6QfQBqx5/ukEYgeJJ3ovNiLOvRYRFwq6bukYUOPAB4CxgDbA47CzczMzDLNO0CKWZKfDjwdODAiDmtydXpE0l3AtIjYuB%2BXMQpob29vdwu/mZmZDbiOjg7a2toA2iKio7v87sNvwNtDfZbtmd8nDlxNeiY/f%2BBdpbQNSV2RJjahSmZmZmaDkrv0DLAcWFcbK7/ohfwAqoG0taQxwD9JD8NaD/gucHVE3FxPQZKWIj2ArJY5EVFrHP%2BeWh74l6SzSfdQrAnsAjwDnNTLss3MzMxahgP%2Bgbc1cEY3eTZi4Fup7yGN1LMv8F7gWeCPwIENlHUhMLqL6Y%2BRbu7tjemkG4Z/AIwAXiGNgvTziGjo5mUzMzOzVuSAf%2BBdBXTXv/zugahIUUTcSbpZty/sTddPsK32MLG6RMSLpJMnMzMzM%2BuCA/4BFhH/A/7X7Hr0p4iY3Ow6mJmZmVnim3bNzMzMzFqYA/4ekrSupFskvSIpJE2Q5DFN%2B5Gk8ZI6m10PMzMzs6HMXXp6QNJCwPmkB1D9lPSAqnWbWilruo2PmsSwEZ3NrobZkNB5xGbNroKZ2XzLAX/PrAKsCPwwIk4FkHQu6em0ZmZmZmaDlrv09Myy%2BX1GJSEi3oyI2c2pTnWSFmt2HczMzMxscHHA3w1J44FJ%2BeP5uf/%2BREnjqvXhl7SdpNslvSppuqQbJH25lGespA5Jr0l6WtKfJA2vs15jcl1GSzpB0lTgyTxtxZz2gKRZkp6XdL6kkTXK%2BLykoyRNy/coXCRpRCnvAnmdn87rdr2ktSR15m1UzDtc0jGSnsjr%2BLCk/ST1en%2BTtJikPxTKfkDSPpJUyHOhpDtL812a1/UbhbRP57RNe1svMzMzs8HKXXq6dzLwFHAAcCxwB%2BmhVJ8vZ5R0MDAOuAU4CHgd%2BDTwBeDqnGcccDDwL%2BBEYA1gV2BdSZ%2BPiDfqrN8JwDTgUKDSwr8u8DngXNJJwMi8jImS1oqIV0tlHEd6kNUhOe%2BewPHMPc79b0gP5bqU9CyBj%2BX3RUrb4N2kE6TlSdvu8VyX3wAfyGU3JAf1l5AeTHYacBewCfD7vLyf5qw3AptLem9EvJTn%2BzzwFrB%2BLoP891tAzScJS1qW9GCvolUaXQczMzOzgeaAvxsRcaukhUkB/40R8Q8ASXMF/JJWJQX5FwFbRsRbhWnK7yOA/UnB/6aVPJLuJwXY29H9U3jLXgC%2BGBFzCmmXV%2BpZqMOlwK3At4GzSmU8D3w5IiLnXQDYXdISEfGipPcBewETIuKbhTIrJzhFe5EC4rUj4qGcdrKkp4GfSfpDRDxR5zpWfIN08nRgRByW0/4k6XxgD0nHR8QUUsC/ACnIvwJoIz0I7HxSkF%2BxPnB3RLzUxTLHkk7QzMzMzIYkd%2BnpO1uQtuehxWAfoBJIk55kOww4ppTnz8BLQCPDWPy5FOwTEW8/yVbSQpKWBh4m3YOwTpUyTinUEVLAvCDpRmWAL5JODk8ozXdclbK2yvNPl7RM5UW6orEgsEFPV6yKrwJzSFdaiv4ACKh0zfkPMLOwrPVJVzrOBNaR9O58ErZermtXTiCdMBRfm/diHczMzMwGlFv4%2B84qpO4h93aRpxJAP1BMjIjXJT1SmF6PR8sJkhYlXUnYgdTVRYXJS1Qp4/HS5%2Bn5fcn8XqnXw8VMEfGCpOnMbTXgo6RuRtUsWyO9J1YEno6Il0vp9xXrGRFzJN3KO63565MC%2B5tIJx2fIXXLWopuAv6ImApMLaYVbhcwMzMzG/Qc8A99s6qkHUcK9o8hdeN5EQhSn/5qV3XmVEmDuU8UemoB4BrgdzWmP9hAmY24CfiFpEVIAf9hETFDUnv%2B/GzO110Lv5mZmdmQ5oC/70whBbtrkW4mreax/L4G8EglUdIwYCVSt5e%2BsCXwl4jYu7CMRYDhDZZXqfeqFK4o5K5CS5byTgEWj4i%2BWpdyPb4k6T2lVv41S/WEFMgPA75LuspRCexv4J2A/8GIeBYzMzOzFuY%2B/H1nAqlLz0Hl4ScLQ0b%2BizRyz%2B6au1/ITqSuNpf3UV3mMG/r/G6k7iyNuBZ4kzTST9FPquQ9D/ispE3KE/Jwnb05yfwnaR3Ky/0p6QrGFYW024A3SA9HewHoyOk3krr0jMat%2B2ZmZjYfcAt/H4mIhyUdBvwSuFHShcBrpCEynwb2j4hpkn5DGvXlSkmXkFr7x5KG%2Bzy7j6pzGfA9SS%2BS7in4LOmG4ecbKSwinpX0R2DvXOcrScNybgo8Rwq2K35PGk3nsjw%2B/2TScKEfIV15GJnnacSlwPXAYfmZAncDXybdRHtMHqGnUudXJU0mBfeXFm5KviHXZzF6GfBfs9doRo0a1ZsizMzMzPqdA/4%2BFBEHSXqU1Jp%2BGPAqcA%2BFYTAjYpykaaRW6qNJrc%2BnAAc0MAZ/LXuQWvm3JY2TfzMp4L%2BqF2XuR1qfH%2BaybiUF2zcBbz9xOAfao0nDmG4FfJ80AtGDpBOdFxutQES8lR%2BcdSjpGQE7AJ3Az0gj9ZRVWvNvKpTxjKSHSd2T3MJvZmZmLU9zj8Zo1nP56cDTmXtc/JYnaRTQ3t7e7hZ%2BMzMzG3AdHR20tbUBtEVER3f53YffeiQP9Vm2Z36fOHA1MTMzM7N6uEvPIJMD62pj5Re9EBGvD0R9CraWNIZ04%2BxM0kOrvgtcHRE311OQpKVII%2BjUMiciao3jb2ZmZmZ1cMA/%2BGwNnNFNno0Y%2BFb1e0gj9ewLvJc0rOUfgQMbKOtC0ig5tTxGurnXzMzMzHrJAf/gcxWwcTd57h6IihRFxJ2km3X7wt7MO35/UbWHiZmZmZlZAxzwDzIR8T/gf82uR3%2BKiMnNroOZmZnZ/MI37ZqZmZmZtTAH/IOYpDGSIj9katCR1JkfrlX5vGGu74ZNq5SZmZmZzcVdeuZTkr4KfCoixjW7LgNN0jbAshFxTG/K2fioSQwb0dkndTIza3WdR2zW7CqYzbfcwj%2B4nQUsShq1pq99lfTk2/nRNrzzDAEzMzOzluYW/kEsIuYAc5pdDzMzMzMbutzCP4iV%2B/DnPvOXSVpP0u2SZkt6RNL3S/MtJOlgSQ/lPM9LuknSxnn6eODH%2Be%2BovArz7yPpljzfLEmTJW3Z4DpMlNQu6aOSJkl6VdLDlfIkjZZ0W17OA5LmGfpT0vKSTpf0rKTXJHVI2rGUp3L/wP9J%2BoWkJ/O6Xytp1WJ9gM2AFQvr3tnIupmZmZkNBW7hH3pWBf4BnAb8BdgRGC9pckR05DzjgP2BU4HbSQ/K%2BiSwDnANcDKwHGm8/%2B9VWcYewCXAX0lPxP0OcL6kr0XE5Q3UeUngMuBc4HxgV%2BBcSdsCxwAnAecAPwP%2BIWmFiHgZQNL7gP8HBHA8MA3YFDhN0nur9MP/OfAWcCTpicX75vX4dJ5%2BWE7/IPDTnDazVsUlLQuMKCWv0vNVNzMzM2suB/xDzxrABhFxI4Ck84AngB2AfXKezYB/RsSPqhUQEbdKehDYOCLOrpJl9Yh4%2B%2BFXko4H7gT2AhoJ%2BJcDtomIv%2BXyrgHuJwX5n4uI23L6faQHj30bGJ/nPQxYEPhIRDyf006S9DdgnKSTi3UFFgE%2BHhGv5zKnA3%2BU1BYR7RFxjaSngCVrrHvZWObfex3MzMysBbhLz9BzbyXYB4iIacADwMqFPDOAUZJWa2QBpWB/SVKL%2BI2kKwSNmElq3a%2BU/0Cu432VYD%2Br/L1yXrZIwf%2Bl%2BeMylRfpxGCJKnU6oxLsZ5VttTKNOQFoK702b7AsMzMzswHnFv6h5/EqadNJ3WYqDgIuBh6U1A5cCZwVEff0ZAGSvgYcCHwcWLgwKarO0L0nI6I874ukKxPvFB7xYorx316XEcBw4Ef5Vc2ypc/l7TM9vy9JAyJiKjC1mJbraGZmZjYkOOAfemqN2vN2FBoRN0hahdQS/WXgB8BPJe0SEad2Vbik9Un9928gdWf5H/AGqcvQNn1c5%2B7WpXIF6mzS/QrVlE9iut0%2BZmZmZvMTB/wtKiJeAM4AzpC0OCmAH0e6kRdqt9Z/G5gNbBIRr1USJe3Qf7WtaRrwMrBgRPyrD8tt9EqFmZmZ2ZDjgL8FSVq6cIMrETFT0sPACoVsr%2BS8wyNiRiF9DikgXrBQ3khgi36sclURMUfSBcA2lZtui9Mljcj3MNTrFVL//165Zq/RjBo1qrfFmJmZmfUrB/yt6d483vxk4AXSkJxbkoa1rJic34%2BVdBUwJyLOJY3CsxdwpaRzSH3kfww8DHx0YKo/l58DGwG3SfozcC%2BwFOlm3S/lv%2Bs1Gdha0lHAHcDMiLi0j%2BprZmZmNqg44G9NxwLfIPXfXxh4jHQT7u8LeS4EjiONsb8dqY/7uRFxnaSdSIH2McCjwH7ASJoQ8EfEs5I%2BRboR%2BVuk%2BwqeBzpyvRpxAumG5B1IY/E/RhoJyMzMzKzlaN7BU8ysK5JGAe3t7e3u0mNmZmYDrqOjg7a2NoC2woNXa/I4/GZmZmZmLcwBv5mZmZlZC3PAb2ZmZmbWwhzwm5mZmZm1MAf8ZmZmZmYtzAG/mZmZmVkLc8Bvc5E0RlLkp%2BuamZmZ2RDnB29Zn5C0FvB/wPiI6GzC8j9HetDYMRExYyCWufFRkxg2onMgFmVmZmZDROcRmzW7CvNwC7%2BVnQUsSnr6bD3WAg4mPZG3GT6Xlz%2B8Scs3MzMzG5Qc8NtcImJORMyOJj%2BCWdJizVy%2BmZmZWatwwG9zKffhl9Qp6TJJ60m6XdJsSY9I%2Bn5xHuD8/PH6PH9I2rCHyxyX868l6RxJ04Gb8rSPShqflzlb0jOSTpe0dHF%2B4Pf546OF5Y8s5NlO0mRJsyS9IOlcSSs0uJnMzMzMhgz34beeWBX4B3Aa8BdgR2C8pMkR0QHcABwL7A4cDtyX57uvSlldOR94CDgAUE7bGFgZOAN4BhgF/AgYJekz%2BUrEhcDqwHeBnwLP5XmnAUj6BfAr4DzgVGAEsBtwg6S1u%2BrzL2nZnL9olTrXy8zMzKxpHPBbT6wBbBARNwJIOg94AtgB2CciHpF0IyngvyYiJja4nLsjYptS2gkR8YdigqT/B/wNWA%2B4MSLukXQnKeCfULxpWNKKwCHAgRFxeCH9QuA/wFjSSUotY0n3BpiZmZkNSe7SYz1xbyXYB4iIacADpJb3vnRSOSEiZlX%2BlrSIpGWA/5eT1ulBmd8i7efnSVqm8iJdLXgI2Kib%2BU8A2kqvzXuwXDMzM7NBwS381hOPV0mbDizZx8t5tJwgaSlSC/t3gGVLk5foQZmrkboHPVRj%2BhtdzRwRU4GppTr1YLFmZmZmg4MDfuuJOTXS%2BzrynVUl7TzSkJu/B%2B4CZpJa7K%2BkZ1eoFgAC2JTq6zGzkYqamZmZDRUO%2BK2v9PkwnpKWBL4IHBwRhxbSV6tj%2BVNIJyaPRsSDfV1HMzMzs8HOAb/1lVfy%2B/A%2BLLPSIl%2B%2BkrBnHcu/EPgNcLCk7YrPF1Dqm7NURDzfSOWu2Ws0o0aNamRWMzMzswHjgN/6yl2kAH0/SUsArwHX5T7wDYmIlyTdAOwraSHgKeDLwEpVsk/O74dJOpfUN//SiJgi6UBS0D9S0gTg5VzGN4FTgCMbraOZmZnZYOeA3/pERDwjaRdgf9J4/QuSRsBpOODPtgGOA35Maum/mtQf/%2BnS8u%2BQ9EtgF%2BArpL77KwGvRMQRkh4kjdFfGWLziVzWJb2sn5mZmdmgpkIPBzPrAUmjgPb29nZ36TEzM7MB19HRQVtbG0BbfghqlzwOv5mZmZlZC3OXHus3khYHFu8m27SIqDXsp5mZmZn1kgN%2B60/78E6f%2BVpWAjr7vypmZmZm8ycH/NafzgRu6ibPMwNRETMzM7P5lQN%2B6zcR8QjwSLPrYWZmZjY/8027ZmZmZmYtzAH/ECRpjKSQNLLZdTEzMzOzwc1demy%2BI2ks8GpEjO9NORsfNYlhIzr7pE5m1po6j9is2VUwM3MLv82XxgJjml0JMzMzs4HggN/MzMzMrIU54G8RksZK6pD0mqSnJf1J0vBSnvUlnS/p8ZzvCUlHS1q0lG%2B8pJmSlpc0If89TdKRkhass171LvNDki7Lfz8l6cd5%2BkckXSfpFUmPSdqmNH/lvobPSzoq1/cVSRdJGlHI1wmMAkbn/CFpYj3rZGZmZjaUuA9/C5A0jvSAq38BJwJrALsC60r6fES8kbNuBbw753ke%2BBSwG/DBPK1oQeAq4DbSA7S%2BBOwNTMnz91S9y7wCuAHYF9gWOF7SK8BhwF%2BBC4FdgDMl3RoRj5bKOA6YDhwCjAT2BI4Hts7T98x5ZuYyAZ6tVXlJywIjSsmrdLnGZmZmZoOIA/4hLrde7w9cDWwaEW/l9PtJge52wBk5%2B34RMasw%2BymSHgYOl/ShiHi8MG0R4O8R8av8%2BSRJdwI7UV/AX%2B8yz46I3%2BR1OAd4Gjgd%2BG5E/D2nXwPcD2wPjCst73ngyxEROe8CwO6SloiIFyNigqRfA89FxNk9qP9Yun9asJmZmdmg5S49Q9%2BXgGHAMZVgP/sz8BLw9hARxcBb0mKSlgFuAQSsXaXsk0qfbwRWrqdyDSzz1MK8M4AHgFeA8wrpDwAzatTllEqwX6jzgsCK9dS74ASgrfTavMGyzMzMzAacW/iHvkog%2B0AxMSJel/RIYTqSPgQcCnwDWLJUzhKlz7MjYlopbXqV%2BbrUB8t8EXiyFMRX0qvV5fHS5%2Bn5va56V0TEVGBqMU1SI0WZmZmZNYUD/vlEvtn2GmAp4LekLjGvAMsD45n3as%2BcQbTMWunVIu968pqZmZm1PAf8Q99j%2BX0N4JFKoqRhwEqkG3kBPgKsDmwfEWcW8m3cj3VrxjJ7ony1wMzMzKxlOeAf%2Bv4FvE66MfXKQteXnUhdZi7Pnyst32%2B3dCv1TdmjH%2BvWjGX2xCvA8N4Wcs1eoxk1alTva2NmZmbWjxzwD3ERMU3Sb0gjyVwp6RJSa/9Y4A6gMhLN/aQhNY%2BUtDzpht5v02Df9h5qxjJ7YjKwq6QDgYeBqRFxXZPrZGZmZtYvHPC3gIgYJ2ka8BPgaOAF4BTggMoY/BHxhqSvA8eShvGcDVxEGrrz7n6q14Avs4cOJd3MvC/wHmAS4IDfzMzMWpLmHfzEzLoiaRTQ3t7e7i49ZmZmNuA6Ojpoa2sDaIuIju7yexx%2BMzMzM7MW5i491hBJS5Ee%2BFXLnCpj6puZmZnZAHPAb426EBjdxfTHgJEDUxUzMzMzq8UBvzVqb7oebWfWQFXEzMzMzGpzwG8NiYjJza6DmZmZmXXPN%2B2amZmZmbUwB/xmZmZmZi3MXXqs30haDvgRMCEi7mpydfrcxkdNYtiIzmZXwwaBziM2a3YVzMzManILv/Wn5YCDgY83uR5mZmZm8y238Fufk/QufDJpZmZmNig4KGthksZJCkmrSzpb0ouSpkn6lZIVJF0s6SVJz0jauzT/spJOk/SspNmS7pa0fSnPyLyMfSTtKWkK8BowFrgjZzsj5wlJY3pY96UkHSnpv5Jm5jpeIeljVfIuktf1wVzP/0m6UNIqhTwLSNojlzc7b4crJX2yzs1qZmZmNqS4hX/%2B8HfgPuDnwGbAgcALwM7AdcB%2BwLbAkZLuiIgbJC0KTARWBY4HHgW2AsZLGh4RfywtYwdgEeAUUsB/EfAe4NCcdmPOd0sP67wysAVwfl72%2B3J9J0laKyKeBpC0IHAZ8EXgXOCPebkbA23AlFzeacAY4ArgVNK%2Bvz7wGeDftSohaVlgRCl5lWp5zczMzAYjB/zzh9sjYmcASacAncAfgP0j4rc5/W/A08COwA2km20/DGwXEX/NeU4CJgG/lnR6RLxcWMYHgVUjYlolQdIVpID/1og4u846/xdYPSLeKpR3FnA/sBPwq5z8fVKwv1dEHF2Y/whJyvNtRAr2j42IPQp5/lDJ04WxpPsQzMzMzIYkd%2BmZP5xa%2BSMi5pBatEVq9a6kzwAeILWsA3wVeAb4WyHPG8CxwOLA6NIyLigG%2B70VEa9Vgn1JC0paGpiZ67hOIeu3geeA46qUEYU8ARzSRZ5aTiBdKSi%2BNq9rZczMzMyayC3884fHS59fBGZHxHNV0pfOf68IPFRsYc/uK0wverTXtSyQtACwB6mFfSVgwcLk5wt/rwI8EBFvdlHcKsDTEfFCvfWIiKnA1FLd6i3GzMzMrGncwj9/mNPDNEgt/42Y1eB8tRwAHEXqXrQdsAmpX34H3m/NzMzMeswt/FbLY8BHJS1QauVfszC9O911l%2BnKlsD1EbFTMVHScFIXnoopwKclLZS7HFUzBdhE0lKNtPKbmZmZDWUO%2BK2WfwJfBrYm9%2BPP4%2BvvRupLP6kHZbyS34c3sPw5lK42SNoKWB54uJB8AWnkoZ8AR5fyK/fRvwD4Menm2z1q5KnbNXuNZtSoUY3MamZmZjZgHPBbLaeQhsEcL%2BkTpJF9tgQ%2BD%2BxZGqGnlinADGAXSS%2BTTgBui4ie9Pe/DDhI0hmkoTw/Qho69JFSvjNJI/UcJelTpOE/FwO%2BRLrh9uKIuD6P8LO7pNWAK0ndgtYHricNO2pmZmbWkhzwW1URMUvShsARwPbAe0kj5OwQEeN7WMYb%2BUFdvwFOIu1vO9CzG3wPJwXu25CuMtxJask/orSMOZK%2BCvwi5/026abem0hDe1bsANxDGtLz96QblP9Nz58LYGZmZjYkqcHeDGbzLUmjgPb29nZ36TEzM7MB19HRQVtbG0BbRHR0l9%2BjnZiZmZmZtTB36bEBJWlRYIlusr0QEa8PRH3MzMzMWp0DfhtoWwNndJNnI2Bi/1fFzMzMrPU54LeBdhXpAVpduXsgKmJmZmY2P3DAbwMqIv4H/K/Z9TAzMzObX/imXTMzMzOzFuaA3waUpE5Jlw2CemwoKfKzBszMzMxalrv0WEuTNBZ4tacPC6vHxkdNYtiIzr4u1sx6oPOIzZpdBTOzIcMt/NbqxgJjml0JMzMzs2ZxwG9mZmZm1sIc8A9hksblfuirShovaYakFyWdIendOc/InGdMlflD0rgq5a0u6exc1jRJv1KygqSLJb0k6RlJe/ei7l%2BWdJek2ZLulfStKnmGSzo69/t/TdKTks6UtEwPl9EJjAJG5/UKSRMbrbOZmZnZUOQ%2B/K3hPOBRYH9gHeAHwFRgvwbL%2BztwH/BzYDPgQOAFYGfgulzutsCRku6IiBvqLH%2B1vIyTgL8AOwDnS/pKRFwDIGlx4Ebgw8DpwJ3AMsA3gA8Cz/VgOXsCxwEzgcNy2rP1VFTSssCIUvIq9ZRhZmZm1kwO%2BFvDfyJip8oHSUsDO9F4wH97ROycyzoF6AT%2BAOwfEb/N6X8DngZ2BOoN%2BFcHvh0RF%2BayTgPuB34LXJPz/AxoA74VERcV5v21JPVkIRExQdKvgeci4uw661gxFji4wXnNzMzMms5delrDSaXPNwJLS3pvg%2BWdWvkjIuYA/wYEnFZInwE8AKzcQPlPA28H8RHxEnAmsLak9%2BfkbwN3l4L9Sv5oYJmNOoF04lF8bT6AyzczMzPrFbfwt4bHS5%2Bn5/cl%2B6i8F4HZEVHuRvMisHQD5T9cJWh/ML%2BPBJ4hdZu5oIGy%2B1RETCV1j3pbDy8wmJmZmQ0KbuFvDXNqpAuo2houacE6y%2BtqGWZmZmY2SDngb32V1v7hpfQVB7geRatW6Ye/en7vzO9TSN1nemsgu/%2BYmZmZDTru0tPiIuIlSc8BGwDHFCaNbU6NAFgO%2BCZQuWn3vcD3gbsi4pmc5wLgIEnfLPfjl6Q6%2BvG/wrwnO33imr1GM2rUqP4o2szMzKzPOOCfP5wK/FzSqaQbcDfgnRb1ZngQOE3SuqRhMncE3kcanrPi98CWpOE6TwcmA0uRhuXcBbi7h8uaDOwq6UDgYWBqRFzXJ2thZmZmNgQ44J8/HEoaS35L4P%2BAK4BNKd2MOoAeAnYjBfVrkJ4hsHVEXFXJEBEzJa0PHEK6GrA9qb7XAk/WsaxDSd2X9gXeA0wiPUvAzMzMbL6ggR3h0GzokzQKaG9vb3eXHjMzMxtwHR0dtLW1AbRFREd3%2BX3TrpmZmZlZC3OXHusTkkYAXQ31%2BXpEvDBUl2dmZmY2VDngt75yB10P9TkJ2HAIL8/MzMxsSHLAb31lW2DRLqZP72LaUFiemZmZ2ZDkgN/6RETc3MrLMzMzMxuqfNOumZmZmVkLc8APSNpQUkjasNl16W%2BSxknq07FY%2B6NMMzMzM%2Bsb81WXHkljgVcjYnwflbcqcATwRWBh4E7glxFxfZW8HwaOBtYDXgcuB/aKiGl9UZehRtIXSf3w1wM%2BCDxDeiDWLyPif13MN5z0pN4RwFYR8Y/%2Br211Gx81iWEjOgdkWZ1HbDYgyzEzM7PWM18F/MBY4DlgfG8LkrQCcCswh/TE2FeAHYCrJX0xIm4o5P0gcAPwInAAsDiwD/ARSZ%2BKiNd7W58h6LfAUsD5pCfvrgz8BPiapI9HxDM15jsUePfAVNHMzMxs6JvfAv6%2B9HNgOOkJZw8ASPozcD%2BpJf8ThbwHAIsBn4iIx3Pe24FrgDHAKQNW68FjL%2BCmiHirkiDpStJwmj8BDizPIKkN2JUU9B86QPU0MzMzG9Ia7sNf6bctaVVJ4yXNkPSipDMkvTvnGZnzjKkyf0gaV6W81SWdncuaJulXSlaQdLGklyQ9I2nvOuvbCYwCRuflhKSJja4/sD7wn0qwDxARrwKXAOtIWq2Q99vAZZVgP%2Bf9F6lryv%2BV6vlRSZMkzZL0pKQDJe2Q6zuyngpKWk/SHZJmS5oiaeca%2BULS8ZK2lfRAzj9Z0gaNltmdiLihGOxX0oAXgA/XmO2PwEXAjTXWo1/3ITMzM7OhqC9a%2BM8DHgX2B9YBfgBMBfZrsLy/A/eRWtA3I7X0vgDsTOrjvR%2Bp7/eRku4odp3pxp7AccBM4LCc9myDdYTUZ7/aWO%2Bv5vdPAA9JWh5YFvh3lby3A1%2BtfMh5rwcC%2BA2pm9APgNfqrZykjwBXA9OAcaTv%2BhBqr/NoYGvg2Ly8scCVuctRe4Nl1lvnxUndnZ6rMm0r4HOkk4GR3RTVZ/uQpGVJ9wsUrdKD1TEzMzMbFPoi4P9PROxU%2BSBpaWAnGg/4b4%2BInXNZpwCdwB%2BA/SPitzn9b8DTwI6kvvHdiogJkn4NPBcRZzdYt6IHgPUlvSciXi6kr5ffl8/vH8jv1W5E/R%2BwlKSFI%2BI10jZbElgnIu4CkHQGqY97vQ4FBKxf6EZ0AfDfGvnbgE9GxOSc91zSOh4KfKvBMuu1JzCMFLC/TdKiwJHA0RHR2YMrHX25D40FDq53RczMzMwGi74YlvOk0ucbgaUlvbfB8k6t/BERc0gt4wJOK6TPIAWjKze4jL5wIqkP/98lrZ27kRwDfDJPX7T0Xq2VfnYpz1eAWyvBPkBEvAD8tZ6KSVoQ2ASYUOpGdB9wVY3Zbq0E%2Bznv48DFwCaSFmywzHrqvAEpsD4vIq4rTf45sBBweA%2BL68t96ATSyVDxtXkP62FmZmbWdH0R8D9e%2Blzp5rJkH5X3IjA7IsrdPF7sxTJ6LSKuAHYDNiANx/kAqfvIL3KWmfl9Vn5fuEoxi5TyrAg8XCVftbSujCCdRFS7MvBAlTRq5H2QNCLOiAbL7BFJa5L65reTujAVp40Efgb8IiJmzjt3VX22D0XE1IjoKL6AKT2sh5mZmVnT9UXAP6dGukh90eedkFqL6ymvq2U0TUQcD7yP1Lf8k8CapCASUrAM73Tl%2BQDz%2BgDwQu7OM1/Kw5teTdpuXy11j4LUjegpYGK%2BCXwk8P48bUROK%2B/HQ2YfMjMzM%2Btv/T0sZ6W1f3gpfcV%2BXm4tff402Ih4hTQePwCSvkRqsb85T39K0jTe6epT9CngrsLnx4BVq%2BSrltaVabkOq1WZtkaNearlXZ10E3Ll4WD1ltmlfL/H1aSrH1%2Bs8cCtD5HW/5Eq007I70sCMxqpg5mZmVmr69eAPyJekvQcqdvLMYVJY/tzuV14hXlPPvqMpM%2BRbnA9MSJeLEy6ANhe0goR8UTO%2B0VSQH10Id9VwI%2BVHjx1V863FGlEmR6LiDmSrgK2kPShwg22Hyb1w6/ms5LWiYg7c94VSH3Vr8z94GmgzJokLQb8k3Rz80YRUevG5AOBZUppbcCvgN%2BRTrZeqXf5feGavUYzatSoZizazMzMrMcG4sFbpwI/l3Qq6ebJDUiBbjNMBnaVdCCpX/zUKjeI9oikFUlDkl4CPEMa438X4B7Sg7aKDge2Aq6X9EfS0JM/I41uc0Yh3%2B%2BA7YBrJB3HO8NyPk56Km09VygOJt0EfKOkE0jf9W5AB/DRKvnbgaskFYflrJTTaJld%2BSvpCsfpwIfziUPFzIiYABARN5VnlDQj/3lHJZ%2BZmZmZVTcQAf%2BhpBs%2BtyQ9ZOoKYFPSWP0D7VBSd6J9gfeQnuraUMAPvETqn/8TUjD%2BFGkM%2B8PK/dAj4glJo4GjgCOA14HLgb2L/fdzvo1yOQeQutL8iRT4H8s7o/p0KyLukbRJXuahwJOkgP0DVA/OJ5Fayw8mdaO5FxgTEff0osyufDy/75hfRY8BE%2Bosz8zMzMyqUESfd2u3PpaH%2B9wZWLzSvaaPyw/gTxHxk74uuxVJGgW0t7e3u0uPmZmZDbiOjg7a2toA2vIIgl3qi1F6rA/lh0wVPy8NfA%2B4qT%2BCfTMzMzNrbQPRpaffSRoBdDXU5%2Bv5AVY9KWtRYIlusr0QEa/3tH51ulXSROA%2B0pCfOwHvJd2kiqTFSfcAdGVas04OJC3BOw8Sqyoinhmg6piZmZnN91oi4AfuoOuhPicBG/awrK2Z%2B0baajYCJvawvHr9k3S/w49IN%2BneCewUETfk6fsw94201awEdPZT/brzR2D7bvJ47HszMzOzAdIqAf%2B2dN2qPL2LaWVXARt3k%2BfuOsqrS0QcwLyj/BSdCcwzck1JXS3oEdGXAfjvgLP7sDwzMzMz64WWCPgj4uY%2BLOt/vPN03EEnIh6h%2BkOoBoWIuJc0wo%2BZmZmZDQK%2BadfMzMzMrIU54DczMzMza2Et0aXHrBk2PmoSw0Z0NrsaZlZF5xGbNbsKZmaDhlv4zczMzMxamAN%2BMzMzM7MW5oC/hUlaW9IVkl6SNFPStZI%2BU5g%2BRlJI2kDSyZKez3nPlLRklfI2lXSjpFckvSzpckmjSnnG52UtL2lC/nuapCMldfVwtGr1X1/S%2BZIel/SapCckHV1%2BGnHOu6ak8/KyZkl6QNJhpTzLSzpN0tO5vEclnShpWD31MjMzMxtK3Ie/ReVA/EbgJdLY%2BG8AOwMTJY2OiNsK2Y8HZgDjgDWAXYEVJW0YEZHL%2Bx7wF9JzCvYD3p3z3SRp7YjoLJS3YM53G%2BlBYV8C9gamACfWsRpb5eWcCDwPfArYDfhgnlZZ14/mdX0DOIX00LFVgK8Dv8h5lgNuB4bnPPcDy5MecvZuoOqTkyUtC4woJa9SxzqYmZmZNZUD/tb1a2AhYL08dj%2BSzgQeIJ0AjC7kfR34YkS8kfM9lvN8HbhE0uLAscCpEfGjykyS/pLLO4D0ZOCKRYC/R8Sv8ueTJN0J7ER9Af9%2BETGr8PkUSQ8Dh0v6UEQ8ntOPIz29d51CGpJ%2BXpj3N8D7gU9HxL8L6QdJ6urBY2Pp/snGZmZmZoOWu/S0oNx15svAhEqwD28/VOwcYD1J7y3Mckol2M9OBN4Evpo/b0xqGf%2BbpGUqL2AOqRV/oyrVOKn0%2BUZg5XrWoxjsS1osL/MWUnC/dk4fAWwAnF4M9vP8lasTCwBbAJeWgv258tVwAtBWem1ez3qYmZmZNZNb%2BFvTCFI3lQeqTLuPdKK3QiHtoWKGiJgp6X/AyJy0Wn6/rsbyXip9nh0R00pp04F57gvoiqQPAYcC36gy7xL5vXIS0d5FUSOA93aTp6qImApMLdWr3mLMzMzMmsYBv/VE5UrQ94Bnqkx/s/R5Tm8XmK9SXAMsBfyW1Of%2BFVK/%2B/H46pSZmZlZjzjgb03TgFdJN%2BCWrQm8BTwBrJvTVgOur2TIffY/APwzJ03J71Mj4l/9UeEqPgKsDmwfEWcW6rZxKV%2Bly1JbF2VNI12F6CqPmZmZWUtywN%2BCImKOpKuBzSWNrIygI%2Bl9wDbATRHxUqFryo8knVHox78rad%2B4In%2B%2BihQwHyDp%2BlJ/fySNqNKFp7cqVwnermS%2BuXaPYqaImCbpBmBHSUeVbtpVJG9JmgBsJ%2BmT5X78lXz1VvCavUYzatSo7jOamZmZNZED/tZ1IOlm25sknUDqdrMzsDCwbynvMOBaSeeRrgqMBW4CLgHIJwe7AmcBd0o6l9Rq/iFgM%2BBm4Cd9XP/7SVcWjpS0POmE49tUvw9g91zfOyWdAjxKuv9gM%2BDjOc8BpBuZJ%2BU895GuYmwFrEcaltTMzMys5Tjgb1ER0SFpfdJwlPuT%2BrzfBmxXGoMfUrC%2BLekG2YWAvwG7F1u9I%2BIcSU8DPwd%2BRjpxeIo0%2Bs4Z/VD/NyR9nTQc6P7AbOAi0jMD7i7lvTs/UOxXpKsTiwCPAecV8jwl6dM5z7akm3ifIl3FeLWv629mZmY2WKiBngzWIiSNIQXr61YbrtKqyw81a29vb3eXHjMzMxtwHR0dtLW1AbRFREd3%2BT3SiZmZmZlZC3OXHhtwkpYi3TdQy5x%2BuAnYzMzMbL7kgN%2Ba4UJgdBfTH%2BOdh36ZmZmZWS844J%2BPRcR40kOsBtredP3U3VkDVREzMzOzVueA3wZcRExudh3MzMzM5he%2BadfMzMzMrIU54Ld%2BIWmcpJC0TLPrYmZmZjY/c5ceswZtfNQkho3obHY1GtJ5xGbNroKZmZkNELfwm5mZmZm1MAf8NiRJWqzZdTAzMzMbChzwGzBXn/s1JZ0n6SVJz0v6o6RFcp6ROc%2BYKvOHpHFVil6mVnl11G28pJmSVpH0T0kvA3/N0xaQtKekDkmzJT0r6WRJ8wz7KWlTSZMkvZzrc4ekbeqpi5mZmdlQ4z78VnYe0AnsD3wG2J00Zv73m1zeu4CrgJuAfYBXc/rJwBjgDOBYYCXgJ8Dakj4fEW8A5JOU04EO4DfADGBt4CvAObUWKmlZYEQpeZU6625mZmbWNA74rezRiNg8//0nSS8BYyUdCbzUl%2BVFxD11lLMwcH5E7F9JkLQe8ANg24g4p5B%2BPXAlsBVwjqQlSCcDtwMbRsTsQl51s9yxwMF11NPMzMxsUHGXHiv7U%2Bnzcfn9q4OgvBNLn7cCXgSukbRM5QVMBmYCG%2BV8GwPvAY4oBvsAERHdLPMEoK302rzLOczMzMwGEbfwW9lDpc9TgLeAkU0u703gyVLaasASwNQa8yyb3ytdcNrrXCYRMbVcfvcXBczMzMwGDwf81p2o8ffbJC3YYHn1eC0i3iqlLUAKxretMc%2B0BpdlZmZm1jIc8FvZasCjhc%2BrkgLrTmB6ThtemmfFBsvrrSnAl4CbI2JWN/kgdcd5uA%2BWa2ZmZjZkOOC3sh8DVxc%2B75bfr4iIlyQ9B2wAHFPIM7aR8npZT0gjAI0FfgkcUJwg6V3A4hExIy//ZWB/SVeWb9rtQT/%2Bqq7ZazSjRo1qtO5mZmZmA8IBv5WtJOkS0ig3nwW2A86JiLvz9FOBn0s6Ffg3KfhfvRflNSwiJkk6mRTIf5wU2L9BuqqwFbAH8I98ovLTXPc7JJ1DulrxMeDdwPa9rYuZmZnZYOWA38q2Bg4FjiDdKHs88LPC9ENJ49JvCfwfqaV%2BU2rfONtdeb0SEbtImgzsDByel9EJnA3cXMh3mqSpwM9JVwTeAO4Hju6rupiZmZkNRmqwN4O1mPyU3IOBERHxXJOrM6hJGgW0t7e3u0uPmZmZDbiOjg7a2toA2iKio7v8HoffzMzMzKyFuUuPNU1%2BAu6iXeWJiGcGqDpmZmZmLckBvzXTH%2Bn%2Bhlk/5crMzMysFxzwGwARMQ4YN8CL/R3p5lozMzMz6ycO%2BK1pIuJe4N5m18PMzMyslfmmXTMzMzOzFjZoAn5J4ySFpGWaXZe%2BImlMXqdPNmHZG%2BZlbznQy%2B5PkjoljW92PczMzMyGCnfpsQEl6avAp/I9A0PaxkdNYtiIzqYtv/OIzZq2bDMzMxs6Bk0Lv803vkp6wFej1gB%2B2Ed1MTMzM2t5803AL2mxZtdhqBjM2yoiXouIN5pdDzMzM7OhouGAv9Dnfk1J50l6SdLzkv4oaZGcZ2TOM6bK/CFpXJWil6lVXh11Gy9ppqRVJP1T0svAX/O0BSTtKalD0mxJz0o6WdKSVcrZVNIkSS/n%2BtwhaZt66pK9Oy/j%2BVzOmeXlSdpc0uWSnpb0mqQpkn4pacFSvomS2iWtJel6Sa9KekrSvj3YLgtLukzSi5I%2Bl9Mq3%2BNaks6RNB24qbCsiVXKGS%2Bps/C58j3vI%2Bmnkh6TNCtvu7bifMCP899ReRWmLyBpD0n/zd/NNElXFu%2BBqNaHX9JwScdIeiJvu4cl7SdpgVK%2B70iaXPg%2B/ytpj%2B62m5mZmdlQ1hd9%2BM8DOoH9gc8AuwNLAt9vcnnvAq4iBa/7AK/m9JOBMcAZwLHASsBPgLUlfb7SepxPUk4HOoDfADOAtYGvAOfUWZfj8/zjSF1SdgVWlLRhRFQC3jHATOCo/P4F4FDgvcDPSuUtCVwJXEjaXlsCv5X034i4oloFJC0KXAx8EvhSRNxRynI%2B8BBwAI0/7Or7wHuAPwGLAHsA10n6SEQ8S9r2ywEbA9%2BrMv9ppO1wBXAq6Ttcn7Qf/LvGer0bmAQsn8t/HPgc6Tv7ALBnzrcx8DfgWmC/PPuHgc%2BTHgBWlaRlgRGl5FVq5TczMzMbbPoi4H80IjbPf/9J0kvAWElHAi/1ZXkRcU8d5SwMnB8R%2B1cSJK0H/ADYNiLOKaRfTwqgtwLOkbQE6WTgdmDDiJhdyNtIMPw68MXCycRjpIdOfR24JOfZJiJmFeY5SdJJpHU/MCJeK0xbDvh%2BRJyVyzsNeAzYiRQsz0XS4sBlwCjgCxFxV5U63h0RjVy9KFoVWC0insrLvRK4jRRg7xURt0p6ENg4IuZ64JakjUjB/rERUWx1/0M323wvUgC%2BdkQ8lNNOlvQ08DNJf4iIJ4DNSPvjJhExp451Gkvv7jkwMzMza6q%2B6MP/p9Ln4/L7VwdBeSeWPm8FvAhcI2mZyguYTGpV3yjn25jUUn1EMdgHKLTI1%2BOUUr/zE4E3KaxTMdiX9J5crxuBdwNrlsqbSeEJtRHxOunkZOUqy14CuDqXsWGNYB/gpJ6uTBcmVIL9XK/bSQF/T767bwMBHFKe0M0234q0naaXvtN/AQsCG%2BR8M4DFSN9tPU4A2kqvzbucw8zMzGwQ6YsW/odKn6cAbwEjm1zem8CTpbTVSAHw1BrzLJvfK1022utcZi1zrVNEzJT0PwrrJGkU8GtSV573luZfovT5ySpB8HTgo1WWfQype83aEdHRRR0f7WJaT5W/O4AHgf/rwbyrAE9HxAt1LnM10npPqzG98p2ekOtxhaSnSCdB50XElV0VHhFTKe0vjV3kMTMzM2uO/hiHP2r8/bbyjah1lFeP1yLirVLaAqTgbdsa89QKGvuVpOGkfugvAQeRTnJmA%2BsAv2XeKzG1uqRUi0QvBr4D/FzS96tsk4pZVdKiRpn1fH/9bQHgGlIXqWoehBS4S/o4sAmwaX7tIOnMiNh%2BICpqZmZm1gx9EfCvxtytw6uSgrBOUqszwPDSPCs2WF5vTQG%2BBNxc6i9fLR%2Bk7hsP98FyVwOur3zIfeo/APwzJ20ILA18KyJuKORbqQ%2BWPYHUmj0eeJl0w3BPTad6N6Fa399qVdJWZ%2B7vrtYJ3BRgE0lL1dnKPwVYPCL%2B1V3G3PXpUuDSPILPCcDOkn4VEX3xPZuZmZkNOn0R8P%2BYFFBW7Jbfr4iIlyQ9R%2BpHfUwhz9hGyutlPSGNaDMW%2BCVpNJq3SXoXKXCckZf/MrC/pCvLN%2B020I//R5LOKPTj35W07SvrVGmxf7s1XdIwut5OPRYRZ0p6L3CcpJciYr9uZ0qmAF%2BVNCIipuV6fYw0ss0TVfJvIWn5wk27nwI%2Bzdzf/St52vC8rSsuIH33B5NG93lbN9v8PGCcpE0i4qrSfMOBmRHxpqSlI%2BL5yrSIeEtS5SbwhWttgK5cs9doRo0a1cisZmZmZgOmLwL%2BlSRdQhrl5rPAdsA5EXF3nn4qqTvJqaShFTcgtfo2Wl7DImKSpJNJgfzHSYH9G6SW6a1IgeY/8onKT3Pd75B0Dqm1%2B2Okm2jr7QIyDLhW0nmkYTnHkoYLrYzQc0su/y%2BSjiW1gn%2BPxofHnEdEHJ%2BD/sMkvRgRh/dgttNJo%2BBclUcCWhbYhTRUafk%2BA0hXQ26SdCIpiN4TeJ65u9tMzu/HSroKmBMR50bE9ZLOAnaXtBrp%2B1%2BANCzn9aShTav5PfAN4LI8Pv9k0s25HyENVzoSeA44VdJSwHWkeztWJJ1M3gXc14NtYWZmZjYk9UXAvzVpvPgjSDfKHs/c48YfShrHfEvyTZOk/tO1bpztrrxeiYhdJE0GdgYOz8voJI16c3Mh32mSpgI/J10ReAO4Hzi6gcX%2BhHTfwKHAQqTx4HevtFpHxPOSvgb8gXTj7vRcn2tJzxLoExFxeB5ytBL0l0dEKue/T9L3c72PAu4lnYhsQ%2BqGVHYm6QbrPUknB7cDP4mI/xXyXEgaeek7pJM5AefmaTsA95CGF/09aUSlf5NOiGrV8VVJo0lXbLYiPQvgJVLf/YNzGZC2549IJ1vDgWeAvwPjurivwczMzGzIU2OjTKYntJICqhER8VxfVsqGFkkjSfdd/CwijmxydfpdHlGpvb293V16zMzMbMB1dHTQ1tYG0NbNKIxA34zDb2ZmZmZmg1R/DMvZb3J3lEW7yhMRzwxAPRZl3rHxy17Io8KYmZmZmTXNkAr4gT/S/Q2zA/FUpK2BM7rJsxEwsf%2BrYmZmZmZWW8MBf0SMA8b1WU165nekmy%2Bb7Spg427y9HpUoaEiIjoZmBMtMzMzM6vTkGrhj4h7SSPFNLse/wP%2B121GMzMzM7Mm8027ZmZmZmYtzAG/DShJn5M0Lj8F18zMzMz62ZDq0mMt4XOk5zeMB2Y0tSa9tPFRkxg2orPZ1WhpnUds1uwqmJmZDXlu4bchT9K7m10HMzMzs8HKAb8NmPx05t/nj49KivwamadvJ2mypFmSXpB0rqQVSmVMlNQu6ROSbpD0KnC4pJG5rH0k/VjSI5JelXS1pBWU/FLSk7n8iyUtNaAbwMzMzKwJ3KXHBtKFwOrAd4GfAs/l9GmSfgH8CjgPOBUYAewG3CBp7YiYUShnaeAK4FzSMK3PFqZtCwwDjgOWAvbNZV4HbAj8Flg1l30ksGMfr6OZmZnZoOKA3wZMRNwj6U5SwD8hj9%2BPpBWBQ4ADI%2BLwSn5JFwL/AcYChxeKej%2BwS0ScXMg7Mv%2B5PLBaRLyY0xcE9ic9ofmTEfFmTh8BbCtp14h4rVadJS1LOvkoWqXOVTczMzNrGnfpscHgW6R98TxJy1RewDPAQ6SnFhe9Ru0nHZ9fCfaz2/L72ZVgv5A%2BjHSC0JWxQHvpdXE385iZmZkNGm7ht8FgNdKTeh%2BqMf2N0uenIuL1GnkfL32uBP9P1Ehfspu6nQCcX0pbBQf9ZmZmNkQ44LfBYAEggE2BOVWmzyx9ntVFWdXm7ypdXVUsIqYCU%2BeaQV3OYmZmZjaoOOC3gRZV0qaQAu9HI%2BLBAa6PmZmZWUtzH34baK/k9%2BGFtAtJLfAHq9R8nofTXHqA6mZmZmbWctzCbwNtcn4/TNK5pP75lwIHAr8BRkqaALwMrAR8EziFNITmoHLNXqMZNWpUs6thZmZm1iUH/DagIuIOSb8EdgG%2BQrrKtFJEHCHpQdL4/Afn7E8AVwOXNKWyZmZmZi1AEdW6VJtZLZJGAe3t7e1u4TczM7MB19HRQVtbG0BbRHR0l999%2BM3MzMzMWpgDfjMzMzOzFuaA38zMzMyshTngNzMzMzNrYQ74zczMzMxamAN%2BMzMzM7MW5oDfzMzMzKyFOeC3fidppKSQNKbZdTEzMzOb3/hJu/MBSZ8DvgwcExEzGph/LPBqRIzv46oNaRsfNYlhIzqbXQ0zG0I6j9is2VUws/mQW/jnD58DDgaGNzj/WGBMX1XGzMzMzAaOA34zMzMzsxbmgL/FSRoH/D5/fDT3pY/cr/5dkn4paYqk1yR1Sjpc0sKF%2BTuBUcDowrwT87SlJB0p6b%2BSZkp6SdIVkj7WB/UeJulQSZMlvSjpFUk3StqoSt4FJO2R6zFb0jRJV0r6ZCnfdpJul/SqpOmSbpD05d7W1czMzGwwcx/%2B1nchsDrwXeCnwHM5fRpwKrA98A/gD8Cngf2BDwPfzPn2BI4DZgKH5bRn8/vKwBbA%2BcCjwPuAnYFJktaKiKd7Ue/3Aj8A/gb8GXgPsBNwlaRPRcRdhbynkbocXZHX6V3A%2BsBngH8DSDoYGAfcAhwEvJ7X9wvA1bUqIWlZYEQpeZVerJeZmZnZgHLA3%2BIi4h5Jd5IC/gkR0QmQW%2BG3B06NiB/m7CdImgrsI2mjiLg%2BIiZI%2BjXwXEScXSr%2Bv8DqEfFWJUHSWcD9pOD8V72o%2BnRgZES8Xij7z7ns3XL55Bb/McCxEbFHYf4/SFLOsyopyL8I2LJUX3VTj7Gk%2Bx/MzMzMhiR36Zl/fTW/H1VK/0N%2B73YoiYh4rRI8S1pQ0tKkKwEPAOv0pnIRMacS7OcuO0uRTlD/XSr720AAh1QpI/KfW5D29UOLwX4pTy0nAG2l1%2Bb1ro%2BZmZlZs7iFf/61IvAW8HAxMSKekTQjT%2B%2BSpAWAPUit4CsBCxYmP9/bCkraHtgbWBNYqDDp0cLfqwBPR8QLXRS1Cmld7623DhExFZhaqle9xZiZmZk1jVv4rbsW7q4cQLpCcAOwHbAJsDHQQS/3LUnbAeOBKaTuO1/JZV/X27LNzMzM5idu4Z8/VAvqHyMFzqsB91USJb2PNF7/Y93MD7AlcH1E7FRMlDScd24ObtSWwCPAt4rdbiSVu%2B5MATaRtFQXrfxTSOu6FnBXL%2BtlZmZmNqQ44J8/vJLfhxfS/gkcThqFZ%2BdC%2Bl75/fLS/MV5K%2BYAc/VvkbQVsDylrkINmFMpknzCIenTwGeBxwv5LgB%2BTLqxtnjTLpKUTxYmAL8FDpI0z027PejHX9U1e41m1KhRjcxqZmZmNmAc8M8fJuf3wySdC7wBXAr8BfhRbpGfBHyKNHLPhIi4vjT/rpIOJAXyUyPiOuAyUhB9Bmm4y48A25Ja5nvrMuBbwEWSLifdI7ALqR/%2B4pVMEXF9Hhlod0mrAVeSWvPXB64Hjo%2BIhyUdBvwSuFHShcBrwLrA06ShSM3MzMxakgP%2B%2BUBE3CHpl6SA%2BSukgHgl0jj3j5CGtfwm8AzwG%2BYd8eZQ0k28%2B5LGw59E6kt/OLAYsA2wNXAnaXSfI/qg2uOB95OuPmxCCvS3A7YCNizl3QG4h9TX//fAi6TRfG6pZIiIgyQ9ShrS8zDg1TzPWX1QVzMzM7NBSw32ZjCbb0kaBbS3t7e7S4%2BZmZkNuI6ODtra2gDaIqKju/xu4Ter3zCAhx/u7W0KZmZmZvUrxCDDepLfLfw2oCQNA5bqJtuLETFrIOrTCEnfA85sdj3MzMxsvrd5RFzSXSa38NtA%2BxzpZtqu7EDqwz9YPZjftwTub2ZFhoBVgItJTyee0uS6DHbeVj3nbdVz3lY94%2B3Uc95WPdef22oYsALpvspuOeC3gXY36QFaXem2L1qTzczv9/ek39z8rPBU4ineVl3ztuo5b6ue87bqGW%2BnnvO26rkB2Fb/6WlGB/w2oCJiOvCvZtfDzMzMbH6xQLMrYGZmZmZm/ccBv5mZmZlZC3PAb1a/aaSHk01rdkWGAG%2BrnvO26jlvq57ztuoZb6ee87bquUGzrTwsp5mZmZlZC3MLv5mZmZlZC3PAb2ZmZmbWwhzwm5mZmZm1MAf8ZmZmZmYtzAG/mZmZmVkLc8Bv8yVJC0v6raSnJc2SdJukjXs47/KSzpM0Q9JLki6WtHKNvDtJuk/SbEkPSdqtb9ek//X3tpK0gqSDJd0uabqk5yRNlPSl/lmj/jFQ%2B1RhnvUkRX4t0zdrMTAG8Pf3PkknS3oq/wY7JZ3Wt2vTvwZiW0laQtLv8jFqlqTHJJ0m6UN9v0b9p9FtJWkNSUdLuiXvJyFpZBf5vyHpzpz3cUmHSHpXn65MP%2BvvbSVpaUk/k3SDpGl5H/x/krbulxXqRwO1XxXmW6WQ/5N9shIAEeGXX/PdC/gb8Abwe%2BBHwC3583rdzLc48CDwLLAv8FPgceAJYOlS3p2BAP4B/BA4M3/er9nrP5i2FfAT4FXgHODHwB7A5Lytdmj2%2Bg%2BW7VSaZwHgP8DMvJ2Wafb6D7ZtBayQpz0O/BLYETgQuKTZ6z%2BYtlXel27P%2B9LvgB8ARwAvAU8C72n2NhiAbTUGmAP8N/%2BuAhhZI%2B%2BmwFvAdfm4fmye98Rmr/9g2lbA14DXgQn5mP7jvM0COKTZ6z%2BYtlWV%2BS4pHNs/2Wfr0ewN6ZdfA/0CPpV/SPsU0hYBHgZu6WbeffO86xbS1gTeBA4vpC0KPAdcVpr/7PxDXrLZ22EQbatRlAJWYGHgPuCJZm%2BDwbKdSvPskvevYxhiAf9AbSvgn8Aj1DhpGgqvAfr9fS7n%2B3Fp/h1y%2BjebvR0GYFstRT6xAfah64C/A7gLeFch7dekk4A1m70dBsu2AlYCViylCbgWmA0s1uztMFi2VWmeTYDXgF/RxwG/u/TY/GhL0ln3KZWEiJgNnAZ8VtIK3cx7R0TcUZj3ftJB7P8K%2BTYClgZOKM3/J2AxYLPerMAA6vdtFREd8f/bu99Qy6oyjuPfp8FxjPyTpM7YKGL2BwlxoDAqVKYXJfUipZjKkhvYwGihScIQ/RGEQK8vHCekRqNCpHT0RaYMmNqQ9CLTullBCDma5jjmSCU1d4bs6cWzTnfffc%2B5nnPu3mv/ub8PbDZ3/1trP5yz73P2Xnst95eLO7r7YSJh22hmx1ZxIjXL8ZkCwMxOJBKMbwB/r6LymdUeKzN7F3EndtbdD5rZOjM7qtrTyCLH5%2Bq4ND9Q2n9/mh%2BarurZTR0rd3/F3V99vQLM7GzgbGCXu/%2BnsOpWIpn9xJR1z632WLn7Pnd/trTMiTv%2BRwPLNllskdpjNZCuUTvS9OepazyCEn5ZjTYBT7n7P0vLH0vzc4ftZGZvAM4BHh%2By%2BjHgbYXkdFOal7d9grgTtIluyBGrUdYTTX3%2BPXZtm5MzTtcDLwLfnbq2zcoRq8H7HwfM7GEiaT1kZnvGaUPbIjli9TjwL%2BB6M9uc2v1fQDTv%2BTXw0MpOIZupYjVFGVCKq7u/QDR/6vV1vSLr0/zlZbdqj5yxuhp4M3FDp3JK%2BGU12sDC3auiwbJTR%2Bx3InFnYpx9NwCvuftLxY3c/QhwcJky2iZHrJYws7OAS4B73f218araqCxxMrNziHdDrulIXIbJEau3p/kuoh3xFmA78EHgITN744R1bkrtsUpP17YAxxN3/58H9gIvAJtLd7LbbNpYTVpG8Zjlcvp%2BXV%2BR9HTycuBRdx9WfhtliZWZrSfeNfr6kB8XlejUW%2BUiFTmGaCNXNl9YP2o/xtz3GCLRGGZ%2BmTLaJkesFknJ2G7iruz28arZuFxxugXY4%2B4PTlzD9sgRqzel%2BYvAR939vwBm9jzxAt5ngNsnqHNTcn2u/ka8VPhtoo36ucQ7AN8HPjl%2BdRs1bawmLYNlyjluyPI2yhGrRdJTpzuBE4Au9VaXK1Y3EO8c1XZdUsIvq9Eh4u5X2brC%2BlH7Mea%2Bh4C1I46zbpky2iZHrP7PzNYAPybayV6UHpV3Qe1xSt3ZvR9495R1bItc3z%2BAuwfJfrIbuIOIYxcS/hyfqzOBnwOXufu9ad1PzOwZ4AdmdpG775m04g2YNlaTlsEy5fT9ur4SO4GPEJ%2Bz39Vw/LrUHiszex/wOeBDpetVpdSkR1aj/Sw8mi0aLBuVZL5C/NIfZ9/9wBozO7m4kZmtJV7m7UoimyNWRbcR3bnNuPsjE9SzaTniNEskrEfM7IzUFv2EtO40M%2BtKc4IcsRrMF72ImppBHSTayXZBjljNEMnL/aXt7kvzD4xT0RaYNlaTllE8Zrmcvl/Xp2Jm3wSuALa7%2Bx1VHjuDHLG6EXgU2Fe4tg/GVtlQ1XgYSvhlNZoD3mFm5cev5xXWL5F%2Bef8eGDYQxnnA04U38gfHKG/7HuJ7N7SMFpqj/lgBYGazRFeAX3b3H62gzk2Yo/44nUY0RdlXmK5K635D9GrUBXPUH6sn0vytxY3SD%2B63EE1YumCO%2BmN1CtHDzJrSdoNejbrSEmCOKWI1RRlQimv6sb2xojJymKP%2BWAFgZlcC1wE3u/sNVR03oznqj9XpwPksvrbPpnX3AU9WUIYSflmV7iH%2BuW0dLDCzo4lk81fu/lxadnrq3q%2B873uLo9%2BZ2TuBzcTd14FHiLts20r7byN6nXmgmlOpXY5YYWbXEv0Uf8vdd9RxIjXLEaeLh0x3pXWXEQMrdUGOWO0FXgIuNbN1heUzqeyfVXUyNcsRq6eIhL/cBeyn0/y3FZxHDiuJ1Vjc/Y/An4CtqfnhwDYWBlnsgtpjlfbfQrx3dCdwzYpq3JwcsdrK0mv7zrTuK8ClUx53sao69NekqUsTcDcxUt6N6cv2y/T3%2BYVt9pK6Di4sO5YYcOMAcC3RjdZfgL8CJ5W2vYL4J7Cb6Jngh%2BnvrzZ9/m2KVbq4OZF4fHbIdErTMWhDnEaUeR0dG3grV6yIH0FOdJ/3JeKO2RHgF8CapmPQllgRTQz3E02AdqQyvkMM0PUHYG3TMcgQq%2BOJUZi/BuxJn5ub0t9fLG37MaJr5YeJkXZ3kPppb/r82xQrYsCqw8QP78%2Bz9Lp%2BZtMxaEusRpQ5g0ba1aRp5RPRZnU2/aObJ5KCD5e2WfIFTss3Ekn8P4BXgZ8CZ40o5wvEHaHD6Z/v1YA1ff5tihULSeuo6cKmY9CGOI0ocxC7riX8ub5/nyIeuc8TPfbsJI182ZUpR6yIpk/fI3oJOUy0S961Wj5XwBnLXH%2BeGVLOx4knH/PAc8TYGEc1ff5tihULCeuoaabpGLQlViPKHMSvsoTf0oFFRERERKSH1IZfRERERKTHlPCLiIiIiPSYEn4RERERkR5Twi8iIiIi0mNK%2BEVEREREekwJv4iIiIhIjynhFxERERHpMSX8IiIiIiI9poRfRERERKTHlPCLiIiIiPSYEn4RERERkR5Twi8iIiIi0mNK%2BEVEREREekwJv4iIiIhIjynhFxERERHpsf8BWeyxnvBVp4sAAAAASUVORK5CYII%3D'></center>"
      ],
      "text/plain": [
       "<__main__.MatplotlibFigure at 0x1e9eb0eeb20>"
      ]
     },
     "metadata": {},
     "output_type": "display_data"
    }
   ],
   "source": [
    "fig = plt.figure(figsize = (width_inch, height_inch))\n",
    "\n",
    "# get the importances for the features\n",
    "rf_importances = lc_bal_rf_rs.best_estimator_.feature_importances_\n",
    "\n",
    "rf_importances_series = pd.Series(rf_importances,index=data_x.columns).sort_index(ascending = False)\n",
    "\n",
    "# plot the important features\n",
    "rf_importances_series.plot.barh(legend =False, grid=False,)\n",
    "\n",
    "fig_num+=1\n",
    "plt.suptitle('Figure %d: Average Feature Importances for a Balanced Random Forest'%fig_num)\n",
    "plt.tight_layout()\n",
    "plt.close()\n",
    "display(MatplotlibFigure(fig, centered=True))"
   ]
  },
  {
   "cell_type": "markdown",
   "metadata": {
    "slideshow": {
     "slide_type": "subslide"
    }
   },
   "source": [
    "We could also use the importance of each feature (using average impurity decrease), for feature selection.\n",
    "\n",
    "We can put it in a pipeline and use the <code>SelectFromModel</code> function from Scikit-learn."
   ]
  },
  {
   "cell_type": "markdown",
   "metadata": {
    "slideshow": {
     "slide_type": "notes"
    }
   },
   "source": [
    "__Notes__\n",
    "\n",
    "- We can provide both a numeric theshold or use a heuristic such as the mean and median<sup>5</sup>."
   ]
  },
  {
   "cell_type": "code",
   "execution_count": 19,
   "metadata": {
    "slideshow": {
     "slide_type": "skip"
    }
   },
   "outputs": [
    {
     "name": "stdout",
     "output_type": "stream",
     "text": [
      "\u001b[1m\u001b[4mSVM\u001b[0m\n",
      "CV f1-score: 0.343 +/- 0.007\n",
      "\u001b[1m\u001b[4mForest SVM\u001b[0m\n",
      "CV f1-score: 0.342 +/- 0.006\n"
     ]
    }
   ],
   "source": [
    "from sklearn.feature_selection import SelectFromModel\n",
    "from sklearn.svm import SVC\n",
    "from sklearn.model_selection import StratifiedKFold\n",
    "from sklearn.pipeline import Pipeline\n",
    "from sklearn.model_selection import cross_val_score\n",
    "\n",
    "svm = SVC(kernel='rbf', random_state=42, class_weight = 'balanced')\n",
    "\n",
    "rf_svm = Pipeline([\n",
    "  ('feature_selection', SelectFromModel(lc_bal_rf_rs.best_estimator_, threshold = 'mean')),\n",
    "  ('classification', svm)\n",
    "])\n",
    "\n",
    "svm_dict = {'SVM':svm, 'Forest SVM':rf_svm}\n",
    "\n",
    "for classifier_name in svm_dict:\n",
    "    scores = cross_val_score(estimator=svm_dict[classifier_name], \n",
    "                             X=X_train, \n",
    "                             y=y_train, \n",
    "                             scoring = 'f1',\n",
    "                             cv=StratifiedKFold(),\n",
    "                             n_jobs=-1)\n",
    "\n",
    "    print(color.BOLD+color.UNDERLINE+classifier_name+color.END)\n",
    "    print('CV f1-score: %.3f +/- %.3f' % (np.mean(scores), np.std(scores)))"
   ]
  },
  {
   "cell_type": "markdown",
   "metadata": {
    "slideshow": {
     "slide_type": "subslide"
    }
   },
   "source": [
    "## Limitations\n",
    "\n",
    "- Feature importances can be misleading for high cardinality features (many unique values)<sup>6</sup>\n",
    "\n",
    "- If features are highly correlated, one feature may be ranked highly while the information of the others not being fully captured<sup>4</sup>. "
   ]
  },
  {
   "cell_type": "code",
   "execution_count": 20,
   "metadata": {
    "slideshow": {
     "slide_type": "fragment"
    }
   },
   "outputs": [
    {
     "data": {
      "image/png": "[encoded data removed]",
      "text/plain": [
       "<Figure size 776.64x480 with 2 Axes>"
      ]
     },
     "metadata": {
      "needs_background": "light"
     },
     "output_type": "display_data"
    }
   ],
   "source": [
    "plt.figure(figsize=(width_inch, height_inch))\n",
    "sns.heatmap(data_x.corr(), cmap='viridis')\n",
    "plt.show()"
   ]
  },
  {
   "cell_type": "markdown",
   "metadata": {
    "slideshow": {
     "slide_type": "subslide"
    }
   },
   "source": [
    "## Permutation Importance\n",
    "\n",
    "The permutation feature importance is defined to be the decrease in a model score when a single feature value is randomly shuffled<sup>7</sup>.\n",
    "\n",
    "This procedure breaks the relationship between the feature and the target, thus the drop in the model score is indicative of how much the model depends on the feature<sup>8</sup>."
   ]
  },
  {
   "cell_type": "markdown",
   "metadata": {
    "slideshow": {
     "slide_type": "notes"
    }
   },
   "source": [
    "__Notes__\n",
    "\n",
    "- _\" In the permutation-based approach, for each tree, the OOB sample is passed down the tree and the prediction accuracy is recorded. Then the values for each variable (one at a time) are randomly permuted and the accuracy is again computed. The decrease in accuracy as a result of this randomly shuffling of feature values is averaged over all the trees for each predictor. The variables with the largest average decrease in accuracy are considered most important.\"_<sup>9</sup>\n",
    "\n",
    "- _\"This technique benefits from being model agnostic and can be calculated many times with different permutations of the feature.\"_ https://scikit-learn.org/stable/modules/permutation_importance.html\n",
    "\n",
    "- _\"Using a held-out set makes it possible to highlight which features contribute the most to the generalization power of the inspected model. Features that are important on the training set but not on the held-out set might cause the model to overfit.\"_ https://scikit-learn.org/stable/modules/permutation_importance.html\n",
    "\n",
    "- _\"Warning: Features that are deemed of low importance for a bad model (low cross-validation score) could be very important for a good model. Therefore it is always important to evaluate the predictive power of a model using a held-out set (or better with cross-validation) prior to computing importances. Permutation importance does not reflect to the intrinsic predictive value of a feature by itself but how important this feature is for a particular model.\"_ https://scikit-learn.org/stable/modules/permutation_importance.html\n",
    "\n",
    "- For more examples of methods of interpreting forests see: https://towardsdatascience.com/explaining-feature-importance-by-example-of-a-random-forest-d9166011959e"
   ]
  },
  {
   "cell_type": "code",
   "execution_count": 21,
   "metadata": {
    "slideshow": {
     "slide_type": "fragment"
    }
   },
   "outputs": [
    {
     "data": {
      "image/png": "[encoded data removed]",
      "text/plain": [
       "<Figure size 1553.28x480 with 2 Axes>"
      ]
     },
     "metadata": {
      "needs_background": "light"
     },
     "output_type": "display_data"
    }
   ],
   "source": [
    "from sklearn.inspection import permutation_importance\n",
    "\n",
    "fig, axes = plt.subplots(ncols = 2, figsize=(width_inch*2, height_inch), sharey=True)\n",
    "axes = axes.flatten()\n",
    "for i, ax in enumerate(axes):\n",
    "    if i == 0:\n",
    "        X, y = X_train, y_train\n",
    "        name = \"Training\"\n",
    "    else:\n",
    "        X, y = X_val, y_val\n",
    "        name = \"Validation\"\n",
    "    \n",
    "    imp = permutation_importance(lc_bal_rf_rs.best_estimator_, X, y,\n",
    "                                 n_repeats=30, scoring='f1', random_state=0)\n",
    "    imp_df = pd.DataFrame(imp['importances']).T\n",
    "    imp_df.columns = data_x.columns\n",
    "    imp_df_ = imp_df.melt(var_name = 'Feature', value_name='Permutation Importance (F1-Score)')\n",
    "    \n",
    "    sns.barplot(data = imp_df_, x = 'Permutation Importance (F1-Score)', y = 'Feature', ax = ax)\n",
    "    ax.set_title(name)\n",
    "plt.show()"
   ]
  },
  {
   "cell_type": "markdown",
   "metadata": {
    "slideshow": {
     "slide_type": "skip"
    }
   },
   "source": [
    "__Extra: Fairness__\n",
    "\n",
    "In last weeks \"Applications\" notes I questioned what information is fair for us to use when making decisions around lending. Well this week we have a dataset which has some of these very varibles in which could be problematic. \n",
    "    \n",
    "- zip_code\n",
    "    - Maybe you think people who live in wealthy areas are more likely to pay back the loan? \n",
    "    - Doesn't this make it worse for people financially responcible people who live in poor areas? \n",
    "    - Might this unfortunately be related to someones race/ethnicity?\n",
    "- pub_rec (Number of derogatory public records)\n",
    "    - What do they define as a \"derogatory public record\"?\n",
    "    - Should we use such a vauge feature that could include discrimatory information?\n",
    "    - Does this include criminal history? Is the american criminal system unbias? Is this likely to account for certain types of crime over white colar crime?\n",
    "- homeownership    \n",
    "    - Among racial demographics in America, white people have the country's highest homeownership rate, while African Americans have the lowest. \n",
    "    - One study shows that homeownership rates appear correlated with higher school attainment. (\"A Note on the Benefits of Homeownership, Federal Reserve Bank of Chicago\" (PDF). Chicagofed.org. Retrieved October 14, 2017.)\n",
    "       \n",
    "If you look at the full list of varibles for this dataset (we've used a subset), you'll see there are even more features of which you may question their validity or fairness. Should we be including these varibles in our models, in other words should we be assigning weights to them? Without other demographic information (race, gender, ect.) can we ever try correct for them in our model?\n",
    "\n",
    "More on this in week 11...\n",
    "\n",
    "__Note__\n",
    "- Lending Club use what Cathy O'Neil terms e-scores. You can read more about the issues with e-scores in chapter 8 of Weapons of Math Destruction."
   ]
  },
  {
   "cell_type": "markdown",
   "metadata": {
    "slideshow": {
     "slide_type": "slide"
    }
   },
   "source": [
    "# 9. Strengths and Limitations <a id='adv_lim'></a>\n",
    "\n",
    "There are always advantages and disadvantages to using any model on a particular dataset. "
   ]
  },
  {
   "cell_type": "markdown",
   "metadata": {
    "slideshow": {
     "slide_type": "subslide"
    }
   },
   "source": [
    "## Trees\n",
    "### Advantages<sup>1,3,10</sup>\n",
    "- Easy to explain\n",
    "    - Trees can be displayed graphically in an interpretable mannor.\n",
    "- Make few assumptions about the training data (non-parametric)\n",
    "    - e.g. we don't assume the data is linear.\n",
    "- Inherently multiclass\n",
    "    - Can also handle multitask output (multiclass-multioutput)\n",
    "- Can handle different types of predictors*\n",
    "    - Independent of feature scaling\n",
    "- Can handle missing values*\n",
    "- Can handle multitask output (multiclass-multioutput)\n",
    "\n",
    "\n",
    "\\* limited or unavailable in Scikit-Learn"
   ]
  },
  {
   "cell_type": "markdown",
   "metadata": {
    "slideshow": {
     "slide_type": "notes"
    }
   },
   "source": [
    "__Notes__\n",
    "- _\"Uses a white box model. If a given situation is observable in a model, the explanation for the condition is easily explained by boolean logic.\"_<sup>12</sup>\n",
    "- Decision trees potentially more mirror human decision-making than the regression and classification approaches previously discussed.\n",
    "- Generally, you'll find tree impliminations that are specialised for particular types of data.\n",
    "- _\"Warning At present, no metric in sklearn.metrics supports the multiclass-multioutput classification task.\"_<sup>11</sup>"
   ]
  },
  {
   "cell_type": "markdown",
   "metadata": {
    "slideshow": {
     "slide_type": "skip"
    }
   },
   "source": [
    "### Extra: Categorical Features and Sklearn\n",
    "\n",
    "You may also be wondering: where are my previous data visualisations of the categorical data before this? Well Sklearn's CART decision trees currently _\"does not support categorical variables\"_. This means:\n",
    "\n",
    "- Do not use `Label Encoding` if your categorical data is __not ordinal__ with `DecisionTreeClassifier()`, you'll end up with splits that do not make sense, as the data will be treat as numeric<sup>13</sup>.\n",
    "\n",
    "- Using a `OneHotEncoder` is the only current valid way with sklearn, allowing arbitrary splits not dependent on the label ordering, but is computationally expensive and it can deteriorate the performance of decision trees as it leads to sparse features, which can mess up feature importance<sup>12</sup>.\n",
    "\n",
    "__Solutions__\n",
    "\n",
    "Currently the best way of handling categorical features is to use <code>h2o.randomForest</code>, a different forest implimentation, or <code>catboost</code>, a boosting classifier. \n",
    "\n",
    "__Notes__\n",
    "- H2o has sklearn support which may be useful to look into: http://docs.h2o.ai/h2o/latest-stable/h2o-docs/h2o-client.html"
   ]
  },
  {
   "cell_type": "markdown",
   "metadata": {
    "slideshow": {
     "slide_type": "subslide"
    }
   },
   "source": [
    "### Disadvantages<sup>1,10</sup>\n",
    "\n",
    "- Comparatively poor generalization performance.\n",
    "\n",
    "- Easy to overfit\n",
    "    - Require pruning\n",
    "\n",
    "- High variance\n",
    "    - A small change in the data can cause a large change in the estimated tree.\n",
    "\n",
    "- Orthogonal decision boundaries\n",
    "    - Model affected by the rotation of the data.\n",
    "    \n",
    "- Cannot guarantee to return the globally optimal decision tree.\n",
    "    - locally optimal decisions are made at each node."
   ]
  },
  {
   "cell_type": "markdown",
   "metadata": {
    "slideshow": {
     "slide_type": "notes"
    }
   },
   "source": [
    "__Notes__\n",
    "- If there is a highly non-linear and complex relationship between the features and the response then decision trees may outperform classical approaches. However if the relationship between the features and the response is well approximated by a linear model, then an approach such as linear regression will likely work well<sup>1</sup>.\n",
    "- A decision tree is quite boxy. How the model makes a decision boundary is going to be affected by the rotation of the data (as DTs create straight lines)."
   ]
  },
  {
   "cell_type": "code",
   "execution_count": 24,
   "metadata": {
    "slideshow": {
     "slide_type": "skip"
    }
   },
   "outputs": [
    {
     "data": {
      "image/png": "[encoded data removed]",
      "text/plain": [
       "<Figure size 1200x480 with 2 Axes>"
      ]
     },
     "metadata": {
      "needs_background": "light"
     },
     "output_type": "display_data"
    }
   ],
   "source": [
    "# from https://github.com/ageron/handson-ml2/blob/master/06_decision_trees.ipynb\n",
    "from sklearn.tree import DecisionTreeClassifier\n",
    "from matplotlib.colors import ListedColormap\n",
    "\n",
    "def plot_decision_boundary(clf, X, y, axes=[0, 7.5, 0, 3], iris=True, legend=False, plot_training=True):\n",
    "    x1s = np.linspace(axes[0], axes[1], 100)\n",
    "    x2s = np.linspace(axes[2], axes[3], 100)\n",
    "    x1, x2 = np.meshgrid(x1s, x2s)\n",
    "    X_new = np.c_[x1.ravel(), x2.ravel()]\n",
    "    y_pred = clf.predict(X_new).reshape(x1.shape)\n",
    "    custom_cmap = ListedColormap(['#fafab0','#9898ff','#a0faa0'])\n",
    "    plt.contourf(x1, x2, y_pred, alpha=0.3, cmap=custom_cmap)\n",
    "    if not iris:\n",
    "        custom_cmap2 = ListedColormap(['#7d7d58','#4c4c7f','#507d50'])\n",
    "        plt.contour(x1, x2, y_pred, cmap=custom_cmap2, alpha=0.8)\n",
    "    if plot_training:\n",
    "        plt.plot(X[:, 0][y==0], X[:, 1][y==0], \"yo\", label=\"Iris setosa\")\n",
    "        plt.plot(X[:, 0][y==1], X[:, 1][y==1], \"bs\", label=\"Iris versicolor\")\n",
    "        plt.plot(X[:, 0][y==2], X[:, 1][y==2], \"g^\", label=\"Iris virginica\")\n",
    "        plt.axis(axes)\n",
    "    if iris:\n",
    "        plt.xlabel(\"Petal length\", fontsize=14)\n",
    "        plt.ylabel(\"Petal width\", fontsize=14)\n",
    "    else:\n",
    "        plt.xlabel(r\"$x_1$\", fontsize=18)\n",
    "        plt.ylabel(r\"$x_2$\", fontsize=18, rotation=0)\n",
    "    if legend:\n",
    "        plt.legend(loc=\"lower right\", fontsize=14)\n",
    "\n",
    "np.random.seed(6)\n",
    "Xs = np.random.rand(100, 2) - 0.5\n",
    "ys = (Xs[:, 0] > 0).astype(np.float32) * 2\n",
    "\n",
    "angle = np.pi / 4\n",
    "rotation_matrix = np.array([[np.cos(angle), -np.sin(angle)], [np.sin(angle), np.cos(angle)]])\n",
    "Xsr = Xs.dot(rotation_matrix)\n",
    "\n",
    "tree_clf_s = DecisionTreeClassifier(random_state=42)\n",
    "tree_clf_s.fit(Xs, ys)\n",
    "tree_clf_sr = DecisionTreeClassifier(random_state=42)\n",
    "tree_clf_sr.fit(Xsr, ys)\n",
    "\n",
    "fig, axes = plt.subplots(ncols=2, figsize=(10, 4), sharey=True)\n",
    "plt.sca(axes[0])\n",
    "plot_decision_boundary(tree_clf_s, Xs, ys, axes=[-0.7, 0.7, -0.7, 0.7], iris=False)\n",
    "plt.sca(axes[1])\n",
    "plot_decision_boundary(tree_clf_sr, Xsr, ys, axes=[-0.7, 0.7, -0.7, 0.7], iris=False)\n",
    "plt.ylabel(\"\")\n",
    "plt.suptitle(\"Extra: Sensitivity to Rotation\")\n",
    "\n",
    "plt.show()"
   ]
  },
  {
   "cell_type": "markdown",
   "metadata": {
    "slideshow": {
     "slide_type": "subslide"
    }
   },
   "source": [
    "## Forests/ExtraTrees\n",
    "\n",
    "Generally improve upon trees, at the expense of interpretability.\n",
    "\n",
    "### Advantages\n",
    "\n",
    "- Comparatively good generalisability\n",
    "    - Not too affected by outlier observations.\n",
    "    - Can still overfit<sup>16</sup> but much less likely\n",
    "\n",
    "- Comparatively small variability in prediction accuracy when tuning<sup>14</sup>\n",
    "\n",
    "- Comparatively good “out of the box” performance<sup>15</sup>\n",
    "    - Easy of use\n",
    "    - not much tuning required to get good results\n",
    "\n",
    "- ExtraTrees is faster to train than random forests\n",
    "    - Its time consuming to to find the best theshold for each feature at each node<sup>3</sup>.\n",
    "\n",
    "- Work well on large datasets"
   ]
  },
  {
   "cell_type": "markdown",
   "metadata": {
    "slideshow": {
     "slide_type": "subslide"
    }
   },
   "source": [
    "### Disadvantages\n",
    "\n",
    "- Not good for very high-dimensional sparse data<sup>17</sup>.\n",
    "    - e.g. text\n",
    "\n",
    "- Harder than trees to interpret\n",
    "    - Trees in random forests tend to be deeper than decision trees (due to feature subsets)<sup>17</sup>.\n",
    "    \n",
    "- More computationally demanding to train than other algorithms<sup>17</sup>\n",
    "    - Require more memory and are slower to train and to predict than linear models.\n",
    "    - However, they can be easily parallelized across multiple CPU cores.\n",
    "\n",
    "- Setting different random states can drastically change the model<sup>17</sup>.\n",
    "    - The more trees, the more robust to this they are to this."
   ]
  },
  {
   "cell_type": "markdown",
   "metadata": {
    "slideshow": {
     "slide_type": "notes"
    }
   },
   "source": [
    "__Notes__\n",
    "- Using more CPU cores will result in linear speed-ups<sup>17</sup>.\n",
    "- _'As concluding remarks about ensemble techniques, it is worth noting that ensemble learning increases the computational complexity compared to individual classifiers. In practice, we need to think carefully about whether we want to pay the price of increased computational costs for an often relatively modest improvement in predictive performance. An often-cited example of this tradeoff is the famous \\$1 million Netflix Prize, which was won using ensemble techniques. The details about the algorithm were published in The BigChaos Solution to the Netflix Grand Prize by A. Toescher, M. Jahrer, and R. M. Bell, Netflix Prize documentation, 2009, which is available at http://www.stat.osu.edu/~dmsl/GrandPrize2009_BPC_BigChaos.pdf. The winning team received the $1 million grand prize money; however, Netflix never implemented their model due to its complexity, which made it infeasible for a real-world application: \"We evaluated some of the new methods offline but the additional accuracy gains that we measured did not seem to justify the engineering effort needed to bring them into a production environment.\" http://techblog.netflix.com/2012/04/netflix-recommendations-beyond-5-stars.html'_<sup>4</sup>"
   ]
  },
  {
   "cell_type": "markdown",
   "metadata": {
    "slideshow": {
     "slide_type": "slide"
    }
   },
   "source": [
    "# References\n",
    "1. James, Gareth, Daniela Witten, Trevor Hastie, and Robert Tibshirani. An introduction to statistical learning. Vol. 112. New York: springer, 2013.\n",
    "2. Gorman KB, Williams TD, Fraser WR (2014). Ecological sexual dimorphism and environmental variability within a community of Antarctic penguins (genus Pygoscelis). PLoS ONE 9(3):e90081. https://doi.org/10.1371/journal.pone.0090081\n",
    "3. Géron, A. (2017). Hands-on machine learning with Scikit-Learn and TensorFlow: concepts, tools, and techniques to build intelligent systems. \" O'Reilly Media, Inc.\".\n",
    "4. Raschka, Sebastian, and Vahid Mirjalili. Python Machine Learning, 2nd Ed. Packt Publishing, 2017.\n",
    "5. http://scikit-learn.org/stable/modules/feature_selection.html\n",
    "6. https://scikit-learn.org/stable/modules/generated/sklearn.tree.DecisionTreeClassifier.html#sklearn.tree.DecisionTreeClassifier\n",
    "7. L. Breiman, “Random Forests”, Machine Learning, 45(1), 5-32, 2001\n",
    "8. https://scikit-learn.org/stable/modules/permutation_importance.html\n",
    "9. https://bradleyboehmke.github.io/HOML/random-forest.html\n",
    "10. https://github.com/rasbt/stat479-machine-learning-fs19/blob/master/06_trees/06-trees__notes.pdf\n",
    "11. https://scikit-learn.org/stable/modules/multiclass.html\n",
    "12. https://scikit-learn.org/stable/modules/tree.html\n",
    "13. https://stackoverflow.com/questions/38108832/passing-categorical-data-to-sklearn-decision-tree\n",
    "14. Probst, Philipp, Bernd Bischl, and Anne-Laure Boulesteix. 2018. “Tunability: Importance of Hyperparameters of Machine Learning Algorithms.” arXiv Preprint arXiv:1802.09596.\n",
    "15. https://github.com/rasbt/stat451-machine-learning-fs20/blob/master/L07/07-ensembles__notes.pdf.\n",
    "16. Segal MR: Machine Learning Benchmarks and Random Forest Regression. Technical Report, Center for Bioinformatics & Molecular Biostatistics, University of California, San Francisco 2004.\n",
    "17. Müller, A. C., & Guido, S. (2016). Introduction to machine learning with Python: a guide for data scientists. \" O'Reilly Media, Inc.\".\n",
    "18. https://www.kaggle.com/faressayah/lending-club-loan-defaulters-prediction"
   ]
  },
  {
   "cell_type": "code",
   "execution_count": null,
   "metadata": {
    "slideshow": {
     "slide_type": "skip"
    }
   },
   "outputs": [],
   "source": [
    "import sys\n",
    "from shutil import copyfile\n",
    "\n",
    "# where the HTML template is located\n",
    "dst = os.path.join(sys.prefix, 'lib', 'site-packages', 'nbconvert', 'templates', \"classic.tplx\")\n",
    "\n",
    "# If its not located where it should be\n",
    "if not os.path.exists(dst):\n",
    "    # uses a nb_pdf_template\n",
    "    curr_path = os.path.join(os.getcwd(),\"..\", \"Extra\", \"classic.tplx\")\n",
    "    # copy where it is meant to be\n",
    "    copyfile(curr_path, dst)\n",
    "\n",
    "# Create HTML notes document\n",
    "!jupyter nbconvert 3_Applications.ipynb \\\n",
    "    --to html \\\n",
    "    --output-dir . \\\n",
    "    --template classic\n",
    "!jupyter nbconvert 3_Applications.ipynb \\\n",
    "    --to slides \\\n",
    "    --output-dir . \\\n",
    "    --TemplateExporter.exclude_input=True \\\n",
    "    --TemplateExporter.exclude_output_prompt=True \\\n",
    "    --SlidesExporter.reveal_scroll=True\n",
    "\n",
    "# Create pdf notes document (issues)\n",
    "!jupyter nbconvert 3_Applications.ipynb \\\n",
    "    --to html \\\n",
    "    --output-dir ./PDF_Prep \\\n",
    "    --output 3_Applications_no_code \\\n",
    "    --TemplateExporter.exclude_input=True \\\n",
    "    --TemplateExporter.exclude_output_prompt=True"
   ]
  },
  {
   "cell_type": "code",
   "execution_count": null,
   "metadata": {
    "slideshow": {
     "slide_type": "skip"
    }
   },
   "outputs": [],
   "source": []
  }
 ],
 "metadata": {
  "celltoolbar": "Slideshow",
  "colab": {
   "authorship_tag": "ABX9TyMNuZgSJ2BiDt5YMpOB66EK",
   "collapsed_sections": [],
   "name": "Clustering.ipynb",
   "provenance": []
  },
  "kernelspec": {
   "display_name": "Python 3",
   "language": "python",
   "name": "python3"
  },
  "language_info": {
   "codemirror_mode": {
    "name": "ipython",
    "version": 3
   },
   "file_extension": ".py",
   "mimetype": "text/x-python",
   "name": "python",
   "nbconvert_exporter": "python",
   "pygments_lexer": "ipython3",
   "version": "3.8.8"
  }
 },
 "nbformat": 4,
 "nbformat_minor": 1
}
