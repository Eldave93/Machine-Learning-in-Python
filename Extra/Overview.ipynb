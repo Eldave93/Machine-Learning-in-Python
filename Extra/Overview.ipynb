{
 "cells": [
  {
   "cell_type": "markdown",
   "id": "usual-destiny",
   "metadata": {
    "slideshow": {
     "slide_type": "slide"
    }
   },
   "source": [
    "<script>\n",
    "    document.querySelector('head').innerHTML += '<style>.slides { zoom: 1. !important; }</style>';\n",
    "</script>\n",
    "\n",
    "# Weeks 8 - 11: Overview\n",
    "### Dr. David Elliott\n",
    "\n",
    "- University Teacher in Mathematical Sciences Computing in the School of Mathematics. \n",
    "\n",
    "- I teach probability, statistics, and data science to undergraduate and master’s students; with previous experience teaching hypothesis testing and research design. \n",
    "\n",
    "- My recent research focuses on developing machine learning algorithms to improve the diagnosis speed and accuracy of identifying seizures in clinical records of electrical brain activity."
   ]
  },
  {
   "cell_type": "markdown",
   "id": "inclusive-wheel",
   "metadata": {
    "slideshow": {
     "slide_type": "subslide"
    }
   },
   "source": [
    "__Week 8: Support Vector Machines__\n",
    "- Maximal Margin Classifier\n",
    "- Support Vector Classifier\n",
    "- Support Vector Machine\n",
    "- Imballanced Data\n",
    "\n",
    "<img src=\"./Week_8_SVM/Images/Soft_Margin_Hyperplane.png\" width=\"600\" />"
   ]
  },
  {
   "cell_type": "markdown",
   "id": "freelance-terrorism",
   "metadata": {
    "slideshow": {
     "slide_type": "subslide"
    }
   },
   "source": [
    "__Week 9: Tree-Based Methods__\n",
    "- Decision Trees\n",
    "- Bagging\n",
    "- Random Forests\n",
    "\n",
    "<img src=\"./Week_9_Trees/Images/Soft_Margin_Hyperplane.png\" width=\"800\" />"
   ]
  },
  {
   "cell_type": "markdown",
   "id": "moving-desperate",
   "metadata": {
    "slideshow": {
     "slide_type": "subslide"
    }
   },
   "source": [
    "__Week 10: Unsupervised Learning__\n",
    "- K-Means\n",
    "- Hierarchical Clustering\n",
    "\n",
    "<img src=\"./Week_10_Clustering/Images/Dendrogram.png\" width=\"600\" />"
   ]
  },
  {
   "cell_type": "markdown",
   "id": "bright-valley",
   "metadata": {
    "slideshow": {
     "slide_type": "subslide"
    }
   },
   "source": [
    "__Week 11: Big Data, Black Boxes, and Bias__\n",
    "- Big Data and Bias\n",
    "- Algorithmic Ethics\n",
    "- Black Boxes\n",
    "\n",
    "![image info](./Week_11_Data_Science_Ethics/Images/black_box.png)"
   ]
  },
  {
   "cell_type": "markdown",
   "id": "configured-fraud",
   "metadata": {
    "slideshow": {
     "slide_type": "subslide"
    }
   },
   "source": [
    "__Notebook Example__\n",
    "\n",
    "<img src=\"./notebook_example.png\" width=\"470\" />"
   ]
  },
  {
   "cell_type": "code",
   "execution_count": 2,
   "id": "narrative-priority",
   "metadata": {
    "slideshow": {
     "slide_type": "skip"
    }
   },
   "outputs": [
    {
     "name": "stderr",
     "output_type": "stream",
     "text": [
      "[NbConvertApp] Converting notebook Overview.ipynb to slides\n",
      "[NbConvertApp] Writing 574484 bytes to Overview.slides.html\n"
     ]
    }
   ],
   "source": [
    "!jupyter nbconvert Overview.ipynb \\\n",
    "    --to slides \\\n",
    "    --output-dir . \\\n",
    "    --TemplateExporter.exclude_input=True \\\n",
    "    --TemplateExporter.exclude_output_prompt=True \\\n",
    "    --SlidesExporter.reveal_scroll=True"
   ]
  },
  {
   "cell_type": "code",
   "execution_count": null,
   "id": "mental-glass",
   "metadata": {},
   "outputs": [],
   "source": []
  }
 ],
 "metadata": {
  "celltoolbar": "Slideshow",
  "kernelspec": {
   "display_name": "Python 3",
   "language": "python",
   "name": "python3"
  },
  "language_info": {
   "codemirror_mode": {
    "name": "ipython",
    "version": 3
   },
   "file_extension": ".py",
   "mimetype": "text/x-python",
   "name": "python",
   "nbconvert_exporter": "python",
   "pygments_lexer": "ipython3",
   "version": "3.8.6"
  }
 },
 "nbformat": 4,
 "nbformat_minor": 5
}
