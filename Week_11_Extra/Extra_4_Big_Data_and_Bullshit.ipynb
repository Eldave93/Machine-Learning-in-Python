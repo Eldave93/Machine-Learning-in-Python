{
 "cells": [
  {
   "cell_type": "markdown",
   "id": "superior-roads",
   "metadata": {},
   "source": [
    "# Big Data, Black Boxes, and Bullsh*t"
   ]
  },
  {
   "cell_type": "markdown",
   "id": "fancy-security",
   "metadata": {},
   "source": [
    "__TODO__\n",
    "- Essentially a guide to approaching the results from blackbox models you don't understand fully yet"
   ]
  },
  {
   "cell_type": "markdown",
   "id": "close-winter",
   "metadata": {},
   "source": [
    "## Data Provinance"
   ]
  },
  {
   "cell_type": "markdown",
   "id": "respiratory-garbage",
   "metadata": {},
   "source": [
    "# What next?\n",
    "\n",
    "- If you want more deep learning, learn the keras api for Tensorflow 2.0 or PyTorch.\n",
    "- Once your happy with `scikit-learn` you may want to look at some related python projects: https://scikit-learn.org/stable/related_projects.html#related-projects"
   ]
  }
 ],
 "metadata": {
  "kernelspec": {
   "display_name": "Python 3",
   "language": "python",
   "name": "python3"
  },
  "language_info": {
   "codemirror_mode": {
    "name": "ipython",
    "version": 3
   },
   "file_extension": ".py",
   "mimetype": "text/x-python",
   "name": "python",
   "nbconvert_exporter": "python",
   "pygments_lexer": "ipython3",
   "version": "3.8.6"
  }
 },
 "nbformat": 4,
 "nbformat_minor": 5
}
