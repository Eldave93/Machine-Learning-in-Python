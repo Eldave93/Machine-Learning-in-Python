{
 "cells": [
  {
   "cell_type": "code",
   "execution_count": null,
   "id": "vietnamese-westminster",
   "metadata": {},
   "outputs": [],
   "source": [
    "!source activate mlp\n",
    "!conda install pip\n",
    "#!pip install gitpython\n",
    "#!pip install graphviz\n",
    "#!pip install imblearn\n",
    "#!pip install dtreeviz\n",
    "#!pip install scipy==1.6"
   ]
  }
 ],
 "metadata": {
  "kernelspec": {
   "display_name": "Python 3",
   "language": "python",
   "name": "python3"
  },
  "language_info": {
   "codemirror_mode": {
    "name": "ipython",
    "version": 3
   },
   "file_extension": ".py",
   "mimetype": "text/x-python",
   "name": "python",
   "nbconvert_exporter": "python",
   "pygments_lexer": "ipython3",
   "version": "3.8.5"
  }
 },
 "nbformat": 4,
 "nbformat_minor": 5
}
