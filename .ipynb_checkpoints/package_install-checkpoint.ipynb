{
 "cells": [
  {
   "cell_type": "markdown",
   "id": "reasonable-click",
   "metadata": {},
   "source": [
    "Because I'm lazy and do everything in notebooks where possible, this is how I set up the notebook environment"
   ]
  },
  {
   "cell_type": "code",
   "execution_count": 3,
   "id": "sunset-surrey",
   "metadata": {},
   "outputs": [
    {
     "name": "stdout",
     "output_type": "stream",
     "text": [
      "Requirement already satisfied: scikit-learn in c:\\users\\delliot2\\.conda\\envs\\mlp\\lib\\site-packages (0.24.1)\n",
      "Requirement already satisfied: scipy>=0.19.1 in c:\\users\\delliot2\\.conda\\envs\\mlp\\lib\\site-packages (from scikit-learn) (1.6.0)\n",
      "Requirement already satisfied: numpy>=1.13.3 in c:\\users\\delliot2\\.conda\\envs\\mlp\\lib\\site-packages (from scikit-learn) (1.19.5)\n",
      "Requirement already satisfied: joblib>=0.11 in c:\\users\\delliot2\\.conda\\envs\\mlp\\lib\\site-packages (from scikit-learn) (1.0.0)\n",
      "Requirement already satisfied: threadpoolctl>=2.0.0 in c:\\users\\delliot2\\.conda\\envs\\mlp\\lib\\site-packages (from scikit-learn) (2.1.0)\n",
      "Note: you may need to restart the kernel to use updated packages.\n",
      "Requirement already satisfied: pandas in c:\\users\\delliot2\\.conda\\envs\\mlp\\lib\\site-packages (1.2.1)\n",
      "Requirement already satisfied: python-dateutil>=2.7.3 in c:\\users\\delliot2\\.conda\\envs\\mlp\\lib\\site-packages (from pandas) (2.8.1)\n",
      "Requirement already satisfied: numpy>=1.16.5 in c:\\users\\delliot2\\.conda\\envs\\mlp\\lib\\site-packages (from pandas) (1.19.5)\n",
      "Requirement already satisfied: pytz>=2017.3 in c:\\users\\delliot2\\.conda\\envs\\mlp\\lib\\site-packages (from pandas) (2020.5)\n",
      "Requirement already satisfied: six>=1.5 in c:\\users\\delliot2\\.conda\\envs\\mlp\\lib\\site-packages (from python-dateutil>=2.7.3->pandas) (1.15.0)\n",
      "Note: you may need to restart the kernel to use updated packages.\n",
      "Requirement already satisfied: gitpython in c:\\users\\delliot2\\.conda\\envs\\mlp\\lib\\site-packages (3.1.12)\n",
      "Requirement already satisfied: gitdb<5,>=4.0.1 in c:\\users\\delliot2\\.conda\\envs\\mlp\\lib\\site-packages (from gitpython) (4.0.5)\n",
      "Requirement already satisfied: smmap<4,>=3.0.1 in c:\\users\\delliot2\\.conda\\envs\\mlp\\lib\\site-packages (from gitdb<5,>=4.0.1->gitpython) (3.0.5)\n",
      "Note: you may need to restart the kernel to use updated packages.\n",
      "Requirement already satisfied: graphviz in c:\\users\\delliot2\\.conda\\envs\\mlp\\lib\\site-packages (0.16)\n",
      "Note: you may need to restart the kernel to use updated packages.\n",
      "Requirement already satisfied: imblearn in c:\\users\\delliot2\\.conda\\envs\\mlp\\lib\\site-packages (0.0)\n",
      "Requirement already satisfied: imbalanced-learn in c:\\users\\delliot2\\.conda\\envs\\mlp\\lib\\site-packages (from imblearn) (0.7.0)\n",
      "Requirement already satisfied: scipy>=0.19.1 in c:\\users\\delliot2\\.conda\\envs\\mlp\\lib\\site-packages (from imbalanced-learn->imblearn) (1.6.0)\n",
      "Requirement already satisfied: scikit-learn>=0.23 in c:\\users\\delliot2\\.conda\\envs\\mlp\\lib\\site-packages (from imbalanced-learn->imblearn) (0.24.1)\n",
      "Requirement already satisfied: numpy>=1.13.3 in c:\\users\\delliot2\\.conda\\envs\\mlp\\lib\\site-packages (from imbalanced-learn->imblearn) (1.19.5)\n",
      "Requirement already satisfied: joblib>=0.11 in c:\\users\\delliot2\\.conda\\envs\\mlp\\lib\\site-packages (from imbalanced-learn->imblearn) (1.0.0)\n",
      "Requirement already satisfied: threadpoolctl>=2.0.0 in c:\\users\\delliot2\\.conda\\envs\\mlp\\lib\\site-packages (from scikit-learn>=0.23->imbalanced-learn->imblearn) (2.1.0)\n",
      "Note: you may need to restart the kernel to use updated packages.\n",
      "Requirement already satisfied: dtreeviz in c:\\users\\delliot2\\.conda\\envs\\mlp\\lib\\site-packages (1.1.4)\n",
      "Requirement already satisfied: graphviz>=0.9 in c:\\users\\delliot2\\.conda\\envs\\mlp\\lib\\site-packages (from dtreeviz) (0.16)\n",
      "Requirement already satisfied: pandas in c:\\users\\delliot2\\.conda\\envs\\mlp\\lib\\site-packages (from dtreeviz) (1.2.1)\n",
      "Requirement already satisfied: pytest in c:\\users\\delliot2\\.conda\\envs\\mlp\\lib\\site-packages (from dtreeviz) (6.2.2)\n",
      "Requirement already satisfied: matplotlib in c:\\users\\delliot2\\.conda\\envs\\mlp\\lib\\site-packages (from dtreeviz) (3.3.4)\n",
      "Requirement already satisfied: scikit-learn in c:\\users\\delliot2\\.conda\\envs\\mlp\\lib\\site-packages (from dtreeviz) (0.24.1)\n",
      "Requirement already satisfied: colour in c:\\users\\delliot2\\.conda\\envs\\mlp\\lib\\site-packages (from dtreeviz) (0.1.5)\n",
      "Requirement already satisfied: numpy in c:\\users\\delliot2\\.conda\\envs\\mlp\\lib\\site-packages (from dtreeviz) (1.19.5)\n",
      "Requirement already satisfied: pillow>=6.2.0 in c:\\users\\delliot2\\.conda\\envs\\mlp\\lib\\site-packages (from matplotlib->dtreeviz) (8.1.0)\n",
      "Requirement already satisfied: pyparsing!=2.0.4,!=2.1.2,!=2.1.6,>=2.0.3 in c:\\users\\delliot2\\.conda\\envs\\mlp\\lib\\site-packages (from matplotlib->dtreeviz) (2.4.7)\n",
      "Requirement already satisfied: cycler>=0.10 in c:\\users\\delliot2\\.conda\\envs\\mlp\\lib\\site-packages (from matplotlib->dtreeviz) (0.10.0)\n",
      "Requirement already satisfied: python-dateutil>=2.1 in c:\\users\\delliot2\\.conda\\envs\\mlp\\lib\\site-packages (from matplotlib->dtreeviz) (2.8.1)\n",
      "Requirement already satisfied: kiwisolver>=1.0.1 in c:\\users\\delliot2\\.conda\\envs\\mlp\\lib\\site-packages (from matplotlib->dtreeviz) (1.3.1)\n",
      "Requirement already satisfied: six in c:\\users\\delliot2\\.conda\\envs\\mlp\\lib\\site-packages (from cycler>=0.10->matplotlib->dtreeviz) (1.15.0)\n",
      "Requirement already satisfied: pytz>=2017.3 in c:\\users\\delliot2\\.conda\\envs\\mlp\\lib\\site-packages (from pandas->dtreeviz) (2020.5)\n",
      "Requirement already satisfied: pluggy<1.0.0a1,>=0.12 in c:\\users\\delliot2\\.conda\\envs\\mlp\\lib\\site-packages (from pytest->dtreeviz) (0.13.1)\n",
      "Requirement already satisfied: attrs>=19.2.0 in c:\\users\\delliot2\\.conda\\envs\\mlp\\lib\\site-packages (from pytest->dtreeviz) (20.3.0)\n",
      "Requirement already satisfied: toml in c:\\users\\delliot2\\.conda\\envs\\mlp\\lib\\site-packages (from pytest->dtreeviz) (0.10.2)\n",
      "Requirement already satisfied: iniconfig in c:\\users\\delliot2\\.conda\\envs\\mlp\\lib\\site-packages (from pytest->dtreeviz) (1.1.1)\n",
      "Requirement already satisfied: packaging in c:\\users\\delliot2\\.conda\\envs\\mlp\\lib\\site-packages (from pytest->dtreeviz) (20.8)\n",
      "Requirement already satisfied: colorama in c:\\users\\delliot2\\.conda\\envs\\mlp\\lib\\site-packages (from pytest->dtreeviz) (0.4.4)\n",
      "Requirement already satisfied: py>=1.8.2 in c:\\users\\delliot2\\.conda\\envs\\mlp\\lib\\site-packages (from pytest->dtreeviz) (1.10.0)\n",
      "Note: you may need to restart the kernel to use updated packages.Requirement already satisfied: atomicwrites>=1.0 in c:\\users\\delliot2\\.conda\\envs\\mlp\\lib\\site-packages (from pytest->dtreeviz) (1.4.0)\n",
      "Requirement already satisfied: joblib>=0.11 in c:\\users\\delliot2\\.conda\\envs\\mlp\\lib\\site-packages (from scikit-learn->dtreeviz) (1.0.0)\n",
      "Requirement already satisfied: scipy>=0.19.1 in c:\\users\\delliot2\\.conda\\envs\\mlp\\lib\\site-packages (from scikit-learn->dtreeviz) (1.6.0)\n",
      "Requirement already satisfied: threadpoolctl>=2.0.0 in c:\\users\\delliot2\\.conda\\envs\\mlp\\lib\\site-packages (from scikit-learn->dtreeviz) (2.1.0)\n",
      "\n",
      "Requirement already satisfied: scipy==1.6 in c:\\users\\delliot2\\.conda\\envs\\mlp\\lib\\site-packages (1.6.0)\n",
      "Requirement already satisfied: numpy>=1.16.5 in c:\\users\\delliot2\\.conda\\envs\\mlp\\lib\\site-packages (from scipy==1.6) (1.19.5)\n",
      "Note: you may need to restart the kernel to use updated packages.\n",
      "Collecting seaborn\n",
      "  Downloading seaborn-0.11.1-py3-none-any.whl (285 kB)\n",
      "Requirement already satisfied: scipy>=1.0 in c:\\users\\delliot2\\.conda\\envs\\mlp\\lib\\site-packages (from seaborn) (1.6.0)\n",
      "Requirement already satisfied: matplotlib>=2.2 in c:\\users\\delliot2\\.conda\\envs\\mlp\\lib\\site-packages (from seaborn) (3.3.4)\n",
      "Requirement already satisfied: pandas>=0.23 in c:\\users\\delliot2\\.conda\\envs\\mlp\\lib\\site-packages (from seaborn) (1.2.1)\n",
      "Requirement already satisfied: numpy>=1.15 in c:\\users\\delliot2\\.conda\\envs\\mlp\\lib\\site-packages (from seaborn) (1.19.5)\n",
      "Requirement already satisfied: kiwisolver>=1.0.1 in c:\\users\\delliot2\\.conda\\envs\\mlp\\lib\\site-packages (from matplotlib>=2.2->seaborn) (1.3.1)\n",
      "Requirement already satisfied: pillow>=6.2.0 in c:\\users\\delliot2\\.conda\\envs\\mlp\\lib\\site-packages (from matplotlib>=2.2->seaborn) (8.1.0)\n",
      "Requirement already satisfied: python-dateutil>=2.1 in c:\\users\\delliot2\\.conda\\envs\\mlp\\lib\\site-packages (from matplotlib>=2.2->seaborn) (2.8.1)\n",
      "Requirement already satisfied: pyparsing!=2.0.4,!=2.1.2,!=2.1.6,>=2.0.3 in c:\\users\\delliot2\\.conda\\envs\\mlp\\lib\\site-packages (from matplotlib>=2.2->seaborn) (2.4.7)\n",
      "Requirement already satisfied: cycler>=0.10 in c:\\users\\delliot2\\.conda\\envs\\mlp\\lib\\site-packages (from matplotlib>=2.2->seaborn) (0.10.0)\n",
      "Requirement already satisfied: six in c:\\users\\delliot2\\.conda\\envs\\mlp\\lib\\site-packages (from cycler>=0.10->matplotlib>=2.2->seaborn) (1.15.0)\n",
      "Requirement already satisfied: pytz>=2017.3 in c:\\users\\delliot2\\.conda\\envs\\mlp\\lib\\site-packages (from pandas>=0.23->seaborn) (2020.5)\n",
      "Installing collected packages: seaborn\n",
      "Successfully installed seaborn-0.11.1\n",
      "Note: you may need to restart the kernel to use updated packages.\n"
     ]
    }
   ],
   "source": [
    "%pip install scikit-learn\n",
    "%pip install pandas\n",
    "%pip install gitpython\n",
    "%pip install graphviz\n",
    "%pip install imblearn\n",
    "%pip install dtreeviz\n",
    "%pip install scipy==1.6\n",
    "%pip install seaborn\n",
    "%pip install git"
   ]
  }
 ],
 "metadata": {
  "kernelspec": {
   "display_name": "Python 3",
   "language": "python",
   "name": "python3"
  },
  "language_info": {
   "codemirror_mode": {
    "name": "ipython",
    "version": 3
   },
   "file_extension": ".py",
   "mimetype": "text/x-python",
   "name": "python",
   "nbconvert_exporter": "python",
   "pygments_lexer": "ipython3",
   "version": "3.8.6"
  }
 },
 "nbformat": 4,
 "nbformat_minor": 5
}
