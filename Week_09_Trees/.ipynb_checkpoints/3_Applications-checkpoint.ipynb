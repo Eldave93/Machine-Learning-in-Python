{
 "cells": [
  {
   "cell_type": "code",
   "execution_count": 1,
   "metadata": {
    "hideCode": false,
    "hidePrompt": false,
    "slideshow": {
     "slide_type": "skip"
    }
   },
   "outputs": [
    {
     "data": {
      "text/html": [
       "<button style=\"margin:0 auto; display: block;\" onclick=\"jQuery('.code_cell .input_area').toggle();\n",
       "    jQuery('.prompt').toggle();\">Toggle code</button>"
      ],
      "text/plain": [
       "<IPython.core.display.HTML object>"
      ]
     },
     "execution_count": 1,
     "metadata": {},
     "output_type": "execute_result"
    }
   ],
   "source": [
    "# This line will add a button to toggle visibility of code blocks,\n",
    "# for use with the HTML export version\n",
    "from IPython.core.display import HTML\n",
    "HTML('''<button style=\"margin:0 auto; display: block;\" onclick=\"jQuery('.code_cell .input_area').toggle();\n",
    "    jQuery('.prompt').toggle();\">Toggle code</button>''')"
   ]
  },
  {
   "cell_type": "markdown",
   "metadata": {
    "hideCode": false,
    "hidePrompt": false,
    "slideshow": {
     "slide_type": "slide"
    }
   },
   "source": [
    "<img src=\"./Images/UoE_Horizontal_Logo_282_v1_160215.png\" alt=\"drawing\" width=\"600\"/>\n",
    "\n",
    "# Week 9 - Tree-Based Methods\n",
    "__Dr. David Elliott__\n",
    "    \n",
    "7. [Imballanced Data](#imb)\n",
    "\n",
    "8. [Feature Interpretation/Reduction](#feats)\n",
    "    \n",
    "9. [Strengths and Limitations](#adv_lim)"
   ]
  },
  {
   "cell_type": "code",
   "execution_count": 2,
   "metadata": {
    "hideCode": false,
    "hidePrompt": false,
    "slideshow": {
     "slide_type": "skip"
    }
   },
   "outputs": [],
   "source": [
    "%matplotlib inline\n",
    "\n",
    "import os # locating directories\n",
    "\n",
    "import numpy as np   # Arrays\n",
    "import pandas as pd  # DataFrames\n",
    "\n",
    "# Plotting\n",
    "import matplotlib.pyplot as plt\n",
    "import seaborn as sns\n",
    "\n",
    "from sklearn.model_selection import GridSearchCV, RandomizedSearchCV, KFold, StratifiedKFold\n",
    "\n",
    "# colours for print()\n",
    "class color:\n",
    "   PURPLE = '\\033[95m'\n",
    "   CYAN = '\\033[96m'\n",
    "   DARKCYAN = '\\033[36m'\n",
    "   BLUE = '\\033[94m'\n",
    "   GREEN = '\\033[92m'\n",
    "   YELLOW = '\\033[93m'\n",
    "   RED = '\\033[91m'\n",
    "   BOLD = '\\033[1m'\n",
    "   UNDERLINE = '\\033[4m'\n",
    "   END = '\\033[0m'\n",
    "    \n",
    "image_dir = os.path.join(os.getcwd(),\"Images\")\n",
    "# Initial fig number\n",
    "fig_num=0\n",
    "\n",
    "plt.rcParams['figure.dpi'] = 120\n",
    "# golden ratio for figures ()\n",
    "gr = 1.618\n",
    "\n",
    "height_pix = 500\n",
    "width_pix = height_pix*gr\n",
    "\n",
    "height_inch = 4\n",
    "width_inch = height_inch*gr"
   ]
  },
  {
   "cell_type": "code",
   "execution_count": 3,
   "metadata": {
    "hideCode": false,
    "hidePrompt": false,
    "slideshow": {
     "slide_type": "skip"
    }
   },
   "outputs": [],
   "source": [
    "# Centered figures in the notebook and presentation\n",
    "# ...was a real pain to find this:\n",
    "# https://gist.githubusercontent.com/maxalbert/800b9f06c7b2dd365ea5\n",
    "\n",
    "import matplotlib.pyplot as plt\n",
    "import matplotlib\n",
    "import numpy as np\n",
    "import urllib\n",
    "import base64\n",
    "from io import BytesIO, StringIO\n",
    "\n",
    "def fig2str(fig, format='svg'):\n",
    "    \"\"\"\n",
    "    Return a string containing the raw data of the matplotlib figure in the given format.\n",
    "\n",
    "    \"\"\"\n",
    "    assert isinstance(fig, matplotlib.figure.Figure)\n",
    "    imgdata = BytesIO()\n",
    "    fig.savefig(imgdata, format=format, bbox_inches='tight')\n",
    "    imgdata.seek(0)  # rewind the data\n",
    "    output = imgdata.getvalue()\n",
    "    if format == 'svg':\n",
    "        return output\n",
    "    else:\n",
    "        return urllib.parse.quote(base64.b64encode(output))\n",
    "\n",
    "class MatplotlibFigure(object):\n",
    "    \"\"\"\n",
    "    Thin wrapper around a matplotlib figure which provides a custom\n",
    "    HTML representation that allows tweaking the appearance\n",
    "\n",
    "    \"\"\"\n",
    "    def __init__(self, fig, centered=False):\n",
    "        assert isinstance(fig, matplotlib.figure.Figure)\n",
    "        self.centered = centered\n",
    "\n",
    "    def _repr_html_(self):\n",
    "        img_str_png = fig2str(fig, format='png')\n",
    "        uri = 'data:image/png;base64,' + img_str_png\n",
    "        html_repr = \"<img src='{}'>\".format(uri)\n",
    "        if self.centered:\n",
    "            html_repr = \"<center>\" + html_repr + \"</center>\"\n",
    "        return html_repr"
   ]
  },
  {
   "cell_type": "code",
   "execution_count": 4,
   "metadata": {
    "hideCode": false,
    "hidePrompt": false,
    "slideshow": {
     "slide_type": "skip"
    }
   },
   "outputs": [],
   "source": [
    "# TODO: when tidying this up in the future, but these common functions I use\n",
    "# all the time in a separate .py file.\n",
    "def hyper_search(model, params, X, y, save_path, n_iter=60, metric=\"accuracy\", \n",
    "                 cv = KFold(5), random_state=42, refit=True,\n",
    "                 overwrite=False, warning=False, verbose=0):\n",
    "    if os.path.exists(save_path) and overwrite==False:\n",
    "        #load the model\n",
    "        models = joblib.load(save_path)\n",
    "    else:\n",
    "        # check all param inputs are lists\n",
    "        if all(type(x)==list for x in params.values()):\n",
    "            search_type = \"Gridsearch\"\n",
    "            models = GridSearchCV(model, param_grid=params, scoring=metric, cv=cv, \n",
    "                                  refit=refit, return_train_score=True, verbose=verbose)\n",
    "            n_iter = len(list(itertools.product(*list(iter(params.values())))))\n",
    "        else:\n",
    "            search_type = \"Randomsearch\"\n",
    "            if verbose>0:\n",
    "                print(\"Starting \"+search_type)\n",
    "            models = RandomizedSearchCV(model, param_distributions=params,\n",
    "                                        n_iter=n_iter, scoring=metric, cv=cv,\n",
    "                                        refit=refit, random_state=random_state,\n",
    "                                        return_train_score=True, verbose=verbose)\n",
    "        \n",
    "        start = time()\n",
    "        if warning:\n",
    "            models.fit(X, y)\n",
    "        else:\n",
    "            with warnings.catch_warnings():\n",
    "                warnings.simplefilter(\"ignore\")\n",
    "                models.fit(X, y)\n",
    "        \n",
    "        if verbose>0:\n",
    "            print(search_type + \" took %.2f seconds for %d candidates\" % ((time() - start), n_iter))\n",
    "        joblib.dump(models, save_path)\n",
    "    \n",
    "    return models"
   ]
  },
  {
   "cell_type": "markdown",
   "metadata": {
    "hideCode": false,
    "hidePrompt": false,
    "slideshow": {
     "slide_type": "subslide"
    }
   },
   "source": [
    "## Dataset Example: Lending Club<sup>18</sup>\n",
    "\n",
    "LendingClub (was) the world's largest peer-to-peer lending platform. \n",
    "\n",
    "Investors were able to search and browse the loan listings on LendingClub website and select loans that they want to invest in based on the information supplied about the borrower, amount of loan, loan grade, and loan purpose. \n",
    "- Investors make money from the interest on these loans. \n",
    "- LendingClub makes money by charging borrowers an origination fee and investors a service fee."
   ]
  },
  {
   "cell_type": "markdown",
   "metadata": {
    "hideCode": false,
    "hidePrompt": false,
    "slideshow": {
     "slide_type": "notes"
    }
   },
   "source": [
    "__Notes__\n",
    "\n",
    "- It was the first peer-to-peer lender to register its offerings as securities with the Securities and Exchange Commission (SEC), and to offer loan trading on a secondary market.\n",
    "- headquartered in San Francisco, California\n",
    "- It now takes an institutional investor-focused approach\n",
    "- Its loan trading platform was closed down in 2020"
   ]
  },
  {
   "cell_type": "code",
   "execution_count": 5,
   "metadata": {
    "hideCode": false,
    "hidePrompt": false,
    "slideshow": {
     "slide_type": "skip"
    }
   },
   "outputs": [
    {
     "data": {
      "text/html": [
       "<div>\n",
       "<style scoped>\n",
       "    .dataframe tbody tr th:only-of-type {\n",
       "        vertical-align: middle;\n",
       "    }\n",
       "\n",
       "    .dataframe tbody tr th {\n",
       "        vertical-align: top;\n",
       "    }\n",
       "\n",
       "    .dataframe thead th {\n",
       "        text-align: right;\n",
       "    }\n",
       "</style>\n",
       "<table border=\"1\" class=\"dataframe\">\n",
       "  <thead>\n",
       "    <tr style=\"text-align: right;\">\n",
       "      <th></th>\n",
       "      <th>loan_amnt</th>\n",
       "      <th>int_rate</th>\n",
       "      <th>annual_inc</th>\n",
       "      <th>dti</th>\n",
       "      <th>total_acc</th>\n",
       "      <th>term</th>\n",
       "      <th>home_ownership</th>\n",
       "      <th>emp_length</th>\n",
       "      <th>open_acc</th>\n",
       "      <th>pub_rec</th>\n",
       "      <th>...</th>\n",
       "      <th>mort_acc</th>\n",
       "      <th>avg_cur_bal</th>\n",
       "      <th>delinq_amnt</th>\n",
       "      <th>fico_range_high</th>\n",
       "      <th>fico_range_low</th>\n",
       "      <th>num_bc_tl</th>\n",
       "      <th>num_tl_90g_dpd_24m</th>\n",
       "      <th>zip_code</th>\n",
       "      <th>installment</th>\n",
       "      <th>loan_status</th>\n",
       "    </tr>\n",
       "  </thead>\n",
       "  <tbody>\n",
       "    <tr>\n",
       "      <th>0</th>\n",
       "      <td>17000.0</td>\n",
       "      <td>8.99%</td>\n",
       "      <td>105000.0</td>\n",
       "      <td>14.82</td>\n",
       "      <td>13.0</td>\n",
       "      <td>36 months</td>\n",
       "      <td>RENT</td>\n",
       "      <td>3 years</td>\n",
       "      <td>7.0</td>\n",
       "      <td>0.0</td>\n",
       "      <td>...</td>\n",
       "      <td>0.0</td>\n",
       "      <td>5321.0</td>\n",
       "      <td>0.0</td>\n",
       "      <td>734.0</td>\n",
       "      <td>730.0</td>\n",
       "      <td>3.0</td>\n",
       "      <td>0.0</td>\n",
       "      <td>941xx</td>\n",
       "      <td>540.52</td>\n",
       "      <td>Fully Paid</td>\n",
       "    </tr>\n",
       "    <tr>\n",
       "      <th>1</th>\n",
       "      <td>7500.0</td>\n",
       "      <td>15.61%</td>\n",
       "      <td>75000.0</td>\n",
       "      <td>24.14</td>\n",
       "      <td>19.0</td>\n",
       "      <td>36 months</td>\n",
       "      <td>RENT</td>\n",
       "      <td>6 years</td>\n",
       "      <td>14.0</td>\n",
       "      <td>0.0</td>\n",
       "      <td>...</td>\n",
       "      <td>3.0</td>\n",
       "      <td>17895.0</td>\n",
       "      <td>0.0</td>\n",
       "      <td>699.0</td>\n",
       "      <td>695.0</td>\n",
       "      <td>9.0</td>\n",
       "      <td>0.0</td>\n",
       "      <td>027xx</td>\n",
       "      <td>262.24</td>\n",
       "      <td>Fully Paid</td>\n",
       "    </tr>\n",
       "    <tr>\n",
       "      <th>2</th>\n",
       "      <td>12000.0</td>\n",
       "      <td>10.49%</td>\n",
       "      <td>44000.0</td>\n",
       "      <td>17.76</td>\n",
       "      <td>24.0</td>\n",
       "      <td>60 months</td>\n",
       "      <td>RENT</td>\n",
       "      <td>2 years</td>\n",
       "      <td>13.0</td>\n",
       "      <td>0.0</td>\n",
       "      <td>...</td>\n",
       "      <td>0.0</td>\n",
       "      <td>1280.0</td>\n",
       "      <td>0.0</td>\n",
       "      <td>794.0</td>\n",
       "      <td>790.0</td>\n",
       "      <td>6.0</td>\n",
       "      <td>0.0</td>\n",
       "      <td>231xx</td>\n",
       "      <td>257.87</td>\n",
       "      <td>Fully Paid</td>\n",
       "    </tr>\n",
       "    <tr>\n",
       "      <th>3</th>\n",
       "      <td>10000.0</td>\n",
       "      <td>11.05%</td>\n",
       "      <td>72000.0</td>\n",
       "      <td>8.45</td>\n",
       "      <td>20.0</td>\n",
       "      <td>36 months</td>\n",
       "      <td>MORTGAGE</td>\n",
       "      <td>5 years</td>\n",
       "      <td>6.0</td>\n",
       "      <td>0.0</td>\n",
       "      <td>...</td>\n",
       "      <td>2.0</td>\n",
       "      <td>9165.0</td>\n",
       "      <td>0.0</td>\n",
       "      <td>669.0</td>\n",
       "      <td>665.0</td>\n",
       "      <td>7.0</td>\n",
       "      <td>0.0</td>\n",
       "      <td>499xx</td>\n",
       "      <td>327.63</td>\n",
       "      <td>Fully Paid</td>\n",
       "    </tr>\n",
       "    <tr>\n",
       "      <th>4</th>\n",
       "      <td>24000.0</td>\n",
       "      <td>5.32%</td>\n",
       "      <td>235000.0</td>\n",
       "      <td>9.23</td>\n",
       "      <td>21.0</td>\n",
       "      <td>36 months</td>\n",
       "      <td>MORTGAGE</td>\n",
       "      <td>&lt; 1 year</td>\n",
       "      <td>12.0</td>\n",
       "      <td>0.0</td>\n",
       "      <td>...</td>\n",
       "      <td>2.0</td>\n",
       "      <td>20279.0</td>\n",
       "      <td>0.0</td>\n",
       "      <td>754.0</td>\n",
       "      <td>750.0</td>\n",
       "      <td>5.0</td>\n",
       "      <td>0.0</td>\n",
       "      <td>332xx</td>\n",
       "      <td>722.76</td>\n",
       "      <td>Fully Paid</td>\n",
       "    </tr>\n",
       "  </tbody>\n",
       "</table>\n",
       "<p>5 rows × 21 columns</p>\n",
       "</div>"
      ],
      "text/plain": [
       "   loan_amnt int_rate  annual_inc    dti  total_acc        term  \\\n",
       "0    17000.0    8.99%    105000.0  14.82       13.0   36 months   \n",
       "1     7500.0   15.61%     75000.0  24.14       19.0   36 months   \n",
       "2    12000.0   10.49%     44000.0  17.76       24.0   60 months   \n",
       "3    10000.0   11.05%     72000.0   8.45       20.0   36 months   \n",
       "4    24000.0    5.32%    235000.0   9.23       21.0   36 months   \n",
       "\n",
       "  home_ownership emp_length  open_acc  pub_rec  ...  mort_acc  avg_cur_bal  \\\n",
       "0           RENT    3 years       7.0      0.0  ...       0.0       5321.0   \n",
       "1           RENT    6 years      14.0      0.0  ...       3.0      17895.0   \n",
       "2           RENT    2 years      13.0      0.0  ...       0.0       1280.0   \n",
       "3       MORTGAGE    5 years       6.0      0.0  ...       2.0       9165.0   \n",
       "4       MORTGAGE   < 1 year      12.0      0.0  ...       2.0      20279.0   \n",
       "\n",
       "   delinq_amnt  fico_range_high  fico_range_low  num_bc_tl  \\\n",
       "0          0.0            734.0           730.0        3.0   \n",
       "1          0.0            699.0           695.0        9.0   \n",
       "2          0.0            794.0           790.0        6.0   \n",
       "3          0.0            669.0           665.0        7.0   \n",
       "4          0.0            754.0           750.0        5.0   \n",
       "\n",
       "   num_tl_90g_dpd_24m  zip_code installment  loan_status  \n",
       "0                 0.0     941xx      540.52   Fully Paid  \n",
       "1                 0.0     027xx      262.24   Fully Paid  \n",
       "2                 0.0     231xx      257.87   Fully Paid  \n",
       "3                 0.0     499xx      327.63   Fully Paid  \n",
       "4                 0.0     332xx      722.76   Fully Paid  \n",
       "\n",
       "[5 rows x 21 columns]"
      ]
     },
     "execution_count": 5,
     "metadata": {},
     "output_type": "execute_result"
    }
   ],
   "source": [
    "df = pd.read_csv('../Data/LCData/LC_reduced.csv')\n",
    "df = df.drop(\"Unnamed: 0\", axis=1)\n",
    "df.head()"
   ]
  },
  {
   "cell_type": "markdown",
   "metadata": {
    "hideCode": false,
    "hidePrompt": false,
    "slideshow": {
     "slide_type": "subslide"
    }
   },
   "source": [
    "When a person applies for a loan, there are two types of decisions that could be taken by the company<sup>18</sup>:\n",
    "\n",
    "- __Loan accepted__: If the company approves the loan, there are 3 possible scenarios described below:\n",
    "    - _Fully paid_: Applicant has fully paid the loan (the principal and the interest rate)\n",
    "    - _Current_: Applicant is in the process of paying the instalments, i.e. the tenure of the loan is not yet completed.\n",
    "    - _Charged-off_: Applicant has not paid the instalments in due time for a long period of time, i.e. he/she has defaulted on the loan\n",
    "- __Loan rejected__: The company had rejected the loan (because the candidate does not meet their requirements etc.)."
   ]
  },
  {
   "cell_type": "markdown",
   "metadata": {
    "hideCode": false,
    "hidePrompt": false,
    "slideshow": {
     "slide_type": "notes"
    }
   },
   "source": [
    "- _\"It now presents the algorithm just as a search tool for investors to find Notes they would like to purchase, using borrower and loan attributes such as the length of a loan term, target weighted average interest rate, borrower credit score, employment tenure, homeownership status, and others.[63]\"_ \n",
    "- _\"To reduce default risk, LendingClub focuses on high-credit-worthy borrowers, declining approximately 90% of the loan applications it received as of 2012[64] and assigning higher interest rates to riskier borrowers within its credit criteria.[23]\"_ \n",
    "- _\"Only borrowers with FICO score of 660 or higher can be approved for loans.[54]\"_\n",
    "- Lending Club blends traditional credit reports with data gathered from around the web."
   ]
  },
  {
   "cell_type": "code",
   "execution_count": 6,
   "metadata": {
    "hideCode": false,
    "hidePrompt": false,
    "slideshow": {
     "slide_type": "notes"
    }
   },
   "outputs": [
    {
     "data": {
      "text/plain": [
       "660.0"
      ]
     },
     "execution_count": 6,
     "metadata": {},
     "output_type": "execute_result"
    }
   ],
   "source": [
    "df['fico_range_low'].min()"
   ]
  },
  {
   "cell_type": "markdown",
   "metadata": {
    "hideCode": false,
    "hidePrompt": false,
    "slideshow": {
     "slide_type": "subslide"
    }
   },
   "source": [
    "When the company receives a loan application, the company has to make a decision for loan approval based on the applicant’s profile. Two types of risks are associated with the bank’s decision:\n",
    "\n",
    "- If the applicant is likely to repay the loan, then not approving the loan results in a loss of business to the company\n",
    "- If the applicant is not likely to repay the loan, i.e. he/she is likely to default, then approving the loan may lead to a financial loss for the company\n",
    "\n",
    "The data given contains the information about past loan applicants and whether they ‘defaulted’ or not. The aim is to identify patterns which indicate if a person is likely to default, which may be used for taking actions such as denying the loan, reducing the amount of loan, lending (to risky applicants) at a higher interest rate, etc."
   ]
  },
  {
   "cell_type": "code",
   "execution_count": 7,
   "metadata": {
    "hideCode": false,
    "hidePrompt": false,
    "slideshow": {
     "slide_type": "skip"
    }
   },
   "outputs": [
    {
     "name": "stdout",
     "output_type": "stream",
     "text": [
      "<class 'pandas.core.frame.DataFrame'>\n",
      "RangeIndex: 16775 entries, 0 to 16774\n",
      "Data columns (total 21 columns):\n",
      " #   Column                Non-Null Count  Dtype  \n",
      "---  ------                --------------  -----  \n",
      " 0   loan_amnt             16775 non-null  float64\n",
      " 1   int_rate              16775 non-null  object \n",
      " 2   annual_inc            16775 non-null  float64\n",
      " 3   dti                   16775 non-null  float64\n",
      " 4   total_acc             16775 non-null  float64\n",
      " 5   term                  16775 non-null  object \n",
      " 6   home_ownership        16775 non-null  object \n",
      " 7   emp_length            16775 non-null  object \n",
      " 8   open_acc              16775 non-null  float64\n",
      " 9   pub_rec               16775 non-null  float64\n",
      " 10  pub_rec_bankruptcies  16775 non-null  float64\n",
      " 11  mort_acc              16775 non-null  float64\n",
      " 12  avg_cur_bal           16775 non-null  float64\n",
      " 13  delinq_amnt           16775 non-null  float64\n",
      " 14  fico_range_high       16775 non-null  float64\n",
      " 15  fico_range_low        16775 non-null  float64\n",
      " 16  num_bc_tl             16775 non-null  float64\n",
      " 17  num_tl_90g_dpd_24m    16775 non-null  float64\n",
      " 18  zip_code              16775 non-null  object \n",
      " 19  installment           16775 non-null  float64\n",
      " 20  loan_status           16775 non-null  object \n",
      "dtypes: float64(15), object(6)\n",
      "memory usage: 2.7+ MB\n"
     ]
    }
   ],
   "source": [
    "df.info()"
   ]
  },
  {
   "cell_type": "code",
   "execution_count": 10,
   "metadata": {
    "hideCode": false,
    "hidePrompt": false,
    "slideshow": {
     "slide_type": "subslide"
    }
   },
   "outputs": [
    {
     "data": {
      "text/html": [
       "<div>\n",
       "<style scoped>\n",
       "    .dataframe tbody tr th:only-of-type {\n",
       "        vertical-align: middle;\n",
       "    }\n",
       "\n",
       "    .dataframe tbody tr th {\n",
       "        vertical-align: top;\n",
       "    }\n",
       "\n",
       "    .dataframe thead th {\n",
       "        text-align: right;\n",
       "    }\n",
       "</style>\n",
       "<table border=\"1\" class=\"dataframe\">\n",
       "  <thead>\n",
       "    <tr style=\"text-align: right;\">\n",
       "      <th></th>\n",
       "      <th>Description</th>\n",
       "    </tr>\n",
       "  </thead>\n",
       "  <tbody>\n",
       "    <tr>\n",
       "      <th>annual_inc</th>\n",
       "      <td>The self-reported annual income provided by the borrower during registration.</td>\n",
       "    </tr>\n",
       "    <tr>\n",
       "      <th>avg_cur_bal</th>\n",
       "      <td>Average current balance of all accounts</td>\n",
       "    </tr>\n",
       "    <tr>\n",
       "      <th>delinq_amnt</th>\n",
       "      <td>The past-due amount owed for the accounts on which the borrower is now delinquent.</td>\n",
       "    </tr>\n",
       "    <tr>\n",
       "      <th>dti</th>\n",
       "      <td>A ratio calculated using the borrower’s total monthly debt payments on the total debt obligations, excluding mortgage and the requested LC loan, divided by the borrower’s self-reported monthly income.</td>\n",
       "    </tr>\n",
       "    <tr>\n",
       "      <th>emp_length</th>\n",
       "      <td>Employment length in years. Possible values are between 0 and 10 where 0 means less than one year and 10 means ten or more years.</td>\n",
       "    </tr>\n",
       "    <tr>\n",
       "      <th>fico_range_high</th>\n",
       "      <td>The upper boundary range the borrower’s FICO at loan origination belongs to.</td>\n",
       "    </tr>\n",
       "    <tr>\n",
       "      <th>fico_range_low</th>\n",
       "      <td>The lower boundary range the borrower’s FICO at loan origination belongs to.</td>\n",
       "    </tr>\n",
       "    <tr>\n",
       "      <th>home_ownership</th>\n",
       "      <td>The home ownership status provided by the borrower during registration or obtained from the credit report. Our values are: RENT, OWN, MORTGAGE, OTHER</td>\n",
       "    </tr>\n",
       "    <tr>\n",
       "      <th>installment</th>\n",
       "      <td>The monthly payment owed by the borrower if the loan originates.</td>\n",
       "    </tr>\n",
       "    <tr>\n",
       "      <th>int_rate</th>\n",
       "      <td>Interest Rate on the loan</td>\n",
       "    </tr>\n",
       "    <tr>\n",
       "      <th>loan_amnt</th>\n",
       "      <td>The listed amount of the loan applied for by the borrower. If at some point in time, the credit department reduces the loan amount, then it will be reflected in this value.</td>\n",
       "    </tr>\n",
       "    <tr>\n",
       "      <th>loan_status</th>\n",
       "      <td>Current status of the loan</td>\n",
       "    </tr>\n",
       "    <tr>\n",
       "      <th>mort_acc</th>\n",
       "      <td>Number of mortgage accounts.</td>\n",
       "    </tr>\n",
       "    <tr>\n",
       "      <th>num_bc_tl</th>\n",
       "      <td>Number of bankcard accounts</td>\n",
       "    </tr>\n",
       "    <tr>\n",
       "      <th>num_tl_90g_dpd_24m</th>\n",
       "      <td>Number of accounts 90 or more days past due in last 24 months</td>\n",
       "    </tr>\n",
       "    <tr>\n",
       "      <th>open_acc</th>\n",
       "      <td>The number of open credit lines in the borrower's credit file.</td>\n",
       "    </tr>\n",
       "    <tr>\n",
       "      <th>pub_rec</th>\n",
       "      <td>Number of derogatory public records</td>\n",
       "    </tr>\n",
       "    <tr>\n",
       "      <th>pub_rec_bankruptcies</th>\n",
       "      <td>Number of public record bankruptcies</td>\n",
       "    </tr>\n",
       "    <tr>\n",
       "      <th>term</th>\n",
       "      <td>The number of payments on the loan. Values are in months and can be either 36 or 60.</td>\n",
       "    </tr>\n",
       "    <tr>\n",
       "      <th>total_acc</th>\n",
       "      <td>The total number of credit lines currently in the borrower's credit file</td>\n",
       "    </tr>\n",
       "    <tr>\n",
       "      <th>zip_code</th>\n",
       "      <td>The first 3 numbers of the zip code provided by the borrower in the loan application.</td>\n",
       "    </tr>\n",
       "  </tbody>\n",
       "</table>\n",
       "</div>"
      ],
      "text/plain": [
       "                                                                                                                                                                                                                   Description\n",
       "annual_inc                                                                                                                                       The self-reported annual income provided by the borrower during registration.\n",
       "avg_cur_bal                                                                                                                                                                            Average current balance of all accounts\n",
       "delinq_amnt                                                                                                                                 The past-due amount owed for the accounts on which the borrower is now delinquent.\n",
       "dti                   A ratio calculated using the borrower’s total monthly debt payments on the total debt obligations, excluding mortgage and the requested LC loan, divided by the borrower’s self-reported monthly income.\n",
       "emp_length                                                                                  Employment length in years. Possible values are between 0 and 10 where 0 means less than one year and 10 means ten or more years. \n",
       "fico_range_high                                                                                                                                   The upper boundary range the borrower’s FICO at loan origination belongs to.\n",
       "fico_range_low                                                                                                                                    The lower boundary range the borrower’s FICO at loan origination belongs to.\n",
       "home_ownership                                                           The home ownership status provided by the borrower during registration or obtained from the credit report. Our values are: RENT, OWN, MORTGAGE, OTHER\n",
       "installment                                                                                                                                                   The monthly payment owed by the borrower if the loan originates.\n",
       "int_rate                                                                                                                                                                                             Interest Rate on the loan\n",
       "loan_amnt                                         The listed amount of the loan applied for by the borrower. If at some point in time, the credit department reduces the loan amount, then it will be reflected in this value.\n",
       "loan_status                                                                                                                                                                                         Current status of the loan\n",
       "mort_acc                                                                                                                                                                                          Number of mortgage accounts.\n",
       "num_bc_tl                                                                                                                                                                                          Number of bankcard accounts\n",
       "num_tl_90g_dpd_24m                                                                                                                                               Number of accounts 90 or more days past due in last 24 months\n",
       "open_acc                                                                                                                                                        The number of open credit lines in the borrower's credit file.\n",
       "pub_rec                                                                                                                                                                                    Number of derogatory public records\n",
       "pub_rec_bankruptcies                                                                                                                                                                      Number of public record bankruptcies\n",
       "term                                                                                                                                      The number of payments on the loan. Values are in months and can be either 36 or 60.\n",
       "total_acc                                                                                                                                             The total number of credit lines currently in the borrower's credit file\n",
       "zip_code                                                                                                                                 The first 3 numbers of the zip code provided by the borrower in the loan application."
      ]
     },
     "metadata": {},
     "output_type": "display_data"
    }
   ],
   "source": [
    "import warnings # prevent warnings\n",
    "def set_pandas_display_options() -> None:\n",
    "    \"\"\"Set pandas display options.\"\"\"\n",
    "    # Ref: https://stackoverflow.com/a/52432757/\n",
    "    display = pd.options.display\n",
    "\n",
    "    display.max_columns = 1000\n",
    "    display.max_rows = 1000\n",
    "    display.max_colwidth = 1000\n",
    "    display.width = None\n",
    "    # display.precision = 2  # set as needed\n",
    "\n",
    "with warnings.catch_warnings():\n",
    "    warnings.simplefilter(\"ignore\")\n",
    "    set_pandas_display_options()\n",
    "    info = pd.read_excel(\"../Data/LCData/LCDataDictionary.xlsx\")\n",
    "    info = info[['LoanStatNew','Description']].iloc[0:-2]\n",
    "    display(info.set_index('LoanStatNew').loc[df.columns].sort_index())"
   ]
  },
  {
   "cell_type": "code",
   "execution_count": 11,
   "metadata": {
    "slideshow": {
     "slide_type": "skip"
    }
   },
   "outputs": [
    {
     "name": "stdout",
     "output_type": "stream",
     "text": [
      "As the xlwt package is no longer maintained, the xlwt engine will be removed in a future version of pandas. This is the only engine in pandas that supports writing in the xls format. Install openpyxl and write to an xlsx file instead.\n",
      "\n",
      ": boolean\n",
      "    use_inf_as_null had been deprecated and will be removed in a future\n",
      "    version. Use `use_inf_as_na` instead.\n",
      "\n"
     ]
    }
   ],
   "source": [
    "with warnings.catch_warnings():\n",
    "    warnings.simplefilter(\"ignore\")\n",
    "    # not sure why this give all this output\n",
    "    pd.reset_option('all')"
   ]
  },
  {
   "cell_type": "code",
   "execution_count": 12,
   "metadata": {
    "hideCode": false,
    "hidePrompt": false,
    "slideshow": {
     "slide_type": "fragment"
    }
   },
   "outputs": [
    {
     "name": "stdout",
     "output_type": "stream",
     "text": [
      "\u001b[1m\u001b[4mLoan Status (%)\u001b[0m\n"
     ]
    },
    {
     "data": {
      "text/plain": [
       "Fully Paid     80.81\n",
       "Charged Off    19.19\n",
       "Name: loan_status, dtype: float64"
      ]
     },
     "execution_count": 12,
     "metadata": {},
     "output_type": "execute_result"
    }
   ],
   "source": [
    "print(color.BOLD+color.UNDERLINE+\"Loan Status (%)\"+color.END)\n",
    "((df['loan_status'].value_counts()/len(df['loan_status']))*100).round(2)"
   ]
  },
  {
   "cell_type": "markdown",
   "metadata": {
    "hideCode": false,
    "hidePrompt": false,
    "slideshow": {
     "slide_type": "skip"
    }
   },
   "source": [
    "### Data Prep\n",
    "\n",
    "For the purposes of this lecture, we are only using a sample of the full dataset (~1%). This is to ensure things dont take an age to run. \n",
    "\n",
    "- You can have a look at how I prepared the data and reduced it down in the \"Loan_Club_Explore_and_Prep.ipynb\" found in the \"Extra\" folder.\n",
    "- You could also try play with the larger sample of data.\n",
    "- There are also 150 columns so loads of features, some of them potentially concerning!"
   ]
  },
  {
   "cell_type": "code",
   "execution_count": 13,
   "metadata": {
    "hideCode": false,
    "hidePrompt": false,
    "slideshow": {
     "slide_type": "skip"
    }
   },
   "outputs": [
    {
     "name": "stdout",
     "output_type": "stream",
     "text": [
      "<class 'pandas.core.frame.DataFrame'>\n",
      "RangeIndex: 16775 entries, 0 to 16774\n",
      "Data columns (total 19 columns):\n",
      " #   Column                Non-Null Count  Dtype  \n",
      "---  ------                --------------  -----  \n",
      " 0   loan_amnt             16775 non-null  float64\n",
      " 1   int_rate              16775 non-null  float64\n",
      " 2   annual_inc            16775 non-null  float64\n",
      " 3   dti                   16775 non-null  float64\n",
      " 4   total_acc             16775 non-null  float64\n",
      " 5   term                  16775 non-null  int32  \n",
      " 6   emp_length            16775 non-null  int32  \n",
      " 7   open_acc              16775 non-null  float64\n",
      " 8   pub_rec               16775 non-null  float64\n",
      " 9   pub_rec_bankruptcies  16775 non-null  float64\n",
      " 10  mort_acc              16775 non-null  float64\n",
      " 11  avg_cur_bal           16775 non-null  float64\n",
      " 12  delinq_amnt           16775 non-null  float64\n",
      " 13  fico_range_high       16775 non-null  float64\n",
      " 14  fico_range_low        16775 non-null  float64\n",
      " 15  num_bc_tl             16775 non-null  float64\n",
      " 16  num_tl_90g_dpd_24m    16775 non-null  float64\n",
      " 17  installment           16775 non-null  float64\n",
      " 18  loan_status           16775 non-null  object \n",
      "dtypes: float64(16), int32(2), object(1)\n",
      "memory usage: 2.3+ MB\n"
     ]
    }
   ],
   "source": [
    "# turn intrest rate into a float\n",
    "df['int_rate'] = df['int_rate'].str.replace(r'%', '').astype(float)\n",
    "# get the employment length in years\n",
    "df['emp_length'] = df['emp_length'].str.extract('(\\d+)').astype(int)\n",
    "# get the loan term in months\n",
    "df['term'] = df['term'].str.extract('(\\d+)').astype(int)\n",
    "# we are going to remove categorical variables for now as scikit-learn\n",
    "# doesnt like them (see later).\n",
    "cont_df = df.drop(['home_ownership', 'zip_code'], axis=1)\n",
    "cont_df.info()"
   ]
  },
  {
   "cell_type": "code",
   "execution_count": 14,
   "metadata": {
    "hideCode": false,
    "hidePrompt": false,
    "slideshow": {
     "slide_type": "skip"
    }
   },
   "outputs": [],
   "source": [
    "from sklearn.preprocessing import LabelEncoder\n",
    "from sklearn.model_selection import train_test_split\n",
    "\n",
    "LE = LabelEncoder()\n",
    "data_x, data_y = cont_df.drop(['loan_status'], axis=1), cont_df['loan_status']\n",
    "\n",
    "# it will do this alpabetically but we want our positive value to\n",
    "# be \"charged off\".\n",
    "classes = list(cont_df['loan_status'].unique())\n",
    "classes.sort(reverse=True)\n",
    "LE.fit(classes)\n",
    "LE.classes = np.array(classes)\n",
    "LE.classes_ = np.array(classes)\n",
    "\n",
    "data_y = LE.transform(data_y)\n",
    "\n",
    "X_train, X_test, y_train, y_test = train_test_split(data_x.values, data_y, test_size = 0.1, random_state=42)\n",
    "X_train, X_val, y_train, y_val = train_test_split(X_train, y_train, test_size = 0.1, random_state=42)"
   ]
  },
  {
   "cell_type": "markdown",
   "metadata": {
    "hideCode": false,
    "hidePrompt": false,
    "slideshow": {
     "slide_type": "slide"
    }
   },
   "source": [
    "# 7. Imballanced Data <a id='imb'></a>\n",
    "\n",
    "## Forest\n",
    "We can deal with class imballance using <code>class_weight = 'balanced'</code>, alike to discussed last week.\n",
    "\n",
    "We can also undersample using a _ballanced random forest_, which builds several estimators on different randomly selected subsets of data. \n",
    "\n",
    "Generally what performs better depends on the amount of data you are training on and the aims of the model."
   ]
  },
  {
   "cell_type": "markdown",
   "metadata": {
    "hideCode": false,
    "hidePrompt": false,
    "slideshow": {
     "slide_type": "notes"
    }
   },
   "source": [
    "__Notes__\n",
    "- Balanced Random Forests are generally faster to train.\n",
    "- If data is small then class weight will probably be better (as seen below), but if you have very large datasets, then undersampling will likely work better."
   ]
  },
  {
   "cell_type": "code",
   "execution_count": 15,
   "metadata": {
    "hideCode": false,
    "hidePrompt": false,
    "slideshow": {
     "slide_type": "skip"
    }
   },
   "outputs": [],
   "source": [
    "# from https://realpython.com/python-timer/\n",
    "\n",
    "import time\n",
    "\n",
    "class TimerError(Exception):\n",
    "    \"\"\"A custom exception used to report errors in use of Timer class\"\"\"\n",
    "\n",
    "class Timer:\n",
    "    def __init__(self):\n",
    "        self._start_time = None\n",
    "\n",
    "    def start(self):\n",
    "        \"\"\"Start a new timer\"\"\"\n",
    "        if self._start_time is not None:\n",
    "            raise TimerError(f\"Timer is running. Use .stop() to stop it\")\n",
    "\n",
    "        self._start_time = time.perf_counter()\n",
    "\n",
    "    def stop(self):\n",
    "        \"\"\"Stop the timer, and report the elapsed time\"\"\"\n",
    "        if self._start_time is None:\n",
    "            raise TimerError(f\"Timer is not running. Use .start() to start it\")\n",
    "\n",
    "        elapsed_time = time.perf_counter() - self._start_time\n",
    "        self._start_time = None\n",
    "        print(f\"Elapsed time: {elapsed_time:0.2f} seconds\")\n",
    "        return elapsed_time"
   ]
  },
  {
   "cell_type": "code",
   "execution_count": 16,
   "metadata": {
    "hideCode": false,
    "hidePrompt": false,
    "slideshow": {
     "slide_type": "fragment"
    }
   },
   "outputs": [
    {
     "name": "stdout",
     "output_type": "stream",
     "text": [
      "\u001b[1m\u001b[4mRandom Forest\u001b[0m\n",
      "Elapsed time: 0.71 seconds\n",
      "OOB Score: 0.803\n",
      "\u001b[1m\u001b[4mRandom Forest (Balanced Class Weight)\u001b[0m\n",
      "Elapsed time: 0.79 seconds\n",
      "OOB Score: 0.803\n",
      "\u001b[1m\u001b[4mBalanced Random Forest\u001b[0m\n",
      "Elapsed time: 0.66 seconds\n",
      "OOB Score: 0.635\n"
     ]
    }
   ],
   "source": [
    "from imblearn.ensemble import BalancedRandomForestClassifier\n",
    "from sklearn.ensemble import RandomForestClassifier\n",
    "from sklearn.model_selection import cross_val_score\n",
    "from sklearn.base import clone\n",
    "\n",
    "t = Timer()\n",
    "\n",
    "RF = RandomForestClassifier(criterion='gini',\n",
    "                            n_estimators=100,\n",
    "                            random_state=42,\n",
    "                            oob_score = True,\n",
    "                            n_jobs=-1)\n",
    "\n",
    "RF_weight = clone(RF)\n",
    "RF_weight.set_params(**{'class_weight': 'balanced'})\n",
    "\n",
    "bal_f = BalancedRandomForestClassifier(criterion='gini',\n",
    "                                       n_estimators=100,\n",
    "                                       max_features = 'sqrt',\n",
    "                                       random_state=42,\n",
    "                                       oob_score = True,\n",
    "                                       n_jobs=-1)\n",
    "\n",
    "rf_dict = {'Random Forest':RF, 'Random Forest (Balanced Class Weight)':RF_weight, 'Balanced Random Forest':bal_f}\n",
    "\n",
    "for classifier_name in rf_dict:\n",
    "    t.start()\n",
    "    rf_dict[classifier_name].fit(X_train, y=y_train)\n",
    "    print(color.BOLD+color.UNDERLINE+classifier_name+color.END)\n",
    "    t.stop()\n",
    "    print('OOB Score: %.3f' % (rf_dict[classifier_name].oob_score_))"
   ]
  },
  {
   "cell_type": "markdown",
   "metadata": {
    "hideCode": false,
    "hidePrompt": false,
    "slideshow": {
     "slide_type": "subslide"
    }
   },
   "source": [
    "__Notes__\n",
    "\n",
    "- Remember from last week, accuracy can only tell us so much! "
   ]
  },
  {
   "cell_type": "code",
   "execution_count": 17,
   "metadata": {
    "hideCode": false,
    "hidePrompt": false,
    "slideshow": {
     "slide_type": "subslide"
    }
   },
   "outputs": [
    {
     "data": {
      "image/png": "[encoded data removed]",
      "text/plain": [
       "<Figure size 776.64x480 with 1 Axes>"
      ]
     },
     "metadata": {
      "needs_background": "light"
     },
     "output_type": "display_data"
    },
    {
     "data": {
      "image/png": "[encoded data removed]",
      "text/plain": [
       "<Figure size 776.64x480 with 1 Axes>"
      ]
     },
     "metadata": {
      "needs_background": "light"
     },
     "output_type": "display_data"
    },
    {
     "data": {
      "image/png": "[encoded data removed]",
      "text/plain": [
       "<Figure size 776.64x480 with 1 Axes>"
      ]
     },
     "metadata": {
      "needs_background": "light"
     },
     "output_type": "display_data"
    }
   ],
   "source": [
    "from sklearn.metrics import confusion_matrix\n",
    "import warnings # prevent warnings\n",
    "\n",
    "# this creates the matplotlib graph to make the confmat look nicer\n",
    "def pretty_confusion_matrix(confmat, labels, title, labeling=False, highlight_indexes=[]):\n",
    "\n",
    "    labels_list = [[\"TN\", \"FP\"], [\"FN\", \"TP\"]]\n",
    "    \n",
    "    fig, ax = plt.subplots(figsize=(width_inch, height_inch))\n",
    "    ax.matshow(confmat, cmap=plt.cm.Blues, alpha=0.3)\n",
    "    for i in range(confmat.shape[0]):\n",
    "        for j in range(confmat.shape[1]):\n",
    "            if labeling:\n",
    "                label = str(confmat[i, j])+\" (\"+labels_list[i][j]+\")\"\n",
    "            else:\n",
    "                label = confmat[i, j]\n",
    "            \n",
    "            \n",
    "            if [i,j] in highlight_indexes:\n",
    "                ax.text(x=j, y=i, s=label, va='center', ha='center',\n",
    "                        weight = \"bold\", fontsize=18, color='#32618b')\n",
    "            else:\n",
    "                ax.text(x=j, y=i, s=label, va='center', ha='center')\n",
    "       \n",
    "    # change the labels\n",
    "    with warnings.catch_warnings():\n",
    "        warnings.simplefilter(\"ignore\")\n",
    "        ax.set_xticklabels(['']+[labels[0], labels[1]])\n",
    "        ax.set_yticklabels(['']+[labels[0], labels[1]])\n",
    "\n",
    "    plt.xlabel('Predicted Label')\n",
    "    plt.ylabel('True Label')\n",
    "    ax.xaxis.set_label_position('top')\n",
    "    plt.suptitle(title)\n",
    "    plt.tight_layout()\n",
    "    \n",
    "    plt.show()\n",
    "    \n",
    "\n",
    "for classifier_name in rf_dict:\n",
    "    # use the first classifier to predict the validation set    \n",
    "    predictions = rf_dict[classifier_name].predict(X_val)\n",
    "\n",
    "    # get the confusion matrix as a numpy array\n",
    "    confmat = confusion_matrix(y_true=y_val, y_pred=predictions)\n",
    "\n",
    "    fig_num+=1\n",
    "    # use the pretty function to make it nicer\n",
    "    pretty_confusion_matrix(confmat, LE.classes_,\n",
    "                            \"Figure %d: \"%fig_num+classifier_name+\" Validation Confusion Matrix\",\n",
    "                            labeling=True,\n",
    "                           )"
   ]
  },
  {
   "cell_type": "markdown",
   "metadata": {
    "hideCode": false,
    "hidePrompt": false,
    "slideshow": {
     "slide_type": "skip"
    }
   },
   "source": [
    "__Notes__\n",
    "\n",
    "- This looks like the problem we had last week, depending on what we try we either have poor performance on the minority class (\"Charged Off\") or have a high false positive rate."
   ]
  },
  {
   "cell_type": "code",
   "execution_count": 18,
   "metadata": {
    "hideCode": false,
    "hidePrompt": false,
    "slideshow": {
     "slide_type": "skip"
    }
   },
   "outputs": [
    {
     "data": {
      "text/html": [
       "<div>\n",
       "<style scoped>\n",
       "    .dataframe tbody tr th:only-of-type {\n",
       "        vertical-align: middle;\n",
       "    }\n",
       "\n",
       "    .dataframe tbody tr th {\n",
       "        vertical-align: top;\n",
       "    }\n",
       "\n",
       "    .dataframe thead th {\n",
       "        text-align: right;\n",
       "    }\n",
       "</style>\n",
       "<table border=\"1\" class=\"dataframe\">\n",
       "  <thead>\n",
       "    <tr style=\"text-align: right;\">\n",
       "      <th></th>\n",
       "      <th></th>\n",
       "      <th>Fully Paid</th>\n",
       "      <th>Charged Off</th>\n",
       "      <th>accuracy</th>\n",
       "      <th>macro avg</th>\n",
       "      <th>weighted avg</th>\n",
       "    </tr>\n",
       "    <tr>\n",
       "      <th>classifer</th>\n",
       "      <th>metric</th>\n",
       "      <th></th>\n",
       "      <th></th>\n",
       "      <th></th>\n",
       "      <th></th>\n",
       "      <th></th>\n",
       "    </tr>\n",
       "  </thead>\n",
       "  <tbody>\n",
       "    <tr>\n",
       "      <th rowspan=\"4\" valign=\"top\">Random Forest</th>\n",
       "      <th>precision</th>\n",
       "      <td>0.82</td>\n",
       "      <td>0.55</td>\n",
       "      <td>0.82</td>\n",
       "      <td>0.69</td>\n",
       "      <td>0.77</td>\n",
       "    </tr>\n",
       "    <tr>\n",
       "      <th>recall</th>\n",
       "      <td>0.99</td>\n",
       "      <td>0.06</td>\n",
       "      <td>0.82</td>\n",
       "      <td>0.52</td>\n",
       "      <td>0.82</td>\n",
       "    </tr>\n",
       "    <tr>\n",
       "      <th>f1-score</th>\n",
       "      <td>0.90</td>\n",
       "      <td>0.11</td>\n",
       "      <td>0.82</td>\n",
       "      <td>0.50</td>\n",
       "      <td>0.75</td>\n",
       "    </tr>\n",
       "    <tr>\n",
       "      <th>support</th>\n",
       "      <td>1230.00</td>\n",
       "      <td>280.00</td>\n",
       "      <td>0.82</td>\n",
       "      <td>1510.00</td>\n",
       "      <td>1510.00</td>\n",
       "    </tr>\n",
       "    <tr>\n",
       "      <th rowspan=\"4\" valign=\"top\">Random Forest (Balanced Class Weight)</th>\n",
       "      <th>precision</th>\n",
       "      <td>0.81</td>\n",
       "      <td>0.19</td>\n",
       "      <td>0.81</td>\n",
       "      <td>0.50</td>\n",
       "      <td>0.70</td>\n",
       "    </tr>\n",
       "    <tr>\n",
       "      <th>recall</th>\n",
       "      <td>0.99</td>\n",
       "      <td>0.01</td>\n",
       "      <td>0.81</td>\n",
       "      <td>0.50</td>\n",
       "      <td>0.81</td>\n",
       "    </tr>\n",
       "    <tr>\n",
       "      <th>f1-score</th>\n",
       "      <td>0.89</td>\n",
       "      <td>0.03</td>\n",
       "      <td>0.81</td>\n",
       "      <td>0.46</td>\n",
       "      <td>0.73</td>\n",
       "    </tr>\n",
       "    <tr>\n",
       "      <th>support</th>\n",
       "      <td>1230.00</td>\n",
       "      <td>280.00</td>\n",
       "      <td>0.81</td>\n",
       "      <td>1510.00</td>\n",
       "      <td>1510.00</td>\n",
       "    </tr>\n",
       "    <tr>\n",
       "      <th rowspan=\"4\" valign=\"top\">Balanced Random Forest</th>\n",
       "      <th>precision</th>\n",
       "      <td>0.87</td>\n",
       "      <td>0.26</td>\n",
       "      <td>0.60</td>\n",
       "      <td>0.56</td>\n",
       "      <td>0.76</td>\n",
       "    </tr>\n",
       "    <tr>\n",
       "      <th>recall</th>\n",
       "      <td>0.60</td>\n",
       "      <td>0.60</td>\n",
       "      <td>0.60</td>\n",
       "      <td>0.60</td>\n",
       "      <td>0.60</td>\n",
       "    </tr>\n",
       "    <tr>\n",
       "      <th>f1-score</th>\n",
       "      <td>0.71</td>\n",
       "      <td>0.36</td>\n",
       "      <td>0.60</td>\n",
       "      <td>0.54</td>\n",
       "      <td>0.65</td>\n",
       "    </tr>\n",
       "    <tr>\n",
       "      <th>support</th>\n",
       "      <td>1230.00</td>\n",
       "      <td>280.00</td>\n",
       "      <td>0.60</td>\n",
       "      <td>1510.00</td>\n",
       "      <td>1510.00</td>\n",
       "    </tr>\n",
       "  </tbody>\n",
       "</table>\n",
       "</div>"
      ],
      "text/plain": [
       "                                                 Fully Paid  Charged Off  \\\n",
       "classifer                             metric                               \n",
       "Random Forest                         precision        0.82         0.55   \n",
       "                                      recall           0.99         0.06   \n",
       "                                      f1-score         0.90         0.11   \n",
       "                                      support       1230.00       280.00   \n",
       "Random Forest (Balanced Class Weight) precision        0.81         0.19   \n",
       "                                      recall           0.99         0.01   \n",
       "                                      f1-score         0.89         0.03   \n",
       "                                      support       1230.00       280.00   \n",
       "Balanced Random Forest                precision        0.87         0.26   \n",
       "                                      recall           0.60         0.60   \n",
       "                                      f1-score         0.71         0.36   \n",
       "                                      support       1230.00       280.00   \n",
       "\n",
       "                                                 accuracy  macro avg  \\\n",
       "classifer                             metric                           \n",
       "Random Forest                         precision      0.82       0.69   \n",
       "                                      recall         0.82       0.52   \n",
       "                                      f1-score       0.82       0.50   \n",
       "                                      support        0.82    1510.00   \n",
       "Random Forest (Balanced Class Weight) precision      0.81       0.50   \n",
       "                                      recall         0.81       0.50   \n",
       "                                      f1-score       0.81       0.46   \n",
       "                                      support        0.81    1510.00   \n",
       "Balanced Random Forest                precision      0.60       0.56   \n",
       "                                      recall         0.60       0.60   \n",
       "                                      f1-score       0.60       0.54   \n",
       "                                      support        0.60    1510.00   \n",
       "\n",
       "                                                 weighted avg  \n",
       "classifer                             metric                   \n",
       "Random Forest                         precision          0.77  \n",
       "                                      recall             0.82  \n",
       "                                      f1-score           0.75  \n",
       "                                      support         1510.00  \n",
       "Random Forest (Balanced Class Weight) precision          0.70  \n",
       "                                      recall             0.81  \n",
       "                                      f1-score           0.73  \n",
       "                                      support         1510.00  \n",
       "Balanced Random Forest                precision          0.76  \n",
       "                                      recall             0.60  \n",
       "                                      f1-score           0.65  \n",
       "                                      support         1510.00  "
      ]
     },
     "metadata": {},
     "output_type": "display_data"
    }
   ],
   "source": [
    "from sklearn.metrics import classification_report\n",
    "\n",
    "for i, classifier_name in enumerate(rf_dict):\n",
    "    # use the first classifier to predict the validation set    \n",
    "    predictions = rf_dict[classifier_name].predict(X_val)\n",
    "\n",
    "    report = pd.DataFrame(classification_report(y_val, \n",
    "                                       predictions, \n",
    "                                       labels=None, \n",
    "                                       target_names=LE.classes_, \n",
    "                                       sample_weight=None, \n",
    "                                       digits=2, \n",
    "                                       output_dict=True)).round(2)\n",
    "    report['classifer'] = classifier_name\n",
    "    \n",
    "    if i == 0:\n",
    "        reports = report\n",
    "    else:\n",
    "        reports = pd.concat([reports, report])\n",
    "\n",
    "reports.index.name = 'metric'\n",
    "reports = reports.set_index('classifer', append=True)\n",
    "reports = reports.swaplevel()\n",
    "display(reports)"
   ]
  },
  {
   "cell_type": "markdown",
   "metadata": {
    "hideCode": false,
    "hidePrompt": false,
    "slideshow": {
     "slide_type": "skip"
    }
   },
   "source": [
    "The above was just done on pretty much the default params, so you'd want to do some searches to get better hyperparameters."
   ]
  },
  {
   "cell_type": "code",
   "execution_count": 19,
   "metadata": {
    "hideCode": false,
    "hidePrompt": false,
    "slideshow": {
     "slide_type": "skip"
    }
   },
   "outputs": [
    {
     "data": {
      "text/html": [
       "<div>\n",
       "<style scoped>\n",
       "    .dataframe tbody tr th:only-of-type {\n",
       "        vertical-align: middle;\n",
       "    }\n",
       "\n",
       "    .dataframe tbody tr th {\n",
       "        vertical-align: top;\n",
       "    }\n",
       "\n",
       "    .dataframe thead th {\n",
       "        text-align: right;\n",
       "    }\n",
       "</style>\n",
       "<table border=\"1\" class=\"dataframe\">\n",
       "  <thead>\n",
       "    <tr style=\"text-align: right;\">\n",
       "      <th></th>\n",
       "      <th>param_n_estimators</th>\n",
       "      <th>param_max_features</th>\n",
       "      <th>param_class_weight</th>\n",
       "      <th>mean_test_score</th>\n",
       "      <th>std_test_score</th>\n",
       "    </tr>\n",
       "  </thead>\n",
       "  <tbody>\n",
       "    <tr>\n",
       "      <th>28</th>\n",
       "      <td>105</td>\n",
       "      <td>11</td>\n",
       "      <td>None</td>\n",
       "      <td>0.103820</td>\n",
       "      <td>0.016114</td>\n",
       "    </tr>\n",
       "    <tr>\n",
       "      <th>25</th>\n",
       "      <td>151</td>\n",
       "      <td>12</td>\n",
       "      <td>None</td>\n",
       "      <td>0.100164</td>\n",
       "      <td>0.012414</td>\n",
       "    </tr>\n",
       "    <tr>\n",
       "      <th>39</th>\n",
       "      <td>97</td>\n",
       "      <td>7</td>\n",
       "      <td>None</td>\n",
       "      <td>0.097164</td>\n",
       "      <td>0.012689</td>\n",
       "    </tr>\n",
       "    <tr>\n",
       "      <th>4</th>\n",
       "      <td>291</td>\n",
       "      <td>12</td>\n",
       "      <td>None</td>\n",
       "      <td>0.096904</td>\n",
       "      <td>0.013131</td>\n",
       "    </tr>\n",
       "    <tr>\n",
       "      <th>0</th>\n",
       "      <td>120</td>\n",
       "      <td>17</td>\n",
       "      <td>None</td>\n",
       "      <td>0.095412</td>\n",
       "      <td>0.007575</td>\n",
       "    </tr>\n",
       "  </tbody>\n",
       "</table>\n",
       "</div>"
      ],
      "text/plain": [
       "   param_n_estimators param_max_features param_class_weight  mean_test_score  \\\n",
       "28                105                 11               None         0.103820   \n",
       "25                151                 12               None         0.100164   \n",
       "39                 97                  7               None         0.097164   \n",
       "4                 291                 12               None         0.096904   \n",
       "0                 120                 17               None         0.095412   \n",
       "\n",
       "    std_test_score  \n",
       "28        0.016114  \n",
       "25        0.012414  \n",
       "39        0.012689  \n",
       "4         0.013131  \n",
       "0         0.007575  "
      ]
     },
     "metadata": {},
     "output_type": "display_data"
    }
   ],
   "source": [
    "from time import time\n",
    "import joblib\n",
    "rf_param_dist = {'n_estimators': range(50, 500),\n",
    "                 'max_features': range(1, X_train.shape[1]),\n",
    "                 'class_weight': [None, 'balanced']}\n",
    "\n",
    "lc_rf_rs = hyper_search(RF, rf_param_dist, X_train, y_train,\n",
    "                        os.path.join(os.getcwd(), \"Models\", \"lc_rf_rs.pkl\"),\n",
    "                        n_iter=60, overwrite=False, metric=\"f1\", verbose=2)\n",
    "display(pd.DataFrame(lc_rf_rs.cv_results_).sort_values(\"rank_test_score\")[[\"param_n_estimators\",\n",
    "                                                                           \"param_max_features\",\n",
    "                                                                           \"param_class_weight\",\n",
    "                                                                           \"mean_test_score\", \n",
    "                                                                           \"std_test_score\"]].head())"
   ]
  },
  {
   "cell_type": "code",
   "execution_count": null,
   "metadata": {
    "hideCode": false,
    "hidePrompt": false,
    "slideshow": {
     "slide_type": "skip"
    }
   },
   "outputs": [],
   "source": [
    "del rf_param_dist['class_weight']\n",
    "\n",
    "lc_bal_rf_rs = hyper_search(bal_f, rf_param_dist, X_train, y_train,\n",
    "                        os.path.join(os.getcwd(), \"Models\", \"lc_bal_rf_rs.pkl\"),\n",
    "                        n_iter=60, overwrite=False, metric=\"f1\", verbose=2)\n",
    "display(pd.DataFrame(lc_bal_rf_rs.cv_results_).sort_values(\"rank_test_score\")[[\"param_n_estimators\",\n",
    "                                                                               \"param_max_features\",\n",
    "                                                                               \"mean_test_score\", \n",
    "                                                                               \"std_test_score\"]].head())"
   ]
  },
  {
   "cell_type": "markdown",
   "metadata": {
    "hideCode": false,
    "hidePrompt": false,
    "slideshow": {
     "slide_type": "slide"
    }
   },
   "source": [
    "# 8. Feature Interpretation/Reduction <a id='feats'>\n",
    "    \n",
    "## Feature importances\n",
    "    \n",
    "Feature importances, as we have previously seen, can give us insight into the important features for our model."
   ]
  },
  {
   "cell_type": "code",
   "execution_count": null,
   "metadata": {
    "hideCode": false,
    "hidePrompt": false,
    "slideshow": {
     "slide_type": "fragment"
    }
   },
   "outputs": [],
   "source": [
    "fig = plt.figure(figsize = (width_inch, height_inch))\n",
    "\n",
    "# get the importances for the features\n",
    "rf_importances = lc_bal_rf_rs.best_estimator_.feature_importances_\n",
    "\n",
    "rf_importances_series = pd.Series(rf_importances,index=data_x.columns).sort_index(ascending = False)\n",
    "\n",
    "# plot the important features\n",
    "rf_importances_series.plot.barh(legend =False, grid=False,)\n",
    "\n",
    "fig_num+=1\n",
    "plt.suptitle('Figure %d: Average Feature Importances for a Balanced Random Forest'%fig_num)\n",
    "plt.tight_layout()\n",
    "plt.close()\n",
    "display(MatplotlibFigure(fig, centered=True))"
   ]
  },
  {
   "cell_type": "markdown",
   "metadata": {
    "hideCode": false,
    "hidePrompt": false,
    "slideshow": {
     "slide_type": "subslide"
    }
   },
   "source": [
    "We could also use the importance of each feature (using average impurity decrease), for feature selection.\n",
    "\n",
    "We can put it in a pipeline and use the <code>SelectFromModel</code> function from Scikit-learn."
   ]
  },
  {
   "cell_type": "markdown",
   "metadata": {
    "hideCode": false,
    "hidePrompt": false,
    "slideshow": {
     "slide_type": "notes"
    }
   },
   "source": [
    "__Notes__\n",
    "\n",
    "- We can provide both a numeric theshold or use a heuristic such as the mean and median<sup>5</sup>."
   ]
  },
  {
   "cell_type": "code",
   "execution_count": null,
   "metadata": {
    "hideCode": false,
    "hidePrompt": false,
    "slideshow": {
     "slide_type": "skip"
    }
   },
   "outputs": [],
   "source": [
    "from sklearn.feature_selection import SelectFromModel\n",
    "from sklearn.svm import SVC\n",
    "from sklearn.model_selection import StratifiedKFold\n",
    "from sklearn.pipeline import Pipeline\n",
    "from sklearn.model_selection import cross_val_score\n",
    "\n",
    "svm = SVC(kernel='rbf', random_state=42, class_weight = 'balanced')\n",
    "\n",
    "rf_svm = Pipeline([\n",
    "  ('feature_selection', SelectFromModel(lc_bal_rf_rs.best_estimator_, threshold = 'mean')),\n",
    "  ('classification', svm)\n",
    "])\n",
    "\n",
    "svm_dict = {'SVM':svm, 'Forest SVM':rf_svm}\n",
    "\n",
    "for classifier_name in svm_dict:\n",
    "    scores = cross_val_score(estimator=svm_dict[classifier_name], \n",
    "                             X=X_train, \n",
    "                             y=y_train, \n",
    "                             scoring = 'f1',\n",
    "                             cv=StratifiedKFold(),\n",
    "                             n_jobs=-1)\n",
    "\n",
    "    print(color.BOLD+color.UNDERLINE+classifier_name+color.END)\n",
    "    print('CV f1-score: %.3f +/- %.3f' % (np.mean(scores), np.std(scores)))"
   ]
  },
  {
   "cell_type": "markdown",
   "metadata": {
    "hideCode": false,
    "hidePrompt": false,
    "slideshow": {
     "slide_type": "subslide"
    }
   },
   "source": [
    "## Limitations\n",
    "\n",
    "- Feature importances can be misleading for high cardinality features (many unique values)<sup>6</sup>\n",
    "\n",
    "- If features are highly correlated, one feature may be ranked highly while the information of the others not being fully captured<sup>4</sup>. "
   ]
  },
  {
   "cell_type": "code",
   "execution_count": null,
   "metadata": {
    "hideCode": false,
    "hidePrompt": false,
    "slideshow": {
     "slide_type": "fragment"
    }
   },
   "outputs": [],
   "source": [
    "plt.figure(figsize=(width_inch, height_inch))\n",
    "sns.heatmap(data_x.corr(), cmap='viridis')\n",
    "plt.show()"
   ]
  },
  {
   "cell_type": "markdown",
   "metadata": {
    "hideCode": false,
    "hidePrompt": false,
    "slideshow": {
     "slide_type": "subslide"
    }
   },
   "source": [
    "## Permutation Importance\n",
    "\n",
    "The permutation feature importance is defined to be the decrease in a model score when a single feature value is randomly shuffled<sup>7</sup>.\n",
    "\n",
    "This procedure breaks the relationship between the feature and the target, thus the drop in the model score is indicative of how much the model depends on the feature<sup>8</sup>."
   ]
  },
  {
   "cell_type": "markdown",
   "metadata": {
    "hideCode": false,
    "hidePrompt": false,
    "slideshow": {
     "slide_type": "notes"
    }
   },
   "source": [
    "__Notes__\n",
    "\n",
    "- _\" In the permutation-based approach, for each tree, the OOB sample is passed down the tree and the prediction accuracy is recorded. Then the values for each variable (one at a time) are randomly permuted and the accuracy is again computed. The decrease in accuracy as a result of this randomly shuffling of feature values is averaged over all the trees for each predictor. The variables with the largest average decrease in accuracy are considered most important.\"_<sup>9</sup>\n",
    "\n",
    "- _\"This technique benefits from being model agnostic and can be calculated many times with different permutations of the feature.\"_ https://scikit-learn.org/stable/modules/permutation_importance.html\n",
    "\n",
    "- _\"Using a held-out set makes it possible to highlight which features contribute the most to the generalization power of the inspected model. Features that are important on the training set but not on the held-out set might cause the model to overfit.\"_ https://scikit-learn.org/stable/modules/permutation_importance.html\n",
    "\n",
    "- _\"Warning: Features that are deemed of low importance for a bad model (low cross-validation score) could be very important for a good model. Therefore it is always important to evaluate the predictive power of a model using a held-out set (or better with cross-validation) prior to computing importances. Permutation importance does not reflect to the intrinsic predictive value of a feature by itself but how important this feature is for a particular model.\"_ https://scikit-learn.org/stable/modules/permutation_importance.html\n",
    "\n",
    "- For more examples of methods of interpreting forests see: https://towardsdatascience.com/explaining-feature-importance-by-example-of-a-random-forest-d9166011959e"
   ]
  },
  {
   "cell_type": "code",
   "execution_count": null,
   "metadata": {
    "hideCode": false,
    "hidePrompt": false,
    "slideshow": {
     "slide_type": "fragment"
    }
   },
   "outputs": [],
   "source": [
    "from sklearn.inspection import permutation_importance\n",
    "\n",
    "fig, axes = plt.subplots(ncols = 2, figsize=(width_inch*2, height_inch), sharey=True)\n",
    "axes = axes.flatten()\n",
    "for i, ax in enumerate(axes):\n",
    "    if i == 0:\n",
    "        X, y = X_train, y_train\n",
    "        name = \"Training\"\n",
    "    else:\n",
    "        X, y = X_val, y_val\n",
    "        name = \"Validation\"\n",
    "    \n",
    "    imp = permutation_importance(lc_bal_rf_rs.best_estimator_, X, y,\n",
    "                                 n_repeats=30, scoring='f1', random_state=0)\n",
    "    imp_df = pd.DataFrame(imp['importances']).T\n",
    "    imp_df.columns = data_x.columns\n",
    "    imp_df_ = imp_df.melt(var_name = 'Feature', value_name='Permutation Importance (F1-Score)')\n",
    "    \n",
    "    sns.barplot(data = imp_df_, x = 'Permutation Importance (F1-Score)', y = 'Feature', ax = ax)\n",
    "    ax.set_title(name)\n",
    "plt.show()"
   ]
  },
  {
   "cell_type": "markdown",
   "metadata": {
    "hideCode": false,
    "hidePrompt": false,
    "slideshow": {
     "slide_type": "skip"
    }
   },
   "source": [
    "__Extra: Fairness__\n",
    "\n",
    "In last weeks \"Applications\" notes I questioned what information is fair for us to use when making decisions around lending. Well this week we have a dataset which has some of these very varibles in which could be problematic. \n",
    "    \n",
    "- zip_code\n",
    "    - Maybe you think people who live in wealthy areas are more likely to pay back the loan? \n",
    "    - Doesn't this make it worse for people financially responcible people who live in poor areas? \n",
    "    - Might this unfortunately be related to someones race/ethnicity?\n",
    "- pub_rec (Number of derogatory public records)\n",
    "    - What do they define as a \"derogatory public record\"?\n",
    "    - Should we use such a vauge feature that could include discrimatory information?\n",
    "    - Does this include criminal history? Is the american criminal system unbias? Is this likely to account for certain types of crime over white colar crime?\n",
    "- homeownership    \n",
    "    - Among racial demographics in America, white people have the country's highest homeownership rate, while African Americans have the lowest. \n",
    "    - One study shows that homeownership rates appear correlated with higher school attainment. (\"A Note on the Benefits of Homeownership, Federal Reserve Bank of Chicago\" (PDF). Chicagofed.org. Retrieved October 14, 2017.)\n",
    "       \n",
    "If you look at the full list of varibles for this dataset (we've used a subset), you'll see there are even more features of which you may question their validity or fairness. Should we be including these varibles in our models, in other words should we be assigning weights to them? Without other demographic information (race, gender, ect.) can we ever try correct for them in our model?\n",
    "\n",
    "More on this in week 11...\n",
    "\n",
    "__Note__\n",
    "- Lending Club use what Cathy O'Neil terms e-scores. You can read more about the issues with e-scores in chapter 8 of Weapons of Math Destruction."
   ]
  },
  {
   "cell_type": "markdown",
   "metadata": {
    "hideCode": false,
    "hidePrompt": false,
    "slideshow": {
     "slide_type": "slide"
    }
   },
   "source": [
    "# 9. Strengths and Limitations <a id='adv_lim'></a>\n",
    "\n",
    "There are always advantages and disadvantages to using any model on a particular dataset. "
   ]
  },
  {
   "cell_type": "markdown",
   "metadata": {
    "hideCode": false,
    "hidePrompt": false,
    "slideshow": {
     "slide_type": "subslide"
    }
   },
   "source": [
    "## Trees\n",
    "### Advantages<sup>1,3,10</sup>\n",
    "- Easy to explain\n",
    "    - Trees can be displayed graphically in an interpretable mannor.\n",
    "- Make few assumptions about the training data (non-parametric)\n",
    "    - e.g. we don't assume the data is linear.\n",
    "- Inherently multiclass\n",
    "    - Can also handle multitask output (multiclass-multioutput)\n",
    "- Can handle different types of predictors*\n",
    "    - Independent of feature scaling\n",
    "- Can handle missing values*\n",
    "- Can handle multitask output (multiclass-multioutput)\n",
    "\n",
    "\n",
    "\\* limited or unavailable in Scikit-Learn"
   ]
  },
  {
   "cell_type": "markdown",
   "metadata": {
    "hideCode": false,
    "hidePrompt": false,
    "slideshow": {
     "slide_type": "notes"
    }
   },
   "source": [
    "__Notes__\n",
    "- _\"Uses a white box model. If a given situation is observable in a model, the explanation for the condition is easily explained by boolean logic.\"_<sup>12</sup>\n",
    "- Decision trees potentially more mirror human decision-making than the regression and classification approaches previously discussed.\n",
    "- Generally, you'll find tree impliminations that are specialised for particular types of data.\n",
    "- _\"Warning At present, no metric in sklearn.metrics supports the multiclass-multioutput classification task.\"_<sup>11</sup>"
   ]
  },
  {
   "cell_type": "markdown",
   "metadata": {
    "hideCode": false,
    "hidePrompt": false,
    "slideshow": {
     "slide_type": "skip"
    }
   },
   "source": [
    "### Extra: Categorical Features and Sklearn\n",
    "\n",
    "You may also be wondering: where are my previous data visualisations of the categorical data before this? Well Sklearn's CART decision trees currently _\"does not support categorical variables\"_. This means:\n",
    "\n",
    "- Do not use `Label Encoding` if your categorical data is __not ordinal__ with `DecisionTreeClassifier()`, you'll end up with splits that do not make sense, as the data will be treat as numeric<sup>13</sup>.\n",
    "\n",
    "- Using a `OneHotEncoder` is the only current valid way with sklearn, allowing arbitrary splits not dependent on the label ordering, but is computationally expensive and it can deteriorate the performance of decision trees as it leads to sparse features, which can mess up feature importance<sup>12</sup>.\n",
    "\n",
    "__Solutions__\n",
    "\n",
    "Currently the best way of handling categorical features is to use <code>h2o.randomForest</code>, a different forest implimentation, or <code>catboost</code>, a boosting classifier. \n",
    "\n",
    "__Notes__\n",
    "- H2o has sklearn support which may be useful to look into: http://docs.h2o.ai/h2o/latest-stable/h2o-docs/h2o-client.html"
   ]
  },
  {
   "cell_type": "markdown",
   "metadata": {
    "hideCode": false,
    "hidePrompt": false,
    "slideshow": {
     "slide_type": "subslide"
    }
   },
   "source": [
    "### Disadvantages<sup>1,10</sup>\n",
    "\n",
    "- Comparatively poor generalization performance.\n",
    "\n",
    "- Easy to overfit\n",
    "    - Require pruning\n",
    "\n",
    "- High variance\n",
    "    - A small change in the data can cause a large change in the estimated tree.\n",
    "\n",
    "- Orthogonal decision boundaries\n",
    "    - Model affected by the rotation of the data.\n",
    "    \n",
    "- Cannot guarantee to return the globally optimal decision tree.\n",
    "    - locally optimal decisions are made at each node."
   ]
  },
  {
   "cell_type": "markdown",
   "metadata": {
    "hideCode": false,
    "hidePrompt": false,
    "slideshow": {
     "slide_type": "notes"
    }
   },
   "source": [
    "__Notes__\n",
    "- If there is a highly non-linear and complex relationship between the features and the response then decision trees may outperform classical approaches. However if the relationship between the features and the response is well approximated by a linear model, then an approach such as linear regression will likely work well<sup>1</sup>.\n",
    "- A decision tree is quite boxy. How the model makes a decision boundary is going to be affected by the rotation of the data (as DTs create straight lines)."
   ]
  },
  {
   "cell_type": "code",
   "execution_count": null,
   "metadata": {
    "hideCode": false,
    "hidePrompt": false,
    "slideshow": {
     "slide_type": "skip"
    }
   },
   "outputs": [],
   "source": [
    "# from https://github.com/ageron/handson-ml2/blob/master/06_decision_trees.ipynb\n",
    "from sklearn.tree import DecisionTreeClassifier\n",
    "from matplotlib.colors import ListedColormap\n",
    "\n",
    "def plot_decision_boundary(clf, X, y, axes=[0, 7.5, 0, 3], iris=True, legend=False, plot_training=True):\n",
    "    x1s = np.linspace(axes[0], axes[1], 100)\n",
    "    x2s = np.linspace(axes[2], axes[3], 100)\n",
    "    x1, x2 = np.meshgrid(x1s, x2s)\n",
    "    X_new = np.c_[x1.ravel(), x2.ravel()]\n",
    "    y_pred = clf.predict(X_new).reshape(x1.shape)\n",
    "    custom_cmap = ListedColormap(['#fafab0','#9898ff','#a0faa0'])\n",
    "    plt.contourf(x1, x2, y_pred, alpha=0.3, cmap=custom_cmap)\n",
    "    if not iris:\n",
    "        custom_cmap2 = ListedColormap(['#7d7d58','#4c4c7f','#507d50'])\n",
    "        plt.contour(x1, x2, y_pred, cmap=custom_cmap2, alpha=0.8)\n",
    "    if plot_training:\n",
    "        plt.plot(X[:, 0][y==0], X[:, 1][y==0], \"yo\", label=\"Iris setosa\")\n",
    "        plt.plot(X[:, 0][y==1], X[:, 1][y==1], \"bs\", label=\"Iris versicolor\")\n",
    "        plt.plot(X[:, 0][y==2], X[:, 1][y==2], \"g^\", label=\"Iris virginica\")\n",
    "        plt.axis(axes)\n",
    "    if iris:\n",
    "        plt.xlabel(\"Petal length\", fontsize=14)\n",
    "        plt.ylabel(\"Petal width\", fontsize=14)\n",
    "    else:\n",
    "        plt.xlabel(r\"$x_1$\", fontsize=18)\n",
    "        plt.ylabel(r\"$x_2$\", fontsize=18, rotation=0)\n",
    "    if legend:\n",
    "        plt.legend(loc=\"lower right\", fontsize=14)\n",
    "\n",
    "np.random.seed(6)\n",
    "Xs = np.random.rand(100, 2) - 0.5\n",
    "ys = (Xs[:, 0] > 0).astype(np.float32) * 2\n",
    "\n",
    "angle = np.pi / 4\n",
    "rotation_matrix = np.array([[np.cos(angle), -np.sin(angle)], [np.sin(angle), np.cos(angle)]])\n",
    "Xsr = Xs.dot(rotation_matrix)\n",
    "\n",
    "tree_clf_s = DecisionTreeClassifier(random_state=42)\n",
    "tree_clf_s.fit(Xs, ys)\n",
    "tree_clf_sr = DecisionTreeClassifier(random_state=42)\n",
    "tree_clf_sr.fit(Xsr, ys)\n",
    "\n",
    "fig, axes = plt.subplots(ncols=2, figsize=(10, 4), sharey=True)\n",
    "plt.sca(axes[0])\n",
    "plot_decision_boundary(tree_clf_s, Xs, ys, axes=[-0.7, 0.7, -0.7, 0.7], iris=False)\n",
    "plt.sca(axes[1])\n",
    "plot_decision_boundary(tree_clf_sr, Xsr, ys, axes=[-0.7, 0.7, -0.7, 0.7], iris=False)\n",
    "plt.ylabel(\"\")\n",
    "plt.suptitle(\"Extra: Sensitivity to Rotation\")\n",
    "\n",
    "plt.show()"
   ]
  },
  {
   "cell_type": "markdown",
   "metadata": {
    "hideCode": false,
    "hidePrompt": false,
    "slideshow": {
     "slide_type": "subslide"
    }
   },
   "source": [
    "## Forests/ExtraTrees\n",
    "\n",
    "Generally improve upon trees, at the expense of interpretability.\n",
    "\n",
    "### Advantages\n",
    "\n",
    "- Comparatively good generalisability\n",
    "    - Not too affected by outlier observations.\n",
    "    - Can still overfit<sup>16</sup> but much less likely\n",
    "\n",
    "- Comparatively small variability in prediction accuracy when tuning<sup>14</sup>\n",
    "\n",
    "- Comparatively good “out of the box” performance<sup>15</sup>\n",
    "    - Easy of use\n",
    "    - not much tuning required to get good results\n",
    "\n",
    "- ExtraTrees is faster to train than random forests\n",
    "    - Its time consuming to to find the best theshold for each feature at each node<sup>3</sup>.\n",
    "\n",
    "- Work well on large datasets"
   ]
  },
  {
   "cell_type": "markdown",
   "metadata": {
    "hideCode": false,
    "hidePrompt": false,
    "slideshow": {
     "slide_type": "subslide"
    }
   },
   "source": [
    "### Disadvantages\n",
    "\n",
    "- Not good for very high-dimensional sparse data<sup>17</sup>.\n",
    "    - e.g. text\n",
    "\n",
    "- Harder than trees to interpret\n",
    "    - Trees in random forests tend to be deeper than decision trees (due to feature subsets)<sup>17</sup>.\n",
    "    \n",
    "- More computationally demanding to train than other algorithms<sup>17</sup>\n",
    "    - Require more memory and are slower to train and to predict than linear models.\n",
    "    - However, they can be easily parallelized across multiple CPU cores.\n",
    "\n",
    "- Setting different random states can drastically change the model<sup>17</sup>.\n",
    "    - The more trees, the more robust to this they are to this."
   ]
  },
  {
   "cell_type": "markdown",
   "metadata": {
    "hideCode": false,
    "hidePrompt": false,
    "slideshow": {
     "slide_type": "notes"
    }
   },
   "source": [
    "__Notes__\n",
    "- Using more CPU cores will result in linear speed-ups<sup>17</sup>.\n",
    "- _'As concluding remarks about ensemble techniques, it is worth noting that ensemble learning increases the computational complexity compared to individual classifiers. In practice, we need to think carefully about whether we want to pay the price of increased computational costs for an often relatively modest improvement in predictive performance. An often-cited example of this tradeoff is the famous \\$1 million Netflix Prize, which was won using ensemble techniques. The details about the algorithm were published in The BigChaos Solution to the Netflix Grand Prize by A. Toescher, M. Jahrer, and R. M. Bell, Netflix Prize documentation, 2009, which is available at http://www.stat.osu.edu/~dmsl/GrandPrize2009_BPC_BigChaos.pdf. The winning team received the $1 million grand prize money; however, Netflix never implemented their model due to its complexity, which made it infeasible for a real-world application: \"We evaluated some of the new methods offline but the additional accuracy gains that we measured did not seem to justify the engineering effort needed to bring them into a production environment.\" http://techblog.netflix.com/2012/04/netflix-recommendations-beyond-5-stars.html'_<sup>4</sup>"
   ]
  },
  {
   "cell_type": "markdown",
   "metadata": {
    "hideCode": false,
    "hidePrompt": false,
    "slideshow": {
     "slide_type": "slide"
    }
   },
   "source": [
    "# References\n",
    "1. James, Gareth, Daniela Witten, Trevor Hastie, and Robert Tibshirani. An introduction to statistical learning. Vol. 112. New York: springer, 2013.\n",
    "2. Gorman KB, Williams TD, Fraser WR (2014). Ecological sexual dimorphism and environmental variability within a community of Antarctic penguins (genus Pygoscelis). PLoS ONE 9(3):e90081. https://doi.org/10.1371/journal.pone.0090081\n",
    "3. Géron, A. (2017). Hands-on machine learning with Scikit-Learn and TensorFlow: concepts, tools, and techniques to build intelligent systems. \" O'Reilly Media, Inc.\".\n",
    "4. Raschka, Sebastian, and Vahid Mirjalili. Python Machine Learning, 2nd Ed. Packt Publishing, 2017.\n",
    "5. http://scikit-learn.org/stable/modules/feature_selection.html\n",
    "6. https://scikit-learn.org/stable/modules/generated/sklearn.tree.DecisionTreeClassifier.html#sklearn.tree.DecisionTreeClassifier\n",
    "7. L. Breiman, “Random Forests”, Machine Learning, 45(1), 5-32, 2001\n",
    "8. https://scikit-learn.org/stable/modules/permutation_importance.html\n",
    "9. https://bradleyboehmke.github.io/HOML/random-forest.html\n",
    "10. https://github.com/rasbt/stat479-machine-learning-fs19/blob/master/06_trees/06-trees__notes.pdf\n",
    "11. https://scikit-learn.org/stable/modules/multiclass.html\n",
    "12. https://scikit-learn.org/stable/modules/tree.html\n",
    "13. https://stackoverflow.com/questions/38108832/passing-categorical-data-to-sklearn-decision-tree\n",
    "14. Probst, Philipp, Bernd Bischl, and Anne-Laure Boulesteix. 2018. “Tunability: Importance of Hyperparameters of Machine Learning Algorithms.” arXiv Preprint arXiv:1802.09596.\n",
    "15. https://github.com/rasbt/stat451-machine-learning-fs20/blob/master/L07/07-ensembles__notes.pdf.\n",
    "16. Segal MR: Machine Learning Benchmarks and Random Forest Regression. Technical Report, Center for Bioinformatics & Molecular Biostatistics, University of California, San Francisco 2004.\n",
    "17. Müller, A. C., & Guido, S. (2016). Introduction to machine learning with Python: a guide for data scientists. \" O'Reilly Media, Inc.\".\n",
    "18. https://www.kaggle.com/faressayah/lending-club-loan-defaulters-prediction"
   ]
  },
  {
   "cell_type": "code",
   "execution_count": null,
   "metadata": {
    "hideCode": false,
    "hidePrompt": false,
    "slideshow": {
     "slide_type": "skip"
    }
   },
   "outputs": [],
   "source": [
    "import sys\n",
    "from shutil import copyfile\n",
    "\n",
    "# where the HTML template is located\n",
    "dst = os.path.join(sys.prefix, 'lib', 'site-packages', 'nbconvert', 'templates', \"classic.tplx\")\n",
    "\n",
    "# If its not located where it should be\n",
    "if not os.path.exists(dst):\n",
    "    # uses a nb_pdf_template\n",
    "    curr_path = os.path.join(os.getcwd(),\"..\", \"Extra\", \"classic.tplx\")\n",
    "    # copy where it is meant to be\n",
    "    copyfile(curr_path, dst)\n",
    "\n",
    "# Create HTML notes document\n",
    "!jupyter nbconvert 3_Applications.ipynb \\\n",
    "    --to html \\\n",
    "    --output-dir . \\\n",
    "    --template classic\n",
    "!jupyter nbconvert 3_Applications.ipynb \\\n",
    "    --to slides \\\n",
    "    --output-dir . \\\n",
    "    --TemplateExporter.exclude_input=True \\\n",
    "    --TemplateExporter.exclude_output_prompt=True \\\n",
    "    --SlidesExporter.reveal_scroll=True\n",
    "\n",
    "# Create pdf notes document (issues)\n",
    "!jupyter nbconvert 3_Applications.ipynb \\\n",
    "    --to html \\\n",
    "    --output-dir ./PDF_Prep \\\n",
    "    --output 3_Applications_no_code \\\n",
    "    --TemplateExporter.exclude_input=True \\\n",
    "    --TemplateExporter.exclude_output_prompt=True"
   ]
  },
  {
   "cell_type": "code",
   "execution_count": null,
   "metadata": {
    "hideCode": false,
    "hidePrompt": false,
    "slideshow": {
     "slide_type": "skip"
    }
   },
   "outputs": [],
   "source": []
  }
 ],
 "metadata": {
  "celltoolbar": "Slideshow",
  "colab": {
   "authorship_tag": "ABX9TyMNuZgSJ2BiDt5YMpOB66EK",
   "collapsed_sections": [],
   "name": "Clustering.ipynb",
   "provenance": []
  },
  "hide_code_all_hidden": false,
  "kernelspec": {
   "display_name": "Python 3",
   "language": "python",
   "name": "python3"
  },
  "language_info": {
   "codemirror_mode": {
    "name": "ipython",
    "version": 3
   },
   "file_extension": ".py",
   "mimetype": "text/x-python",
   "name": "python",
   "nbconvert_exporter": "python",
   "pygments_lexer": "ipython3",
   "version": "3.8.8"
  }
 },
 "nbformat": 4,
 "nbformat_minor": 1
}
