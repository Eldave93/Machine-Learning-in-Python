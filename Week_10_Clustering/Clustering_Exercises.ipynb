{
 "cells": [
  {
   "cell_type": "markdown",
   "metadata": {},
   "source": [
    "# Week 9 - Clustering\n",
    "## Exercises"
   ]
  },
  {
   "cell_type": "code",
   "execution_count": 2,
   "metadata": {},
   "outputs": [],
   "source": [
    "import pandas as pd\n",
    "\n",
    "data = pd.DataFrame([[1,4],[1,3],[0,4],[5,1],[6,2],[4,0]], columns = [\"x_1\", \"x_2\"])\n",
    "data.index.name = \"Obs.\"\n",
    "#print(data.to_html())"
   ]
  },
  {
   "cell_type": "markdown",
   "metadata": {},
   "source": [
    "## Question X.\n",
    "\n",
    "This question asks you to manually perform K-means clustering manually, with $K=2$, on a small sample, $n=6$, and $p=2$ features.\n",
    "\n",
    "<table border=\"1\" class=\"dataframe\">\n",
    "  <thead>\n",
    "    <tr style=\"text-align: right;\">\n",
    "      <th></th>\n",
    "      <th>x_1</th>\n",
    "      <th>x_2</th>\n",
    "    </tr>\n",
    "    <tr>\n",
    "      <th>Obs.</th>\n",
    "      <th></th>\n",
    "      <th></th>\n",
    "    </tr>\n",
    "  </thead>\n",
    "  <tbody>\n",
    "    <tr>\n",
    "      <th>0</th>\n",
    "      <td>1</td>\n",
    "      <td>4</td>\n",
    "    </tr>\n",
    "    <tr>\n",
    "      <th>1</th>\n",
    "      <td>1</td>\n",
    "      <td>3</td>\n",
    "    </tr>\n",
    "    <tr>\n",
    "      <th>2</th>\n",
    "      <td>0</td>\n",
    "      <td>4</td>\n",
    "    </tr>\n",
    "    <tr>\n",
    "      <th>3</th>\n",
    "      <td>5</td>\n",
    "      <td>1</td>\n",
    "    </tr>\n",
    "    <tr>\n",
    "      <th>4</th>\n",
    "      <td>6</td>\n",
    "      <td>2</td>\n",
    "    </tr>\n",
    "    <tr>\n",
    "      <th>5</th>\n",
    "      <td>4</td>\n",
    "      <td>0</td>\n",
    "    </tr>\n",
    "  </tbody>\n",
    "</table>\n",
    "\n",
    "a. Plot the observations"
   ]
  },
  {
   "cell_type": "code",
   "execution_count": 5,
   "metadata": {},
   "outputs": [],
   "source": [
    "import matplotlib.pyplot as plt\n",
    "\n",
    "x1 = [1,1,0,5,6,4]\n",
    "x2 = [4,3,4,1,2,0]\n",
    "fig = plt.figure(figsize=(15,8))\n",
    "plt.grid(linestyle='--', alpha=0.3)\n",
    "plt.scatter(x1, x2, c='blue', s=150)\n",
    "plt.xlabel('$\\mathbf{x}_1$', size=20)\n",
    "plt.ylabel('$\\mathbf{x}_2$', size=20, rotation=0)\n",
    "plt.savefig(\"Images/Exercises/a_plot.png\")\n",
    "plt.close()"
   ]
  },
  {
   "cell_type": "markdown",
   "metadata": {},
   "source": [
    "<details><summary>Click here for answer</summary>\n",
    "<img src=\"Images/Exercises/a_plot.png\">\n",
    "</details>"
   ]
  },
  {
   "cell_type": "markdown",
   "metadata": {},
   "source": [
    "b. Randomly assign a cluster label to each observation. In Python you can use <code>np.random.randint</code>. Report the cluster labels for each observation."
   ]
  },
  {
   "cell_type": "code",
   "execution_count": 7,
   "metadata": {},
   "outputs": [],
   "source": [
    "import numpy as np\n",
    "\n",
    "np.random.seed(42)\n",
    "cluster_labels = np.random.randint(2, size=6)\n",
    "data['labels'] = cluster_labels\n",
    "#print(data.to_html())"
   ]
  },
  {
   "cell_type": "markdown",
   "metadata": {},
   "source": [
    "<details><summary>Click here for answer</summary>\n",
    "    <table border=\"1\" class=\"dataframe\">\n",
    "  <thead>\n",
    "    <tr style=\"text-align: right;\">\n",
    "      <th></th>\n",
    "      <th>x_1</th>\n",
    "      <th>x_2</th>\n",
    "      <th>labels</th>\n",
    "    </tr>\n",
    "    <tr>\n",
    "      <th>Obs.</th>\n",
    "      <th></th>\n",
    "      <th></th>\n",
    "      <th></th>\n",
    "    </tr>\n",
    "  </thead>\n",
    "  <tbody>\n",
    "    <tr>\n",
    "      <th>0</th>\n",
    "      <td>1</td>\n",
    "      <td>4</td>\n",
    "      <td>0</td>\n",
    "    </tr>\n",
    "    <tr>\n",
    "      <th>1</th>\n",
    "      <td>1</td>\n",
    "      <td>3</td>\n",
    "      <td>1</td>\n",
    "    </tr>\n",
    "    <tr>\n",
    "      <th>2</th>\n",
    "      <td>0</td>\n",
    "      <td>4</td>\n",
    "      <td>0</td>\n",
    "    </tr>\n",
    "    <tr>\n",
    "      <th>3</th>\n",
    "      <td>5</td>\n",
    "      <td>1</td>\n",
    "      <td>0</td>\n",
    "    </tr>\n",
    "    <tr>\n",
    "      <th>4</th>\n",
    "      <td>6</td>\n",
    "      <td>2</td>\n",
    "      <td>0</td>\n",
    "    </tr>\n",
    "    <tr>\n",
    "      <th>5</th>\n",
    "      <td>4</td>\n",
    "      <td>0</td>\n",
    "      <td>1</td>\n",
    "    </tr>\n",
    "  </tbody>\n",
    "</table>\n",
    "    \n",
    "These labels, and subsequent answers, will depend on the random seed you set (I used <code>np.random.seed(42)</code>)\n",
    "</details>"
   ]
  },
  {
   "cell_type": "code",
   "execution_count": 8,
   "metadata": {},
   "outputs": [],
   "source": [
    "color= ['red' if l == 0 else 'green' for l in cluster_labels]\n",
    "fig = plt.figure(figsize=(15,8))\n",
    "plt.grid(linestyle='--', alpha=0.3)\n",
    "plt.scatter(x1, x2, c=color, s=150)\n",
    "plt.xlabel('$\\mathbf{x}_1$', size=20)\n",
    "plt.ylabel('$\\mathbf{x}_2$', size=20, rotation=0)\n",
    "plt.savefig(\"Images/Exercises/b_plot.png\")\n",
    "plt.close()"
   ]
  },
  {
   "cell_type": "markdown",
   "metadata": {},
   "source": [
    "<details><summary>Click here for plot</summary>\n",
    "    <img src=\"Images/Exercises/b_plot.png\">\n",
    "</details>"
   ]
  },
  {
   "cell_type": "markdown",
   "metadata": {},
   "source": [
    "c. Compute the centroid for each cluster."
   ]
  },
  {
   "cell_type": "markdown",
   "metadata": {},
   "source": [
    "<details><summary>Click here for working out</summary>\n",
    "    We can compute the centroid for the red cluster with\n",
    "    $$\n",
    "    \\begin{align}\n",
    "    \\bar x_{11} & = \\frac{1}{4}(0+1+5+6) \\\\ \n",
    "                & = 3 \\\\\n",
    "    \\\\\n",
    "    \\bar x_{12} & = \\frac{1}{4}(4+4+2+1) \\\\ \n",
    "                & = 2.75 \\\\\n",
    "    \\\\\n",
    "    \\end{align}\n",
    "    $$\n",
    "    and the green cluster with\n",
    "    $$\n",
    "    \\begin{align}\n",
    "    \\bar x_{21} & = \\frac{1}{2}(1+4) \\\\\n",
    "                & = 2.5   \\\\\n",
    "    \\\\\n",
    "    \\bar x_{22} & = \\frac{1}{2}(3+0) \\\\ \n",
    "                & = 1.5 \\\\\n",
    "    \\\\\n",
    "    \\end{align}\n",
    "    $$\n",
    "</details>"
   ]
  },
  {
   "cell_type": "code",
   "execution_count": 9,
   "metadata": {},
   "outputs": [],
   "source": [
    "mean_data = data.groupby('labels').mean()\n",
    "\n",
    "fig = plt.figure(figsize=(15,8))\n",
    "plt.grid(linestyle='--', alpha=0.3)\n",
    "plt.scatter(x1, x2, c=color, s=150)\n",
    "plt.scatter(mean_data.loc[0][\"x_1\"], mean_data.loc[0][\"x_2\"], c='red', s=150, marker = 'x', linewidths=4)\n",
    "plt.scatter(mean_data.loc[1][\"x_1\"], mean_data.loc[1][\"x_2\"], c='green', s=150, marker = 'x', linewidths=4)\n",
    "plt.xlabel('$\\mathbf{x}_1$', size=20)\n",
    "plt.ylabel('$\\mathbf{x}_2$', size=20, rotation=0)\n",
    "plt.savefig(\"Images/Exercises/c_plot.png\")\n",
    "plt.close()"
   ]
  },
  {
   "cell_type": "markdown",
   "metadata": {},
   "source": [
    "<details><summary>Click here for plot</summary>\n",
    "    <img src=\"Images/Exercises/c_plot.png\">\n",
    "</details>"
   ]
  },
  {
   "cell_type": "markdown",
   "metadata": {},
   "source": [
    "d. Assign each observation to the centroid to which it is closest, in terms of Euclidean distance. Report the cluster labels for each observation."
   ]
  },
  {
   "cell_type": "code",
   "execution_count": 11,
   "metadata": {},
   "outputs": [],
   "source": [
    "for idx, cluster in enumerate(cluster_labels):\n",
    "    dist_0 = (x1[idx] - mean_data.loc[0][\"x_1\"])**2 + (x2[idx] - mean_data.loc[0][\"x_2\"])**2\n",
    "    dist_1 = (x1[idx] - mean_data.loc[1][\"x_1\"])**2 + (x2[idx] - mean_data.loc[1][\"x_2\"])**2\n",
    "    if dist_0 > dist_1:\n",
    "        cluster_labels[idx] = 0\n",
    "    else:\n",
    "        cluster_labels[idx] = 1\n",
    "        \n",
    "data['labels'] = cluster_labels\n",
    "#print(data.to_html())"
   ]
  },
  {
   "cell_type": "markdown",
   "metadata": {},
   "source": [
    "<details><summary>Click here for answer</summary>\n",
    "<table border=\"1\" class=\"dataframe\">\n",
    "  <thead>\n",
    "    <tr style=\"text-align: right;\">\n",
    "      <th></th>\n",
    "      <th>x_1</th>\n",
    "      <th>x_2</th>\n",
    "      <th>labels</th>\n",
    "    </tr>\n",
    "    <tr>\n",
    "      <th>Obs.</th>\n",
    "      <th></th>\n",
    "      <th></th>\n",
    "      <th></th>\n",
    "    </tr>\n",
    "  </thead>\n",
    "  <tbody>\n",
    "    <tr>\n",
    "      <th>0</th>\n",
    "      <td>1</td>\n",
    "      <td>4</td>\n",
    "      <td>1</td>\n",
    "    </tr>\n",
    "    <tr>\n",
    "      <th>1</th>\n",
    "      <td>1</td>\n",
    "      <td>3</td>\n",
    "      <td>1</td>\n",
    "    </tr>\n",
    "    <tr>\n",
    "      <th>2</th>\n",
    "      <td>0</td>\n",
    "      <td>4</td>\n",
    "      <td>1</td>\n",
    "    </tr>\n",
    "    <tr>\n",
    "      <th>3</th>\n",
    "      <td>5</td>\n",
    "      <td>1</td>\n",
    "      <td>0</td>\n",
    "    </tr>\n",
    "    <tr>\n",
    "      <th>4</th>\n",
    "      <td>6</td>\n",
    "      <td>2</td>\n",
    "      <td>1</td>\n",
    "    </tr>\n",
    "    <tr>\n",
    "      <th>5</th>\n",
    "      <td>4</td>\n",
    "      <td>0</td>\n",
    "      <td>0</td>\n",
    "    </tr>\n",
    "  </tbody>\n",
    "</table>\n",
    "</details>"
   ]
  },
  {
   "cell_type": "code",
   "execution_count": 151,
   "metadata": {},
   "outputs": [],
   "source": [
    "color= ['red' if l == 0 else 'green' for l in cluster_labels]\n",
    "mean_data = data.groupby('labels_2').mean()\n",
    "fig = plt.figure(figsize=(15,8))\n",
    "plt.grid(linestyle='--', alpha=0.3)\n",
    "plt.scatter(x1, x2, c=color, s=150)\n",
    "plt.scatter(mean_data.loc[0][\"x_1\"], mean_data.loc[0][\"x_2\"], c='red', s=150, marker = 'x', linewidths=4)\n",
    "plt.scatter(mean_data.loc[1][\"x_1\"], mean_data.loc[1][\"x_2\"], c='green', s=150, marker = 'x', linewidths=4)\n",
    "plt.xlabel('$\\mathbf{x}_1$', size=20)\n",
    "plt.ylabel('$\\mathbf{x}_2$', size=20, rotation=0)\n",
    "plt.savefig(\"Images/Exercises/d_plot.png\")\n",
    "plt.close()"
   ]
  },
  {
   "cell_type": "markdown",
   "metadata": {},
   "source": [
    "<details><summary>Click here for plot</summary>\n",
    "    <img src=\"Images/Exercises/d_plot.png\">\n",
    "</details>"
   ]
  },
  {
   "cell_type": "markdown",
   "metadata": {},
   "source": [
    "e. Find where the k-means cluster centers (e.g. where questions (c) and (d) stops changing), then color your plot according to these cluster labels."
   ]
  },
  {
   "cell_type": "code",
   "execution_count": 20,
   "metadata": {},
   "outputs": [],
   "source": [
    "from sklearn.cluster import KMeans\n",
    "\n",
    "M = np.column_stack((x1,x2))\n",
    "kmeans = KMeans(n_clusters=2, random_state=0).fit(M)\n",
    "cluster_labels = kmeans.labels_\n",
    "\n",
    "color= ['red' if l == 0 else 'green' for l in cluster_labels]\n",
    "fig = plt.figure(figsize=(15,8))\n",
    "plt.scatter(x1, x2, c=color, s=150)\n",
    "plt.scatter(kmeans.cluster_centers_[0,0], kmeans.cluster_centers_[0,1], c='red', s=150, marker = 'x', linewidths=4)\n",
    "plt.scatter(kmeans.cluster_centers_[1,0], kmeans.cluster_centers_[1,1], c='green', s=150, marker = 'x', linewidths=4)\n",
    "plt.xlabel('$\\mathbf{x}_1$', size=20)\n",
    "plt.ylabel('$\\mathbf{x}_2$', size=20, rotation=0)\n",
    "plt.grid(linestyle='--', alpha=0.3)\n",
    "plt.savefig(\"Images/Exercises/e_plot.png\")\n",
    "plt.close()"
   ]
  },
  {
   "cell_type": "markdown",
   "metadata": {},
   "source": [
    "<details><summary>Click here for plot</summary>\n",
    "    <img src=\"Images/Exercises/e_plot.png\">\n",
    "</details>"
   ]
  },
  {
   "cell_type": "markdown",
   "metadata": {},
   "source": [
    "## Question X.\n",
    "\n",
    "Suppose we have a dissimilarity matrix as follows:\n",
    "\n",
    "$$\\begin{bmatrix} \n",
    "& 0.3 & 0.4 & 0.7 \\\\\n",
    "0.3 & & 0.5 & 0.8 \\\\\n",
    "0.4 & 0.5 & & 0.45 \\\\\n",
    "0.7 & 0.8 & 0.45 & \\\\\n",
    "\\end{bmatrix}$$\n",
    "\n",
    "This means the dissimilarity between the first and second observation is 0.3, second and fourth is 0.8 ect.\n",
    "\n",
    "a. Sketch or code a diagram that results from hierarchically clustering these four observations using __complete__ linkage."
   ]
  },
  {
   "cell_type": "markdown",
   "metadata": {},
   "source": [
    "<details><summary>Click here for working out</summary>\n",
    "\n",
    "Beginning with \n",
    "$$\\begin{bmatrix} \n",
    "& 0.3 & 0.4 & 0.7 \\\\\n",
    "0.3 & & 0.5 & 0.8 \\\\\n",
    "0.4 & 0.5 & & 0.45 \\\\\n",
    "0.7 & 0.8 & 0.45 & \\\\\n",
    "\\end{bmatrix}$$\n",
    "\n",
    "we see that 0.3 is the minimum dissimilarity, so we fuse observations 1 and 2 to form the cluster (1,2) at height 0.3. This leaves our similarity matrix as:\n",
    "$$\\begin{bmatrix} \n",
    "& 0.5 & 0.8 \\\\\n",
    "0.5 & & 0.45 \\\\\n",
    "0.8 & 0.45 & \\\\\n",
    "\\end{bmatrix}$$\n",
    "because we are recording the _largest_ dissimilarities. For example, looking at the similarities between observations 1, 2, and 3, in our original matrix, we see that the dissimilarity between 1 and 3 is 0.4, and between 2 and 3 is 0.5. We pick 0.5 because it is the larger of the two, and this now represents the dissimilarity between our cluster (1,2) and 3. If you think in dataframes like me this may help to see this new matrix as:\n",
    "<table border=\"1\" class=\"dataframe\">\n",
    "  <thead>\n",
    "    <tr style=\"text-align: right;\">\n",
    "      <th></th>\n",
    "      <th>(1,2)</th>\n",
    "      <th>3</th>\n",
    "      <th>4</th>\n",
    "    </tr>\n",
    "  </thead>\n",
    "  <tbody>\n",
    "    <tr>\n",
    "      <th>(1,2)</th>\n",
    "      <td>0.00</td>\n",
    "      <td>0.50</td>\n",
    "      <td>0.80</td>\n",
    "    </tr>\n",
    "    <tr>\n",
    "      <th>3</th>\n",
    "      <td>0.50</td>\n",
    "      <td>0.00</td>\n",
    "      <td>0.45</td>\n",
    "    </tr>\n",
    "    <tr>\n",
    "      <th>4</th>\n",
    "      <td>0.80</td>\n",
    "      <td>0.45</td>\n",
    "      <td>0.00</td>\n",
    "    </tr>\n",
    "  </tbody>\n",
    "</table>\n",
    "Now we continue to do this. We see that the minimum dissimilarity is 0.45, so we fuse observations 3 and 4 to form cluster (3,4) at height 0.45. We now have the new dissimilarity matrix:\n",
    "$$\\begin{bmatrix} \n",
    "& 0.8 \\\\\n",
    "0.8 & \\\\\n",
    "\\end{bmatrix}$$\n",
    "This means all that is left to fuse is clusters (1,2) and (3,4) to form cluster ((1,2),(3,4)) at height 0.8.\n",
    "    \n",
    "</details>"
   ]
  },
  {
   "cell_type": "code",
   "execution_count": 60,
   "metadata": {},
   "outputs": [
    {
     "data": {
      "text/html": [
       "<div>\n",
       "<style scoped>\n",
       "    .dataframe tbody tr th:only-of-type {\n",
       "        vertical-align: middle;\n",
       "    }\n",
       "\n",
       "    .dataframe tbody tr th {\n",
       "        vertical-align: top;\n",
       "    }\n",
       "\n",
       "    .dataframe thead th {\n",
       "        text-align: right;\n",
       "    }\n",
       "</style>\n",
       "<table border=\"1\" class=\"dataframe\">\n",
       "  <thead>\n",
       "    <tr style=\"text-align: right;\">\n",
       "      <th></th>\n",
       "      <th>row label 1</th>\n",
       "      <th>row label 2</th>\n",
       "      <th>distance</th>\n",
       "      <th>no. of items in clust.</th>\n",
       "    </tr>\n",
       "  </thead>\n",
       "  <tbody>\n",
       "    <tr>\n",
       "      <th>cluster 1</th>\n",
       "      <td>0.0</td>\n",
       "      <td>1.0</td>\n",
       "      <td>0.30</td>\n",
       "      <td>2.0</td>\n",
       "    </tr>\n",
       "    <tr>\n",
       "      <th>cluster 2</th>\n",
       "      <td>2.0</td>\n",
       "      <td>3.0</td>\n",
       "      <td>0.45</td>\n",
       "      <td>2.0</td>\n",
       "    </tr>\n",
       "    <tr>\n",
       "      <th>cluster 3</th>\n",
       "      <td>4.0</td>\n",
       "      <td>5.0</td>\n",
       "      <td>0.80</td>\n",
       "      <td>4.0</td>\n",
       "    </tr>\n",
       "  </tbody>\n",
       "</table>\n",
       "</div>"
      ],
      "text/plain": [
       "           row label 1  row label 2  distance  no. of items in clust.\n",
       "cluster 1          0.0          1.0      0.30                     2.0\n",
       "cluster 2          2.0          3.0      0.45                     2.0\n",
       "cluster 3          4.0          5.0      0.80                     4.0"
      ]
     },
     "metadata": {},
     "output_type": "display_data"
    }
   ],
   "source": [
    "import pandas as pd\n",
    "\n",
    "# Using the answer above we could do this manually...\n",
    "# --------\n",
    "# Manually\n",
    "# --------\n",
    "\n",
    "columns =   ['row label 1', 'row label 2', 'distance', 'no. of items in clust.']\n",
    "cluster_1 = [0.           , 1.           , 0.3       , 2.]\n",
    "cluster_2 = [2.           , 3.           , 0.45      , 2.]\n",
    "# note that newly formed clusters are represented as a new row label (hense 4 and 5)\n",
    "cluster_3 = [4.           , 5.           , 0.8       , 4.]\n",
    "\n",
    "data = pd.DataFrame([cluster_1,cluster_2,cluster_3],\n",
    "             columns=columns,\n",
    "             index=['cluster %d' % (i + 1)\n",
    "                    for i in range(3)])\n",
    "display(data.head())"
   ]
  },
  {
   "cell_type": "code",
   "execution_count": 63,
   "metadata": {},
   "outputs": [],
   "source": [
    "# ... or more simply\n",
    "# ------\n",
    "# Simple\n",
    "# ------\n",
    "import numpy as np\n",
    "\n",
    "from scipy.cluster.hierarchy import dendrogram, linkage\n",
    "from scipy.spatial.distance import squareform\n",
    "\n",
    "import matplotlib.pyplot as plt\n",
    "\n",
    "dis_mat = np.array([[0.0, 0.3, 0.4, 0.7], [0.3, 0.0, 0.5, 0.8], [0.4, 0.5, 0.0, 0.45], [0.7, 0.8, 0.45, 0.0]])\n",
    "dists = squareform(dis_mat)\n",
    "linkage_matrix = linkage(dists, \"complete\")\n",
    "fig = plt.figure(figsize=(15,8))\n",
    "dendrogram(linkage_matrix, labels=[\"1\", \"2\", \"3\", \"4\"])\n",
    "plt.title(\"Complete Linkage\")\n",
    "plt.savefig(\"Images/Exercises/complete_linkage.png\")\n",
    "plt.close()"
   ]
  },
  {
   "cell_type": "markdown",
   "metadata": {},
   "source": [
    "<details><summary>Click here for diagram</summary>\n",
    "<img src=\"Images/Exercises/complete_linkage.png\">\n",
    "</details>"
   ]
  },
  {
   "cell_type": "markdown",
   "metadata": {},
   "source": [
    "b. Suppose we cut the dendogram from question (a) such that two there are two clusters, which observations are in which cluster?"
   ]
  },
  {
   "cell_type": "markdown",
   "metadata": {},
   "source": [
    "<details><summary>Click here for answer</summary>\n",
    "In this case, we have clusters (1,2) and (3,4).\n",
    "</details>"
   ]
  },
  {
   "cell_type": "markdown",
   "metadata": {},
   "source": [
    "c. Sketch or code a diagram that results from hierarchically clustering these four observations using __single__ linkage."
   ]
  },
  {
   "cell_type": "markdown",
   "metadata": {},
   "source": [
    "<details><summary>Click here for working out</summary>\n",
    "\n",
    "Beginning with \n",
    "$$\\begin{bmatrix} \n",
    "& 0.3 & 0.4 & 0.7 \\\\\n",
    "0.3 & & 0.5 & 0.8 \\\\\n",
    "0.4 & 0.5 & & 0.45 \\\\\n",
    "0.7 & 0.8 & 0.45 & \\\\\n",
    "\\end{bmatrix}$$\n",
    "\n",
    "we see that 0.3 is the minimum dissimilarity, so we fuse observations 1 and 2 to form the cluster (1,2) at height 0.3. This leaves our similarity matrix as:\n",
    "$$\\begin{bmatrix} \n",
    "& 0.4 & 0.7 \\\\\n",
    "0.4 & & 0.45 \\\\\n",
    "0.7 & 0.45 & \\\\\n",
    "\\end{bmatrix}$$\n",
    "because we are recording the _smallest_ dissimilarities. \n",
    "    \n",
    "We now see that the minimum dissimilarity is 0.4, so we fuse cluster (1,2) and observation 3 to form cluster ((1,2),3) at height 0.4. We now have the new dissimilarity matrix:\n",
    "$$\\begin{bmatrix} \n",
    "& 0.45 \\\\\n",
    "0.45 & \\\\\n",
    "\\end{bmatrix}$$\n",
    "It remains to fuse clusters ((1,2),3) and observation 4 to form cluster (((1,2),3),4) at height 0.45.\n",
    "    \n",
    "</details>"
   ]
  },
  {
   "cell_type": "code",
   "execution_count": 69,
   "metadata": {},
   "outputs": [],
   "source": [
    "linkage_matrix = linkage(dists, \"single\")\n",
    "fig = plt.figure(figsize=(15,8))\n",
    "dendrogram(linkage_matrix, labels=[\"1\", \"2\", \"3\", \"4\"])\n",
    "plt.title(\"Single Linkage\")\n",
    "plt.savefig(\"Images/Exercises/single_linkage.png\")\n",
    "plt.close()"
   ]
  },
  {
   "cell_type": "markdown",
   "metadata": {},
   "source": [
    "<details><summary>Click here for diagram</summary>\n",
    "<img src=\"Images/Exercises/single_linkage.png\">\n",
    "</details>"
   ]
  },
  {
   "cell_type": "markdown",
   "metadata": {},
   "source": [
    "d. Suppose we cut the dendogram from question (c) such that two there are two clusters, which observations are in which cluster?"
   ]
  },
  {
   "cell_type": "markdown",
   "metadata": {},
   "source": [
    "<details><summary>Click here for answer</summary>\n",
    "In this case, we have clusters ((1,2),3) and (4).\n",
    "</details>"
   ]
  },
  {
   "cell_type": "code",
   "execution_count": 9,
   "metadata": {},
   "outputs": [
    {
     "name": "stderr",
     "output_type": "stream",
     "text": [
      "[NbConvertApp] Converting notebook Trees_Exercises.ipynb to html\n",
      "[NbConvertApp] Writing 498016 bytes to Trees_Exercises.html\n"
     ]
    }
   ],
   "source": [
    "PDF = False\n",
    "\n",
    "if PDF:\n",
    "    # For pdf conversion\n",
    "    !jupyter nbconvert Clustering_Exercises.ipynb \\\n",
    "        --to html \\\n",
    "        --output-dir ./PDF_Prep \\\n",
    "        --output Trees_Exercises_Answers \\\n",
    "        --template classic \\\n",
    "        --TemplateExporter.exclude_input=True\n",
    "else:\n",
    "    # Create HTML document - need to run it a few times\n",
    "    # as its a little unpredictable\n",
    "    !jupyter nbconvert Clustering_Exercises.ipynb \\\n",
    "        --to html \\\n",
    "        --output-dir . \\\n",
    "        --output Trees_Exercises \\\n",
    "        --template classic \\\n",
    "        --TemplateExporter.exclude_input=True"
   ]
  }
 ],
 "metadata": {
  "colab": {
   "authorship_tag": "ABX9TyMNuZgSJ2BiDt5YMpOB66EK",
   "collapsed_sections": [],
   "name": "Clustering.ipynb",
   "provenance": []
  },
  "kernelspec": {
   "display_name": "Python 3",
   "language": "python",
   "name": "python3"
  },
  "language_info": {
   "codemirror_mode": {
    "name": "ipython",
    "version": 3
   },
   "file_extension": ".py",
   "mimetype": "text/x-python",
   "name": "python",
   "nbconvert_exporter": "python",
   "pygments_lexer": "ipython3",
   "version": "3.8.8"
  }
 },
 "nbformat": 4,
 "nbformat_minor": 1
}
