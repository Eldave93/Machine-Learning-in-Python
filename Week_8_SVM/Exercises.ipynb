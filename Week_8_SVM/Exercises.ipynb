{
 "cells": [
  {
   "cell_type": "markdown",
   "metadata": {
    "slideshow": {
     "slide_type": "slide"
    }
   },
   "source": [
    "__Week 8 - Support Vector Machines__"
   ]
  },
  {
   "cell_type": "code",
   "execution_count": 5,
   "metadata": {},
   "outputs": [
    {
     "name": "stdout",
     "output_type": "stream",
     "text": [
      "Collecting nodejs\n",
      "  Downloading nodejs-0.1.1.tar.gz (2.3 kB)\n",
      "Collecting optional-django==0.1.0\n",
      "  Downloading optional-django-0.1.0.tar.gz (9.5 kB)\n",
      "Building wheels for collected packages: nodejs, optional-django\n",
      "  Building wheel for nodejs (setup.py): started\n",
      "  Building wheel for nodejs (setup.py): finished with status 'done'\n",
      "  Created wheel for nodejs: filename=nodejs-0.1.1-py3-none-any.whl size=3492 sha256=5adc5e6948ecbecb29047386267a6ddad54d9538631b1752b565aaf47ddae77b\n",
      "  Stored in directory: c:\\users\\delliot2\\appdata\\local\\pip\\cache\\wheels\\b3\\ce\\d8\\40f8634e964582985b2c4560cbba06d4f50d3da980fccd0497\n",
      "  Building wheel for optional-django (setup.py): started\n",
      "  Building wheel for optional-django (setup.py): finished with status 'done'\n",
      "  Created wheel for optional-django: filename=optional_django-0.1.0-py3-none-any.whl size=9980 sha256=8cd44a3952ba4ac4c0e4d537e48bef6146fcd6a245707fce64d5edc446595118\n",
      "  Stored in directory: c:\\users\\delliot2\\appdata\\local\\pip\\cache\\wheels\\3b\\42\\9c\\10c5c4021a4edf8416f18e88b427b92e99f187e61e15e08100\n",
      "Successfully built nodejs optional-django\n",
      "Installing collected packages: optional-django, nodejs\n",
      "Successfully installed nodejs-0.1.1 optional-django-0.1.0\n"
     ]
    }
   ],
   "source": [
    "#!pip install nodejs"
   ]
  },
  {
   "cell_type": "code",
   "execution_count": 7,
   "metadata": {},
   "outputs": [
    {
     "name": "stdout",
     "output_type": "stream",
     "text": [
      "Collecting npm\n",
      "  Downloading npm-0.1.1.tar.gz (2.5 kB)\n",
      "Requirement already satisfied: optional-django==0.1.0 in c:\\users\\delliot2\\anaconda3\\envs\\hide_all\\lib\\site-packages (from npm) (0.1.0)\n",
      "Building wheels for collected packages: npm\n",
      "  Building wheel for npm (setup.py): started\n",
      "  Building wheel for npm (setup.py): finished with status 'done'\n",
      "  Created wheel for npm: filename=npm-0.1.1-py3-none-any.whl size=3709 sha256=7c07c3b3ee6a04d8f30c87cdda765464b0d5570e6945f1130862870f404f3d21\n",
      "  Stored in directory: c:\\users\\delliot2\\appdata\\local\\pip\\cache\\wheels\\58\\a3\\b3\\b2683df5d56077bd771d87e86f8fe099caf6544ac9c4158001\n",
      "Successfully built npm\n",
      "Installing collected packages: npm\n",
      "Successfully installed npm-0.1.1\n"
     ]
    }
   ],
   "source": [
    "#!pip install npm"
   ]
  },
  {
   "cell_type": "code",
   "execution_count": 2,
   "metadata": {},
   "outputs": [
    {
     "name": "stdout",
     "output_type": "stream",
     "text": [
      "Collecting package metadata (current_repodata.json): ...working... done"
     ]
    },
    {
     "name": "stderr",
     "output_type": "stream",
     "text": [
      "\n",
      "PackagesNotFoundError: The following packages are not available from current channels:\n",
      "\n",
      "  - npm\n",
      "\n",
      "Current channels:\n",
      "\n",
      "  - https://conda.anaconda.org/conda-forge/win-64\n",
      "  - https://conda.anaconda.org/conda-forge/noarch\n",
      "  - https://repo.anaconda.com/pkgs/main/win-64\n",
      "  - https://repo.anaconda.com/pkgs/main/noarch\n",
      "  - https://repo.anaconda.com/pkgs/r/win-64\n",
      "  - https://repo.anaconda.com/pkgs/r/noarch\n",
      "  - https://repo.anaconda.com/pkgs/msys2/win-64\n",
      "  - https://repo.anaconda.com/pkgs/msys2/noarch\n",
      "\n",
      "To search for alternate channels that may provide the conda package you're\n",
      "looking for, navigate to\n",
      "\n",
      "    https://anaconda.org\n",
      "\n",
      "and use the search bar at the top of the page.\n",
      "\n",
      "\n"
     ]
    },
    {
     "name": "stdout",
     "output_type": "stream",
     "text": [
      "\n",
      "Solving environment: ...working... failed with initial frozen solve. Retrying with flexible solve.\n",
      "Collecting package metadata (repodata.json): ...working... done\n",
      "Solving environment: ...working... failed with initial frozen solve. Retrying with flexible solve.\n"
     ]
    }
   ],
   "source": [
    "!conda install nodejs npm"
   ]
  },
  {
   "cell_type": "code",
   "execution_count": 5,
   "metadata": {},
   "outputs": [
    {
     "name": "stderr",
     "output_type": "stream",
     "text": [
      "Warning: 'conda-forge' already in 'channels' list, moving to the top\n"
     ]
    }
   ],
   "source": [
    "!conda config --add channels conda-forge\n",
    "!conda config --set channel_priority strict"
   ]
  },
  {
   "cell_type": "code",
   "execution_count": 7,
   "metadata": {},
   "outputs": [
    {
     "name": "stdout",
     "output_type": "stream",
     "text": [
      "Collecting hide_code\n",
      "  Using cached hide_code-0.6.0-py3-none-any.whl\n",
      "Collecting jupyter\n",
      "  Using cached jupyter-1.0.0-py2.py3-none-any.whl (2.7 kB)\n",
      "Requirement already satisfied: notebook>=6.0 in c:\\users\\delliot2\\anaconda3\\envs\\hide_all\\lib\\site-packages (from hide_code) (6.2.0)\n",
      "Collecting nbconvert<6\n",
      "  Using cached nbconvert-5.6.1-py2.py3-none-any.whl (455 kB)\n",
      "Collecting traitlets<5.0\n",
      "  Using cached traitlets-4.3.3-py2.py3-none-any.whl (75 kB)\n",
      "Collecting pdfkit\n",
      "  Using cached pdfkit-0.6.1-py3-none-any.whl (12 kB)\n",
      "Requirement already satisfied: bleach in c:\\users\\delliot2\\anaconda3\\envs\\hide_all\\lib\\site-packages (from nbconvert<6->hide_code) (3.2.3)\n",
      "Requirement already satisfied: pygments in c:\\users\\delliot2\\anaconda3\\envs\\hide_all\\lib\\site-packages (from nbconvert<6->hide_code) (2.7.4)\n",
      "Requirement already satisfied: jinja2>=2.4 in c:\\users\\delliot2\\anaconda3\\envs\\hide_all\\lib\\site-packages (from nbconvert<6->hide_code) (2.11.2)\n",
      "Requirement already satisfied: nbformat>=4.4 in c:\\users\\delliot2\\anaconda3\\envs\\hide_all\\lib\\site-packages (from nbconvert<6->hide_code) (5.1.2)\n",
      "Requirement already satisfied: pandocfilters>=1.4.1 in c:\\users\\delliot2\\anaconda3\\envs\\hide_all\\lib\\site-packages (from nbconvert<6->hide_code) (1.4.2)\n",
      "Requirement already satisfied: jupyter-core in c:\\users\\delliot2\\anaconda3\\envs\\hide_all\\lib\\site-packages (from nbconvert<6->hide_code) (4.7.0)\n",
      "Requirement already satisfied: entrypoints>=0.2.2 in c:\\users\\delliot2\\anaconda3\\envs\\hide_all\\lib\\site-packages (from nbconvert<6->hide_code) (0.3)\n",
      "Requirement already satisfied: testpath in c:\\users\\delliot2\\anaconda3\\envs\\hide_all\\lib\\site-packages (from nbconvert<6->hide_code) (0.4.4)\n",
      "Requirement already satisfied: mistune<2,>=0.8.1 in c:\\users\\delliot2\\anaconda3\\envs\\hide_all\\lib\\site-packages (from nbconvert<6->hide_code) (0.8.4)\n",
      "Requirement already satisfied: defusedxml in c:\\users\\delliot2\\anaconda3\\envs\\hide_all\\lib\\site-packages (from nbconvert<6->hide_code) (0.6.0)\n",
      "Requirement already satisfied: MarkupSafe>=0.23 in c:\\users\\delliot2\\anaconda3\\envs\\hide_all\\lib\\site-packages (from jinja2>=2.4->nbconvert<6->hide_code) (1.1.1)\n",
      "Requirement already satisfied: jsonschema!=2.5.0,>=2.4 in c:\\users\\delliot2\\anaconda3\\envs\\hide_all\\lib\\site-packages (from nbformat>=4.4->nbconvert<6->hide_code) (3.2.0)\n",
      "Requirement already satisfied: ipython-genutils in c:\\users\\delliot2\\anaconda3\\envs\\hide_all\\lib\\site-packages (from nbformat>=4.4->nbconvert<6->hide_code) (0.2.0)\n",
      "Requirement already satisfied: setuptools in c:\\users\\delliot2\\anaconda3\\envs\\hide_all\\lib\\site-packages (from jsonschema!=2.5.0,>=2.4->nbformat>=4.4->nbconvert<6->hide_code) (49.6.0.post20210108)\n",
      "Requirement already satisfied: six>=1.11.0 in c:\\users\\delliot2\\anaconda3\\envs\\hide_all\\lib\\site-packages (from jsonschema!=2.5.0,>=2.4->nbformat>=4.4->nbconvert<6->hide_code) (1.15.0)\n",
      "Requirement already satisfied: pyrsistent>=0.14.0 in c:\\users\\delliot2\\anaconda3\\envs\\hide_all\\lib\\site-packages (from jsonschema!=2.5.0,>=2.4->nbformat>=4.4->nbconvert<6->hide_code) (0.17.3)\n",
      "Requirement already satisfied: attrs>=17.4.0 in c:\\users\\delliot2\\anaconda3\\envs\\hide_all\\lib\\site-packages (from jsonschema!=2.5.0,>=2.4->nbformat>=4.4->nbconvert<6->hide_code) (20.3.0)\n",
      "Requirement already satisfied: argon2-cffi in c:\\users\\delliot2\\anaconda3\\envs\\hide_all\\lib\\site-packages (from notebook>=6.0->hide_code) (20.1.0)\n",
      "Requirement already satisfied: terminado>=0.8.3 in c:\\users\\delliot2\\anaconda3\\envs\\hide_all\\lib\\site-packages (from notebook>=6.0->hide_code) (0.9.2)\n",
      "Requirement already satisfied: tornado>=6.1 in c:\\users\\delliot2\\anaconda3\\envs\\hide_all\\lib\\site-packages (from notebook>=6.0->hide_code) (6.1)\n",
      "Requirement already satisfied: pyzmq>=17 in c:\\users\\delliot2\\anaconda3\\envs\\hide_all\\lib\\site-packages (from notebook>=6.0->hide_code) (20.0.0)\n",
      "Requirement already satisfied: Send2Trash>=1.5.0 in c:\\users\\delliot2\\anaconda3\\envs\\hide_all\\lib\\site-packages (from notebook>=6.0->hide_code) (1.5.0)\n",
      "Requirement already satisfied: ipykernel in c:\\users\\delliot2\\anaconda3\\envs\\hide_all\\lib\\site-packages (from notebook>=6.0->hide_code) (5.4.3)\n",
      "Requirement already satisfied: prometheus-client in c:\\users\\delliot2\\anaconda3\\envs\\hide_all\\lib\\site-packages (from notebook>=6.0->hide_code) (0.9.0)\n",
      "Requirement already satisfied: jupyter-client>=5.3.4 in c:\\users\\delliot2\\anaconda3\\envs\\hide_all\\lib\\site-packages (from notebook>=6.0->hide_code) (6.1.11)\n",
      "Requirement already satisfied: python-dateutil>=2.1 in c:\\users\\delliot2\\anaconda3\\envs\\hide_all\\lib\\site-packages (from jupyter-client>=5.3.4->notebook>=6.0->hide_code) (2.8.1)\n",
      "Requirement already satisfied: pywin32>=1.0 in c:\\users\\delliot2\\anaconda3\\envs\\hide_all\\lib\\site-packages (from jupyter-core->nbconvert<6->hide_code) (300)\n",
      "Requirement already satisfied: pywinpty>=0.5 in c:\\users\\delliot2\\anaconda3\\envs\\hide_all\\lib\\site-packages (from terminado>=0.8.3->notebook>=6.0->hide_code) (0.5.7)\n",
      "Requirement already satisfied: decorator in c:\\users\\delliot2\\anaconda3\\envs\\hide_all\\lib\\site-packages (from traitlets<5.0->hide_code) (4.4.2)\n",
      "Requirement already satisfied: cffi>=1.0.0 in c:\\users\\delliot2\\anaconda3\\envs\\hide_all\\lib\\site-packages (from argon2-cffi->notebook>=6.0->hide_code) (1.14.4)\n",
      "Requirement already satisfied: pycparser in c:\\users\\delliot2\\anaconda3\\envs\\hide_all\\lib\\site-packages (from cffi>=1.0.0->argon2-cffi->notebook>=6.0->hide_code) (2.20)\n",
      "Requirement already satisfied: webencodings in c:\\users\\delliot2\\anaconda3\\envs\\hide_all\\lib\\site-packages (from bleach->nbconvert<6->hide_code) (0.5.1)\n",
      "Requirement already satisfied: packaging in c:\\users\\delliot2\\anaconda3\\envs\\hide_all\\lib\\site-packages (from bleach->nbconvert<6->hide_code) (20.8)\n",
      "Requirement already satisfied: ipython>=5.0.0 in c:\\users\\delliot2\\anaconda3\\envs\\hide_all\\lib\\site-packages (from ipykernel->notebook>=6.0->hide_code) (7.19.0)\n",
      "Requirement already satisfied: backcall in c:\\users\\delliot2\\anaconda3\\envs\\hide_all\\lib\\site-packages (from ipython>=5.0.0->ipykernel->notebook>=6.0->hide_code) (0.2.0)\n",
      "Requirement already satisfied: colorama in c:\\users\\delliot2\\anaconda3\\envs\\hide_all\\lib\\site-packages (from ipython>=5.0.0->ipykernel->notebook>=6.0->hide_code) (0.4.4)\n",
      "Requirement already satisfied: pickleshare in c:\\users\\delliot2\\anaconda3\\envs\\hide_all\\lib\\site-packages (from ipython>=5.0.0->ipykernel->notebook>=6.0->hide_code) (0.7.5)\n",
      "Requirement already satisfied: prompt-toolkit!=3.0.0,!=3.0.1,<3.1.0,>=2.0.0 in c:\\users\\delliot2\\anaconda3\\envs\\hide_all\\lib\\site-packages (from ipython>=5.0.0->ipykernel->notebook>=6.0->hide_code) (3.0.14)\n",
      "Requirement already satisfied: jedi>=0.10 in c:\\users\\delliot2\\anaconda3\\envs\\hide_all\\lib\\site-packages (from ipython>=5.0.0->ipykernel->notebook>=6.0->hide_code) (0.18.0)\n",
      "Requirement already satisfied: parso<0.9.0,>=0.8.0 in c:\\users\\delliot2\\anaconda3\\envs\\hide_all\\lib\\site-packages (from jedi>=0.10->ipython>=5.0.0->ipykernel->notebook>=6.0->hide_code) (0.8.1)\n",
      "Requirement already satisfied: wcwidth in c:\\users\\delliot2\\anaconda3\\envs\\hide_all\\lib\\site-packages (from prompt-toolkit!=3.0.0,!=3.0.1,<3.1.0,>=2.0.0->ipython>=5.0.0->ipykernel->notebook>=6.0->hide_code) (0.2.5)\n",
      "Collecting ipywidgets\n",
      "  Using cached ipywidgets-7.6.3-py2.py3-none-any.whl (121 kB)\n",
      "Collecting qtconsole\n",
      "  Using cached qtconsole-5.0.2-py3-none-any.whl (119 kB)\n",
      "Collecting jupyter-console\n",
      "  Using cached jupyter_console-6.2.0-py3-none-any.whl (22 kB)\n",
      "Collecting widgetsnbextension~=3.5.0\n",
      "  Using cached widgetsnbextension-3.5.1-py2.py3-none-any.whl (2.2 MB)\n",
      "Collecting jupyterlab-widgets>=1.0.0\n",
      "  Using cached jupyterlab_widgets-1.0.0-py3-none-any.whl (243 kB)\n",
      "Requirement already satisfied: pyparsing>=2.0.2 in c:\\users\\delliot2\\anaconda3\\envs\\hide_all\\lib\\site-packages (from packaging->bleach->nbconvert<6->hide_code) (2.4.7)\n",
      "Collecting qtpy\n",
      "  Using cached QtPy-1.9.0-py2.py3-none-any.whl (54 kB)\n",
      "Installing collected packages: traitlets, nbconvert, widgetsnbextension, qtpy, jupyterlab-widgets, qtconsole, jupyter-console, ipywidgets, pdfkit, jupyter, hide-code\n",
      "  Attempting uninstall: traitlets\n",
      "    Found existing installation: traitlets 5.0.5\n",
      "    Uninstalling traitlets-5.0.5:\n",
      "      Successfully uninstalled traitlets-5.0.5\n",
      "  Attempting uninstall: nbconvert\n",
      "    Found existing installation: nbconvert 6.0.7\n",
      "    Uninstalling nbconvert-6.0.7:\n",
      "      Successfully uninstalled nbconvert-6.0.7\n",
      "Successfully installed hide-code-0.6.0 ipywidgets-7.6.3 jupyter-1.0.0 jupyter-console-6.2.0 jupyterlab-widgets-1.0.0 nbconvert-5.6.1 pdfkit-0.6.1 qtconsole-5.0.2 qtpy-1.9.0 traitlets-4.3.3 widgetsnbextension-3.5.1\n"
     ]
    }
   ],
   "source": [
    "!pip install hide_code --upgrade"
   ]
  },
  {
   "cell_type": "code",
   "execution_count": 3,
   "metadata": {},
   "outputs": [
    {
     "name": "stdout",
     "output_type": "stream",
     "text": [
      "Collecting package metadata (current_repodata.json): ...working... done\n",
      "Solving environment: ...working... failed with initial frozen solve. Retrying with flexible solve.\n",
      "Collecting package metadata (repodata.json): ...working... done\n",
      "Solving environment: ...working... failed with initial frozen solve. Retrying with flexible solve.\n"
     ]
    },
    {
     "name": "stderr",
     "output_type": "stream",
     "text": [
      "\n",
      "PackagesNotFoundError: The following packages are not available from current channels:\n",
      "\n",
      "  - hide_code\n",
      "\n",
      "Current channels:\n",
      "\n",
      "  - https://conda.anaconda.org/conda-forge/win-64\n",
      "  - https://conda.anaconda.org/conda-forge/noarch\n",
      "  - https://repo.anaconda.com/pkgs/main/win-64\n",
      "  - https://repo.anaconda.com/pkgs/main/noarch\n",
      "  - https://repo.anaconda.com/pkgs/r/win-64\n",
      "  - https://repo.anaconda.com/pkgs/r/noarch\n",
      "  - https://repo.anaconda.com/pkgs/msys2/win-64\n",
      "  - https://repo.anaconda.com/pkgs/msys2/noarch\n",
      "\n",
      "To search for alternate channels that may provide the conda package you're\n",
      "looking for, navigate to\n",
      "\n",
      "    https://anaconda.org\n",
      "\n",
      "and use the search bar at the top of the page.\n",
      "\n",
      "\n"
     ]
    }
   ],
   "source": [
    "#!pip3 install --upgrade pip\n",
    "!conda install hide_code[all]"
   ]
  },
  {
   "cell_type": "code",
   "execution_count": 11,
   "metadata": {
    "hideCode": false,
    "hideOutput": false,
    "hidePrompt": false
   },
   "outputs": [],
   "source": [
    "# Install hide_code jupyter extension\n",
    "if False:\n",
    "\n",
    "    !pip install Jupyter nbconvert\n",
    "    !pip install pdfkit\n",
    "    !pip install wkhtmltopdf\n",
    "\n",
    "    !pip install hide_code\n",
    "    !jupyter nbextension install --py hide_code\n",
    "    !jupyter nbextension enable --py hide_code\n",
    "    !jupyter serverextension enable --py hide_code"
   ]
  },
  {
   "cell_type": "markdown",
   "metadata": {},
   "source": [
    "__Exercises__"
   ]
  },
  {
   "cell_type": "code",
   "execution_count": null,
   "metadata": {},
   "outputs": [],
   "source": [
    "iris = load_iris(as_frame=True)  # data stored in a `sklearn.utils.Bunch`\n",
    "iris_df = iris['data']           # get features DataFrame\n",
    "target = iris['target']          # get target Series"
   ]
  },
  {
   "cell_type": "markdown",
   "metadata": {
    "slideshow": {
     "slide_type": "slide"
    }
   },
   "source": [
    "1. What is a support vector?"
   ]
  },
  {
   "cell_type": "markdown",
   "metadata": {},
   "source": [
    "2. In the plot below, which points are the \"support vectors\"?"
   ]
  },
  {
   "cell_type": "code",
   "execution_count": 22,
   "metadata": {
    "slideshow": {
     "slide_type": "subslide"
    }
   },
   "outputs": [
    {
     "data": {
      "image/png": "[encoded data removed]",
      "text/plain": [
       "<Figure size 432x288 with 1 Axes>"
      ]
     },
     "metadata": {
      "needs_background": "light"
     },
     "output_type": "display_data"
    }
   ],
   "source": [
    "# QUESTION 2\n",
    "exersise_ = iris_vis[[\"Sepal length (cm)\", \"Sepal width (cm)\", \"Target\"]]\n",
    "exersise_ = exersise_[exersise_.Target != \"Virginica\"]\n",
    "\n",
    "X = exersise_[[\"Sepal length (cm)\", \"Sepal width (cm)\"]].values\n",
    "y = le.transform(exersise_[[\"Target\"]].values.ravel())\n",
    "\n",
    "# SVM Classifier model\n",
    "svm_clf = SVC(kernel=\"linear\", C=float(\"inf\"))\n",
    "svm_clf.fit(X, y)\n",
    "w = svm_clf.coef_[0]\n",
    "b = svm_clf.intercept_[0]\n",
    "\n",
    "x0 = np.linspace(4.2, 7, 200)\n",
    "decision_boundary = -w[0]/w[1] * x0 - b/w[1]\n",
    "\n",
    "plt.plot(x0, decision_boundary, \"g-\", linewidth=2)\n",
    "g = sns.scatterplot(data=exersise_, x = \"Sepal length (cm)\", \n",
    "                y = \"Sepal width (cm)\", hue=\"Target\", \n",
    "                style = \"Target\")\n",
    "\n",
    "plt.axis([4.2, 7.2, 1.5, 5])\n",
    "\n",
    "plt.show()"
   ]
  },
  {
   "cell_type": "markdown",
   "metadata": {
    "slideshow": {
     "slide_type": "skip"
    }
   },
   "source": [
    "# Answers\n",
    "1. A support vector is..."
   ]
  },
  {
   "cell_type": "markdown",
   "metadata": {},
   "source": [
    "2. It uses more than 1 here, although which ones are quite tricky to desern so dont worry if you got a few of the blue points wrong!"
   ]
  },
  {
   "cell_type": "code",
   "execution_count": 23,
   "metadata": {
    "slideshow": {
     "slide_type": "skip"
    }
   },
   "outputs": [
    {
     "data": {
      "image/png": "[encoded data removed]",
      "text/plain": [
       "<Figure size 432x288 with 1 Axes>"
      ]
     },
     "metadata": {
      "needs_background": "light"
     },
     "output_type": "display_data"
    }
   ],
   "source": [
    "exersise_ = iris_vis[[\"Sepal length (cm)\", \"Sepal width (cm)\", \"Target\"]]\n",
    "exersise_ = exersise_[exersise_.Target != \"Virginica\"]\n",
    "\n",
    "X = exersise_[[\"Sepal length (cm)\", \"Sepal width (cm)\"]].values\n",
    "y = le.transform(exersise_[[\"Target\"]].values.ravel())\n",
    "\n",
    "# SVM Classifier model\n",
    "svm_clf = SVC(kernel=\"linear\", C=float(\"inf\"))\n",
    "svm_clf.fit(X, y)\n",
    "w = svm_clf.coef_[0]\n",
    "b = svm_clf.intercept_[0]\n",
    "\n",
    "x0 = np.linspace(0, 5.5, 200)\n",
    "decision_boundary = -w[0]/w[1] * x0 - b/w[1]\n",
    "svc_decision_boundary(svm_clf, 4.2, 7, axes_limit = [4.2, 7.2, 1.5, 5]\n",
    "                     )\n",
    "g = sns.scatterplot(data=exersise_, x = \"Sepal length (cm)\", \n",
    "                y = \"Sepal width (cm)\", hue=\"Target\", \n",
    "                style = \"Target\")"
   ]
  },
  {
   "cell_type": "markdown",
   "metadata": {},
   "source": [
    "Convert to pdf without code showing"
   ]
  },
  {
   "cell_type": "code",
   "execution_count": 7,
   "metadata": {},
   "outputs": [],
   "source": [
    "import pdfkit\n",
    "path_wkthmltopdf = b'C:\\Program Files\\wkhtmltopdf\\\\bin\\wkhtmltopdf.exe'\n",
    "config = pdfkit.configuration(wkhtmltopdf=path_wkthmltopdf)"
   ]
  },
  {
   "cell_type": "code",
   "execution_count": 8,
   "metadata": {},
   "outputs": [
    {
     "name": "stderr",
     "output_type": "stream",
     "text": [
      "[NbConvertApp] Converting notebook ./Exercises.ipynb to hide_code_pdf\n",
      "INFO: Could not find files for the given pattern(s).\n",
      "Traceback (most recent call last):\n",
      "  File \"c:\\users\\delliot2\\anaconda3\\envs\\hide_all\\lib\\site-packages\\pdfkit\\configuration.py\", line 21, in __init__\n",
      "    with open(self.wkhtmltopdf) as f:\n",
      "FileNotFoundError: [Errno 2] No such file or directory: b''\n",
      "\n",
      "During handling of the above exception, another exception occurred:\n",
      "\n",
      "Traceback (most recent call last):\n",
      "  File \"c:\\users\\delliot2\\anaconda3\\envs\\hide_all\\lib\\runpy.py\", line 194, in _run_module_as_main\n",
      "    return _run_code(code, main_globals, None,\n",
      "  File \"c:\\users\\delliot2\\anaconda3\\envs\\hide_all\\lib\\runpy.py\", line 87, in _run_code\n",
      "    exec(code, run_globals)\n",
      "  File \"C:\\Users\\delliot2\\Anaconda3\\envs\\hide_all\\Scripts\\jupyter-nbconvert.EXE\\__main__.py\", line 7, in <module>\n",
      "  File \"c:\\users\\delliot2\\anaconda3\\envs\\hide_all\\lib\\site-packages\\jupyter_core\\application.py\", line 254, in launch_instance\n",
      "    return super(JupyterApp, cls).launch_instance(argv=argv, **kwargs)\n",
      "  File \"c:\\users\\delliot2\\anaconda3\\envs\\hide_all\\lib\\site-packages\\traitlets\\config\\application.py\", line 664, in launch_instance\n",
      "    app.start()\n",
      "  File \"c:\\users\\delliot2\\anaconda3\\envs\\hide_all\\lib\\site-packages\\nbconvert\\nbconvertapp.py\", line 340, in start\n",
      "    self.convert_notebooks()\n",
      "  File \"c:\\users\\delliot2\\anaconda3\\envs\\hide_all\\lib\\site-packages\\nbconvert\\nbconvertapp.py\", line 510, in convert_notebooks\n",
      "    self.convert_single_notebook(notebook_filename)\n",
      "  File \"c:\\users\\delliot2\\anaconda3\\envs\\hide_all\\lib\\site-packages\\nbconvert\\nbconvertapp.py\", line 481, in convert_single_notebook\n",
      "    output, resources = self.export_single_notebook(notebook_filename, resources, input_buffer=input_buffer)\n",
      "  File \"c:\\users\\delliot2\\anaconda3\\envs\\hide_all\\lib\\site-packages\\nbconvert\\nbconvertapp.py\", line 410, in export_single_notebook\n",
      "    output, resources = self.exporter.from_filename(notebook_filename, resources=resources)\n",
      "  File \"c:\\users\\delliot2\\anaconda3\\envs\\hide_all\\lib\\site-packages\\nbconvert\\exporters\\exporter.py\", line 179, in from_filename\n",
      "    return self.from_file(f, resources=resources, **kw)\n",
      "  File \"c:\\users\\delliot2\\anaconda3\\envs\\hide_all\\lib\\site-packages\\nbconvert\\exporters\\exporter.py\", line 197, in from_file\n",
      "    return self.from_notebook_node(nbformat.read(file_stream, as_version=4), resources=resources, **kw)\n",
      "  File \"c:\\users\\delliot2\\anaconda3\\envs\\hide_all\\lib\\site-packages\\hide_code\\hide_code_pdf_exporter.py\", line 29, in from_notebook_node\n",
      "    output = pdfkit.from_string(output, False)\n",
      "  File \"c:\\users\\delliot2\\anaconda3\\envs\\hide_all\\lib\\site-packages\\pdfkit\\api.py\", line 69, in from_string\n",
      "    r = PDFKit(input, 'string', options=options, toc=toc, cover=cover, css=css,\n",
      "  File \"c:\\users\\delliot2\\anaconda3\\envs\\hide_all\\lib\\site-packages\\pdfkit\\pdfkit.py\", line 42, in __init__\n",
      "    self.configuration = (Configuration() if configuration is None\n",
      "  File \"c:\\users\\delliot2\\anaconda3\\envs\\hide_all\\lib\\site-packages\\pdfkit\\configuration.py\", line 24, in __init__\n",
      "    raise IOError('No wkhtmltopdf executable found: \"%s\"\\n'\n",
      "OSError: No wkhtmltopdf executable found: \"b''\"\n",
      "If this file exists please check that this process can read it. Otherwise please install wkhtmltopdf - https://github.com/JazzCore/python-pdfkit/wiki/Installing-wkhtmltopdf\n"
     ]
    }
   ],
   "source": [
    "!jupyter nbconvert --to hide_code_pdf ./Exercises.ipynb"
   ]
  },
  {
   "cell_type": "code",
   "execution_count": 2,
   "metadata": {},
   "outputs": [
    {
     "name": "stderr",
     "output_type": "stream",
     "text": [
      "[NbConvertApp] Converting notebook ./Exercises.ipynb to pdf\n",
      "[NbConvertApp] Support files will be in Exercises_files\\\n",
      "[NbConvertApp] Making directory .\\Exercises_files\n",
      "[NbConvertApp] Making directory .\\Exercises_files\n",
      "[NbConvertApp] Writing 21995 bytes to notebook.tex\n",
      "[NbConvertApp] Building PDF\n",
      "[NbConvertApp] Running xelatex 3 times: ['xelatex', 'notebook.tex', '-quiet']\n",
      "[NbConvertApp] Running bibtex 1 time: ['bibtex', 'notebook']\n",
      "[NbConvertApp] WARNING | b had problems, most likely because there were no citations\n",
      "[NbConvertApp] PDF successfully created\n",
      "[NbConvertApp] Writing 71678 bytes to Exercises.pdf\n"
     ]
    }
   ],
   "source": [
    "#!jupyter nbconvert ./Exercises.ipynb --to=pdf --TemplateExporter.exclude_input=True"
   ]
  }
 ],
 "metadata": {
  "celltoolbar": "Hide code",
  "colab": {
   "authorship_tag": "ABX9TyMNuZgSJ2BiDt5YMpOB66EK",
   "collapsed_sections": [],
   "name": "Clustering.ipynb",
   "provenance": []
  },
  "kernelspec": {
   "display_name": "Python 3",
   "language": "python",
   "name": "python3"
  },
  "language_info": {
   "codemirror_mode": {
    "name": "ipython",
    "version": 3
   },
   "file_extension": ".py",
   "mimetype": "text/x-python",
   "name": "python",
   "nbconvert_exporter": "python",
   "pygments_lexer": "ipython3",
   "version": "3.8.6"
  }
 },
 "nbformat": 4,
 "nbformat_minor": 1
}
