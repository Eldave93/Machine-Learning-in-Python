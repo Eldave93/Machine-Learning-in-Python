{
 "cells": [
  {
   "cell_type": "code",
   "execution_count": 2,
   "metadata": {},
   "outputs": [],
   "source": [
    "%matplotlib inline\n",
    "\n",
    "import os # locating directories\n",
    "\n",
    "import numpy as np   # Arrays\n",
    "import pandas as pd  # DataFrames\n",
    "\n",
    "# Plotting\n",
    "import matplotlib\n",
    "import matplotlib.pyplot as plt\n",
    "matplotlib.rcParams['animation.embed_limit'] = 30000000.0\n",
    "plt.rcParams['figure.dpi'] = 120\n",
    "import seaborn as sns; sns.set()\n",
    "\n",
    "from IPython.display import Image                # displaying .png images\n",
    "from sklearn.preprocessing import StandardScaler # scaling features\n",
    "from sklearn.preprocessing import LabelEncoder   # binary encoding\n",
    "import random\n",
    "\n",
    "image_dir = os.path.join(os.getcwd(),\"Images\")"
   ]
  },
  {
   "cell_type": "code",
   "execution_count": 3,
   "metadata": {},
   "outputs": [],
   "source": [
    "col_dict = {\n",
    "    \"Adelie\":\"#ff7600\",\n",
    "    \"Chinstrap\":\"#c65dcb\",\n",
    "    \"Gentoo\":\"#057576\"}\n",
    "\n",
    "shape_dict = {\n",
    "    \"Adelie\":\"o\",\n",
    "    \"Chinstrap\":\"s\",\n",
    "    \"Gentoo\":\"X\"}\n",
    "\n",
    "datasets = {}\n",
    "penguins = sns.load_dataset(\"penguins\")\n",
    "\n",
    "# dropna\n",
    "penguins_rm = penguins.dropna()\n",
    "\n",
    "# keep categorical features\n",
    "penguins_cat = penguins_rm[[\"island\", \"sex\", \"species\"]]\n",
    "penguins_bin = penguins_cat[penguins_cat.species != \"Chinstrap\"]\n",
    "y_bin = penguins_bin[[\"species\"]].replace({'Adelie': 0, 'Gentoo': 1}).values.flatten()\n",
    "# for the classification data we don't want species there either\n",
    "penguins_class_feat = penguins_bin.drop(\"species\", axis=1)\n",
    "datasets['cat'] = {\"df\":penguins_bin, \n",
    "                    \"X\": penguins_class_feat[[\"island\", \"sex\"]].values,\n",
    "                    \"y\": y_bin,\n",
    "                    \"feats\": [\"island\", \"sex\"],\n",
    "                     \"class\": ['Adelie', 'Gentoo']}\n",
    "\n",
    "\n",
    "# drop continuous features\n",
    "penguins_cont = penguins_rm.drop([\"island\", \"sex\", \"species\"], axis=1)\n",
    "\n",
    "# for the regression data we don't want body_mass_g there either\n",
    "penguins_reg_feat = penguins_cont.drop([\"body_mass_g\"], axis=1)\n",
    "\n",
    "datasets['reg_full'] = {\"df\":penguins_cont, \n",
    "                        \"X\":penguins_reg_feat.values,\n",
    "                        \"y\": penguins_rm[[\"body_mass_g\"]].values.flatten(),\n",
    "                        \"feats\": list(penguins_reg_feat.columns)}\n",
    "\n",
    "# regression datset just to compare flipper length to body mass\n",
    "datasets['flbm'] = {\"df\":penguins_cont, \n",
    "                    \"X\":penguins_reg_feat[[\"flipper_length_mm\"]].values,\n",
    "                    \"y\": penguins_rm[[\"body_mass_g\"]].values.flatten(),\n",
    "                    \"feats\": [\"Flipper Length (mm)\"]}\n",
    "\n",
    "# make a binary classification dataset\n",
    "penguins_class = penguins_rm.drop([\"island\", \"sex\"], axis=1)\n",
    "# for the classification data we don't want species there either\n",
    "penguins_class_feat = penguins_class.drop(\"species\", axis=1)\n",
    "y_multi = penguins_class[[\"species\"]].replace({'Adelie': 0, 'Gentoo': 1, \"Chinstrap\":2}).values.flatten()\n",
    "\n",
    "datasets['multi'] = {\"df\":penguins_class, \n",
    "                     \"X\": penguins_class_feat.values,\n",
    "                     \"y\": y_multi,\n",
    "                     \"feats\": list(penguins_class_feat.columns),\n",
    "                     \"class\": ['Adelie', 'Gentoo', \"Chinstrap\"]}\n",
    "\n",
    "\n",
    "penguins_bin = penguins_class[penguins_class.species != \"Chinstrap\"]\n",
    "y_bin = penguins_bin[[\"species\"]].replace({'Adelie': 0, 'Gentoo': 1}).values.flatten()\n",
    "# for the classification data we don't want species there either\n",
    "penguins_class_feat = penguins_bin.drop(\"species\", axis=1)\n",
    "\n",
    "datasets['bin'] = {\"df\":penguins_bin, \n",
    "                   \"X\": penguins_class_feat.values,\n",
    "                   \"y\": y_bin,\n",
    "                   \"feats\": list(penguins_class_feat.columns),\n",
    "                   \"class\": ['Adelie', 'Gentoo']}\n",
    "\n",
    "datasets['flbl'] = {\"df\":penguins_bin, \n",
    "                    \"X\": penguins_class_feat[[\"flipper_length_mm\", \"bill_length_mm\"]].values,\n",
    "                    \"y\": y_bin,\n",
    "                    \"feats\": [\"flipper_length_mm\", \"bill_length_mm\"],\n",
    "                     \"class\": ['Adelie', 'Gentoo']}\n",
    "\n",
    "datasets['blbd'] = {\"df\":penguins_bin, \n",
    "                    \"X\": penguins_class_feat[[\"bill_length_mm\", \"bill_depth_mm\"]].values,\n",
    "                    \"y\": y_bin,\n",
    "                    \"feats\": [\"bill_length_mm\", \"bill_depth_mm\"],\n",
    "                    \"class\": ['Adelie', 'Gentoo']}"
   ]
  },
  {
   "cell_type": "markdown",
   "metadata": {},
   "source": [
    "1. Using Figure X classify the following penguins as either a Adelie or Gentoo penguin\n",
    "\n",
    "species | bill_length_mm |\tbill_depth_mm |\tflipper_length_mm |\tbody_mass_g |\n",
    "-       |-               |-               | -                 | -           |\n",
    "    ?\t| 49.1\t         | 14.8\t          |220.0              |\t5150.0      |\n",
    "    ?   | 37.7\t         | 19.8           |\t198.0\t          | 3500.0      |"
   ]
  },
  {
   "cell_type": "code",
   "execution_count": null,
   "metadata": {},
   "outputs": [],
   "source": [
    "display(Image(os.path.join(image_dir,\"Figurex.png\")))"
   ]
  },
  {
   "cell_type": "code",
   "execution_count": 4,
   "metadata": {},
   "outputs": [
    {
     "data": {
      "text/html": [
       "<div>\n",
       "<style scoped>\n",
       "    .dataframe tbody tr th:only-of-type {\n",
       "        vertical-align: middle;\n",
       "    }\n",
       "\n",
       "    .dataframe tbody tr th {\n",
       "        vertical-align: top;\n",
       "    }\n",
       "\n",
       "    .dataframe thead th {\n",
       "        text-align: right;\n",
       "    }\n",
       "</style>\n",
       "<table border=\"1\" class=\"dataframe\">\n",
       "  <thead>\n",
       "    <tr style=\"text-align: right;\">\n",
       "      <th></th>\n",
       "      <th>species</th>\n",
       "      <th>bill_length_mm</th>\n",
       "      <th>bill_depth_mm</th>\n",
       "      <th>flipper_length_mm</th>\n",
       "      <th>body_mass_g</th>\n",
       "    </tr>\n",
       "  </thead>\n",
       "  <tbody>\n",
       "    <tr>\n",
       "      <th>254</th>\n",
       "      <td>Gentoo</td>\n",
       "      <td>49.1</td>\n",
       "      <td>14.8</td>\n",
       "      <td>220.0</td>\n",
       "      <td>5150.0</td>\n",
       "    </tr>\n",
       "    <tr>\n",
       "      <th>121</th>\n",
       "      <td>Adelie</td>\n",
       "      <td>37.7</td>\n",
       "      <td>19.8</td>\n",
       "      <td>198.0</td>\n",
       "      <td>3500.0</td>\n",
       "    </tr>\n",
       "  </tbody>\n",
       "</table>\n",
       "</div>"
      ],
      "text/plain": [
       "    species  bill_length_mm  bill_depth_mm  flipper_length_mm  body_mass_g\n",
       "254  Gentoo            49.1           14.8              220.0       5150.0\n",
       "121  Adelie            37.7           19.8              198.0       3500.0"
      ]
     },
     "metadata": {},
     "output_type": "display_data"
    }
   ],
   "source": [
    "# 1\n",
    "display(datasets['bin']['df'].sample(n=2, random_state=42))"
   ]
  },
  {
   "cell_type": "markdown",
   "metadata": {},
   "source": [
    "2. using Figure Y classify the following penguins as either a Adelie, Gentoo, or Adelie penguin\n",
    "\n",
    "species | bill_length_mm |\tbill_depth_mm |\tflipper_length_mm |\tbody_mass_g |\n",
    "-       |-               |-               | -                 | -           |\n",
    "?       |\t35.2\t     |15.9\t          |186.0\t          |3050.0       |\n",
    "?       |   51.3\t     |18.2\t          |197.0\t          |3750.0       |"
   ]
  },
  {
   "cell_type": "code",
   "execution_count": null,
   "metadata": {},
   "outputs": [],
   "source": [
    "display(Image(os.path.join(image_dir,\"Figurey.png\")))"
   ]
  },
  {
   "cell_type": "code",
   "execution_count": 5,
   "metadata": {},
   "outputs": [
    {
     "data": {
      "text/html": [
       "<div>\n",
       "<style scoped>\n",
       "    .dataframe tbody tr th:only-of-type {\n",
       "        vertical-align: middle;\n",
       "    }\n",
       "\n",
       "    .dataframe tbody tr th {\n",
       "        vertical-align: top;\n",
       "    }\n",
       "\n",
       "    .dataframe thead th {\n",
       "        text-align: right;\n",
       "    }\n",
       "</style>\n",
       "<table border=\"1\" class=\"dataframe\">\n",
       "  <thead>\n",
       "    <tr style=\"text-align: right;\">\n",
       "      <th></th>\n",
       "      <th>species</th>\n",
       "      <th>bill_length_mm</th>\n",
       "      <th>bill_depth_mm</th>\n",
       "      <th>flipper_length_mm</th>\n",
       "      <th>body_mass_g</th>\n",
       "    </tr>\n",
       "  </thead>\n",
       "  <tbody>\n",
       "    <tr>\n",
       "      <th>124</th>\n",
       "      <td>Adelie</td>\n",
       "      <td>35.2</td>\n",
       "      <td>15.9</td>\n",
       "      <td>186.0</td>\n",
       "      <td>3050.0</td>\n",
       "    </tr>\n",
       "    <tr>\n",
       "      <th>159</th>\n",
       "      <td>Chinstrap</td>\n",
       "      <td>51.3</td>\n",
       "      <td>18.2</td>\n",
       "      <td>197.0</td>\n",
       "      <td>3750.0</td>\n",
       "    </tr>\n",
       "  </tbody>\n",
       "</table>\n",
       "</div>"
      ],
      "text/plain": [
       "       species  bill_length_mm  bill_depth_mm  flipper_length_mm  body_mass_g\n",
       "124     Adelie            35.2           15.9              186.0       3050.0\n",
       "159  Chinstrap            51.3           18.2              197.0       3750.0"
      ]
     },
     "metadata": {},
     "output_type": "display_data"
    }
   ],
   "source": [
    "display(datasets['multi']['df'].sample(n=2, random_state=3))"
   ]
  },
  {
   "cell_type": "markdown",
   "metadata": {},
   "source": [
    "__TODO__\n",
    "- write more exercises"
   ]
  },
  {
   "cell_type": "code",
   "execution_count": 1,
   "metadata": {},
   "outputs": [
    {
     "name": "stderr",
     "output_type": "stream",
     "text": [
      "[NbConvertApp] Converting notebook ./Exercises.ipynb to pdf\n",
      "[NbConvertApp] Support files will be in Exercises_files\\\n",
      "[NbConvertApp] Making directory .\\Exercises_files\n",
      "[NbConvertApp] Making directory .\\Exercises_files\n",
      "[NbConvertApp] Writing 46613 bytes to notebook.tex\n",
      "[NbConvertApp] Building PDF\n",
      "[NbConvertApp] Running xelatex 3 times: ['xelatex', 'notebook.tex', '-quiet']\n",
      "[NbConvertApp] Running bibtex 1 time: ['bibtex', 'notebook']\n",
      "[NbConvertApp] WARNING | b had problems, most likely because there were no citations\n",
      "[NbConvertApp] PDF successfully created\n",
      "[NbConvertApp] Writing 89517 bytes to Exercises.pdf\n"
     ]
    }
   ],
   "source": [
    "# Convert to pdf without code showing\n",
    "!jupyter nbconvert ./Trees_Exercise_Answers.ipynb --to=pdf --TemplateExporter.exclude_input=True"
   ]
  }
 ],
 "metadata": {
  "colab": {
   "authorship_tag": "ABX9TyMNuZgSJ2BiDt5YMpOB66EK",
   "collapsed_sections": [],
   "name": "Clustering.ipynb",
   "provenance": []
  },
  "kernelspec": {
   "display_name": "Python 3",
   "language": "python",
   "name": "python3"
  },
  "language_info": {
   "codemirror_mode": {
    "name": "ipython",
    "version": 3
   },
   "file_extension": ".py",
   "mimetype": "text/x-python",
   "name": "python",
   "nbconvert_exporter": "python",
   "pygments_lexer": "ipython3",
   "version": "3.8.6"
  }
 },
 "nbformat": 4,
 "nbformat_minor": 1
}
